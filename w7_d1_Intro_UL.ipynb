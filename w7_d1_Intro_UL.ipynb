{
 "cells": [
  {
   "cell_type": "markdown",
   "metadata": {},
   "source": [
    "# Unsupervised Learning\n",
    "\n",
    "**Ejemplos:** (Cuando no hay etiquetas)\n",
    "\n",
    "+ Segmentación de clientes\n",
    "+ Segmentación de productos\n",
    "+ One-person segment (lo que funciona bien en un grupo no funciona necesariamente en otro)\n",
    "+ Agrupación según características"
   ]
  },
  {
   "cell_type": "markdown",
   "metadata": {},
   "source": [
    "**Escenario**\n",
    "\n",
    "Cada elemento (usuario, cliente, producto..) puede ser considerado un vector. Dado un paquete de vectores se distribuyen por clusters. Vectores similares estarán en el mismo cluster, y clusters similares estarán más 'cerca' entre si que los que son más diferentes.\n",
    "\n",
    "Todo éste proceder asume la existencia de una métrica de distancia, así se puede medir dicha distancia entre vectores dentro del espacio vectorial."
   ]
  },
  {
   "cell_type": "markdown",
   "metadata": {},
   "source": [
    "**Pasos para aplicar USL:**\n",
    "\n",
    "+ **1**: Representación vectorial\n",
    "+ **2**: Métrica, función de distancia\n",
    "+ **3**: Medida de similitud"
   ]
  },
  {
   "cell_type": "markdown",
   "metadata": {},
   "source": [
    "Cuando se crea un cluster, el vector en el centro del cluster (centroide) se considera el prototipo o el más representativo del cluster.\n",
    "\n",
    "\n",
    "**Problemas tratables por USL:**\n",
    "\n",
    "+ Segmentación de mercado\n",
    "+ Detección de fraude en seguros o banca\n",
    "+ Respuesta a tratamientos médicos\n",
    "+ Detección de outliers"
   ]
  },
  {
   "cell_type": "markdown",
   "metadata": {},
   "source": [
    "**Ejemplos de modelos:**\n",
    "\n",
    "+ K-Means\n",
    "+ Hierarchical Clustering\n",
    "+ DBSCAN\n",
    "+ HDBSCAN\n",
    "+ GMM"
   ]
  },
  {
   "cell_type": "markdown",
   "metadata": {},
   "source": [
    "# K-Means\n",
    "\n",
    "\n",
    "El más viejo y el más popular. La idea es seleccionar previamente cuantos clusters se desean ($k$). Se seleccionan los puntos centrales del cluster (centroides) de manera aleatoria. Para cada nuevo registro se reasigna un cluster y se recalcula el centroide (media). Se itera el proceso hasta que no haya cambio en la clusterización.\n",
    "\n",
    "![](data/kmeans.png)\n",
    "\n",
    "![](data/kmeans2.png)"
   ]
  },
  {
   "cell_type": "code",
   "execution_count": 1,
   "metadata": {},
   "outputs": [],
   "source": [
    "import matplotlib.pyplot as plt\n",
    "#from kneed import KneeLocator\n",
    "from sklearn.datasets import make_blobs\n",
    "from sklearn.cluster import KMeans\n",
    "from sklearn.metrics import silhouette_score\n",
    "from sklearn.preprocessing import StandardScaler"
   ]
  },
  {
   "cell_type": "code",
   "execution_count": 2,
   "metadata": {},
   "outputs": [],
   "source": [
    "features, true_labels = make_blobs(n_samples = 300, centers =3, cluster_std= 2.75, random_state=42)"
   ]
  },
  {
   "cell_type": "code",
   "execution_count": 3,
   "metadata": {},
   "outputs": [
    {
     "data": {
      "text/plain": [
       "array([[-8.14286966e+00, -9.21718161e+00],\n",
       "       [-9.24576395e+00, -7.93763734e+00],\n",
       "       [-2.47199115e-01,  5.65696609e+00],\n",
       "       [ 4.04125553e+00,  4.99480603e+00],\n",
       "       [-1.24844697e+01, -9.65234695e+00],\n",
       "       [ 6.99844280e+00,  1.53333873e+00],\n",
       "       [-2.03295008e+00,  1.00739089e+01],\n",
       "       [ 5.77544034e+00,  4.22927164e-01],\n",
       "       [-3.82692678e+00,  8.50372394e+00],\n",
       "       [-5.78528224e+00,  1.08198086e+01],\n",
       "       [-4.16389081e+00,  1.41080511e+01],\n",
       "       [ 5.62167142e+00,  6.76682970e-02],\n",
       "       [-1.93482274e+00,  3.62519329e+00],\n",
       "       [-6.40146716e+00,  7.85751149e+00],\n",
       "       [-8.66889426e+00, -8.21970440e+00],\n",
       "       [-4.43984363e+00,  8.11321523e+00],\n",
       "       [-1.13553689e+01, -6.74787599e+00],\n",
       "       [-9.29263277e-01,  2.48591905e+00],\n",
       "       [-2.24223436e+00,  1.16780599e+01],\n",
       "       [-8.95340615e-01,  1.50380391e+01],\n",
       "       [ 6.76940219e-01,  6.75740975e+00],\n",
       "       [-2.95273333e+00,  1.01254260e+01],\n",
       "       [ 7.32145810e+00,  1.56876188e+00],\n",
       "       [-7.18852933e+00, -7.48777599e+00],\n",
       "       [-3.78359628e+00,  7.73352931e+00],\n",
       "       [-5.42266570e+00, -2.91579589e+00],\n",
       "       [-8.46574835e+00, -4.80278372e+00],\n",
       "       [ 2.38977196e+00,  7.72723469e+00],\n",
       "       [ 4.60620021e+00, -4.94279838e-01],\n",
       "       [-4.95536230e+00,  6.77080784e+00],\n",
       "       [-5.23317252e+00,  7.45696737e+00],\n",
       "       [-5.45415199e+00,  1.03410853e+01],\n",
       "       [-4.59620370e+00, -9.23434011e+00],\n",
       "       [-1.92043983e+00,  5.58850449e+00],\n",
       "       [-1.10464026e+01, -3.12120536e+00],\n",
       "       [-1.88368280e+00,  1.26089287e+01],\n",
       "       [-4.79790850e+00, -9.41606423e+00],\n",
       "       [ 5.31353691e+00,  5.79075952e-01],\n",
       "       [-7.17396068e+00, -9.72702598e+00],\n",
       "       [ 5.57970777e+00,  7.13263949e+00],\n",
       "       [ 8.12388450e+00,  2.70786535e-02],\n",
       "       [-1.80093405e+00,  8.80955986e+00],\n",
       "       [-8.22054431e+00, -8.06964461e+00],\n",
       "       [ 4.32489426e+00,  5.37716454e+00],\n",
       "       [-2.60465499e+00,  5.80042152e+00],\n",
       "       [-1.51535971e+00,  1.32438867e+01],\n",
       "       [-6.68282004e+00, -8.19366757e+00],\n",
       "       [ 3.30512908e+00,  2.19832357e+00],\n",
       "       [-5.95121987e+00, -8.01277125e+00],\n",
       "       [ 9.00142508e+00, -1.43082294e+00],\n",
       "       [ 4.84834137e+00,  1.10974977e-01],\n",
       "       [-6.90155195e+00, -2.81026321e+00],\n",
       "       [-5.87148201e+00, -9.46477901e+00],\n",
       "       [ 1.55501100e+00,  7.58904303e+00],\n",
       "       [-3.63655993e+00, -6.69443377e+00],\n",
       "       [ 6.05625997e+00,  1.25681813e+01],\n",
       "       [-5.79488380e+00, -8.03781692e+00],\n",
       "       [ 1.40086732e-01,  1.01494337e+01],\n",
       "       [ 4.95205154e+00,  3.79402904e+00],\n",
       "       [-3.77595424e+00,  1.19213723e+01],\n",
       "       [-6.23168716e+00, -4.76023031e+00],\n",
       "       [ 1.05057206e+01, -3.39507176e+00],\n",
       "       [ 7.11377849e+00,  2.81824337e+00],\n",
       "       [ 1.58729503e+00, -3.80127859e+00],\n",
       "       [-7.56427860e+00, -4.20828948e+00],\n",
       "       [ 2.16923849e+00,  3.32594741e+00],\n",
       "       [ 2.66415723e+00,  1.38619002e+00],\n",
       "       [-4.92268628e+00, -9.97287535e+00],\n",
       "       [-1.15639289e+01, -7.03286577e+00],\n",
       "       [-5.43053284e+00,  1.03166653e+01],\n",
       "       [ 8.22994556e+00,  2.03093025e+00],\n",
       "       [-3.96895985e+00, -1.17166432e+01],\n",
       "       [-8.80387234e+00, -6.29166484e+00],\n",
       "       [-1.20779416e+00,  8.81400662e+00],\n",
       "       [-3.58749504e+00,  4.98962002e+00],\n",
       "       [-6.13587092e+00, -7.01826439e+00],\n",
       "       [-1.25650930e+01, -7.12518970e+00],\n",
       "       [ 2.55226402e+00,  2.38675260e+00],\n",
       "       [-4.16095402e+00,  8.21212832e+00],\n",
       "       [ 7.88333917e+00,  6.82936641e-01],\n",
       "       [-5.29448320e+00,  9.87846629e+00],\n",
       "       [-2.70722546e+00,  1.17740016e+01],\n",
       "       [-5.50210493e+00, -9.56838652e+00],\n",
       "       [-1.59822319e+00,  1.16970352e+01],\n",
       "       [ 7.25354439e+00,  3.86684631e-01],\n",
       "       [-4.58147388e+00, -9.98680344e+00],\n",
       "       [-3.66822652e+00, -6.18045227e+00],\n",
       "       [ 2.62168228e+00,  1.03173267e+01],\n",
       "       [ 9.49487800e+00,  3.08686939e+00],\n",
       "       [-6.29778838e+00,  6.43526727e+00],\n",
       "       [-1.14704917e+01, -5.38586906e+00],\n",
       "       [-2.60771923e+00,  1.33170562e+01],\n",
       "       [-5.56243267e+00, -5.96253880e+00],\n",
       "       [ 8.15820063e-03,  9.91835168e+00],\n",
       "       [-3.96603818e+00,  1.04257716e+01],\n",
       "       [-8.40216278e+00, -1.01742738e+01],\n",
       "       [-9.81558337e+00, -7.27165318e+00],\n",
       "       [-1.79451994e+00,  1.11642990e+01],\n",
       "       [-8.97858987e+00, -1.18435354e+01],\n",
       "       [-5.74268121e+00, -1.71892111e+00],\n",
       "       [ 3.33377923e+00,  1.76514294e-01],\n",
       "       [-1.52528238e+00,  1.05564436e+01],\n",
       "       [ 4.06754265e+00,  6.17417114e-01],\n",
       "       [-3.33859769e-01,  6.51347063e+00],\n",
       "       [-4.81704581e+00,  8.16395209e+00],\n",
       "       [-1.84380138e+00,  3.75276546e+00],\n",
       "       [-1.56424733e+00,  4.16592570e+00],\n",
       "       [-1.82034228e+00,  9.96701870e+00],\n",
       "       [ 1.05611306e+01, -1.37036114e-01],\n",
       "       [-1.07256880e+01, -5.33194419e+00],\n",
       "       [ 6.52709436e+00, -2.46179896e+00],\n",
       "       [-4.66314418e+00,  8.12861696e+00],\n",
       "       [-4.73255503e+00,  7.63445426e+00],\n",
       "       [-2.32349506e+00,  5.09622862e+00],\n",
       "       [-2.54631499e+00,  6.10558107e+00],\n",
       "       [ 5.18729300e+00,  3.22573272e-01],\n",
       "       [-9.73205412e+00, -7.40354096e+00],\n",
       "       [-7.12411188e-02,  5.69631871e+00],\n",
       "       [-1.20243050e+01, -7.84677167e+00],\n",
       "       [ 1.87333104e+00, -1.36584900e+00],\n",
       "       [ 6.06808175e+00,  6.18820169e+00],\n",
       "       [ 5.25613316e+00,  2.00779879e+00],\n",
       "       [ 1.34848673e+00,  5.15919571e+00],\n",
       "       [-5.29409554e+00, -6.02417167e+00],\n",
       "       [-5.96576366e+00, -8.93844757e+00],\n",
       "       [-7.23140057e+00, -9.50784580e+00],\n",
       "       [-5.19066877e+00, -4.79696339e+00],\n",
       "       [-4.37073312e+00,  1.06963959e+01],\n",
       "       [-4.02639234e+00, -8.28265469e+00],\n",
       "       [-8.33783564e+00, -9.06050988e+00],\n",
       "       [ 4.69193296e-01,  1.19122418e+01],\n",
       "       [-7.78581847e+00,  8.94137297e+00],\n",
       "       [-2.25685549e+00,  3.54847161e+00],\n",
       "       [-7.25272166e+00,  7.46799542e+00],\n",
       "       [-6.57513310e+00,  7.03471456e+00],\n",
       "       [ 6.02859385e+00,  4.35399647e+00],\n",
       "       [ 3.94531642e+00, -1.45823407e+00],\n",
       "       [-7.62178326e+00, -9.57170981e+00],\n",
       "       [-2.49513562e+00,  8.36917151e+00],\n",
       "       [-8.29276121e+00, -9.79294678e+00],\n",
       "       [-3.80025218e+00,  1.05063262e+01],\n",
       "       [-3.18401494e+00,  6.94151168e+00],\n",
       "       [-1.21257040e+00, -2.05292228e+00],\n",
       "       [-2.26981819e+00,  8.19201591e+00],\n",
       "       [ 4.61611430e-01,  6.41525984e-01],\n",
       "       [ 2.67279364e+00,  3.84206349e+00],\n",
       "       [ 6.87524966e+00,  3.70464900e+00],\n",
       "       [-1.74829792e+00,  1.12890401e+01],\n",
       "       [ 8.15345730e+00,  3.46348365e-01],\n",
       "       [-4.37926561e+00,  9.65298380e+00],\n",
       "       [-5.00626383e+00,  5.13045095e+00],\n",
       "       [-1.47663308e+00, -6.78313483e+00],\n",
       "       [ 5.41260647e+00,  2.60746004e-01],\n",
       "       [-1.10984412e+01, -3.36649833e+00],\n",
       "       [-1.69486686e+00,  9.73218813e+00],\n",
       "       [ 1.33906372e+00,  1.05329129e+00],\n",
       "       [ 4.58896771e+00,  1.17935843e+00],\n",
       "       [-8.33850535e+00, -8.46360976e+00],\n",
       "       [-5.12349793e+00, -1.14492898e+01],\n",
       "       [-4.93980557e+00,  9.43703017e+00],\n",
       "       [-9.71349666e+00,  1.12745180e+01],\n",
       "       [-9.28757739e+00, -1.06828089e+01],\n",
       "       [-2.61395926e+00, -6.56200435e+00],\n",
       "       [-3.57628891e+00, -8.00231687e+00],\n",
       "       [-2.34912365e+00,  5.87111781e+00],\n",
       "       [-4.48403426e+00, -7.77667431e+00],\n",
       "       [ 3.34452350e+00,  2.61130701e+00],\n",
       "       [-2.34356455e+00,  1.57882019e+01],\n",
       "       [-1.07385832e+00,  9.83099398e+00],\n",
       "       [-2.72025275e-01,  5.62940926e+00],\n",
       "       [ 6.33565117e-01,  1.10821020e+01],\n",
       "       [-5.03761427e+00,  1.32766057e+01],\n",
       "       [ 2.33064377e+00,  3.24839909e-01],\n",
       "       [-3.73711374e+00,  1.13693828e+01],\n",
       "       [ 1.94073005e+00,  3.24395424e+00],\n",
       "       [ 4.70728182e+00,  3.34266498e+00],\n",
       "       [ 7.03876059e+00,  2.47736020e+00],\n",
       "       [-3.23700391e+00,  1.64947513e+01],\n",
       "       [ 1.04758084e+01,  4.81244915e+00],\n",
       "       [ 6.35620833e+00,  3.70111983e+00],\n",
       "       [-6.64150528e+00, -7.30822199e+00],\n",
       "       [-4.00625012e+00,  9.31932325e+00],\n",
       "       [-8.70184253e+00, -5.31096325e+00],\n",
       "       [ 9.12900992e+00, -1.95971911e+00],\n",
       "       [ 6.20982774e+00,  5.09597519e+00],\n",
       "       [-1.36766496e+01, -9.07157155e+00],\n",
       "       [ 5.53133631e+00,  1.61527628e+00],\n",
       "       [ 1.52133649e+00,  8.39340130e+00],\n",
       "       [-4.27360635e+00, -8.43896330e-01],\n",
       "       [ 3.42975650e+00,  2.33270627e+00],\n",
       "       [-7.05199471e+00, -4.25346821e+00],\n",
       "       [-2.40093444e+00, -1.06753886e+01],\n",
       "       [ 2.36976155e+00,  1.08935862e+00],\n",
       "       [-1.12973546e+01, -6.32058459e+00],\n",
       "       [ 2.63137060e+00,  2.56843081e+00],\n",
       "       [ 1.00923752e+00,  7.00968129e+00],\n",
       "       [ 4.58758426e+00, -7.83786069e-01],\n",
       "       [ 1.05357251e+01,  3.71644700e+00],\n",
       "       [-5.18957222e+00,  1.11787688e+01],\n",
       "       [-6.37949499e+00, -6.19750298e+00],\n",
       "       [-4.78414528e-01,  9.48554890e+00],\n",
       "       [-2.82723040e+00,  8.18625097e+00],\n",
       "       [ 2.37877275e+00,  2.64330952e+00],\n",
       "       [ 3.01912575e+00,  4.30957545e+00],\n",
       "       [-2.74751611e-01,  1.27439462e+01],\n",
       "       [ 5.49487464e+00,  6.03039928e+00],\n",
       "       [-9.59037382e+00, -5.49398168e+00],\n",
       "       [-8.65770262e+00, -9.85436660e+00],\n",
       "       [ 4.90661774e+00,  3.60985150e+00],\n",
       "       [-1.51469855e+00,  7.24020680e+00],\n",
       "       [-2.23515637e+00,  7.62972808e+00],\n",
       "       [-9.53316671e+00, -4.99346808e+00],\n",
       "       [ 8.63052376e+00,  4.61116446e+00],\n",
       "       [ 1.17244796e+00,  4.49729004e+00],\n",
       "       [-6.74619271e+00, -9.16522241e+00],\n",
       "       [-2.74814530e+00, -6.67634895e+00],\n",
       "       [-5.13947706e+00, -6.35704234e-01],\n",
       "       [-5.29267884e+00, -7.43848440e+00],\n",
       "       [-5.91081208e+00,  5.38303044e+00],\n",
       "       [-7.63601936e+00, -1.32103928e+01],\n",
       "       [-4.59876184e+00, -1.29607317e+01],\n",
       "       [-1.20083441e+00,  5.27343374e-01],\n",
       "       [-8.95959174e+00, -1.07913073e+01],\n",
       "       [-1.04669183e+01, -5.03851008e+00],\n",
       "       [-2.47344242e+00,  1.30115048e+01],\n",
       "       [ 2.46044681e+00,  1.65764447e+00],\n",
       "       [-8.10143366e+00, -5.84253324e+00],\n",
       "       [-2.23998769e+00, -4.45560026e+00],\n",
       "       [ 3.77288841e+00,  4.06033504e+00],\n",
       "       [-2.72122732e+00,  9.95245406e+00],\n",
       "       [-2.48532183e-01,  1.42304668e+01],\n",
       "       [-4.33263894e+00, -1.62921383e+00],\n",
       "       [-3.45166254e+00,  6.80802364e+00],\n",
       "       [-1.01335881e+01, -1.24879981e+01],\n",
       "       [ 4.76520140e+00,  1.81268728e-01],\n",
       "       [ 6.51524951e+00,  1.11993610e+00],\n",
       "       [-8.67217649e+00, -6.74976325e+00],\n",
       "       [ 4.58239945e+00,  2.29581999e+00],\n",
       "       [-2.35596598e+00, -7.56495870e+00],\n",
       "       [-7.06134664e+00, -1.02104041e+01],\n",
       "       [-6.08274633e+00, -1.17275740e+00],\n",
       "       [ 5.52735488e+00, -3.01715411e-01],\n",
       "       [ 7.82468374e+00,  4.15024209e+00],\n",
       "       [-7.88612417e-01,  6.65710285e+00],\n",
       "       [-2.69103598e+00, -5.39810697e+00],\n",
       "       [ 2.55202775e-01,  3.24888371e-01],\n",
       "       [ 6.53777481e+00,  8.69813386e-01],\n",
       "       [ 4.65429901e+00,  2.10236632e+00],\n",
       "       [-6.16539031e+00, -9.36698031e+00],\n",
       "       [ 6.14439663e+00,  1.41713989e+00],\n",
       "       [-5.85897604e+00, -8.54106886e+00],\n",
       "       [ 4.34078843e+00,  3.07787692e+00],\n",
       "       [-8.50871048e+00, -9.25608421e+00],\n",
       "       [ 1.10051899e+01, -3.16180960e+00],\n",
       "       [ 1.06618369e+01, -2.49650601e-01],\n",
       "       [-5.98057691e+00, -7.48263605e+00],\n",
       "       [ 2.09082004e+00,  1.80947495e+00],\n",
       "       [-6.16170926e+00,  9.55565453e+00],\n",
       "       [-1.09457394e+01, -3.73478597e+00],\n",
       "       [-1.70324832e+00,  7.04981973e+00],\n",
       "       [-3.12372028e+00,  1.09777875e+01],\n",
       "       [ 3.26051064e-01,  1.15753065e+01],\n",
       "       [-6.66686435e+00, -9.24864115e+00],\n",
       "       [-6.77352206e+00,  9.20283431e+00],\n",
       "       [ 6.90977380e+00,  4.21032118e+00],\n",
       "       [ 2.81996606e+00,  4.31736135e+00],\n",
       "       [-6.54881420e+00, -5.46540280e+00],\n",
       "       [ 4.83183457e+00,  9.13557293e-01],\n",
       "       [ 6.69493625e+00,  3.65168791e+00],\n",
       "       [-3.03819028e+00,  9.84354132e+00],\n",
       "       [ 1.83363762e+00,  1.11247316e+01],\n",
       "       [ 4.90848811e+00, -1.52607222e-01],\n",
       "       [ 3.34206621e+00,  4.96778383e+00],\n",
       "       [ 6.05622582e+00,  3.38608105e+00],\n",
       "       [-6.60646335e+00, -4.81379500e+00],\n",
       "       [-4.11232197e+00, -8.46656223e+00],\n",
       "       [-7.62049599e+00, -4.90686839e+00],\n",
       "       [-5.55161880e+00,  5.72471791e+00],\n",
       "       [ 2.67781361e+00,  9.49437511e+00],\n",
       "       [-4.83788035e+00,  4.84845626e+00],\n",
       "       [ 2.51460950e+00,  1.32191852e+00],\n",
       "       [ 5.86038226e+00,  4.10341333e+00],\n",
       "       [ 8.60338038e+00, -1.97545123e+00],\n",
       "       [ 6.57646897e-01, -1.89735570e+00],\n",
       "       [-5.94876207e+00, -8.02215136e+00],\n",
       "       [ 4.81664889e+00, -9.90628455e-01],\n",
       "       [-5.10484333e+00, -3.11637281e+00],\n",
       "       [ 7.26338369e+00,  3.76449563e+00],\n",
       "       [ 4.22246982e+00,  3.59104200e+00],\n",
       "       [-5.82344721e+00, -6.97002015e+00],\n",
       "       [-1.61796671e+00,  7.95530986e+00],\n",
       "       [ 3.40219879e+00,  3.68600700e+00],\n",
       "       [ 7.83857915e+00,  2.00131060e+00],\n",
       "       [-3.11329531e+00,  9.99634570e+00],\n",
       "       [-7.53673432e+00, -9.37590966e+00],\n",
       "       [-5.67442996e+00,  1.00474557e+01],\n",
       "       [ 2.36014256e+00,  4.32671823e-01],\n",
       "       [-6.92977652e+00,  9.52202924e+00],\n",
       "       [-6.82897665e+00, -2.26990698e+00],\n",
       "       [-4.48821091e+00, -3.15210548e+00]])"
      ]
     },
     "execution_count": 3,
     "metadata": {},
     "output_type": "execute_result"
    }
   ],
   "source": [
    "features"
   ]
  },
  {
   "cell_type": "code",
   "execution_count": 11,
   "metadata": {},
   "outputs": [
    {
     "data": {
      "text/plain": [
       "array([-1.16966133, -1.47111779])"
      ]
     },
     "execution_count": 11,
     "metadata": {},
     "output_type": "execute_result"
    }
   ],
   "source": []
  },
  {
   "cell_type": "code",
   "execution_count": 13,
   "metadata": {},
   "outputs": [
    {
     "data": {
      "text/plain": [
       "<matplotlib.collections.PathCollection at 0x1c3b3be6888>"
      ]
     },
     "execution_count": 13,
     "metadata": {},
     "output_type": "execute_result"
    },
    {
     "data": {
      "image/png": "[encoded data removed]",
      "text/plain": [
       "<Figure size 432x288 with 1 Axes>"
      ]
     },
     "metadata": {
      "needs_background": "light"
     },
     "output_type": "display_data"
    }
   ],
   "source": [
    "plt.scatter(scaled_f[:,0],scaled_f[:,1])"
   ]
  },
  {
   "cell_type": "code",
   "execution_count": 5,
   "metadata": {},
   "outputs": [
    {
     "data": {
      "text/plain": [
       "array([[-1.16966133e+00, -1.47111779e+00],\n",
       "       [-1.36689329e+00, -1.29273268e+00],\n",
       "       [ 2.42331249e-01,  6.02531821e-01],\n",
       "       [ 1.00924092e+00,  5.10218097e-01],\n",
       "       [-1.94607506e+00, -1.53178549e+00],\n",
       "       [ 1.53807840e+00,  2.76445444e-02],\n",
       "       [-7.70168154e-02,  1.21831109e+00],\n",
       "       [ 1.31936735e+00, -1.27161267e-01],\n",
       "       [-3.97835899e-01,  9.99406883e-01],\n",
       "       [-7.48051041e-01,  1.32229919e+00],\n",
       "       [-4.58095595e-01,  1.78072297e+00],\n",
       "       [ 1.29186866e+00, -1.76688972e-01],\n",
       "       [-5.94685812e-02,  3.19276272e-01],\n",
       "       [-8.58244157e-01,  9.09316464e-01],\n",
       "       [-1.26373096e+00, -1.33205649e+00],\n",
       "       [-5.07444582e-01,  9.44964890e-01],\n",
       "       [-1.74415656e+00, -1.12686447e+00],\n",
       "       [ 1.20356867e-01,  1.60446628e-01],\n",
       "       [-1.14443384e-01,  1.44195059e+00],\n",
       "       [ 1.26423299e-01,  1.91037539e+00],\n",
       "       [ 4.07596235e-01,  7.55947977e-01],\n",
       "       [-2.41502798e-01,  1.22549324e+00],\n",
       "       [ 1.59584363e+00,  3.25829933e-02],\n",
       "       [-9.98995462e-01, -1.23001615e+00],\n",
       "       [-3.90087052e-01,  8.92031736e-01],\n",
       "       [-6.83203874e-01, -5.92622675e-01],\n",
       "       [-1.22740213e+00, -8.55693317e-01],\n",
       "       [ 7.13904064e-01,  8.91154185e-01],\n",
       "       [ 1.11027068e+00, -2.55031850e-01],\n",
       "       [-5.99635427e-01,  7.57815845e-01],\n",
       "       [-6.49316573e-01,  8.53475406e-01],\n",
       "       [-6.88834607e-01,  1.25555894e+00],\n",
       "       [-5.35406646e-01, -1.47350990e+00],\n",
       "       [-5.68964675e-02,  5.92987383e-01],\n",
       "       [-1.68890374e+00, -6.21259426e-01],\n",
       "       [-5.03231632e-02,  1.57172581e+00],\n",
       "       [-5.71477767e-01, -1.49884461e+00],\n",
       "       [ 1.23676458e+00, -1.05392095e-01],\n",
       "       [-9.96390133e-01, -1.54219672e+00],\n",
       "       [ 1.28436425e+00,  8.08259882e-01],\n",
       "       [ 1.73934254e+00, -1.82347696e-01],\n",
       "       [-3.55251006e-02,  1.04204439e+00],\n",
       "       [-1.18355198e+00, -1.31113621e+00],\n",
       "       [ 1.05996439e+00,  5.63523846e-01],\n",
       "       [-1.79255516e-01,  6.22531374e-01],\n",
       "       [ 1.55445137e-02,  1.66024721e+00],\n",
       "       [-9.08558841e-01, -1.32842662e+00],\n",
       "       [ 8.77598516e-01,  1.20352078e-01],\n",
       "       [-7.77725873e-01, -1.30320732e+00],\n",
       "       [ 1.89627421e+00, -3.85598136e-01],\n",
       "       [ 1.15357309e+00, -1.70651458e-01],\n",
       "       [-9.47674942e-01, -5.77910048e-01],\n",
       "       [-7.63466254e-01, -1.50563608e+00],\n",
       "       [ 5.64622724e-01,  8.71888470e-01],\n",
       "       [-3.63792360e-01, -1.11941393e+00],\n",
       "       [ 1.36958667e+00,  1.56604509e+00],\n",
       "       [-7.49768100e-01, -1.30669901e+00],\n",
       "       [ 3.11590059e-01,  1.22884022e+00],\n",
       "       [ 1.17211971e+00,  3.42814171e-01],\n",
       "       [-3.88720417e-01,  1.47587150e+00],\n",
       "       [-8.27882187e-01, -8.49760818e-01],\n",
       "       [ 2.16528925e+00, -6.59439965e-01],\n",
       "       [ 1.55870403e+00,  2.06776960e-01],\n",
       "       [ 5.70396118e-01, -7.16070478e-01],\n",
       "       [-1.06619117e+00, -7.72813089e-01],\n",
       "       [ 6.74465790e-01,  2.77557505e-01],\n",
       "       [ 7.62972723e-01,  7.13010082e-03],\n",
       "       [-5.93791932e-01, -1.57647132e+00],\n",
       "       [-1.78145361e+00, -1.16659575e+00],\n",
       "       [-6.84610764e-01,  1.25215448e+00],\n",
       "       [ 1.75830957e+00,  9.70152730e-02],\n",
       "       [-4.23235850e-01, -1.81957523e+00],\n",
       "       [-1.28786926e+00, -1.06326271e+00],\n",
       "       [ 7.05468438e-02,  1.04266432e+00],\n",
       "       [-3.55018024e-01,  5.09495101e-01],\n",
       "       [-8.10747250e-01, -1.16456013e+00],\n",
       "       [-1.96049302e+00, -1.17946691e+00],\n",
       "       [ 7.42962721e-01,  1.46621535e-01],\n",
       "       [-4.57570406e-01,  9.58754661e-01],\n",
       "       [ 1.69632552e+00, -9.09125646e-02],\n",
       "       [-6.60280839e-01,  1.19106384e+00],\n",
       "       [-1.97598320e-01,  1.45532611e+00],\n",
       "       [-6.97410090e-01, -1.52008032e+00],\n",
       "       [ 7.25934818e-04,  1.44459600e+00],\n",
       "       [ 1.58369853e+00, -1.32213947e-01],\n",
       "       [-5.32772496e-01, -1.57841308e+00],\n",
       "       [-3.69455335e-01, -1.04775823e+00],\n",
       "       [ 7.55376876e-01,  1.25224669e+00],\n",
       "       [ 1.98451901e+00,  2.44226920e-01],\n",
       "       [-8.39703152e-01,  7.11037126e-01],\n",
       "       [-1.76474412e+00, -9.36982996e-01],\n",
       "       [-1.79803498e-01,  1.67044799e+00],\n",
       "       [-7.08198575e-01, -1.01737826e+00],\n",
       "       [ 2.87997115e-01,  1.19662438e+00],\n",
       "       [-4.22713365e-01,  1.26736532e+00],\n",
       "       [-1.21603104e+00, -1.60454888e+00],\n",
       "       [-1.46879480e+00, -1.19988582e+00],\n",
       "       [-3.43780574e-02,  1.37032565e+00],\n",
       "       [-1.31911421e+00, -1.83726565e+00],\n",
       "       [-7.40432645e-01, -4.25762767e-01],\n",
       "       [ 8.82722058e-01, -1.61514425e-01],\n",
       "       [ 1.37700296e-02,  1.28558269e+00],\n",
       "       [ 1.01394188e+00, -1.00046839e-01],\n",
       "       [ 2.26833617e-01,  7.21939691e-01],\n",
       "       [-5.74900117e-01,  9.52038269e-01],\n",
       "       [-4.31911181e-02,  3.37061491e-01],\n",
       "       [ 6.80188009e-03,  3.94661402e-01],\n",
       "       [-3.89958996e-02,  1.20340920e+00],\n",
       "       [ 2.17519829e+00, -2.05227429e-01],\n",
       "       [-1.63154995e+00, -9.29465167e-01],\n",
       "       [ 1.45378657e+00, -5.29329600e-01],\n",
       "       [-5.47377696e-01,  9.47112092e-01],\n",
       "       [-5.59790525e-01,  8.78219386e-01],\n",
       "       [-1.28975336e-01,  5.24357725e-01],\n",
       "       [-1.68822501e-01,  6.65074583e-01],\n",
       "       [ 1.21418823e+00, -1.41151904e-01],\n",
       "       [-1.45385716e+00, -1.21827269e+00],\n",
       "       [ 2.73798036e-01,  6.08018088e-01],\n",
       "       [-1.86378323e+00, -1.28006482e+00],\n",
       "       [ 6.21548292e-01, -3.76539925e-01],\n",
       "       [ 1.37170078e+00,  6.76592972e-01],\n",
       "       [ 1.22649900e+00,  9.37904464e-02],\n",
       "       [ 5.27689733e-01,  5.33136156e-01],\n",
       "       [-6.60211513e-01, -1.02597068e+00],\n",
       "       [-7.80326757e-01, -1.43225864e+00],\n",
       "       [-1.00666218e+00, -1.51164015e+00],\n",
       "       [-6.41715574e-01, -8.54881887e-01],\n",
       "       [-4.95085464e-01,  1.30509387e+00],\n",
       "       [-4.33506574e-01, -1.34083258e+00],\n",
       "       [-1.20452734e+00, -1.44927571e+00],\n",
       "       [ 3.70444594e-01,  1.47459859e+00],\n",
       "       [-1.10580942e+00,  1.06042085e+00],\n",
       "       [-1.17058098e-01,  3.08580273e-01],\n",
       "       [-1.01047506e+00,  8.55012859e-01],\n",
       "       [-8.89301051e-01,  7.94607872e-01],\n",
       "       [ 1.36463911e+00,  4.20880912e-01],\n",
       "       [ 9.92084014e-01, -3.89419604e-01],\n",
       "       [-1.07647480e+00, -1.52054363e+00],\n",
       "       [-1.59670030e-01,  9.80648525e-01],\n",
       "       [-1.19646662e+00, -1.55138694e+00],\n",
       "       [-3.93065648e-01,  1.27859569e+00],\n",
       "       [-2.82863176e-01,  7.81614179e-01],\n",
       "       [ 6.96927025e-02, -4.72326873e-01],\n",
       "       [-1.19376234e-01,  9.55950731e-01],\n",
       "       [ 3.69088720e-01, -9.66857487e-02],\n",
       "       [ 7.64517183e-01,  3.49510799e-01],\n",
       "       [ 1.51604762e+00,  3.30353431e-01],\n",
       "       [-2.61121172e-02,  1.38771617e+00],\n",
       "       [ 1.74463108e+00, -1.37837347e-01],\n",
       "       [-4.96611338e-01,  1.15962865e+00],\n",
       "       [-6.08738210e-01,  5.29128763e-01],\n",
       "       [ 2.24700455e-02, -1.13178001e+00],\n",
       "       [ 1.25448132e+00, -1.49771429e-01],\n",
       "       [-1.69820986e+00, -6.55456457e-01],\n",
       "       [-1.65569736e-02,  1.17067076e+00],\n",
       "       [ 5.26004603e-01, -3.92803112e-02],\n",
       "       [ 1.10718897e+00, -2.17049123e-02],\n",
       "       [-1.20464710e+00, -1.36606007e+00],\n",
       "       [-6.29703330e-01, -1.78230269e+00],\n",
       "       [-5.96853397e-01,  1.12952191e+00],\n",
       "       [-1.45053851e+00,  1.38569161e+00],\n",
       "       [-1.37437084e+00, -1.67544528e+00],\n",
       "       [-1.80919410e-01, -1.10095155e+00],\n",
       "       [-3.53014017e-01, -1.30174984e+00],\n",
       "       [-1.33558528e-01,  6.32387355e-01],\n",
       "       [-5.15347246e-01, -1.27029234e+00],\n",
       "       [ 8.84643469e-01,  1.77927341e-01],\n",
       "       [-1.32564387e-01,  2.01495784e+00],\n",
       "       [ 9.44987562e-02,  1.18444559e+00],\n",
       "       [ 2.37891556e-01,  5.98690040e-01],\n",
       "       [ 3.99839412e-01,  1.35886631e+00],\n",
       "       [-6.14344648e-01,  1.66480867e+00],\n",
       "       [ 7.03330097e-01, -1.40835906e-01],\n",
       "       [-3.81774522e-01,  1.39891699e+00],\n",
       "       [ 6.33601341e-01,  2.66126591e-01],\n",
       "       [ 1.12834723e+00,  2.79888152e-01],\n",
       "       [ 1.54528848e+00,  1.59253413e-01],\n",
       "       [-2.92339260e-01,  2.11346001e+00],\n",
       "       [ 2.15994001e+00,  4.84795178e-01],\n",
       "       [ 1.42322681e+00,  3.29861420e-01],\n",
       "       [-9.01170471e-01, -1.20498399e+00],\n",
       "       [-4.29904514e-01,  1.11311203e+00],\n",
       "       [-1.26962314e+00, -9.26540152e-01],\n",
       "       [ 1.91909037e+00, -4.59333139e-01],\n",
       "       [ 1.39704939e+00,  5.24322395e-01],\n",
       "       [-2.15927407e+00, -1.45081785e+00],\n",
       "       [ 1.27571392e+00,  3.90677055e-02],\n",
       "       [ 5.58600670e-01,  9.84026472e-01],\n",
       "       [-4.77716162e-01, -3.03772935e-01],\n",
       "       [ 8.99885792e-01,  1.39086775e-01],\n",
       "       [-9.74578806e-01, -7.79111592e-01],\n",
       "       [-1.42823917e-01, -1.67441080e+00],\n",
       "       [ 7.10325577e-01, -3.42520558e-02],\n",
       "       [-1.73378179e+00, -1.06729450e+00],\n",
       "       [ 7.57109449e-01,  1.71949840e-01],\n",
       "       [ 4.67021374e-01,  7.91117910e-01],\n",
       "       [ 1.10694157e+00, -2.95392783e-01],\n",
       "       [ 2.17065499e+00,  3.31998225e-01],\n",
       "       [-6.41519477e-01,  1.37234292e+00],\n",
       "       [-8.54314845e-01, -1.05013532e+00],\n",
       "       [ 2.00982709e-01,  1.13628605e+00],\n",
       "       [-2.19058953e-01,  9.55147022e-01],\n",
       "       [ 7.11937062e-01,  1.82388906e-01],\n",
       "       [ 8.26452186e-01,  4.14688045e-01],\n",
       "       [ 2.37404002e-01,  1.59054900e+00],\n",
       "       [ 1.26919344e+00,  6.54593263e-01],\n",
       "       [-1.42852030e+00, -9.52055300e-01],\n",
       "       [-1.26172955e+00, -1.55994966e+00],\n",
       "       [ 1.16399472e+00,  3.17137428e-01],\n",
       "       [ 1.56627487e-02,  8.23256164e-01],\n",
       "       [-1.13177618e-01,  8.77560495e-01],\n",
       "       [-1.41828988e+00, -8.82277196e-01],\n",
       "       [ 1.82994547e+00,  4.56733474e-01],\n",
       "       [ 4.96208501e-01,  4.40857899e-01],\n",
       "       [-9.19891855e-01, -1.46387400e+00],\n",
       "       [-2.04916066e-01, -1.11689267e+00],\n",
       "       [-6.32560897e-01, -2.74748250e-01],\n",
       "       [-6.59958163e-01, -1.22314427e+00],\n",
       "       [-7.70499698e-01,  5.64341629e-01],\n",
       "       [-1.07902066e+00, -2.02782335e+00],\n",
       "       [-5.35864123e-01, -1.99301735e+00],\n",
       "       [ 7.17914645e-02, -1.12604289e-01],\n",
       "       [-1.31571675e+00, -1.69057137e+00],\n",
       "       [-1.58527384e+00, -8.88556637e-01],\n",
       "       [-1.55790609e-01,  1.62785016e+00],\n",
       "       [ 7.26542935e-01,  4.49743815e-02],\n",
       "       [-1.16225128e+00, -1.00064792e+00],\n",
       "       [-1.14041610e-01, -8.07291428e-01],\n",
       "       [ 9.61248499e-01,  3.79940690e-01],\n",
       "       [-2.00102291e-01,  1.20137870e+00],\n",
       "       [ 2.42092855e-01,  1.79778931e+00],\n",
       "       [-4.88273033e-01, -4.13256407e-01],\n",
       "       [-3.30726929e-01,  7.63004211e-01],\n",
       "       [-1.52566398e+00, -1.92711213e+00],\n",
       "       [ 1.13870506e+00, -1.60851595e-01],\n",
       "       [ 1.45166834e+00, -2.99891570e-02],\n",
       "       [-1.26431793e+00, -1.12712758e+00],\n",
       "       [ 1.10601436e+00,  1.33944347e-01],\n",
       "       [-1.34782151e-01, -1.24077643e+00],\n",
       "       [-9.76251223e-01, -1.60958592e+00],\n",
       "       [-8.01246915e-01, -3.49620444e-01],\n",
       "       [ 1.27500192e+00, -2.28185865e-01],\n",
       "       [ 1.68583609e+00,  3.92474903e-01],\n",
       "       [ 1.45509635e-01,  7.41963890e-01],\n",
       "       [-1.94703135e-01, -9.38689119e-01],\n",
       "       [ 3.32176404e-01, -1.40829149e-01],\n",
       "       [ 1.45569657e+00, -6.48595162e-02],\n",
       "       [ 1.11887225e+00,  1.06974390e-01],\n",
       "       [-8.16026240e-01, -1.49200167e+00],\n",
       "       [ 1.38534826e+00,  1.14449156e-02],\n",
       "       [-7.61229795e-01, -1.37685888e+00],\n",
       "       [ 1.06280676e+00,  2.42973253e-01],\n",
       "       [-1.23508510e+00, -1.47654131e+00],\n",
       "       [ 2.25460996e+00, -6.26920185e-01],\n",
       "       [ 2.19320772e+00, -2.20927353e-01],\n",
       "       [-7.82975830e-01, -1.22929958e+00],\n",
       "       [ 6.60442121e-01,  6.61415254e-02],\n",
       "       [-8.15367952e-01,  1.14605969e+00],\n",
       "       [-1.67090200e+00, -7.06800543e-01],\n",
       "       [-1.80558406e-02,  7.96713730e-01],\n",
       "       [-2.72080607e-01,  1.34432351e+00],\n",
       "       [ 3.44846291e-01,  1.42762543e+00],\n",
       "       [-9.05705465e-01, -1.47550365e+00],\n",
       "       [-9.24779196e-01,  1.09687196e+00],\n",
       "       [ 1.52222161e+00,  4.00850709e-01],\n",
       "       [ 7.90836210e-01,  4.15773501e-01],\n",
       "       [-8.84594411e-01, -9.48071033e-01],\n",
       "       [ 1.15062116e+00, -5.87610468e-02],\n",
       "       [ 1.48380195e+00,  3.22969967e-01],\n",
       "       [-2.56785170e-01,  1.18619485e+00],\n",
       "       [ 6.14449869e-01,  1.36480944e+00],\n",
       "       [ 1.16432920e+00, -2.07398244e-01],\n",
       "       [ 8.84204028e-01,  5.06450851e-01],\n",
       "       [ 1.36958057e+00,  2.85940916e-01],\n",
       "       [-8.94903880e-01, -8.57228433e-01],\n",
       "       [-4.48873475e-01, -1.36647168e+00],\n",
       "       [-1.07624460e+00, -8.70204073e-01],\n",
       "       [-7.06264718e-01,  6.11977306e-01],\n",
       "       [ 7.65414910e-01,  1.13751654e+00],\n",
       "       [-5.78625983e-01,  4.89815037e-01],\n",
       "       [ 7.36228916e-01, -1.83018222e-03],\n",
       "       [ 1.33455762e+00,  3.85946364e-01],\n",
       "       [ 1.82509138e+00, -4.61526402e-01],\n",
       "       [ 4.04145986e-01, -4.50638869e-01],\n",
       "       [-7.77286342e-01, -1.30451503e+00],\n",
       "       [ 1.14790548e+00, -3.24229301e-01],\n",
       "       [-6.26367305e-01, -6.20585706e-01],\n",
       "       [ 1.58545811e+00,  3.38696829e-01],\n",
       "       [ 1.04164770e+00,  3.14515138e-01],\n",
       "       [-7.54876129e-01, -1.15783426e+00],\n",
       "       [-2.80482350e-03,  9.22950828e-01],\n",
       "       [ 8.94957613e-01,  3.27754494e-01],\n",
       "       [ 1.68832103e+00,  9.28859091e-02],\n",
       "       [-2.70216297e-01,  1.20749777e+00],\n",
       "       [-1.06126539e+00, -1.49324654e+00],\n",
       "       [-7.28227190e-01,  1.21462316e+00],\n",
       "       [ 7.08605401e-01, -1.25802734e-01],\n",
       "       [-9.52722375e-01,  1.14137188e+00],\n",
       "       [-9.34696209e-01, -5.02577363e-01],\n",
       "       [-5.16094163e-01, -6.25567306e-01]])"
      ]
     },
     "execution_count": 5,
     "metadata": {},
     "output_type": "execute_result"
    }
   ],
   "source": [
    "scaler = StandardScaler()\n",
    "scaled_f = scaler.fit_transform(features)\n",
    "scaled_f"
   ]
  },
  {
   "cell_type": "code",
   "execution_count": 27,
   "metadata": {},
   "outputs": [],
   "source": [
    "kmeans = KMeans(init = 'random',\n",
    "               n_clusters = 3,\n",
    "               n_init = 10,\n",
    "               max_iter = 300,\n",
    "               random_state = 42)\n"
   ]
  },
  {
   "cell_type": "code",
   "execution_count": 28,
   "metadata": {},
   "outputs": [
    {
     "data": {
      "text/plain": [
       "KMeans(algorithm='auto', copy_x=True, init='random', max_iter=300, n_clusters=3,\n",
       "       n_init=10, n_jobs=None, precompute_distances='auto', random_state=42,\n",
       "       tol=0.0001, verbose=0)"
      ]
     },
     "execution_count": 28,
     "metadata": {},
     "output_type": "execute_result"
    }
   ],
   "source": [
    "kmeans.fit(scaled_f)"
   ]
  },
  {
   "cell_type": "code",
   "execution_count": 29,
   "metadata": {},
   "outputs": [
    {
     "data": {
      "text/plain": [
       "array([[-0.95632267, -1.18100061],\n",
       "       [-0.21553783,  1.07066401],\n",
       "       [ 1.20017474,  0.09073808]])"
      ]
     },
     "execution_count": 29,
     "metadata": {},
     "output_type": "execute_result"
    }
   ],
   "source": [
    "kmeans.cluster_centers_"
   ]
  },
  {
   "cell_type": "code",
   "execution_count": 30,
   "metadata": {},
   "outputs": [
    {
     "data": {
      "text/plain": [
       "array([0, 0, 1, 2, 0, 2, 1, 2, 1, 1, 1, 2, 1, 1, 0, 1, 0, 1, 1, 1, 1, 1,\n",
       "       2, 0, 1, 0, 0, 2, 2, 1, 1, 1, 0, 1, 0, 1, 0, 2, 0, 2, 2, 1, 0, 2,\n",
       "       1, 1, 0, 2, 0, 2, 2, 0, 0, 1, 0, 2, 0, 1, 2, 1, 0, 2, 2, 2, 0, 2,\n",
       "       2, 0, 0, 1, 2, 0, 0, 1, 1, 0, 0, 2, 1, 2, 1, 1, 0, 1, 2, 0, 0, 1,\n",
       "       2, 1, 0, 1, 0, 1, 1, 0, 0, 1, 0, 0, 2, 1, 2, 1, 1, 1, 1, 1, 2, 0,\n",
       "       2, 1, 1, 1, 1, 2, 0, 1, 0, 2, 2, 2, 2, 0, 0, 0, 0, 1, 0, 0, 1, 1,\n",
       "       1, 1, 1, 2, 2, 0, 1, 0, 1, 1, 0, 1, 2, 2, 2, 1, 2, 1, 1, 0, 2, 0,\n",
       "       1, 2, 2, 0, 0, 1, 1, 0, 0, 0, 1, 0, 2, 1, 1, 1, 1, 1, 2, 1, 2, 2,\n",
       "       2, 1, 2, 2, 0, 1, 0, 2, 2, 0, 2, 1, 0, 2, 0, 0, 2, 0, 2, 1, 2, 2,\n",
       "       1, 0, 1, 1, 2, 2, 1, 2, 0, 0, 2, 1, 1, 0, 2, 2, 0, 0, 0, 0, 1, 0,\n",
       "       0, 2, 0, 0, 1, 2, 0, 0, 2, 1, 1, 0, 1, 0, 2, 2, 0, 2, 0, 0, 0, 2,\n",
       "       2, 1, 0, 2, 2, 2, 0, 2, 0, 2, 0, 2, 2, 0, 2, 1, 0, 1, 1, 1, 0, 1,\n",
       "       2, 2, 0, 2, 2, 1, 1, 2, 2, 2, 0, 0, 0, 1, 1, 1, 2, 2, 2, 2, 0, 2,\n",
       "       0, 2, 2, 0, 1, 2, 2, 1, 0, 1, 2, 1, 0, 0])"
      ]
     },
     "execution_count": 30,
     "metadata": {},
     "output_type": "execute_result"
    }
   ],
   "source": [
    "kmeans.labels_"
   ]
  },
  {
   "cell_type": "code",
   "execution_count": 31,
   "metadata": {},
   "outputs": [],
   "source": [
    "import numpy"
   ]
  },
  {
   "cell_type": "code",
   "execution_count": 32,
   "metadata": {},
   "outputs": [],
   "source": [
    "import seaborn as sns"
   ]
  },
  {
   "cell_type": "code",
   "execution_count": 34,
   "metadata": {},
   "outputs": [
    {
     "name": "stderr",
     "output_type": "stream",
     "text": [
      "C:\\Users\\GralG\\AppData\\Roaming\\Python\\Python37\\site-packages\\seaborn\\_decorators.py:43: FutureWarning: Pass the following variables as keyword args: x, y. From version 0.12, the only valid positional argument will be `data`, and passing other arguments without an explicit keyword will result in an error or misinterpretation.\n",
      "  FutureWarning\n"
     ]
    },
    {
     "data": {
      "image/png": "[encoded data removed]",
      "text/plain": [
       "<Figure size 720x720 with 1 Axes>"
      ]
     },
     "metadata": {
      "needs_background": "light"
     },
     "output_type": "display_data"
    }
   ],
   "source": [
    "plt.figure(figsize= (10,10))\n",
    "sns.scatterplot(scaled_f[:,0],scaled_f[:,1], hue = kmeans.labels_, palette=sns.color_palette('hls',3))\n",
    "plt.title('Scatter 3 clusters')\n",
    "plt.show();"
   ]
  },
  {
   "cell_type": "code",
   "execution_count": 18,
   "metadata": {},
   "outputs": [
    {
     "data": {
      "text/plain": [
       "array([1])"
      ]
     },
     "execution_count": 18,
     "metadata": {},
     "output_type": "execute_result"
    }
   ],
   "source": [
    "kmeans.predict([[-1.14443384e-01,  1.44195059e+00]])"
   ]
  },
  {
   "cell_type": "code",
   "execution_count": 35,
   "metadata": {},
   "outputs": [
    {
     "data": {
      "text/plain": [
       "105.43712315800344"
      ]
     },
     "execution_count": 35,
     "metadata": {},
     "output_type": "execute_result"
    }
   ],
   "source": [
    "kmeans.inertia_"
   ]
  },
  {
   "cell_type": "markdown",
   "metadata": {},
   "source": [
    "# Hierarchical Clustering (Dendrograma)"
   ]
  },
  {
   "cell_type": "markdown",
   "metadata": {},
   "source": [
    "La mejora sobre K-Means es fundamentalmente que no hay que asumir el número de clusters.\n",
    "\n",
    "Hay dos maneras de atacar éste problema:\n",
    "\n",
    "+ Por aglomeración\n",
    "+ Por división"
   ]
  },
  {
   "cell_type": "markdown",
   "metadata": {},
   "source": [
    "**Aglomeración:**\n",
    "\n",
    "Se empieza asumiendo que cada registro es un cluster individual y se van combinando aquellos similares hasta conseguir un solo cluster, la población entera. Después se decide el número óptimo de clusters según la distancia.\n"
   ]
  },
  {
   "cell_type": "markdown",
   "metadata": {},
   "source": [
    "**División:**\n",
    "\n",
    "El proceso inverso. Se comienza con un solo cluster y se va dividiendo hasta tener el número óptimo de clusters (según distancia).\n"
   ]
  },
  {
   "cell_type": "markdown",
   "metadata": {},
   "source": [
    "\n",
    "![](data/hca.png)"
   ]
  },
  {
   "cell_type": "markdown",
   "metadata": {},
   "source": [
    "##### Medidas de distancia\n",
    "\n",
    "Aquí también entra la distancia, para medir entre registros/clusters. Normalmente, se usa la distancia euclídea. El uso de la métrica de distancia depende del problema en cuestión, por ejemplo, en una clusterización de lugares en la ciudad, podría ser mejor usar $cityblock$, o incluso tomar el tiempo que hay entre dos lugares (tiempo como métrica de distancia)."
   ]
  },
  {
   "cell_type": "markdown",
   "metadata": {},
   "source": [
    "##### Criterios de conexión (linkage criteria)\n",
    "\n",
    "Después de seleccionar la métrica de distancia, hay que decidir de qué manera se conectan los registros al cluster. Puede ser:\n",
    "\n",
    "+ Single-linkage: conexión entre los puntos más parecidos del cluster.\n",
    "+ Complete-linkage: conexión entre los puntos menos parecidos del cluster.\n",
    "+ Average-linkage: conexión entre los centroides del cluster.\n",
    "\n",
    "\n",
    "![](data/link.png)"
   ]
  },
  {
   "cell_type": "markdown",
   "metadata": {},
   "source": [
    "Al igual que la métrica de distancia, la elección del criterio de conexión ha de basarse en el propio problema. Por ejemplo, para clasificar varias tecnologías diferentes tendría sentido basarse en cuales son más parecidos. Si no existen justificaciones claras de cual usar, se suele usar el criterio de Ward, que viene a ser mínimos cuadrados de las distancias, respecto de la media del cluster. Esto concuerda con el concepto de distancia entre grupos en estadística (ANOVA, MANOVA....)\n",
    "\n",
    "https://es.wikipedia.org/wiki/M%C3%A9todo_de_Ward"
   ]
  },
  {
   "cell_type": "code",
   "execution_count": 37,
   "metadata": {},
   "outputs": [],
   "source": [
    "import numpy as np"
   ]
  },
  {
   "cell_type": "code",
   "execution_count": null,
   "metadata": {},
   "outputs": [],
   "source": []
  },
  {
   "cell_type": "code",
   "execution_count": 39,
   "metadata": {},
   "outputs": [],
   "source": [
    "#Datos Sinteticos\n",
    "\n",
    "np.set_printoptions(precision = 5, suppress = True )\n",
    "\n",
    "np.random.seed(2453)\n",
    "\n",
    "a = np.random.multivariate_normal([10,0],[[3,1],[1,4]], size = [100,])\n",
    "b = np.random.multivariate_normal([0,20],[[3,1],[1,4]], size = [50,])\n"
   ]
  },
  {
   "cell_type": "code",
   "execution_count": 43,
   "metadata": {
    "scrolled": true
   },
   "outputs": [
    {
     "data": {
      "text/plain": [
       "array([[-0.70301, 21.27917],\n",
       "       [ 3.0048 , 22.20668],\n",
       "       [ 3.03531, 17.47778],\n",
       "       [-3.53217, 21.65185],\n",
       "       [ 0.21286, 18.61586],\n",
       "       [ 1.99027, 20.77436],\n",
       "       [-0.70238, 19.41284],\n",
       "       [-2.23129, 17.4253 ],\n",
       "       [ 0.55333, 18.45491],\n",
       "       [-1.26678, 20.5818 ],\n",
       "       [ 1.22512, 20.6128 ],\n",
       "       [-2.95219, 21.92504],\n",
       "       [ 1.39689, 21.18277],\n",
       "       [ 1.50512, 19.75955],\n",
       "       [ 2.86697, 19.52229],\n",
       "       [-0.14282, 22.3043 ],\n",
       "       [ 1.34539, 21.43974],\n",
       "       [ 0.13788, 22.87997],\n",
       "       [ 1.224  , 20.61399],\n",
       "       [-2.39162, 15.63534],\n",
       "       [-0.29405, 21.22844],\n",
       "       [-0.2063 , 23.10706],\n",
       "       [-1.53227, 17.66859],\n",
       "       [-0.68856, 20.69246],\n",
       "       [-2.54586, 18.61938],\n",
       "       [ 2.49505, 22.32622],\n",
       "       [ 0.1621 , 17.91814],\n",
       "       [ 0.04025, 17.12017],\n",
       "       [ 4.6714 , 21.66391],\n",
       "       [-0.35779, 17.63646],\n",
       "       [-3.50578, 16.78981],\n",
       "       [ 1.65652, 22.21206],\n",
       "       [ 1.04404, 19.16585],\n",
       "       [-0.44878, 20.54243],\n",
       "       [ 1.42896, 19.60514],\n",
       "       [ 2.51634, 19.37152],\n",
       "       [ 1.80563, 23.50864],\n",
       "       [ 0.18202, 20.35296],\n",
       "       [ 0.68229, 21.15568],\n",
       "       [ 0.70626, 18.90752],\n",
       "       [ 0.0012 , 19.52563],\n",
       "       [ 1.26564, 21.49487],\n",
       "       [-3.30699, 19.66385],\n",
       "       [-1.97093, 21.08432],\n",
       "       [-0.88268, 18.83614],\n",
       "       [ 2.96717, 17.6374 ],\n",
       "       [-0.74002, 19.61028],\n",
       "       [-1.33149, 19.96838],\n",
       "       [ 1.10296, 19.27841],\n",
       "       [ 3.75675, 21.36298]])"
      ]
     },
     "execution_count": 43,
     "metadata": {},
     "output_type": "execute_result"
    }
   ],
   "source": [
    "b"
   ]
  },
  {
   "cell_type": "code",
   "execution_count": 44,
   "metadata": {},
   "outputs": [
    {
     "data": {
      "image/png": "[encoded data removed]",
      "text/plain": [
       "<Figure size 432x288 with 1 Axes>"
      ]
     },
     "metadata": {
      "needs_background": "light"
     },
     "output_type": "display_data"
    }
   ],
   "source": [
    "X = np.concatenate((a,b))\n",
    "\n",
    "plt.scatter(X[:,0],X[:,1])\n",
    "plt.show();"
   ]
  },
  {
   "cell_type": "code",
   "execution_count": 45,
   "metadata": {},
   "outputs": [],
   "source": [
    "kmeans=KMeans(n_clusters=2)\n",
    "clusters=kmeans.fit(X)"
   ]
  },
  {
   "cell_type": "code",
   "execution_count": 46,
   "metadata": {},
   "outputs": [
    {
     "data": {
      "image/png": "[encoded data removed]",
      "text/plain": [
       "<Figure size 432x288 with 1 Axes>"
      ]
     },
     "metadata": {
      "needs_background": "light"
     },
     "output_type": "display_data"
    }
   ],
   "source": [
    "plt.scatter(X[:,0],X[:,1], c = clusters.labels_)\n",
    "plt.show();"
   ]
  },
  {
   "cell_type": "code",
   "execution_count": 47,
   "metadata": {},
   "outputs": [],
   "source": [
    "from scipy.cluster.hierarchy import dendrogram, linkage"
   ]
  },
  {
   "cell_type": "code",
   "execution_count": 48,
   "metadata": {},
   "outputs": [
    {
     "name": "stdout",
     "output_type": "stream",
     "text": [
      "Help on function linkage in module scipy.cluster.hierarchy:\n",
      "\n",
      "linkage(y, method='single', metric='euclidean', optimal_ordering=False)\n",
      "    Perform hierarchical/agglomerative clustering.\n",
      "    \n",
      "    The input y may be either a 1d condensed distance matrix\n",
      "    or a 2d array of observation vectors.\n",
      "    \n",
      "    If y is a 1d condensed distance matrix,\n",
      "    then y must be a :math:`\\binom{n}{2}` sized\n",
      "    vector where n is the number of original observations paired\n",
      "    in the distance matrix. The behavior of this function is very\n",
      "    similar to the MATLAB linkage function.\n",
      "    \n",
      "    A :math:`(n-1)` by 4 matrix ``Z`` is returned. At the\n",
      "    :math:`i`-th iteration, clusters with indices ``Z[i, 0]`` and\n",
      "    ``Z[i, 1]`` are combined to form cluster :math:`n + i`. A\n",
      "    cluster with an index less than :math:`n` corresponds to one of\n",
      "    the :math:`n` original observations. The distance between\n",
      "    clusters ``Z[i, 0]`` and ``Z[i, 1]`` is given by ``Z[i, 2]``. The\n",
      "    fourth value ``Z[i, 3]`` represents the number of original\n",
      "    observations in the newly formed cluster.\n",
      "    \n",
      "    The following linkage methods are used to compute the distance\n",
      "    :math:`d(s, t)` between two clusters :math:`s` and\n",
      "    :math:`t`. The algorithm begins with a forest of clusters that\n",
      "    have yet to be used in the hierarchy being formed. When two\n",
      "    clusters :math:`s` and :math:`t` from this forest are combined\n",
      "    into a single cluster :math:`u`, :math:`s` and :math:`t` are\n",
      "    removed from the forest, and :math:`u` is added to the\n",
      "    forest. When only one cluster remains in the forest, the algorithm\n",
      "    stops, and this cluster becomes the root.\n",
      "    \n",
      "    A distance matrix is maintained at each iteration. The ``d[i,j]``\n",
      "    entry corresponds to the distance between cluster :math:`i` and\n",
      "    :math:`j` in the original forest.\n",
      "    \n",
      "    At each iteration, the algorithm must update the distance matrix\n",
      "    to reflect the distance of the newly formed cluster u with the\n",
      "    remaining clusters in the forest.\n",
      "    \n",
      "    Suppose there are :math:`|u|` original observations\n",
      "    :math:`u[0], \\ldots, u[|u|-1]` in cluster :math:`u` and\n",
      "    :math:`|v|` original objects :math:`v[0], \\ldots, v[|v|-1]` in\n",
      "    cluster :math:`v`. Recall :math:`s` and :math:`t` are\n",
      "    combined to form cluster :math:`u`. Let :math:`v` be any\n",
      "    remaining cluster in the forest that is not :math:`u`.\n",
      "    \n",
      "    The following are methods for calculating the distance between the\n",
      "    newly formed cluster :math:`u` and each :math:`v`.\n",
      "    \n",
      "      * method='single' assigns\n",
      "    \n",
      "        .. math::\n",
      "           d(u,v) = \\min(dist(u[i],v[j]))\n",
      "    \n",
      "        for all points :math:`i` in cluster :math:`u` and\n",
      "        :math:`j` in cluster :math:`v`. This is also known as the\n",
      "        Nearest Point Algorithm.\n",
      "    \n",
      "      * method='complete' assigns\n",
      "    \n",
      "        .. math::\n",
      "           d(u, v) = \\max(dist(u[i],v[j]))\n",
      "    \n",
      "        for all points :math:`i` in cluster u and :math:`j` in\n",
      "        cluster :math:`v`. This is also known by the Farthest Point\n",
      "        Algorithm or Voor Hees Algorithm.\n",
      "    \n",
      "      * method='average' assigns\n",
      "    \n",
      "        .. math::\n",
      "           d(u,v) = \\sum_{ij} \\frac{d(u[i], v[j])}\n",
      "                                   {(|u|*|v|)}\n",
      "    \n",
      "        for all points :math:`i` and :math:`j` where :math:`|u|`\n",
      "        and :math:`|v|` are the cardinalities of clusters :math:`u`\n",
      "        and :math:`v`, respectively. This is also called the UPGMA\n",
      "        algorithm.\n",
      "    \n",
      "      * method='weighted' assigns\n",
      "    \n",
      "        .. math::\n",
      "           d(u,v) = (dist(s,v) + dist(t,v))/2\n",
      "    \n",
      "        where cluster u was formed with cluster s and t and v\n",
      "        is a remaining cluster in the forest. (also called WPGMA)\n",
      "    \n",
      "      * method='centroid' assigns\n",
      "    \n",
      "        .. math::\n",
      "           dist(s,t) = ||c_s-c_t||_2\n",
      "    \n",
      "        where :math:`c_s` and :math:`c_t` are the centroids of\n",
      "        clusters :math:`s` and :math:`t`, respectively. When two\n",
      "        clusters :math:`s` and :math:`t` are combined into a new\n",
      "        cluster :math:`u`, the new centroid is computed over all the\n",
      "        original objects in clusters :math:`s` and :math:`t`. The\n",
      "        distance then becomes the Euclidean distance between the\n",
      "        centroid of :math:`u` and the centroid of a remaining cluster\n",
      "        :math:`v` in the forest. This is also known as the UPGMC\n",
      "        algorithm.\n",
      "    \n",
      "      * method='median' assigns :math:`d(s,t)` like the ``centroid``\n",
      "        method. When two clusters :math:`s` and :math:`t` are combined\n",
      "        into a new cluster :math:`u`, the average of centroids s and t\n",
      "        give the new centroid :math:`u`. This is also known as the\n",
      "        WPGMC algorithm.\n",
      "    \n",
      "      * method='ward' uses the Ward variance minimization algorithm.\n",
      "        The new entry :math:`d(u,v)` is computed as follows,\n",
      "    \n",
      "        .. math::\n",
      "    \n",
      "           d(u,v) = \\sqrt{\\frac{|v|+|s|}\n",
      "                               {T}d(v,s)^2\n",
      "                        + \\frac{|v|+|t|}\n",
      "                               {T}d(v,t)^2\n",
      "                        - \\frac{|v|}\n",
      "                               {T}d(s,t)^2}\n",
      "    \n",
      "        where :math:`u` is the newly joined cluster consisting of\n",
      "        clusters :math:`s` and :math:`t`, :math:`v` is an unused\n",
      "        cluster in the forest, :math:`T=|v|+|s|+|t|`, and\n",
      "        :math:`|*|` is the cardinality of its argument. This is also\n",
      "        known as the incremental algorithm.\n",
      "    \n",
      "    Warning: When the minimum distance pair in the forest is chosen, there\n",
      "    may be two or more pairs with the same minimum distance. This\n",
      "    implementation may choose a different minimum than the MATLAB\n",
      "    version.\n",
      "    \n",
      "    Parameters\n",
      "    ----------\n",
      "    y : ndarray\n",
      "        A condensed distance matrix. A condensed distance matrix\n",
      "        is a flat array containing the upper triangular of the distance matrix.\n",
      "        This is the form that ``pdist`` returns. Alternatively, a collection of\n",
      "        :math:`m` observation vectors in :math:`n` dimensions may be passed as\n",
      "        an :math:`m` by :math:`n` array. All elements of the condensed distance\n",
      "        matrix must be finite, i.e. no NaNs or infs.\n",
      "    method : str, optional\n",
      "        The linkage algorithm to use. See the ``Linkage Methods`` section below\n",
      "        for full descriptions.\n",
      "    metric : str or function, optional\n",
      "        The distance metric to use in the case that y is a collection of\n",
      "        observation vectors; ignored otherwise. See the ``pdist``\n",
      "        function for a list of valid distance metrics. A custom distance\n",
      "        function can also be used.\n",
      "    optimal_ordering : bool, optional\n",
      "        If True, the linkage matrix will be reordered so that the distance\n",
      "        between successive leaves is minimal. This results in a more intuitive\n",
      "        tree structure when the data are visualized. defaults to False, because\n",
      "        this algorithm can be slow, particularly on large datasets [2]_. See\n",
      "        also the `optimal_leaf_ordering` function.\n",
      "    \n",
      "        .. versionadded:: 1.0.0\n",
      "    \n",
      "    Returns\n",
      "    -------\n",
      "    Z : ndarray\n",
      "        The hierarchical clustering encoded as a linkage matrix.\n",
      "    \n",
      "    Notes\n",
      "    -----\n",
      "    1. For method 'single' an optimized algorithm based on minimum spanning\n",
      "       tree is implemented. It has time complexity :math:`O(n^2)`.\n",
      "       For methods 'complete', 'average', 'weighted' and 'ward' an algorithm\n",
      "       called nearest-neighbors chain is implemented. It also has time\n",
      "       complexity :math:`O(n^2)`.\n",
      "       For other methods a naive algorithm is implemented with :math:`O(n^3)`\n",
      "       time complexity.\n",
      "       All algorithms use :math:`O(n^2)` memory.\n",
      "       Refer to [1]_ for details about the algorithms.\n",
      "    2. Methods 'centroid', 'median' and 'ward' are correctly defined only if\n",
      "       Euclidean pairwise metric is used. If `y` is passed as precomputed\n",
      "       pairwise distances, then it is a user responsibility to assure that\n",
      "       these distances are in fact Euclidean, otherwise the produced result\n",
      "       will be incorrect.\n",
      "    \n",
      "    See Also\n",
      "    --------\n",
      "    scipy.spatial.distance.pdist : pairwise distance metrics\n",
      "    \n",
      "    References\n",
      "    ----------\n",
      "    .. [1] Daniel Mullner, \"Modern hierarchical, agglomerative clustering\n",
      "           algorithms\", :arXiv:`1109.2378v1`.\n",
      "    .. [2] Ziv Bar-Joseph, David K. Gifford, Tommi S. Jaakkola, \"Fast optimal\n",
      "           leaf ordering for hierarchical clustering\", 2001. Bioinformatics\n",
      "           :doi:`10.1093/bioinformatics/17.suppl_1.S22`\n",
      "    \n",
      "    Examples\n",
      "    --------\n",
      "    >>> from scipy.cluster.hierarchy import dendrogram, linkage\n",
      "    >>> from matplotlib import pyplot as plt\n",
      "    >>> X = [[i] for i in [2, 8, 0, 4, 1, 9, 9, 0]]\n",
      "    \n",
      "    >>> Z = linkage(X, 'ward')\n",
      "    >>> fig = plt.figure(figsize=(25, 10))\n",
      "    >>> dn = dendrogram(Z)\n",
      "    \n",
      "    >>> Z = linkage(X, 'single')\n",
      "    >>> fig = plt.figure(figsize=(25, 10))\n",
      "    >>> dn = dendrogram(Z)\n",
      "    >>> plt.show()\n",
      "\n"
     ]
    }
   ],
   "source": [
    "help(linkage)"
   ]
  },
  {
   "cell_type": "code",
   "execution_count": 49,
   "metadata": {},
   "outputs": [],
   "source": [
    "z = linkage(X, 'ward')"
   ]
  },
  {
   "cell_type": "code",
   "execution_count": 50,
   "metadata": {
    "scrolled": true
   },
   "outputs": [
    {
     "data": {
      "image/png": "[encoded data removed]",
      "text/plain": [
       "<Figure size 720x720 with 1 Axes>"
      ]
     },
     "metadata": {
      "needs_background": "light"
     },
     "output_type": "display_data"
    }
   ],
   "source": [
    "plt.figure(figsize=(10,10))\n",
    "dendrogram(z, leaf_rotation=(45))\n",
    "plt.show();"
   ]
  },
  {
   "cell_type": "code",
   "execution_count": 52,
   "metadata": {},
   "outputs": [
    {
     "data": {
      "image/png": "[encoded data removed]",
      "text/plain": [
       "<Figure size 432x288 with 1 Axes>"
      ]
     },
     "metadata": {
      "needs_background": "light"
     },
     "output_type": "display_data"
    }
   ],
   "source": [
    "dendrogram(z, truncate_mode='lastp', p = 12,\n",
    "          leaf_rotation= 90, leaf_font_size=10,\n",
    "          show_contracted = True, show_leaf_counts = True)\n",
    "\n",
    "plt.title('Dendograma')\n",
    "plt.xlabel('clusters')\n",
    "plt.ylabel('distancia')\n",
    "plt.show();"
   ]
  },
  {
   "cell_type": "code",
   "execution_count": 61,
   "metadata": {},
   "outputs": [],
   "source": [
    "def fancy_dendro(*args, **kwargs):\n",
    "    max_d=kwargs.pop('max_d', None)\n",
    "    \n",
    "    if max_d and 'color_threshold' not in kwargs:\n",
    "        kwargs['color_threshold']=max_d\n",
    "        \n",
    "    annotate_above=kwargs.pop('annotate_above', None)\n",
    "    \n",
    "    ddata=dendrogram(*args, **kwargs)\n",
    "    \n",
    "    if not kwargs.get('no_plot', False):\n",
    "        plt.title('Dendrograma')\n",
    "        plt.xlabel('Indice de muestra o (tamaño del cluster)')\n",
    "        plt.ylabel('Distancia')\n",
    "        \n",
    "        for i,d,c in zip(ddata['icoord'], ddata['dcoord'], ddata['color_list']):\n",
    "            x=0.5*sum(i[1:3])\n",
    "            y=d[1]\n",
    "            \n",
    "            if y>annotate_above:\n",
    "                plt.plot(x,y,'o', c=c)\n",
    "                plt.annotate('%.3g'%y, (x,y), xytext=(0,-5),textcoords='offset points', va='top', ha='center')\n",
    "                \n",
    "        if max_d:\n",
    "            plt.axhline(y=max_d, c='k')\n",
    "    \n",
    "    "
   ]
  },
  {
   "cell_type": "code",
   "execution_count": 82,
   "metadata": {},
   "outputs": [
    {
     "data": {
      "image/png": "[encoded data removed]",
      "text/plain": [
       "<Figure size 432x288 with 1 Axes>"
      ]
     },
     "metadata": {
      "needs_background": "light"
     },
     "output_type": "display_data"
    }
   ],
   "source": [
    "fancy_dendro(z, truncate_mode='lastp', p = 12,\n",
    "          leaf_rotation= 90, leaf_font_size=10,\n",
    "          show_contracted = True, annotate_above = 10, max_d = 15)\n",
    "plt.show();"
   ]
  },
  {
   "cell_type": "code",
   "execution_count": 64,
   "metadata": {},
   "outputs": [],
   "source": [
    "from scipy.cluster.hierarchy import fcluster"
   ]
  },
  {
   "cell_type": "code",
   "execution_count": 79,
   "metadata": {},
   "outputs": [],
   "source": [
    "max_d = 20\n",
    "clusters = fcluster(z, max_d, criterion= 'distance')"
   ]
  },
  {
   "cell_type": "code",
   "execution_count": 80,
   "metadata": {},
   "outputs": [
    {
     "data": {
      "text/plain": [
       "array([3, 3, 3, 3, 3, 3, 3, 3, 2, 2, 3, 2, 3, 2, 3, 3, 2, 3, 3, 3, 3, 3,\n",
       "       3, 2, 2, 3, 2, 2, 2, 2, 3, 3, 3, 2, 3, 3, 2, 2, 3, 2, 3, 2, 3, 3,\n",
       "       2, 3, 3, 3, 3, 2, 2, 3, 3, 2, 2, 3, 3, 3, 2, 3, 3, 2, 3, 2, 2, 2,\n",
       "       3, 3, 2, 2, 2, 3, 3, 3, 2, 3, 2, 2, 3, 3, 3, 2, 3, 2, 3, 2, 3, 2,\n",
       "       2, 2, 2, 2, 3, 2, 2, 2, 3, 2, 2, 3, 1, 1, 1, 1, 1, 1, 1, 1, 1, 1,\n",
       "       1, 1, 1, 1, 1, 1, 1, 1, 1, 1, 1, 1, 1, 1, 1, 1, 1, 1, 1, 1, 1, 1,\n",
       "       1, 1, 1, 1, 1, 1, 1, 1, 1, 1, 1, 1, 1, 1, 1, 1, 1, 1], dtype=int32)"
      ]
     },
     "execution_count": 80,
     "metadata": {},
     "output_type": "execute_result"
    }
   ],
   "source": [
    "clusters"
   ]
  },
  {
   "cell_type": "code",
   "execution_count": 81,
   "metadata": {},
   "outputs": [
    {
     "data": {
      "text/plain": [
       "array([4, 5, 4, 5, 4, 5, 5, 5, 3, 3, 5, 3, 4, 3, 4, 5, 3, 5, 5, 5, 4, 5,\n",
       "       5, 3, 3, 4, 3, 3, 3, 3, 4, 5, 5, 3, 4, 4, 3, 3, 4, 3, 5, 3, 5, 5,\n",
       "       3, 5, 5, 5, 5, 3, 3, 5, 5, 3, 3, 4, 5, 5, 3, 5, 4, 3, 5, 3, 3, 3,\n",
       "       4, 5, 3, 3, 3, 5, 5, 5, 3, 4, 3, 3, 5, 5, 4, 3, 5, 3, 5, 3, 5, 3,\n",
       "       3, 3, 3, 3, 5, 3, 3, 3, 4, 3, 3, 5, 2, 1, 2, 2, 2, 1, 2, 2, 2, 2,\n",
       "       1, 2, 1, 2, 2, 1, 1, 1, 1, 2, 2, 1, 2, 2, 2, 1, 2, 2, 1, 2, 2, 1,\n",
       "       2, 2, 2, 2, 1, 2, 1, 2, 2, 1, 2, 2, 2, 2, 2, 2, 2, 1], dtype=int32)"
      ]
     },
     "execution_count": 81,
     "metadata": {},
     "output_type": "execute_result"
    }
   ],
   "source": [
    "\n",
    "clusters = fcluster(z, t = 15, criterion= 'distance')\n",
    "clusters"
   ]
  },
  {
   "cell_type": "code",
   "execution_count": 83,
   "metadata": {},
   "outputs": [],
   "source": [
    "from sklearn.datasets import make_moons"
   ]
  },
  {
   "cell_type": "code",
   "execution_count": 90,
   "metadata": {},
   "outputs": [],
   "source": [
    "moons = make_moons(n_samples=100, shuffle= True, noise=0.03)[0]"
   ]
  },
  {
   "cell_type": "code",
   "execution_count": 91,
   "metadata": {
    "scrolled": true
   },
   "outputs": [
    {
     "data": {
      "text/plain": [
       "array([[ 0.00706,  0.3534 ],\n",
       "       [ 1.04713,  0.03208],\n",
       "       [ 1.96754,  0.26377],\n",
       "       [-0.01054,  1.01896],\n",
       "       [-0.14614,  0.98055],\n",
       "       [-0.34345,  0.96693],\n",
       "       [ 0.25107, -0.14085],\n",
       "       [ 0.18128,  0.94802],\n",
       "       [ 0.53418, -0.36155],\n",
       "       [ 1.65561, -0.27024],\n",
       "       [-0.68796,  0.74699],\n",
       "       [ 1.96749,  0.35892],\n",
       "       [-0.0004 ,  0.16661],\n",
       "       [ 0.94933,  0.22613],\n",
       "       [ 0.00453,  0.23518],\n",
       "       [ 0.36578,  0.92756],\n",
       "       [ 0.41187, -0.24647],\n",
       "       [-0.92633,  0.28001],\n",
       "       [-0.91328,  0.41991],\n",
       "       [ 1.40956, -0.41018],\n",
       "       [ 0.68268,  0.69107],\n",
       "       [ 0.45356,  0.85238],\n",
       "       [-0.09258,  1.01663],\n",
       "       [ 1.87995,  0.06096],\n",
       "       [ 0.66053, -0.42435],\n",
       "       [-0.99069, -0.01733],\n",
       "       [ 0.93828,  0.41025],\n",
       "       [ 0.29547,  0.94757],\n",
       "       [ 0.90555, -0.50879],\n",
       "       [ 0.19335,  0.97647],\n",
       "       [ 0.95018,  0.33039],\n",
       "       [ 0.82885,  0.54809],\n",
       "       [ 0.78498,  0.70845],\n",
       "       [ 1.79199, -0.13807],\n",
       "       [ 0.38496,  0.91573],\n",
       "       [ 0.97704, -0.48801],\n",
       "       [ 1.62823, -0.30821],\n",
       "       [-0.81205,  0.53837],\n",
       "       [-0.54691,  0.83832],\n",
       "       [ 0.59259,  0.81208],\n",
       "       [ 0.05336,  0.0782 ],\n",
       "       [-0.76221,  0.73544],\n",
       "       [ 1.82931, -0.03742],\n",
       "       [ 1.97035,  0.50573],\n",
       "       [-0.00012,  1.03386],\n",
       "       [ 1.70198, -0.21997],\n",
       "       [ 0.15484,  0.07721],\n",
       "       [ 0.53601,  0.81922],\n",
       "       [ 0.10558,  0.9716 ],\n",
       "       [-0.95814,  0.34597],\n",
       "       [ 1.36884, -0.47919],\n",
       "       [ 0.75455,  0.59247],\n",
       "       [ 0.00601,  0.45308],\n",
       "       [ 0.92093,  0.44414],\n",
       "       [ 1.25414, -0.46508],\n",
       "       [ 1.94081,  0.16457],\n",
       "       [ 0.21473, -0.00329],\n",
       "       [ 1.82612, -0.02498],\n",
       "       [-0.82073,  0.63458],\n",
       "       [ 0.99881,  0.10987],\n",
       "       [-0.39583,  0.93745],\n",
       "       [ 1.19209, -0.47415],\n",
       "       [ 0.31344, -0.28513],\n",
       "       [-0.85869,  0.5329 ],\n",
       "       [ 0.77083, -0.43511],\n",
       "       [ 0.94563, -0.49049],\n",
       "       [-0.30341,  0.98208],\n",
       "       [ 1.99002,  0.43635],\n",
       "       [ 1.46931, -0.37578],\n",
       "       [ 1.16391, -0.52823],\n",
       "       [-1.00744,  0.1221 ],\n",
       "       [ 1.48947, -0.33275],\n",
       "       [-0.94287,  0.32132],\n",
       "       [ 0.60171,  0.73792],\n",
       "       [ 0.11257, -0.00629],\n",
       "       [ 1.82154, -0.12587],\n",
       "       [-0.59562,  0.74764],\n",
       "       [ 0.57501, -0.37159],\n",
       "       [ 0.98096,  0.15701],\n",
       "       [ 1.02456, -0.46479],\n",
       "       [-0.44848,  0.86296],\n",
       "       [ 0.00785,  0.32219],\n",
       "       [ 0.25987, -0.19769],\n",
       "       [-0.99357,  0.07786],\n",
       "       [-0.50005,  0.85572],\n",
       "       [ 0.94736,  0.44781],\n",
       "       [-0.19072,  1.00129],\n",
       "       [ 0.778  , -0.43623],\n",
       "       [-0.00095,  0.53365],\n",
       "       [ 0.19512, -0.09807],\n",
       "       [ 0.90483,  0.13267],\n",
       "       [ 1.2705 , -0.45127],\n",
       "       [ 1.96225,  0.25576],\n",
       "       [ 1.59726, -0.30726],\n",
       "       [-0.98533,  0.20106],\n",
       "       [ 0.42149, -0.29886],\n",
       "       [-0.71813,  0.69501],\n",
       "       [ 0.67482,  0.7474 ],\n",
       "       [ 0.50124, -0.32689],\n",
       "       [ 2.0077 ,  0.31094]])"
      ]
     },
     "execution_count": 91,
     "metadata": {},
     "output_type": "execute_result"
    }
   ],
   "source": [
    "moons"
   ]
  },
  {
   "cell_type": "code",
   "execution_count": 92,
   "metadata": {},
   "outputs": [
    {
     "data": {
      "image/png": "[encoded data removed]",
      "text/plain": [
       "<Figure size 432x288 with 1 Axes>"
      ]
     },
     "metadata": {
      "needs_background": "light"
     },
     "output_type": "display_data"
    }
   ],
   "source": [
    "plt.scatter(moons[:,0], moons[:,1]);"
   ]
  },
  {
   "cell_type": "code",
   "execution_count": 93,
   "metadata": {},
   "outputs": [],
   "source": [
    "from sklearn.cluster import KMeans\n",
    "from sklearn.cluster import AgglomerativeClustering as AC"
   ]
  },
  {
   "cell_type": "code",
   "execution_count": 94,
   "metadata": {},
   "outputs": [],
   "source": [
    "cluster  = KMeans(n_clusters = 2).fit(moons)"
   ]
  },
  {
   "cell_type": "code",
   "execution_count": 95,
   "metadata": {},
   "outputs": [
    {
     "data": {
      "text/plain": [
       "array([1, 0, 0, 1, 1, 1, 1, 1, 0, 0, 1, 0, 1, 0, 1, 1, 0, 1, 1, 0, 1, 1,\n",
       "       1, 0, 0, 1, 0, 1, 0, 1, 0, 0, 0, 0, 1, 0, 0, 1, 1, 1, 1, 1, 0, 0,\n",
       "       1, 0, 1, 1, 1, 1, 0, 0, 1, 0, 0, 0, 1, 0, 1, 0, 1, 0, 0, 1, 0, 0,\n",
       "       1, 0, 0, 0, 1, 0, 1, 1, 1, 0, 1, 0, 0, 0, 1, 1, 1, 1, 1, 0, 1, 0,\n",
       "       1, 1, 0, 0, 0, 0, 1, 0, 1, 1, 0, 0])"
      ]
     },
     "execution_count": 95,
     "metadata": {},
     "output_type": "execute_result"
    }
   ],
   "source": [
    "cluster.labels_"
   ]
  },
  {
   "cell_type": "code",
   "execution_count": 96,
   "metadata": {},
   "outputs": [
    {
     "data": {
      "image/png": "[encoded data removed]",
      "text/plain": [
       "<Figure size 432x288 with 1 Axes>"
      ]
     },
     "metadata": {
      "needs_background": "light"
     },
     "output_type": "display_data"
    }
   ],
   "source": [
    "plt.scatter(moons[:,0], moons[:,1], c = cluster.labels_);"
   ]
  },
  {
   "cell_type": "code",
   "execution_count": 97,
   "metadata": {},
   "outputs": [
    {
     "data": {
      "image/png": "[encoded data removed]",
      "text/plain": [
       "<Figure size 432x288 with 1 Axes>"
      ]
     },
     "metadata": {
      "needs_background": "light"
     },
     "output_type": "display_data"
    }
   ],
   "source": [
    "cluster = AC().fit(moons)\n",
    "plt.scatter(moons[:,0], moons[:,1], c = cluster.labels_);"
   ]
  },
  {
   "cell_type": "code",
   "execution_count": 98,
   "metadata": {},
   "outputs": [
    {
     "data": {
      "image/png": "[encoded data removed]",
      "text/plain": [
       "<Figure size 432x288 with 1 Axes>"
      ]
     },
     "metadata": {
      "needs_background": "light"
     },
     "output_type": "display_data"
    }
   ],
   "source": [
    "cluster = AC(linkage='single').fit(moons)\n",
    "plt.scatter(moons[:,0], moons[:,1], c = cluster.labels_);"
   ]
  },
  {
   "cell_type": "code",
   "execution_count": 100,
   "metadata": {},
   "outputs": [],
   "source": [
    "import umap"
   ]
  },
  {
   "cell_type": "code",
   "execution_count": 101,
   "metadata": {},
   "outputs": [],
   "source": [
    "from sklearn.datasets import load_digits\n",
    "digits = load_digits()"
   ]
  },
  {
   "cell_type": "code",
   "execution_count": 109,
   "metadata": {
    "scrolled": true
   },
   "outputs": [
    {
     "data": {
      "text/plain": [
       "array([ 0.,  0.,  5., 13.,  9.,  1.,  0.,  0.,  0.,  0., 13., 15., 10.,\n",
       "       15.,  5.,  0.,  0.,  3., 15.,  2.,  0., 11.,  8.,  0.,  0.,  4.,\n",
       "       12.,  0.,  0.,  8.,  8.,  0.,  0.,  5.,  8.,  0.,  0.,  9.,  8.,\n",
       "        0.,  0.,  4., 11.,  0.,  1., 12.,  7.,  0.,  0.,  2., 14.,  5.,\n",
       "       10., 12.,  0.,  0.,  0.,  0.,  6., 13., 10.,  0.,  0.,  0.])"
      ]
     },
     "execution_count": 109,
     "metadata": {},
     "output_type": "execute_result"
    }
   ],
   "source": [
    "digits.data[0]"
   ]
  },
  {
   "cell_type": "code",
   "execution_count": 113,
   "metadata": {},
   "outputs": [
    {
     "data": {
      "text/plain": [
       "array([[ 0.,  0.,  5., 13.,  9.,  1.,  0.,  0.],\n",
       "       [ 0.,  0., 13., 15., 10., 15.,  5.,  0.],\n",
       "       [ 0.,  3., 15.,  2.,  0., 11.,  8.,  0.],\n",
       "       [ 0.,  4., 12.,  0.,  0.,  8.,  8.,  0.],\n",
       "       [ 0.,  5.,  8.,  0.,  0.,  9.,  8.,  0.],\n",
       "       [ 0.,  4., 11.,  0.,  1., 12.,  7.,  0.],\n",
       "       [ 0.,  2., 14.,  5., 10., 12.,  0.,  0.],\n",
       "       [ 0.,  0.,  6., 13., 10.,  0.,  0.,  0.]])"
      ]
     },
     "execution_count": 113,
     "metadata": {},
     "output_type": "execute_result"
    }
   ],
   "source": [
    "digits.images[0]"
   ]
  },
  {
   "cell_type": "code",
   "execution_count": 106,
   "metadata": {
    "scrolled": true
   },
   "outputs": [
    {
     "data": {
      "text/plain": [
       "<matplotlib.image.AxesImage at 0x1c3ba9898c8>"
      ]
     },
     "execution_count": 106,
     "metadata": {},
     "output_type": "execute_result"
    },
    {
     "data": {
      "image/png": "[encoded data removed]",
      "text/plain": [
       "<Figure size 432x288 with 1 Axes>"
      ]
     },
     "metadata": {
      "needs_background": "light"
     },
     "output_type": "display_data"
    }
   ],
   "source": [
    "plt.imshow(digits.images[0])"
   ]
  },
  {
   "cell_type": "code",
   "execution_count": 112,
   "metadata": {},
   "outputs": [
    {
     "data": {
      "text/plain": [
       "0"
      ]
     },
     "execution_count": 112,
     "metadata": {},
     "output_type": "execute_result"
    }
   ],
   "source": [
    "digits.target[0]"
   ]
  },
  {
   "cell_type": "code",
   "execution_count": 114,
   "metadata": {},
   "outputs": [
    {
     "data": {
      "text/plain": [
       "UMAP(a=None, angular_rp_forest=False, b=None,\n",
       "     force_approximation_algorithm=False, init='spectral', learning_rate=1.0,\n",
       "     local_connectivity=1.0, low_memory=False, metric='euclidean',\n",
       "     metric_kwds=None, min_dist=0.1, n_components=2, n_epochs=None,\n",
       "     n_neighbors=15, negative_sample_rate=5, output_metric='euclidean',\n",
       "     output_metric_kwds=None, random_state=12, repulsion_strength=1.0,\n",
       "     set_op_mix_ratio=1.0, spread=1.0, target_metric='categorical',\n",
       "     target_metric_kwds=None, target_n_neighbors=-1, target_weight=0.5,\n",
       "     transform_queue_size=4.0, transform_seed=42, unique=False, verbose=False)"
      ]
     },
     "execution_count": 114,
     "metadata": {},
     "output_type": "execute_result"
    }
   ],
   "source": [
    "reducer = umap.UMAP(random_state=12)\n",
    "reducer.fit(digits.data)"
   ]
  },
  {
   "cell_type": "code",
   "execution_count": 115,
   "metadata": {},
   "outputs": [],
   "source": [
    "embedding = reducer.transform(digits.data)\n"
   ]
  },
  {
   "cell_type": "code",
   "execution_count": 116,
   "metadata": {},
   "outputs": [
    {
     "data": {
      "text/plain": [
       "array([[15.44774,  9.23968],\n",
       "       [-6.47641,  9.50781],\n",
       "       [-4.28548,  9.49898],\n",
       "       ...,\n",
       "       [-4.45126,  8.02588],\n",
       "       [-1.38359,  4.0125 ],\n",
       "       [-4.02637,  7.76606]], dtype=float32)"
      ]
     },
     "execution_count": 116,
     "metadata": {},
     "output_type": "execute_result"
    }
   ],
   "source": [
    "embedding"
   ]
  },
  {
   "cell_type": "code",
   "execution_count": 117,
   "metadata": {},
   "outputs": [
    {
     "data": {
      "image/png": "[encoded data removed]",
      "text/plain": [
       "<Figure size 432x288 with 2 Axes>"
      ]
     },
     "metadata": {
      "needs_background": "light"
     },
     "output_type": "display_data"
    }
   ],
   "source": [
    "plt.scatter(embedding[:, 0], embedding[:, 1], c=digits.target, cmap='Spectral', s=5)\n",
    "plt.gca().set_aspect('equal', 'datalim')\n",
    "plt.colorbar(boundaries=np.arange(11)-0.5).set_ticks(np.arange(10))\n",
    "plt.title('UMAP projection of the Digits dataset', fontsize=24);"
   ]
  },
  {
   "cell_type": "code",
   "execution_count": null,
   "metadata": {},
   "outputs": [],
   "source": []
  }
 ],
 "metadata": {
  "kernelspec": {
   "display_name": "Python 3",
   "language": "python",
   "name": "python3"
  },
  "language_info": {
   "codemirror_mode": {
    "name": "ipython",
    "version": 3
   },
   "file_extension": ".py",
   "mimetype": "text/x-python",
   "name": "python",
   "nbconvert_exporter": "python",
   "pygments_lexer": "ipython3",
   "version": "3.7.4"
  }
 },
 "nbformat": 4,
 "nbformat_minor": 4
}
