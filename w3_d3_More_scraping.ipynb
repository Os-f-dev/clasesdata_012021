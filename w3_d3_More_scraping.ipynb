{
 "cells": [
  {
   "cell_type": "code",
   "execution_count": 3,
   "metadata": {},
   "outputs": [],
   "source": [
    "import mechanicalsoup"
   ]
  },
  {
   "cell_type": "code",
   "execution_count": 4,
   "metadata": {},
   "outputs": [],
   "source": [
    "browser = mechanicalsoup.Browser()"
   ]
  },
  {
   "cell_type": "code",
   "execution_count": 5,
   "metadata": {},
   "outputs": [
    {
     "data": {
      "text/plain": [
       "<Response [200]>"
      ]
     },
     "execution_count": 5,
     "metadata": {},
     "output_type": "execute_result"
    }
   ],
   "source": [
    "page = browser.get('http://olympus.realpython.org/dice')\n",
    "page"
   ]
  },
  {
   "cell_type": "code",
   "execution_count": 8,
   "metadata": {},
   "outputs": [
    {
     "data": {
      "text/plain": [
       "[<h2 id=\"result\">5</h2>]"
      ]
     },
     "execution_count": 8,
     "metadata": {},
     "output_type": "execute_result"
    }
   ],
   "source": [
    "tag = page.soup.select('#result')\n",
    "tag"
   ]
  },
  {
   "cell_type": "code",
   "execution_count": 10,
   "metadata": {},
   "outputs": [],
   "source": [
    "result = tag[0].text"
   ]
  },
  {
   "cell_type": "code",
   "execution_count": 11,
   "metadata": {},
   "outputs": [
    {
     "data": {
      "text/plain": [
       "'5'"
      ]
     },
     "execution_count": 11,
     "metadata": {},
     "output_type": "execute_result"
    }
   ],
   "source": [
    "result"
   ]
  },
  {
   "cell_type": "code",
   "execution_count": 14,
   "metadata": {},
   "outputs": [],
   "source": [
    "import time"
   ]
  },
  {
   "cell_type": "code",
   "execution_count": 15,
   "metadata": {},
   "outputs": [
    {
     "name": "stdout",
     "output_type": "stream",
     "text": [
      "El resultado del dado es : 2\n",
      "El resultado del dado es : 2\n",
      "El resultado del dado es : 6\n",
      "El resultado del dado es : 1\n"
     ]
    }
   ],
   "source": [
    "for i in range(4):\n",
    "    page = browser.get('http://olympus.realpython.org/dice')\n",
    "    tag = page.soup.select(\"#result\")[0]\n",
    "    result = tag.text\n",
    "    print(f'El resultado del dado es : {result}')\n",
    "    time.sleep(1)"
   ]
  },
  {
   "cell_type": "code",
   "execution_count": 17,
   "metadata": {},
   "outputs": [
    {
     "data": {
      "text/plain": [
       "bs4.element.Tag"
      ]
     },
     "execution_count": 17,
     "metadata": {},
     "output_type": "execute_result"
    }
   ],
   "source": [
    "type(tag)"
   ]
  },
  {
   "cell_type": "code",
   "execution_count": 1,
   "metadata": {},
   "outputs": [],
   "source": [
    "from selenium import webdriver\n",
    "from selenium.webdriver.common.keys import Keys"
   ]
  },
  {
   "cell_type": "code",
   "execution_count": 2,
   "metadata": {
    "scrolled": true
   },
   "outputs": [],
   "source": [
    "navegador = webdriver.Firefox()"
   ]
  },
  {
   "cell_type": "code",
   "execution_count": 3,
   "metadata": {},
   "outputs": [
    {
     "name": "stdout",
     "output_type": "stream",
     "text": [
      "Defaulting to user installation because normal site-packages is not writeable\n",
      "Requirement already satisfied: selenium in c:\\users\\gralg\\appdata\\roaming\\python\\python37\\site-packages (3.141.0)\n",
      "Requirement already satisfied: urllib3 in c:\\users\\gralg\\appdata\\roaming\\python\\python37\\site-packages (from selenium) (1.25.10)\n"
     ]
    },
    {
     "name": "stderr",
     "output_type": "stream",
     "text": [
      "WARNING: You are using pip version 20.2.3; however, version 21.0 is available.\n",
      "You should consider upgrading via the 'C:\\Program Files\\python.exe -m pip install --upgrade pip' command.\n"
     ]
    }
   ],
   "source": [
    "!python -m pip install selenium"
   ]
  },
  {
   "cell_type": "code",
   "execution_count": 18,
   "metadata": {},
   "outputs": [],
   "source": [
    "navegador.get('https://www.google.com')"
   ]
  },
  {
   "cell_type": "code",
   "execution_count": 19,
   "metadata": {},
   "outputs": [],
   "source": [
    "barra = navegador.find_element_by_xpath('/html/body/div[2]/div[2]/form/div[2]/div[1]/div[1]/div/div[2]/input')"
   ]
  },
  {
   "cell_type": "code",
   "execution_count": 20,
   "metadata": {},
   "outputs": [],
   "source": [
    "barra.send_keys('data analytics')"
   ]
  },
  {
   "cell_type": "code",
   "execution_count": 21,
   "metadata": {},
   "outputs": [],
   "source": [
    "barra.send_keys(Keys.RETURN)"
   ]
  },
  {
   "cell_type": "code",
   "execution_count": 22,
   "metadata": {},
   "outputs": [],
   "source": [
    "res = navegador.find_element_by_xpath('/html/body/div[7]/div[2]/div[9]/div[2]/div/div[2]/div[2]/div/div/div[1]/div/div[1]/a/h3')"
   ]
  },
  {
   "cell_type": "code",
   "execution_count": 23,
   "metadata": {},
   "outputs": [],
   "source": [
    "res.click()"
   ]
  },
  {
   "cell_type": "code",
   "execution_count": 25,
   "metadata": {
    "scrolled": true
   },
   "outputs": [
    {
     "data": {
      "text/plain": [
       "[<selenium.webdriver.firefox.webelement.FirefoxWebElement (session=\"4202d527-ed86-42ed-8725-9ac74fd5a090\", element=\"396eab6f-f918-475a-80d2-5e36bde64e6d\")>,\n",
       " <selenium.webdriver.firefox.webelement.FirefoxWebElement (session=\"4202d527-ed86-42ed-8725-9ac74fd5a090\", element=\"492b9761-aa24-41a6-beeb-2dc5848363ea\")>,\n",
       " <selenium.webdriver.firefox.webelement.FirefoxWebElement (session=\"4202d527-ed86-42ed-8725-9ac74fd5a090\", element=\"5301ee69-4e81-4f50-82ae-2c333e34971a\")>,\n",
       " <selenium.webdriver.firefox.webelement.FirefoxWebElement (session=\"4202d527-ed86-42ed-8725-9ac74fd5a090\", element=\"90b03a37-611b-4a87-94b9-df7439bcd531\")>,\n",
       " <selenium.webdriver.firefox.webelement.FirefoxWebElement (session=\"4202d527-ed86-42ed-8725-9ac74fd5a090\", element=\"a1cd88ed-e03d-49cc-af06-ac149778ea6a\")>,\n",
       " <selenium.webdriver.firefox.webelement.FirefoxWebElement (session=\"4202d527-ed86-42ed-8725-9ac74fd5a090\", element=\"87de6bd4-9fdf-487d-b3df-d60381ed013f\")>,\n",
       " <selenium.webdriver.firefox.webelement.FirefoxWebElement (session=\"4202d527-ed86-42ed-8725-9ac74fd5a090\", element=\"a3565781-547c-4fef-b45c-9b3f3bb1df62\")>,\n",
       " <selenium.webdriver.firefox.webelement.FirefoxWebElement (session=\"4202d527-ed86-42ed-8725-9ac74fd5a090\", element=\"ef8b2628-6096-4f8d-b275-58909d2fed2f\")>,\n",
       " <selenium.webdriver.firefox.webelement.FirefoxWebElement (session=\"4202d527-ed86-42ed-8725-9ac74fd5a090\", element=\"e7b6dae0-2963-44ca-a246-b85d7af45dc0\")>,\n",
       " <selenium.webdriver.firefox.webelement.FirefoxWebElement (session=\"4202d527-ed86-42ed-8725-9ac74fd5a090\", element=\"82b7dbd6-3f62-411d-9aea-5a511840da31\")>,\n",
       " <selenium.webdriver.firefox.webelement.FirefoxWebElement (session=\"4202d527-ed86-42ed-8725-9ac74fd5a090\", element=\"e973ca3d-8eaf-449b-8620-d7c62c0152fa\")>,\n",
       " <selenium.webdriver.firefox.webelement.FirefoxWebElement (session=\"4202d527-ed86-42ed-8725-9ac74fd5a090\", element=\"0d0b64f1-7b91-416e-bccd-a749abcf5061\")>,\n",
       " <selenium.webdriver.firefox.webelement.FirefoxWebElement (session=\"4202d527-ed86-42ed-8725-9ac74fd5a090\", element=\"af664cda-7dfc-45dd-8341-cfdc1c19c771\")>,\n",
       " <selenium.webdriver.firefox.webelement.FirefoxWebElement (session=\"4202d527-ed86-42ed-8725-9ac74fd5a090\", element=\"089e115d-fd6b-4edf-aa09-851263975bf7\")>,\n",
       " <selenium.webdriver.firefox.webelement.FirefoxWebElement (session=\"4202d527-ed86-42ed-8725-9ac74fd5a090\", element=\"1d1301e1-05f8-447d-989b-4c38ddbc0c25\")>]"
      ]
     },
     "execution_count": 25,
     "metadata": {},
     "output_type": "execute_result"
    }
   ],
   "source": [
    "parrafos = navegador.find_elements_by_tag_name('p')\n",
    "parrafos"
   ]
  },
  {
   "cell_type": "code",
   "execution_count": 27,
   "metadata": {},
   "outputs": [
    {
     "data": {
      "text/plain": [
       "'Ya hemos explicado en anteriores ocasiones qué es el Data Science. También hemos investigado qué es el Data Analytics con algunos prácticos. Ahora es el momento de entender en qué se diferencian ambos conceptos. ¿Te animas a seguir con nuestra lectura?'"
      ]
     },
     "execution_count": 27,
     "metadata": {},
     "output_type": "execute_result"
    }
   ],
   "source": [
    "parrafos[0].text"
   ]
  },
  {
   "cell_type": "code",
   "execution_count": 28,
   "metadata": {},
   "outputs": [],
   "source": [
    "lst_parrafos = [i.text for i in parrafos]"
   ]
  },
  {
   "cell_type": "code",
   "execution_count": 29,
   "metadata": {
    "scrolled": true
   },
   "outputs": [
    {
     "data": {
      "text/plain": [
       "['Ya hemos explicado en anteriores ocasiones qué es el Data Science. También hemos investigado qué es el Data Analytics con algunos prácticos. Ahora es el momento de entender en qué se diferencian ambos conceptos. ¿Te animas a seguir con nuestra lectura?',\n",
       " '',\n",
       " 'Como ya hemos visto en otras ocasiones, Data Science es un campo que abarca la limpieza, la preparación y el análisis de datos. El Data Science es un término general en el que se aplican muchos métodos científicos. Por ejemplo, las matemáticas, las estadísticas y muchas otras herramientas que los científicos aplican a conjuntos de datos. El científico aplica las herramientas para extraer conocimiento de los datos.',\n",
       " 'En inteligencia artificial y aprendizaje automático, el científico de datos tiene un gran papel que desempeñar. Para el científico de datos, el conocimiento del aprendizaje automático es imprescindible. El machine learning es el desarrollo más impresionante en el mundo de la tecnología. Él requiere saber qué método de aprendizaje automático lo ayudará exactamente. Y finalmente, cómo aplicar eso. Él no necesita saber cómo funciona ese método.',\n",
       " 'Data Analytics es la ciencia de obtener ideas de fuentes de información sin procesar. Revela las tendencias y métricas. De lo contrario, los datos pueden perder en la masa de información. Usan la información para aumentar la eficiencia de un sistema empresarial.',\n",
       " 'Para verificar y refutar teorías o modelos existentes. También se usa en muchas industrias para permitir que las organizaciones tomen mejores decisiones.',\n",
       " 'Un Data Scientist se diferencia de un Data Analyst en varias cosas. La primera de ellas es su función: un Data Scientist predice el futuro a partir de patrones del pasado. El Data Analyst, por el contrario, extrae información significativa a partir de los mismos. A partir de ese futuro que hay que predecir, el Data Scientist se hace preguntas. El Data Analyst, por el contrario, se encarga de responderlas. Además, el Data Scientist extrae la información a partir de varias fuentes, mientras que el analista solo de una.',\n",
       " 'En cuanto a su campo de aplicación, un Data Analyst aborda única y exclusivamente problemas de negocios. El Data Scientist, en cambio, actúa más allá de este campo. Por lo que respecta a sus herramientas, un Data Scientist utiliza el Machine Learning para extraer información. El Data Analyst utiliza más bien lenguajes de programación (R, Python…) para extraer información.',\n",
       " 'Ha quedado clara la diferencia entre ambos. Un analista de datos se centra en labores más concretas y de menor calado. Un Data Scientist, en cambio, tiene más responsabilidades y conocimientos más variados. Si quieres estudiar Data Science te recomendamos apuntarte a nuestro máster especializado. En él te convertirás en un profesional del sector. ¡Te esperamos aquí!',\n",
       " 'Rellene este formulario para enviarnos cualquier consulta. En breve nos pondremos en contacto contigo.',\n",
       " '',\n",
       " '',\n",
       " '',\n",
       " '',\n",
       " '']"
      ]
     },
     "execution_count": 29,
     "metadata": {},
     "output_type": "execute_result"
    }
   ],
   "source": [
    "lst_parrafos"
   ]
  },
  {
   "cell_type": "code",
   "execution_count": 30,
   "metadata": {},
   "outputs": [
    {
     "data": {
      "text/plain": [
       "[<selenium.webdriver.firefox.webelement.FirefoxWebElement (session=\"4202d527-ed86-42ed-8725-9ac74fd5a090\", element=\"e4514687-40fc-4002-b7c4-b109f93c8d54\")>,\n",
       " <selenium.webdriver.firefox.webelement.FirefoxWebElement (session=\"4202d527-ed86-42ed-8725-9ac74fd5a090\", element=\"f367bbba-2116-4bce-ae4f-8fe2c033ea31\")>,\n",
       " <selenium.webdriver.firefox.webelement.FirefoxWebElement (session=\"4202d527-ed86-42ed-8725-9ac74fd5a090\", element=\"423dce26-738c-4432-bd2c-98203c8bb874\")>,\n",
       " <selenium.webdriver.firefox.webelement.FirefoxWebElement (session=\"4202d527-ed86-42ed-8725-9ac74fd5a090\", element=\"1ba99991-923d-4efc-bb98-526fdea4aef3\")>]"
      ]
     },
     "execution_count": 30,
     "metadata": {},
     "output_type": "execute_result"
    }
   ],
   "source": [
    "h2 = navegador.find_elements_by_tag_name('h2')\n",
    "h2"
   ]
  },
  {
   "cell_type": "code",
   "execution_count": 31,
   "metadata": {
    "scrolled": true
   },
   "outputs": [
    {
     "data": {
      "text/plain": [
       "['¿Qué es el Data Science?',\n",
       " '¿Qué es el Data Analytics?',\n",
       " 'Diferencia entre ambos conceptos',\n",
       " 'Rellene este formulario para enviarnos cualquier consulta. En breve nos pondremos en contacto contigo.']"
      ]
     },
     "execution_count": 31,
     "metadata": {},
     "output_type": "execute_result"
    }
   ],
   "source": [
    "lst_h2 = [i.text for i in h2]\n",
    "lst_h2"
   ]
  },
  {
   "cell_type": "code",
   "execution_count": 32,
   "metadata": {},
   "outputs": [],
   "source": [
    "navegador.get('https://www.python.org')"
   ]
  },
  {
   "cell_type": "code",
   "execution_count": 39,
   "metadata": {},
   "outputs": [],
   "source": [
    "barrita_py = navegador.find_element_by_id(\"id-search-field\")"
   ]
  },
  {
   "cell_type": "code",
   "execution_count": 35,
   "metadata": {},
   "outputs": [],
   "source": [
    "barrita_py.send_keys('regex')"
   ]
  },
  {
   "cell_type": "code",
   "execution_count": 45,
   "metadata": {},
   "outputs": [],
   "source": [
    "go = navegador.find_element_by_id('submit')"
   ]
  },
  {
   "cell_type": "code",
   "execution_count": 37,
   "metadata": {},
   "outputs": [],
   "source": [
    "go.click()"
   ]
  },
  {
   "cell_type": "code",
   "execution_count": 42,
   "metadata": {},
   "outputs": [],
   "source": [
    "barrita_py.clear()"
   ]
  },
  {
   "cell_type": "code",
   "execution_count": 43,
   "metadata": {},
   "outputs": [],
   "source": [
    "barrita_py.send_keys('pep8')"
   ]
  },
  {
   "cell_type": "code",
   "execution_count": 46,
   "metadata": {},
   "outputs": [],
   "source": [
    "go.click()"
   ]
  },
  {
   "cell_type": "code",
   "execution_count": 48,
   "metadata": {},
   "outputs": [],
   "source": [
    "barrita_class = navegador.find_element_by_class_name(\"search-field\")"
   ]
  },
  {
   "cell_type": "code",
   "execution_count": 49,
   "metadata": {},
   "outputs": [],
   "source": [
    "barrita_class.clear()"
   ]
  },
  {
   "cell_type": "code",
   "execution_count": 50,
   "metadata": {},
   "outputs": [],
   "source": [
    "barrita_class.send_keys('pip')"
   ]
  },
  {
   "cell_type": "code",
   "execution_count": 51,
   "metadata": {},
   "outputs": [],
   "source": [
    "url = 'https://threatbutt.com/map/'"
   ]
  },
  {
   "cell_type": "code",
   "execution_count": 52,
   "metadata": {},
   "outputs": [],
   "source": [
    "navegador.get(url)"
   ]
  },
  {
   "cell_type": "code",
   "execution_count": 53,
   "metadata": {},
   "outputs": [],
   "source": [
    "navegador.maximize_window()"
   ]
  },
  {
   "cell_type": "code",
   "execution_count": 54,
   "metadata": {},
   "outputs": [],
   "source": [
    "attack_frame = navegador.find_element_by_id('attackdiv')"
   ]
  },
  {
   "cell_type": "code",
   "execution_count": 59,
   "metadata": {},
   "outputs": [
    {
     "data": {
      "text/plain": [
       "\"usa (54.111.12.245) uses thumbdrive trickery against bra (48.183.59.59) -- It's good for business!\""
      ]
     },
     "execution_count": 59,
     "metadata": {},
     "output_type": "execute_result"
    }
   ],
   "source": [
    "ataq_lst = attack_frame.text.split('\\n')\n",
    "ataq_lst[0]"
   ]
  },
  {
   "cell_type": "code",
   "execution_count": 89,
   "metadata": {},
   "outputs": [
    {
     "data": {
      "text/plain": [
       "'usa'"
      ]
     },
     "execution_count": 89,
     "metadata": {},
     "output_type": "execute_result"
    }
   ],
   "source": [
    "nombre_ataq = ataq_lst[0].split('(')[0].strip()\n",
    "nombre_ataq"
   ]
  },
  {
   "cell_type": "code",
   "execution_count": 69,
   "metadata": {},
   "outputs": [],
   "source": [
    "#import re"
   ]
  },
  {
   "cell_type": "code",
   "execution_count": 87,
   "metadata": {},
   "outputs": [],
   "source": [
    "#re.findall('\\(\\d+\\.\\d+\\.\\d+\\.\\d+\\)', ataqlst[0])"
   ]
  },
  {
   "cell_type": "code",
   "execution_count": 84,
   "metadata": {},
   "outputs": [
    {
     "data": {
      "text/plain": [
       "'54.111.12.245'"
      ]
     },
     "execution_count": 84,
     "metadata": {},
     "output_type": "execute_result"
    }
   ],
   "source": [
    "ip_ataq = ataq_lst[0].split('(')[1].split(')')[0]\n",
    "ip_ataq"
   ]
  },
  {
   "cell_type": "code",
   "execution_count": 90,
   "metadata": {},
   "outputs": [
    {
     "data": {
      "text/plain": [
       "'bra'"
      ]
     },
     "execution_count": 90,
     "metadata": {},
     "output_type": "execute_result"
    }
   ],
   "source": [
    "victima = ataq_lst[0].split('(')[1].split(')')[1][-4:].split()[0]\n",
    "victima"
   ]
  },
  {
   "cell_type": "code",
   "execution_count": 86,
   "metadata": {},
   "outputs": [
    {
     "data": {
      "text/plain": [
       "'48.183.59.59'"
      ]
     },
     "execution_count": 86,
     "metadata": {},
     "output_type": "execute_result"
    }
   ],
   "source": [
    "ip_victima  = ataq_lst[0].split('(')[2].split(')')[0]\n",
    "ip_victima"
   ]
  },
  {
   "cell_type": "code",
   "execution_count": 94,
   "metadata": {
    "scrolled": true
   },
   "outputs": [
    {
     "name": "stdout",
     "output_type": "stream",
     "text": [
      "timestamp 1611770366.166057, atacante nld con ip: 100.18.241.52 \n",
      " victima:usa, con ip: 90.152.182.107\n",
      "timestamp 1611770371.3180718, atacante usa con ip: 249.37.6.197 \n",
      " victima:usa, con ip: 139.99.128.86\n",
      "timestamp 1611770376.515697, atacante jpn con ip: 13.73.144.46 \n",
      " victima:usa, con ip: 182.210.207.187\n",
      "timestamp 1611770381.766584, atacante usa con ip: 192.175.123.162 \n",
      " victima:can, con ip: 82.87.159.219\n",
      "timestamp 1611770386.9616947, atacante vnm con ip: 74.250.109.140 \n",
      " victima:can, con ip: 24.233.197.47\n",
      "timestamp 1611770392.2089686, atacante usa con ip: 144.106.21.151 \n",
      " victima:fra, con ip: 165.167.138.243\n",
      "timestamp 1611770397.41972, atacante jpn con ip: 89.237.224.244 \n",
      " victima:usa, con ip: 252.53.39.255\n",
      "timestamp 1611770402.5648694, atacante usa con ip: 207.37.234.150 \n",
      " victima:can, con ip: 199.155.153.83\n",
      "timestamp 1611770407.7153692, atacante irn con ip: 210.137.60.91 \n",
      " victima:bra, con ip: 58.86.251.65\n",
      "timestamp 1611770412.8686578, atacante nld con ip: 53.9.90.124 \n",
      " victima:gbr, con ip: 250.217.10.14\n",
      "timestamp 1611770418.023389, atacante nld con ip: 153.27.27.37 \n",
      " victima:usa, con ip: 251.178.117.68\n",
      "timestamp 1611770423.1853085, atacante usa con ip: 81.194.223.184 \n",
      " victima:jpn, con ip: 182.46.62.110\n",
      "timestamp 1611770428.339287, atacante aut con ip: 79.92.14.122 \n",
      " victima:s, con ip: un='%s'\n",
      "timestamp 1611770433.4993322, atacante col con ip: 208.251.47.110 \n",
      " victima:che, con ip: 154.147.75.3\n",
      "timestamp 1611770438.6531441, atacante ven con ip: 99.40.191.116 \n",
      " victima:chl, con ip: 49.73.239.73\n",
      "timestamp 1611770443.821339, atacante usa con ip: 69.185.187.214 \n",
      " victima:usa, con ip: 254.3.195.69\n",
      "timestamp 1611770448.9672105, atacante ita con ip: 140.204.41.40 \n",
      " victima:usa, con ip: 126.136.247.179\n",
      "timestamp 1611770454.1173937, atacante usa con ip: 102.154.37.195 \n",
      " victima:pol, con ip: 130.244.214.108\n",
      "timestamp 1611770459.2803433, atacante tza con ip: 2.14.12.238 \n",
      " victima:jpn, con ip: 97.144.166.114\n",
      "timestamp 1611770464.4365733, atacante usa con ip: 50.4.243.82 \n",
      " victima:prt, con ip: 7.103.156.126\n",
      "timestamp 1611770469.6207607, atacante usa con ip: 150.173.143.122 \n",
      " victima:kor, con ip: 25.190.139.87\n",
      "timestamp 1611770474.7857797, atacante kor con ip: 159.236.164.95 \n",
      " victima:pse, con ip: 193.251.175.51\n",
      "timestamp 1611770480.0036242, atacante hkg con ip: 53.70.167.190 \n",
      " victima:chn, con ip: 87.183.68.133\n",
      "timestamp 1611770485.158338, atacante nld con ip: 37.135.13.169 \n",
      " victima:bra, con ip: 41.149.189.129\n"
     ]
    },
    {
     "ename": "KeyboardInterrupt",
     "evalue": "",
     "output_type": "error",
     "traceback": [
      "\u001b[1;31m---------------------------------------------------------------------------\u001b[0m",
      "\u001b[1;31mKeyboardInterrupt\u001b[0m                         Traceback (most recent call last)",
      "\u001b[1;32m<ipython-input-94-a55458d4411d>\u001b[0m in \u001b[0;36m<module>\u001b[1;34m\u001b[0m\n\u001b[0;32m      1\u001b[0m \u001b[1;32mwhile\u001b[0m \u001b[1;32mTrue\u001b[0m\u001b[1;33m:\u001b[0m\u001b[1;33m\u001b[0m\u001b[1;33m\u001b[0m\u001b[0m\n\u001b[0;32m      2\u001b[0m     \u001b[0mnavegador\u001b[0m\u001b[1;33m.\u001b[0m\u001b[0mget\u001b[0m\u001b[1;33m(\u001b[0m\u001b[0murl\u001b[0m\u001b[1;33m)\u001b[0m\u001b[1;33m\u001b[0m\u001b[1;33m\u001b[0m\u001b[0m\n\u001b[1;32m----> 3\u001b[1;33m     \u001b[0mtime\u001b[0m\u001b[1;33m.\u001b[0m\u001b[0msleep\u001b[0m\u001b[1;33m(\u001b[0m\u001b[1;36m3\u001b[0m\u001b[1;33m)\u001b[0m\u001b[1;33m\u001b[0m\u001b[1;33m\u001b[0m\u001b[0m\n\u001b[0m\u001b[0;32m      4\u001b[0m     \u001b[0mcount\u001b[0m \u001b[1;33m=\u001b[0m \u001b[1;36m0\u001b[0m\u001b[1;33m\u001b[0m\u001b[1;33m\u001b[0m\u001b[0m\n\u001b[0;32m      5\u001b[0m     \u001b[1;32mwhile\u001b[0m \u001b[0mcount\u001b[0m \u001b[1;33m<\u001b[0m \u001b[1;36m20\u001b[0m\u001b[1;33m:\u001b[0m\u001b[1;33m\u001b[0m\u001b[1;33m\u001b[0m\u001b[0m\n",
      "\u001b[1;31mKeyboardInterrupt\u001b[0m: "
     ]
    }
   ],
   "source": [
    "while True:\n",
    "    navegador.get(url)\n",
    "    time.sleep(3)\n",
    "    count = 0\n",
    "    while count < 20:\n",
    "        time.sleep(2)\n",
    "        attack_frame = navegador.find_element_by_id('attackdiv')\n",
    "        ataq_lst = attack_frame.text.split('\\n')[-1]\n",
    "        \n",
    "        nombre_ataq = ataq_lst.split('(')[0].strip()\n",
    "        ip_ataq = ataq_lst.split('(')[1].split(')')[0]\n",
    "\n",
    "        victima = ataq_lst.split('(')[1].split(')')[1][-4:].split()[0]\n",
    "        ip_victima  = ataq_lst.split('(')[2].split(')')[0]\n",
    "\n",
    "        print(f'timestamp {time.time()}, atacante {nombre_ataq} con ip: {ip_ataq} \\n victima:{victima}, con ip: {ip_victima}')\n",
    "\n",
    "        count +=1\n",
    "        \n",
    "        break"
   ]
  },
  {
   "cell_type": "code",
   "execution_count": 95,
   "metadata": {},
   "outputs": [],
   "source": [
    "import requests\n",
    "import xmltodict\n",
    "import re\n",
    "import pandas as pd"
   ]
  },
  {
   "cell_type": "code",
   "execution_count": 96,
   "metadata": {},
   "outputs": [
    {
     "data": {
      "text/plain": [
       "<Response [200]>"
      ]
     },
     "execution_count": 96,
     "metadata": {},
     "output_type": "execute_result"
    }
   ],
   "source": [
    "url = 'http://www.ssn.unam.mx/rss/ultimos-sismos.xml'\n",
    "req = requests.get(url)\n",
    "req"
   ]
  },
  {
   "cell_type": "code",
   "execution_count": 97,
   "metadata": {
    "scrolled": true
   },
   "outputs": [
    {
     "data": {
      "text/plain": [
       "b'<?xml version=\"1.0\"?>\\n\\t<rss version=\"2.0\" xmlns:geo=\"http://www.w3.org/2003/01/geo/wgs84_pos#\">\\n\\t<channel>\\n\\t<title>\\xc3\\x9altimos sismos registrados por el SSN</title>\\n\\t\\t<link>http://www.ssn.unam.mx</link>\\n\\t\\t<description>Reporte de los \\xc3\\xbaltimos sismos en M\\xc3\\xa9xico</description>\\n\\t\\t<item>\\n\\t\\t\\t<title>4.1, 52 km al OESTE de  CINTALAPA, CHIS    </title>\\n\\t\\t\\t<description><![CDATA[ <p>Fecha:2021-01-27 07:55:23 (Hora de M&eacute;xico)<br/>Lat/Lon: 16.66/-94.21<br/>Profundidad: 123.0 km </p> ]]></description>\\n\\t\\t\\t<link><![CDATA[ http://www2.ssn.unam.mx:8080/jsp/localizacion-de-sismo.jsp?latitud=16.66&longitud=-94.21&prf=123.0 km&ma=4.1&fecha=2021-01-27&hora=07:55:23&loc=52 km al OESTE de  CINTALAPA, CHIS    &evento=1 ]]></link>\\n\\t\\t\\t<geo:lat>16.66</geo:lat>\\n\\t\\t\\t<geo:long>-94.21</geo:long>\\n\\t\\t</item>\\n\\t\\t<item>\\n\\t\\t\\t<title>4.0, 27 km al SUROESTE de  TAPACHULA, CHIS  </title>\\n\\t\\t\\t<description><![CDATA[ <p>Fecha:2021-01-27 06:07:07 (Hora de M&eacute;xico)<br/>Lat/Lon: 14.78/-92.48<br/>Profundidad: 80.0 km </p> ]]></description>\\n\\t\\t\\t<link><![CDATA[ http://www2.ssn.unam.mx:8080/jsp/localizacion-de-sismo.jsp?latitud=14.78&longitud=-92.48&prf=80.0 km&ma=4.0&fecha=2021-01-27&hora=06:07:07&loc=27 km al SUROESTE de  TAPACHULA, CHIS  &evento=1 ]]></link>\\n\\t\\t\\t<geo:lat>14.78</geo:lat>\\n\\t\\t\\t<geo:long>-92.48</geo:long>\\n\\t\\t</item>\\n\\t\\t<item>\\n\\t\\t\\t<title>4.0, 34 km al SURESTE de  SALINA CRUZ, OAX         </title>\\n\\t\\t\\t<description><![CDATA[ <p>Fecha:2021-01-27 04:56:08 (Hora de M&eacute;xico)<br/>Lat/Lon: 15.88/-95.1<br/>Profundidad: 22.0 km </p> ]]></description>\\n\\t\\t\\t<link><![CDATA[ http://www2.ssn.unam.mx:8080/jsp/localizacion-de-sismo.jsp?latitud=15.88&longitud=-95.1&prf=22.0 km&ma=4.0&fecha=2021-01-27&hora=04:56:08&loc=34 km al SURESTE de  SALINA CRUZ, OAX         &evento=1 ]]></link>\\n\\t\\t\\t<geo:lat>15.88</geo:lat>\\n\\t\\t\\t<geo:long>-95.1</geo:long>\\n\\t\\t</item>\\n\\t\\t<item>\\n\\t\\t\\t<title>3.6, 102 km al SURESTE de  SALINA CRUZ, OAX         </title>\\n\\t\\t\\t<description><![CDATA[ <p>Fecha:2021-01-27 04:34:24 (Hora de M&eacute;xico)<br/>Lat/Lon: 15.36/-94.78<br/>Profundidad: 16.0 km </p> ]]></description>\\n\\t\\t\\t<link><![CDATA[ http://www2.ssn.unam.mx:8080/jsp/localizacion-de-sismo.jsp?latitud=15.36&longitud=-94.78&prf=16.0 km&ma=3.6&fecha=2021-01-27&hora=04:34:24&loc=102 km al SURESTE de  SALINA CRUZ, OAX         &evento=1 ]]></link>\\n\\t\\t\\t<geo:lat>15.36</geo:lat>\\n\\t\\t\\t<geo:long>-94.78</geo:long>\\n\\t\\t</item>\\n\\t\\t<item>\\n\\t\\t\\t<title>3.6, 39 km al OESTE de  CINTALAPA, CHIS    </title>\\n\\t\\t\\t<description><![CDATA[ <p>Fecha:2021-01-27 04:29:34 (Hora de M&eacute;xico)<br/>Lat/Lon: 16.62/-94.08<br/>Profundidad: 121.0 km </p> ]]></description>\\n\\t\\t\\t<link><![CDATA[ http://www2.ssn.unam.mx:8080/jsp/localizacion-de-sismo.jsp?latitud=16.62&longitud=-94.08&prf=121.0 km&ma=3.6&fecha=2021-01-27&hora=04:29:34&loc=39 km al OESTE de  CINTALAPA, CHIS    &evento=1 ]]></link>\\n\\t\\t\\t<geo:lat>16.62</geo:lat>\\n\\t\\t\\t<geo:long>-94.08</geo:long>\\n\\t\\t</item>\\n\\t\\t<item>\\n\\t\\t\\t<title>3.9, 134 km al SUROESTE de  TONALA, CHIS        </title>\\n\\t\\t\\t<description><![CDATA[ <p>Fecha:2021-01-27 04:23:14 (Hora de M&eacute;xico)<br/>Lat/Lon: 15.08/-94.44<br/>Profundidad: 16.0 km </p> ]]></description>\\n\\t\\t\\t<link><![CDATA[ http://www2.ssn.unam.mx:8080/jsp/localizacion-de-sismo.jsp?latitud=15.08&longitud=-94.44&prf=16.0 km&ma=3.9&fecha=2021-01-27&hora=04:23:14&loc=134 km al SUROESTE de  TONALA, CHIS        &evento=1 ]]></link>\\n\\t\\t\\t<geo:lat>15.08</geo:lat>\\n\\t\\t\\t<geo:long>-94.44</geo:long>\\n\\t\\t</item>\\n\\t\\t<item>\\n\\t\\t\\t<title>3.8, 44 km al SUR de  PUERTO VALLARTA, JAL       </title>\\n\\t\\t\\t<description><![CDATA[ <p>Fecha:2021-01-27 04:12:48 (Hora de M&eacute;xico)<br/>Lat/Lon: 20.22/-105.33<br/>Profundidad: 16.0 km </p> ]]></description>\\n\\t\\t\\t<link><![CDATA[ http://www2.ssn.unam.mx:8080/jsp/localizacion-de-sismo.jsp?latitud=20.22&longitud=-105.33&prf=16.0 km&ma=3.8&fecha=2021-01-27&hora=04:12:48&loc=44 km al SUR de  PUERTO VALLARTA, JAL       &evento=1 ]]></link>\\n\\t\\t\\t<geo:lat>20.22</geo:lat>\\n\\t\\t\\t<geo:long>-105.33</geo:long>\\n\\t\\t</item>\\n\\t\\t<item>\\n\\t\\t\\t<title>3.6, 57 km al OESTE de  CINTALAPA, CHIS    </title>\\n\\t\\t\\t<description><![CDATA[ <p>Fecha:2021-01-27 03:59:42 (Hora de M&eacute;xico)<br/>Lat/Lon: 16.79/-94.24<br/>Profundidad: 128.0 km </p> ]]></description>\\n\\t\\t\\t<link><![CDATA[ http://www2.ssn.unam.mx:8080/jsp/localizacion-de-sismo.jsp?latitud=16.79&longitud=-94.24&prf=128.0 km&ma=3.6&fecha=2021-01-27&hora=03:59:42&loc=57 km al OESTE de  CINTALAPA, CHIS    &evento=1 ]]></link>\\n\\t\\t\\t<geo:lat>16.79</geo:lat>\\n\\t\\t\\t<geo:long>-94.24</geo:long>\\n\\t\\t</item>\\n\\t\\t<item>\\n\\t\\t\\t<title>3.6, 72 km al OESTE de  CIHUATLAN, JAL         </title>\\n\\t\\t\\t<description><![CDATA[ <p>Fecha:2021-01-27 03:43:23 (Hora de M&eacute;xico)<br/>Lat/Lon: 19.38/-105.23<br/>Profundidad: 18.0 km </p> ]]></description>\\n\\t\\t\\t<link><![CDATA[ http://www2.ssn.unam.mx:8080/jsp/localizacion-de-sismo.jsp?latitud=19.38&longitud=-105.23&prf=18.0 km&ma=3.6&fecha=2021-01-27&hora=03:43:23&loc=72 km al OESTE de  CIHUATLAN, JAL         &evento=1 ]]></link>\\n\\t\\t\\t<geo:lat>19.38</geo:lat>\\n\\t\\t\\t<geo:long>-105.23</geo:long>\\n\\t\\t</item>\\n\\t\\t<item>\\n\\t\\t\\t<title>3.8, 5 km al NOROESTE de  TEAPA, TAB         </title>\\n\\t\\t\\t<description><![CDATA[ <p>Fecha:2021-01-27 03:41:05 (Hora de M&eacute;xico)<br/>Lat/Lon: 17.58/-92.98<br/>Profundidad: 2.0 km </p> ]]></description>\\n\\t\\t\\t<link><![CDATA[ http://www2.ssn.unam.mx:8080/jsp/localizacion-de-sismo.jsp?latitud=17.58&longitud=-92.98&prf=2.0 km&ma=3.8&fecha=2021-01-27&hora=03:41:05&loc=5 km al NOROESTE de  TEAPA, TAB         &evento=1 ]]></link>\\n\\t\\t\\t<geo:lat>17.58</geo:lat>\\n\\t\\t\\t<geo:long>-92.98</geo:long>\\n\\t\\t</item>\\n\\t\\t<item>\\n\\t\\t\\t<title>3.5, 13 km al NORESTE de  CD IXTEPEC, OAX         </title>\\n\\t\\t\\t<description><![CDATA[ <p>Fecha:2021-01-27 03:33:04 (Hora de M&eacute;xico)<br/>Lat/Lon: 16.63/-95.01<br/>Profundidad: 90.0 km </p> ]]></description>\\n\\t\\t\\t<link><![CDATA[ http://www2.ssn.unam.mx:8080/jsp/localizacion-de-sismo.jsp?latitud=16.63&longitud=-95.01&prf=90.0 km&ma=3.5&fecha=2021-01-27&hora=03:33:04&loc=13 km al NORESTE de  CD IXTEPEC, OAX         &evento=1 ]]></link>\\n\\t\\t\\t<geo:lat>16.63</geo:lat>\\n\\t\\t\\t<geo:long>-95.01</geo:long>\\n\\t\\t</item>\\n\\t\\t<item>\\n\\t\\t\\t<title>3.6, 14 km al SUROESTE de  PINOTEPA NACIONAL, OAX  </title>\\n\\t\\t\\t<description><![CDATA[ <p>Fecha:2021-01-27 02:42:09 (Hora de M&eacute;xico)<br/>Lat/Lon: 16.29/-98.17<br/>Profundidad: 14.0 km </p> ]]></description>\\n\\t\\t\\t<link><![CDATA[ http://www2.ssn.unam.mx:8080/jsp/localizacion-de-sismo.jsp?latitud=16.29&longitud=-98.17&prf=14.0 km&ma=3.6&fecha=2021-01-27&hora=02:42:09&loc=14 km al SUROESTE de  PINOTEPA NACIONAL, OAX  &evento=1 ]]></link>\\n\\t\\t\\t<geo:lat>16.29</geo:lat>\\n\\t\\t\\t<geo:long>-98.17</geo:long>\\n\\t\\t</item>\\n\\t\\t<item>\\n\\t\\t\\t<title>3.4, 50 km al SUR de  H TLAXIACO, OAX  </title>\\n\\t\\t\\t<description><![CDATA[ <p>Fecha:2021-01-27 02:39:39 (Hora de M&eacute;xico)<br/>Lat/Lon: 16.82/-97.67<br/>Profundidad: 5.0 km </p> ]]></description>\\n\\t\\t\\t<link><![CDATA[ http://www2.ssn.unam.mx:8080/jsp/localizacion-de-sismo.jsp?latitud=16.82&longitud=-97.67&prf=5.0 km&ma=3.4&fecha=2021-01-27&hora=02:39:39&loc=50 km al SUR de  H TLAXIACO, OAX  &evento=1 ]]></link>\\n\\t\\t\\t<geo:lat>16.82</geo:lat>\\n\\t\\t\\t<geo:long>-97.67</geo:long>\\n\\t\\t</item>\\n\\t\\t<item>\\n\\t\\t\\t<title>3.8, 83 km al SUROESTE de  CD HIDALGO, CHIS        </title>\\n\\t\\t\\t<description><![CDATA[ <p>Fecha:2021-01-27 02:29:31 (Hora de M&eacute;xico)<br/>Lat/Lon: 14.14/-92.69<br/>Profundidad: 19.0 km </p> ]]></description>\\n\\t\\t\\t<link><![CDATA[ http://www2.ssn.unam.mx:8080/jsp/localizacion-de-sismo.jsp?latitud=14.14&longitud=-92.69&prf=19.0 km&ma=3.8&fecha=2021-01-27&hora=02:29:31&loc=83 km al SUROESTE de  CD HIDALGO, CHIS        &evento=1 ]]></link>\\n\\t\\t\\t<geo:lat>14.14</geo:lat>\\n\\t\\t\\t<geo:long>-92.69</geo:long>\\n\\t\\t</item>\\n\\t\\t<item>\\n\\t\\t\\t<title>3.6, 75 km al ESTE de  TLACOLULA, OAX   </title>\\n\\t\\t\\t<description><![CDATA[ <p>Fecha:2021-01-27 02:07:44 (Hora de M&eacute;xico)<br/>Lat/Lon: 17.01/-95.77<br/>Profundidad: 15.0 km </p> ]]></description>\\n\\t\\t\\t<link><![CDATA[ http://www2.ssn.unam.mx:8080/jsp/localizacion-de-sismo.jsp?latitud=17.01&longitud=-95.77&prf=15.0 km&ma=3.6&fecha=2021-01-27&hora=02:07:44&loc=75 km al ESTE de  TLACOLULA, OAX   &evento=1 ]]></link>\\n\\t\\t\\t<geo:lat>17.01</geo:lat>\\n\\t\\t\\t<geo:long>-95.77</geo:long>\\n\\t\\t</item>\\n\\t</channel>\\n\\t</rss>'"
      ]
     },
     "execution_count": 97,
     "metadata": {},
     "output_type": "execute_result"
    }
   ],
   "source": [
    "req.content"
   ]
  },
  {
   "cell_type": "code",
   "execution_count": 98,
   "metadata": {},
   "outputs": [
    {
     "data": {
      "text/plain": [
       "OrderedDict([('rss',\n",
       "              OrderedDict([('@version', '2.0'),\n",
       "                           ('@xmlns:geo',\n",
       "                            'http://www.w3.org/2003/01/geo/wgs84_pos#'),\n",
       "                           ('channel',\n",
       "                            OrderedDict([('title',\n",
       "                                          'Últimos sismos registrados por el SSN'),\n",
       "                                         ('link', 'http://www.ssn.unam.mx'),\n",
       "                                         ('description',\n",
       "                                          'Reporte de los últimos sismos en México'),\n",
       "                                         ('item',\n",
       "                                          [OrderedDict([('title',\n",
       "                                                         '4.1, 52 km al OESTE de  CINTALAPA, CHIS'),\n",
       "                                                        ('description',\n",
       "                                                         '<p>Fecha:2021-01-27 07:55:23 (Hora de M&eacute;xico)<br/>Lat/Lon: 16.66/-94.21<br/>Profundidad: 123.0 km </p>'),\n",
       "                                                        ('link',\n",
       "                                                         'http://www2.ssn.unam.mx:8080/jsp/localizacion-de-sismo.jsp?latitud=16.66&longitud=-94.21&prf=123.0 km&ma=4.1&fecha=2021-01-27&hora=07:55:23&loc=52 km al OESTE de  CINTALAPA, CHIS    &evento=1'),\n",
       "                                                        ('geo:lat', '16.66'),\n",
       "                                                        ('geo:long',\n",
       "                                                         '-94.21')]),\n",
       "                                           OrderedDict([('title',\n",
       "                                                         '4.0, 27 km al SUROESTE de  TAPACHULA, CHIS'),\n",
       "                                                        ('description',\n",
       "                                                         '<p>Fecha:2021-01-27 06:07:07 (Hora de M&eacute;xico)<br/>Lat/Lon: 14.78/-92.48<br/>Profundidad: 80.0 km </p>'),\n",
       "                                                        ('link',\n",
       "                                                         'http://www2.ssn.unam.mx:8080/jsp/localizacion-de-sismo.jsp?latitud=14.78&longitud=-92.48&prf=80.0 km&ma=4.0&fecha=2021-01-27&hora=06:07:07&loc=27 km al SUROESTE de  TAPACHULA, CHIS  &evento=1'),\n",
       "                                                        ('geo:lat', '14.78'),\n",
       "                                                        ('geo:long',\n",
       "                                                         '-92.48')]),\n",
       "                                           OrderedDict([('title',\n",
       "                                                         '4.0, 34 km al SURESTE de  SALINA CRUZ, OAX'),\n",
       "                                                        ('description',\n",
       "                                                         '<p>Fecha:2021-01-27 04:56:08 (Hora de M&eacute;xico)<br/>Lat/Lon: 15.88/-95.1<br/>Profundidad: 22.0 km </p>'),\n",
       "                                                        ('link',\n",
       "                                                         'http://www2.ssn.unam.mx:8080/jsp/localizacion-de-sismo.jsp?latitud=15.88&longitud=-95.1&prf=22.0 km&ma=4.0&fecha=2021-01-27&hora=04:56:08&loc=34 km al SURESTE de  SALINA CRUZ, OAX         &evento=1'),\n",
       "                                                        ('geo:lat', '15.88'),\n",
       "                                                        ('geo:long',\n",
       "                                                         '-95.1')]),\n",
       "                                           OrderedDict([('title',\n",
       "                                                         '3.6, 102 km al SURESTE de  SALINA CRUZ, OAX'),\n",
       "                                                        ('description',\n",
       "                                                         '<p>Fecha:2021-01-27 04:34:24 (Hora de M&eacute;xico)<br/>Lat/Lon: 15.36/-94.78<br/>Profundidad: 16.0 km </p>'),\n",
       "                                                        ('link',\n",
       "                                                         'http://www2.ssn.unam.mx:8080/jsp/localizacion-de-sismo.jsp?latitud=15.36&longitud=-94.78&prf=16.0 km&ma=3.6&fecha=2021-01-27&hora=04:34:24&loc=102 km al SURESTE de  SALINA CRUZ, OAX         &evento=1'),\n",
       "                                                        ('geo:lat', '15.36'),\n",
       "                                                        ('geo:long',\n",
       "                                                         '-94.78')]),\n",
       "                                           OrderedDict([('title',\n",
       "                                                         '3.6, 39 km al OESTE de  CINTALAPA, CHIS'),\n",
       "                                                        ('description',\n",
       "                                                         '<p>Fecha:2021-01-27 04:29:34 (Hora de M&eacute;xico)<br/>Lat/Lon: 16.62/-94.08<br/>Profundidad: 121.0 km </p>'),\n",
       "                                                        ('link',\n",
       "                                                         'http://www2.ssn.unam.mx:8080/jsp/localizacion-de-sismo.jsp?latitud=16.62&longitud=-94.08&prf=121.0 km&ma=3.6&fecha=2021-01-27&hora=04:29:34&loc=39 km al OESTE de  CINTALAPA, CHIS    &evento=1'),\n",
       "                                                        ('geo:lat', '16.62'),\n",
       "                                                        ('geo:long',\n",
       "                                                         '-94.08')]),\n",
       "                                           OrderedDict([('title',\n",
       "                                                         '3.9, 134 km al SUROESTE de  TONALA, CHIS'),\n",
       "                                                        ('description',\n",
       "                                                         '<p>Fecha:2021-01-27 04:23:14 (Hora de M&eacute;xico)<br/>Lat/Lon: 15.08/-94.44<br/>Profundidad: 16.0 km </p>'),\n",
       "                                                        ('link',\n",
       "                                                         'http://www2.ssn.unam.mx:8080/jsp/localizacion-de-sismo.jsp?latitud=15.08&longitud=-94.44&prf=16.0 km&ma=3.9&fecha=2021-01-27&hora=04:23:14&loc=134 km al SUROESTE de  TONALA, CHIS        &evento=1'),\n",
       "                                                        ('geo:lat', '15.08'),\n",
       "                                                        ('geo:long',\n",
       "                                                         '-94.44')]),\n",
       "                                           OrderedDict([('title',\n",
       "                                                         '3.8, 44 km al SUR de  PUERTO VALLARTA, JAL'),\n",
       "                                                        ('description',\n",
       "                                                         '<p>Fecha:2021-01-27 04:12:48 (Hora de M&eacute;xico)<br/>Lat/Lon: 20.22/-105.33<br/>Profundidad: 16.0 km </p>'),\n",
       "                                                        ('link',\n",
       "                                                         'http://www2.ssn.unam.mx:8080/jsp/localizacion-de-sismo.jsp?latitud=20.22&longitud=-105.33&prf=16.0 km&ma=3.8&fecha=2021-01-27&hora=04:12:48&loc=44 km al SUR de  PUERTO VALLARTA, JAL       &evento=1'),\n",
       "                                                        ('geo:lat', '20.22'),\n",
       "                                                        ('geo:long',\n",
       "                                                         '-105.33')]),\n",
       "                                           OrderedDict([('title',\n",
       "                                                         '3.6, 57 km al OESTE de  CINTALAPA, CHIS'),\n",
       "                                                        ('description',\n",
       "                                                         '<p>Fecha:2021-01-27 03:59:42 (Hora de M&eacute;xico)<br/>Lat/Lon: 16.79/-94.24<br/>Profundidad: 128.0 km </p>'),\n",
       "                                                        ('link',\n",
       "                                                         'http://www2.ssn.unam.mx:8080/jsp/localizacion-de-sismo.jsp?latitud=16.79&longitud=-94.24&prf=128.0 km&ma=3.6&fecha=2021-01-27&hora=03:59:42&loc=57 km al OESTE de  CINTALAPA, CHIS    &evento=1'),\n",
       "                                                        ('geo:lat', '16.79'),\n",
       "                                                        ('geo:long',\n",
       "                                                         '-94.24')]),\n",
       "                                           OrderedDict([('title',\n",
       "                                                         '3.6, 72 km al OESTE de  CIHUATLAN, JAL'),\n",
       "                                                        ('description',\n",
       "                                                         '<p>Fecha:2021-01-27 03:43:23 (Hora de M&eacute;xico)<br/>Lat/Lon: 19.38/-105.23<br/>Profundidad: 18.0 km </p>'),\n",
       "                                                        ('link',\n",
       "                                                         'http://www2.ssn.unam.mx:8080/jsp/localizacion-de-sismo.jsp?latitud=19.38&longitud=-105.23&prf=18.0 km&ma=3.6&fecha=2021-01-27&hora=03:43:23&loc=72 km al OESTE de  CIHUATLAN, JAL         &evento=1'),\n",
       "                                                        ('geo:lat', '19.38'),\n",
       "                                                        ('geo:long',\n",
       "                                                         '-105.23')]),\n",
       "                                           OrderedDict([('title',\n",
       "                                                         '3.8, 5 km al NOROESTE de  TEAPA, TAB'),\n",
       "                                                        ('description',\n",
       "                                                         '<p>Fecha:2021-01-27 03:41:05 (Hora de M&eacute;xico)<br/>Lat/Lon: 17.58/-92.98<br/>Profundidad: 2.0 km </p>'),\n",
       "                                                        ('link',\n",
       "                                                         'http://www2.ssn.unam.mx:8080/jsp/localizacion-de-sismo.jsp?latitud=17.58&longitud=-92.98&prf=2.0 km&ma=3.8&fecha=2021-01-27&hora=03:41:05&loc=5 km al NOROESTE de  TEAPA, TAB         &evento=1'),\n",
       "                                                        ('geo:lat', '17.58'),\n",
       "                                                        ('geo:long',\n",
       "                                                         '-92.98')]),\n",
       "                                           OrderedDict([('title',\n",
       "                                                         '3.5, 13 km al NORESTE de  CD IXTEPEC, OAX'),\n",
       "                                                        ('description',\n",
       "                                                         '<p>Fecha:2021-01-27 03:33:04 (Hora de M&eacute;xico)<br/>Lat/Lon: 16.63/-95.01<br/>Profundidad: 90.0 km </p>'),\n",
       "                                                        ('link',\n",
       "                                                         'http://www2.ssn.unam.mx:8080/jsp/localizacion-de-sismo.jsp?latitud=16.63&longitud=-95.01&prf=90.0 km&ma=3.5&fecha=2021-01-27&hora=03:33:04&loc=13 km al NORESTE de  CD IXTEPEC, OAX         &evento=1'),\n",
       "                                                        ('geo:lat', '16.63'),\n",
       "                                                        ('geo:long',\n",
       "                                                         '-95.01')]),\n",
       "                                           OrderedDict([('title',\n",
       "                                                         '3.6, 14 km al SUROESTE de  PINOTEPA NACIONAL, OAX'),\n",
       "                                                        ('description',\n",
       "                                                         '<p>Fecha:2021-01-27 02:42:09 (Hora de M&eacute;xico)<br/>Lat/Lon: 16.29/-98.17<br/>Profundidad: 14.0 km </p>'),\n",
       "                                                        ('link',\n",
       "                                                         'http://www2.ssn.unam.mx:8080/jsp/localizacion-de-sismo.jsp?latitud=16.29&longitud=-98.17&prf=14.0 km&ma=3.6&fecha=2021-01-27&hora=02:42:09&loc=14 km al SUROESTE de  PINOTEPA NACIONAL, OAX  &evento=1'),\n",
       "                                                        ('geo:lat', '16.29'),\n",
       "                                                        ('geo:long',\n",
       "                                                         '-98.17')]),\n",
       "                                           OrderedDict([('title',\n",
       "                                                         '3.4, 50 km al SUR de  H TLAXIACO, OAX'),\n",
       "                                                        ('description',\n",
       "                                                         '<p>Fecha:2021-01-27 02:39:39 (Hora de M&eacute;xico)<br/>Lat/Lon: 16.82/-97.67<br/>Profundidad: 5.0 km </p>'),\n",
       "                                                        ('link',\n",
       "                                                         'http://www2.ssn.unam.mx:8080/jsp/localizacion-de-sismo.jsp?latitud=16.82&longitud=-97.67&prf=5.0 km&ma=3.4&fecha=2021-01-27&hora=02:39:39&loc=50 km al SUR de  H TLAXIACO, OAX  &evento=1'),\n",
       "                                                        ('geo:lat', '16.82'),\n",
       "                                                        ('geo:long',\n",
       "                                                         '-97.67')]),\n",
       "                                           OrderedDict([('title',\n",
       "                                                         '3.8, 83 km al SUROESTE de  CD HIDALGO, CHIS'),\n",
       "                                                        ('description',\n",
       "                                                         '<p>Fecha:2021-01-27 02:29:31 (Hora de M&eacute;xico)<br/>Lat/Lon: 14.14/-92.69<br/>Profundidad: 19.0 km </p>'),\n",
       "                                                        ('link',\n",
       "                                                         'http://www2.ssn.unam.mx:8080/jsp/localizacion-de-sismo.jsp?latitud=14.14&longitud=-92.69&prf=19.0 km&ma=3.8&fecha=2021-01-27&hora=02:29:31&loc=83 km al SUROESTE de  CD HIDALGO, CHIS        &evento=1'),\n",
       "                                                        ('geo:lat', '14.14'),\n",
       "                                                        ('geo:long',\n",
       "                                                         '-92.69')]),\n",
       "                                           OrderedDict([('title',\n",
       "                                                         '3.6, 75 km al ESTE de  TLACOLULA, OAX'),\n",
       "                                                        ('description',\n",
       "                                                         '<p>Fecha:2021-01-27 02:07:44 (Hora de M&eacute;xico)<br/>Lat/Lon: 17.01/-95.77<br/>Profundidad: 15.0 km </p>'),\n",
       "                                                        ('link',\n",
       "                                                         'http://www2.ssn.unam.mx:8080/jsp/localizacion-de-sismo.jsp?latitud=17.01&longitud=-95.77&prf=15.0 km&ma=3.6&fecha=2021-01-27&hora=02:07:44&loc=75 km al ESTE de  TLACOLULA, OAX   &evento=1'),\n",
       "                                                        ('geo:lat', '17.01'),\n",
       "                                                        ('geo:long',\n",
       "                                                         '-95.77')])])]))]))])"
      ]
     },
     "execution_count": 98,
     "metadata": {},
     "output_type": "execute_result"
    }
   ],
   "source": [
    "data = xmltodict.parse(req.content)\n",
    "data"
   ]
  },
  {
   "cell_type": "code",
   "execution_count": 99,
   "metadata": {},
   "outputs": [
    {
     "data": {
      "text/plain": [
       "odict_keys(['rss'])"
      ]
     },
     "execution_count": 99,
     "metadata": {},
     "output_type": "execute_result"
    }
   ],
   "source": [
    "data.keys()"
   ]
  },
  {
   "cell_type": "code",
   "execution_count": 101,
   "metadata": {},
   "outputs": [
    {
     "data": {
      "text/plain": [
       "collections.OrderedDict"
      ]
     },
     "execution_count": 101,
     "metadata": {},
     "output_type": "execute_result"
    }
   ],
   "source": [
    "type(data['rss'])"
   ]
  },
  {
   "cell_type": "code",
   "execution_count": 103,
   "metadata": {},
   "outputs": [
    {
     "data": {
      "text/plain": [
       "odict_keys(['@version', '@xmlns:geo', 'channel'])"
      ]
     },
     "execution_count": 103,
     "metadata": {},
     "output_type": "execute_result"
    }
   ],
   "source": [
    "data['rss'].keys()"
   ]
  },
  {
   "cell_type": "code",
   "execution_count": 105,
   "metadata": {},
   "outputs": [
    {
     "data": {
      "text/plain": [
       "odict_keys(['title', 'link', 'description', 'item'])"
      ]
     },
     "execution_count": 105,
     "metadata": {},
     "output_type": "execute_result"
    }
   ],
   "source": [
    "data['rss']['channel'].keys()"
   ]
  },
  {
   "cell_type": "code",
   "execution_count": 107,
   "metadata": {},
   "outputs": [
    {
     "data": {
      "text/plain": [
       "OrderedDict([('title', '4.1, 52 km al OESTE de  CINTALAPA, CHIS'),\n",
       "             ('description',\n",
       "              '<p>Fecha:2021-01-27 07:55:23 (Hora de M&eacute;xico)<br/>Lat/Lon: 16.66/-94.21<br/>Profundidad: 123.0 km </p>'),\n",
       "             ('link',\n",
       "              'http://www2.ssn.unam.mx:8080/jsp/localizacion-de-sismo.jsp?latitud=16.66&longitud=-94.21&prf=123.0 km&ma=4.1&fecha=2021-01-27&hora=07:55:23&loc=52 km al OESTE de  CINTALAPA, CHIS    &evento=1'),\n",
       "             ('geo:lat', '16.66'),\n",
       "             ('geo:long', '-94.21')])"
      ]
     },
     "execution_count": 107,
     "metadata": {},
     "output_type": "execute_result"
    }
   ],
   "source": [
    "data['rss']['channel']['item'][0]"
   ]
  },
  {
   "cell_type": "code",
   "execution_count": 108,
   "metadata": {},
   "outputs": [
    {
     "data": {
      "text/plain": [
       "'4.1, 52 km al OESTE de  CINTALAPA, CHIS'"
      ]
     },
     "execution_count": 108,
     "metadata": {},
     "output_type": "execute_result"
    }
   ],
   "source": [
    "data['rss']['channel']['item'][0]['title']"
   ]
  },
  {
   "cell_type": "code",
   "execution_count": 109,
   "metadata": {},
   "outputs": [
    {
     "data": {
      "text/plain": [
       "'<p>Fecha:2021-01-27 07:55:23 (Hora de M&eacute;xico)<br/>Lat/Lon: 16.66/-94.21<br/>Profundidad: 123.0 km </p>'"
      ]
     },
     "execution_count": 109,
     "metadata": {},
     "output_type": "execute_result"
    }
   ],
   "source": [
    "data['rss']['channel']['item'][0]['description']"
   ]
  },
  {
   "cell_type": "code",
   "execution_count": 110,
   "metadata": {},
   "outputs": [
    {
     "data": {
      "text/plain": [
       "[OrderedDict([('title', '4.1, 52 km al OESTE de  CINTALAPA, CHIS'),\n",
       "              ('description',\n",
       "               '<p>Fecha:2021-01-27 07:55:23 (Hora de M&eacute;xico)<br/>Lat/Lon: 16.66/-94.21<br/>Profundidad: 123.0 km </p>'),\n",
       "              ('link',\n",
       "               'http://www2.ssn.unam.mx:8080/jsp/localizacion-de-sismo.jsp?latitud=16.66&longitud=-94.21&prf=123.0 km&ma=4.1&fecha=2021-01-27&hora=07:55:23&loc=52 km al OESTE de  CINTALAPA, CHIS    &evento=1'),\n",
       "              ('geo:lat', '16.66'),\n",
       "              ('geo:long', '-94.21')]),\n",
       " OrderedDict([('title', '4.0, 27 km al SUROESTE de  TAPACHULA, CHIS'),\n",
       "              ('description',\n",
       "               '<p>Fecha:2021-01-27 06:07:07 (Hora de M&eacute;xico)<br/>Lat/Lon: 14.78/-92.48<br/>Profundidad: 80.0 km </p>'),\n",
       "              ('link',\n",
       "               'http://www2.ssn.unam.mx:8080/jsp/localizacion-de-sismo.jsp?latitud=14.78&longitud=-92.48&prf=80.0 km&ma=4.0&fecha=2021-01-27&hora=06:07:07&loc=27 km al SUROESTE de  TAPACHULA, CHIS  &evento=1'),\n",
       "              ('geo:lat', '14.78'),\n",
       "              ('geo:long', '-92.48')]),\n",
       " OrderedDict([('title', '4.0, 34 km al SURESTE de  SALINA CRUZ, OAX'),\n",
       "              ('description',\n",
       "               '<p>Fecha:2021-01-27 04:56:08 (Hora de M&eacute;xico)<br/>Lat/Lon: 15.88/-95.1<br/>Profundidad: 22.0 km </p>'),\n",
       "              ('link',\n",
       "               'http://www2.ssn.unam.mx:8080/jsp/localizacion-de-sismo.jsp?latitud=15.88&longitud=-95.1&prf=22.0 km&ma=4.0&fecha=2021-01-27&hora=04:56:08&loc=34 km al SURESTE de  SALINA CRUZ, OAX         &evento=1'),\n",
       "              ('geo:lat', '15.88'),\n",
       "              ('geo:long', '-95.1')]),\n",
       " OrderedDict([('title', '3.6, 102 km al SURESTE de  SALINA CRUZ, OAX'),\n",
       "              ('description',\n",
       "               '<p>Fecha:2021-01-27 04:34:24 (Hora de M&eacute;xico)<br/>Lat/Lon: 15.36/-94.78<br/>Profundidad: 16.0 km </p>'),\n",
       "              ('link',\n",
       "               'http://www2.ssn.unam.mx:8080/jsp/localizacion-de-sismo.jsp?latitud=15.36&longitud=-94.78&prf=16.0 km&ma=3.6&fecha=2021-01-27&hora=04:34:24&loc=102 km al SURESTE de  SALINA CRUZ, OAX         &evento=1'),\n",
       "              ('geo:lat', '15.36'),\n",
       "              ('geo:long', '-94.78')]),\n",
       " OrderedDict([('title', '3.6, 39 km al OESTE de  CINTALAPA, CHIS'),\n",
       "              ('description',\n",
       "               '<p>Fecha:2021-01-27 04:29:34 (Hora de M&eacute;xico)<br/>Lat/Lon: 16.62/-94.08<br/>Profundidad: 121.0 km </p>'),\n",
       "              ('link',\n",
       "               'http://www2.ssn.unam.mx:8080/jsp/localizacion-de-sismo.jsp?latitud=16.62&longitud=-94.08&prf=121.0 km&ma=3.6&fecha=2021-01-27&hora=04:29:34&loc=39 km al OESTE de  CINTALAPA, CHIS    &evento=1'),\n",
       "              ('geo:lat', '16.62'),\n",
       "              ('geo:long', '-94.08')]),\n",
       " OrderedDict([('title', '3.9, 134 km al SUROESTE de  TONALA, CHIS'),\n",
       "              ('description',\n",
       "               '<p>Fecha:2021-01-27 04:23:14 (Hora de M&eacute;xico)<br/>Lat/Lon: 15.08/-94.44<br/>Profundidad: 16.0 km </p>'),\n",
       "              ('link',\n",
       "               'http://www2.ssn.unam.mx:8080/jsp/localizacion-de-sismo.jsp?latitud=15.08&longitud=-94.44&prf=16.0 km&ma=3.9&fecha=2021-01-27&hora=04:23:14&loc=134 km al SUROESTE de  TONALA, CHIS        &evento=1'),\n",
       "              ('geo:lat', '15.08'),\n",
       "              ('geo:long', '-94.44')]),\n",
       " OrderedDict([('title', '3.8, 44 km al SUR de  PUERTO VALLARTA, JAL'),\n",
       "              ('description',\n",
       "               '<p>Fecha:2021-01-27 04:12:48 (Hora de M&eacute;xico)<br/>Lat/Lon: 20.22/-105.33<br/>Profundidad: 16.0 km </p>'),\n",
       "              ('link',\n",
       "               'http://www2.ssn.unam.mx:8080/jsp/localizacion-de-sismo.jsp?latitud=20.22&longitud=-105.33&prf=16.0 km&ma=3.8&fecha=2021-01-27&hora=04:12:48&loc=44 km al SUR de  PUERTO VALLARTA, JAL       &evento=1'),\n",
       "              ('geo:lat', '20.22'),\n",
       "              ('geo:long', '-105.33')]),\n",
       " OrderedDict([('title', '3.6, 57 km al OESTE de  CINTALAPA, CHIS'),\n",
       "              ('description',\n",
       "               '<p>Fecha:2021-01-27 03:59:42 (Hora de M&eacute;xico)<br/>Lat/Lon: 16.79/-94.24<br/>Profundidad: 128.0 km </p>'),\n",
       "              ('link',\n",
       "               'http://www2.ssn.unam.mx:8080/jsp/localizacion-de-sismo.jsp?latitud=16.79&longitud=-94.24&prf=128.0 km&ma=3.6&fecha=2021-01-27&hora=03:59:42&loc=57 km al OESTE de  CINTALAPA, CHIS    &evento=1'),\n",
       "              ('geo:lat', '16.79'),\n",
       "              ('geo:long', '-94.24')]),\n",
       " OrderedDict([('title', '3.6, 72 km al OESTE de  CIHUATLAN, JAL'),\n",
       "              ('description',\n",
       "               '<p>Fecha:2021-01-27 03:43:23 (Hora de M&eacute;xico)<br/>Lat/Lon: 19.38/-105.23<br/>Profundidad: 18.0 km </p>'),\n",
       "              ('link',\n",
       "               'http://www2.ssn.unam.mx:8080/jsp/localizacion-de-sismo.jsp?latitud=19.38&longitud=-105.23&prf=18.0 km&ma=3.6&fecha=2021-01-27&hora=03:43:23&loc=72 km al OESTE de  CIHUATLAN, JAL         &evento=1'),\n",
       "              ('geo:lat', '19.38'),\n",
       "              ('geo:long', '-105.23')]),\n",
       " OrderedDict([('title', '3.8, 5 km al NOROESTE de  TEAPA, TAB'),\n",
       "              ('description',\n",
       "               '<p>Fecha:2021-01-27 03:41:05 (Hora de M&eacute;xico)<br/>Lat/Lon: 17.58/-92.98<br/>Profundidad: 2.0 km </p>'),\n",
       "              ('link',\n",
       "               'http://www2.ssn.unam.mx:8080/jsp/localizacion-de-sismo.jsp?latitud=17.58&longitud=-92.98&prf=2.0 km&ma=3.8&fecha=2021-01-27&hora=03:41:05&loc=5 km al NOROESTE de  TEAPA, TAB         &evento=1'),\n",
       "              ('geo:lat', '17.58'),\n",
       "              ('geo:long', '-92.98')]),\n",
       " OrderedDict([('title', '3.5, 13 km al NORESTE de  CD IXTEPEC, OAX'),\n",
       "              ('description',\n",
       "               '<p>Fecha:2021-01-27 03:33:04 (Hora de M&eacute;xico)<br/>Lat/Lon: 16.63/-95.01<br/>Profundidad: 90.0 km </p>'),\n",
       "              ('link',\n",
       "               'http://www2.ssn.unam.mx:8080/jsp/localizacion-de-sismo.jsp?latitud=16.63&longitud=-95.01&prf=90.0 km&ma=3.5&fecha=2021-01-27&hora=03:33:04&loc=13 km al NORESTE de  CD IXTEPEC, OAX         &evento=1'),\n",
       "              ('geo:lat', '16.63'),\n",
       "              ('geo:long', '-95.01')]),\n",
       " OrderedDict([('title', '3.6, 14 km al SUROESTE de  PINOTEPA NACIONAL, OAX'),\n",
       "              ('description',\n",
       "               '<p>Fecha:2021-01-27 02:42:09 (Hora de M&eacute;xico)<br/>Lat/Lon: 16.29/-98.17<br/>Profundidad: 14.0 km </p>'),\n",
       "              ('link',\n",
       "               'http://www2.ssn.unam.mx:8080/jsp/localizacion-de-sismo.jsp?latitud=16.29&longitud=-98.17&prf=14.0 km&ma=3.6&fecha=2021-01-27&hora=02:42:09&loc=14 km al SUROESTE de  PINOTEPA NACIONAL, OAX  &evento=1'),\n",
       "              ('geo:lat', '16.29'),\n",
       "              ('geo:long', '-98.17')]),\n",
       " OrderedDict([('title', '3.4, 50 km al SUR de  H TLAXIACO, OAX'),\n",
       "              ('description',\n",
       "               '<p>Fecha:2021-01-27 02:39:39 (Hora de M&eacute;xico)<br/>Lat/Lon: 16.82/-97.67<br/>Profundidad: 5.0 km </p>'),\n",
       "              ('link',\n",
       "               'http://www2.ssn.unam.mx:8080/jsp/localizacion-de-sismo.jsp?latitud=16.82&longitud=-97.67&prf=5.0 km&ma=3.4&fecha=2021-01-27&hora=02:39:39&loc=50 km al SUR de  H TLAXIACO, OAX  &evento=1'),\n",
       "              ('geo:lat', '16.82'),\n",
       "              ('geo:long', '-97.67')]),\n",
       " OrderedDict([('title', '3.8, 83 km al SUROESTE de  CD HIDALGO, CHIS'),\n",
       "              ('description',\n",
       "               '<p>Fecha:2021-01-27 02:29:31 (Hora de M&eacute;xico)<br/>Lat/Lon: 14.14/-92.69<br/>Profundidad: 19.0 km </p>'),\n",
       "              ('link',\n",
       "               'http://www2.ssn.unam.mx:8080/jsp/localizacion-de-sismo.jsp?latitud=14.14&longitud=-92.69&prf=19.0 km&ma=3.8&fecha=2021-01-27&hora=02:29:31&loc=83 km al SUROESTE de  CD HIDALGO, CHIS        &evento=1'),\n",
       "              ('geo:lat', '14.14'),\n",
       "              ('geo:long', '-92.69')]),\n",
       " OrderedDict([('title', '3.6, 75 km al ESTE de  TLACOLULA, OAX'),\n",
       "              ('description',\n",
       "               '<p>Fecha:2021-01-27 02:07:44 (Hora de M&eacute;xico)<br/>Lat/Lon: 17.01/-95.77<br/>Profundidad: 15.0 km </p>'),\n",
       "              ('link',\n",
       "               'http://www2.ssn.unam.mx:8080/jsp/localizacion-de-sismo.jsp?latitud=17.01&longitud=-95.77&prf=15.0 km&ma=3.6&fecha=2021-01-27&hora=02:07:44&loc=75 km al ESTE de  TLACOLULA, OAX   &evento=1'),\n",
       "              ('geo:lat', '17.01'),\n",
       "              ('geo:long', '-95.77')])]"
      ]
     },
     "execution_count": 110,
     "metadata": {},
     "output_type": "execute_result"
    }
   ],
   "source": [
    "items = data['rss']['channel']['item']\n",
    "items"
   ]
  },
  {
   "cell_type": "code",
   "execution_count": 114,
   "metadata": {},
   "outputs": [
    {
     "data": {
      "text/plain": [
       "['Fecha:2021-01-27 07:55:23 (Hora de M&eacute;xico)<br/',\n",
       " 'Lat/Lon: 16.66/-94.21<br/',\n",
       " 'Profundidad: 123.0 km </p']"
      ]
     },
     "execution_count": 114,
     "metadata": {},
     "output_type": "execute_result"
    }
   ],
   "source": [
    "primer_item = items[0]['description'].split('>')[1:4]\n",
    "primer_item"
   ]
  },
  {
   "cell_type": "code",
   "execution_count": 122,
   "metadata": {},
   "outputs": [
    {
     "data": {
      "text/plain": [
       "'2021-01-27'"
      ]
     },
     "execution_count": 122,
     "metadata": {},
     "output_type": "execute_result"
    }
   ],
   "source": [
    "re.findall('\\d+-\\d+-\\d+',primer_item[0])[0]"
   ]
  },
  {
   "cell_type": "code",
   "execution_count": 123,
   "metadata": {},
   "outputs": [
    {
     "data": {
      "text/plain": [
       "'07:55:23'"
      ]
     },
     "execution_count": 123,
     "metadata": {},
     "output_type": "execute_result"
    }
   ],
   "source": [
    "re.findall('\\d+:\\d+:\\d+',primer_item[0])[0]"
   ]
  },
  {
   "cell_type": "code",
   "execution_count": 124,
   "metadata": {},
   "outputs": [
    {
     "data": {
      "text/plain": [
       "'16.66'"
      ]
     },
     "execution_count": 124,
     "metadata": {},
     "output_type": "execute_result"
    }
   ],
   "source": [
    "re.findall('-?\\d+\\.\\d+',primer_item[1])[0]"
   ]
  },
  {
   "cell_type": "code",
   "execution_count": 125,
   "metadata": {},
   "outputs": [
    {
     "data": {
      "text/plain": [
       "'-94.21'"
      ]
     },
     "execution_count": 125,
     "metadata": {},
     "output_type": "execute_result"
    }
   ],
   "source": [
    "re.findall('-?\\d+\\.\\d+',primer_item[1])[1]"
   ]
  },
  {
   "cell_type": "code",
   "execution_count": 128,
   "metadata": {},
   "outputs": [
    {
     "data": {
      "text/plain": [
       "'123.0 km'"
      ]
     },
     "execution_count": 128,
     "metadata": {},
     "output_type": "execute_result"
    }
   ],
   "source": [
    "re.findall('\\d+\\.\\d+ \\w+',primer_item[2])[0]"
   ]
  },
  {
   "cell_type": "code",
   "execution_count": 133,
   "metadata": {},
   "outputs": [],
   "source": [
    "lst = []\n",
    "\n",
    "for i in items:\n",
    "    data_get = i['description'].split('>')[1:4]\n",
    "    fecha = re.findall('\\d+-\\d+-\\d+',data_get[0])[0]\n",
    "    hora = re.findall('\\d+:\\d+:\\d+',data_get[0])[0]\n",
    "    lat = re.findall('-?\\d+\\.\\d+',data_get[1])[0]\n",
    "    long = re.findall('-?\\d+\\.\\d+',data_get[1])[1]\n",
    "    prof = re.findall('\\d+\\.\\d+ \\w+',data_get[2])[0]\n",
    "    \n",
    "    data = {'Fecha':fecha,\n",
    "           'Hora':hora,\n",
    "           'Latitud':lat,\n",
    "           'Longitud':long,\n",
    "           'Profundidad':prof}\n",
    "    lst.append(data)\n",
    "    "
   ]
  },
  {
   "cell_type": "code",
   "execution_count": 134,
   "metadata": {
    "scrolled": true
   },
   "outputs": [
    {
     "data": {
      "text/plain": [
       "[{'Fecha': '2021-01-27',\n",
       "  'Hora': '07:55:23',\n",
       "  'Latitud': '16.66',\n",
       "  'Longitud': '-94.21',\n",
       "  'Profundidad': '123.0 km'},\n",
       " {'Fecha': '2021-01-27',\n",
       "  'Hora': '06:07:07',\n",
       "  'Latitud': '14.78',\n",
       "  'Longitud': '-92.48',\n",
       "  'Profundidad': '80.0 km'},\n",
       " {'Fecha': '2021-01-27',\n",
       "  'Hora': '04:56:08',\n",
       "  'Latitud': '15.88',\n",
       "  'Longitud': '-95.1',\n",
       "  'Profundidad': '22.0 km'},\n",
       " {'Fecha': '2021-01-27',\n",
       "  'Hora': '04:34:24',\n",
       "  'Latitud': '15.36',\n",
       "  'Longitud': '-94.78',\n",
       "  'Profundidad': '16.0 km'},\n",
       " {'Fecha': '2021-01-27',\n",
       "  'Hora': '04:29:34',\n",
       "  'Latitud': '16.62',\n",
       "  'Longitud': '-94.08',\n",
       "  'Profundidad': '121.0 km'},\n",
       " {'Fecha': '2021-01-27',\n",
       "  'Hora': '04:23:14',\n",
       "  'Latitud': '15.08',\n",
       "  'Longitud': '-94.44',\n",
       "  'Profundidad': '16.0 km'},\n",
       " {'Fecha': '2021-01-27',\n",
       "  'Hora': '04:12:48',\n",
       "  'Latitud': '20.22',\n",
       "  'Longitud': '-105.33',\n",
       "  'Profundidad': '16.0 km'},\n",
       " {'Fecha': '2021-01-27',\n",
       "  'Hora': '03:59:42',\n",
       "  'Latitud': '16.79',\n",
       "  'Longitud': '-94.24',\n",
       "  'Profundidad': '128.0 km'},\n",
       " {'Fecha': '2021-01-27',\n",
       "  'Hora': '03:43:23',\n",
       "  'Latitud': '19.38',\n",
       "  'Longitud': '-105.23',\n",
       "  'Profundidad': '18.0 km'},\n",
       " {'Fecha': '2021-01-27',\n",
       "  'Hora': '03:41:05',\n",
       "  'Latitud': '17.58',\n",
       "  'Longitud': '-92.98',\n",
       "  'Profundidad': '2.0 km'},\n",
       " {'Fecha': '2021-01-27',\n",
       "  'Hora': '03:33:04',\n",
       "  'Latitud': '16.63',\n",
       "  'Longitud': '-95.01',\n",
       "  'Profundidad': '90.0 km'},\n",
       " {'Fecha': '2021-01-27',\n",
       "  'Hora': '02:42:09',\n",
       "  'Latitud': '16.29',\n",
       "  'Longitud': '-98.17',\n",
       "  'Profundidad': '14.0 km'},\n",
       " {'Fecha': '2021-01-27',\n",
       "  'Hora': '02:39:39',\n",
       "  'Latitud': '16.82',\n",
       "  'Longitud': '-97.67',\n",
       "  'Profundidad': '5.0 km'},\n",
       " {'Fecha': '2021-01-27',\n",
       "  'Hora': '02:29:31',\n",
       "  'Latitud': '14.14',\n",
       "  'Longitud': '-92.69',\n",
       "  'Profundidad': '19.0 km'},\n",
       " {'Fecha': '2021-01-27',\n",
       "  'Hora': '02:07:44',\n",
       "  'Latitud': '17.01',\n",
       "  'Longitud': '-95.77',\n",
       "  'Profundidad': '15.0 km'}]"
      ]
     },
     "execution_count": 134,
     "metadata": {},
     "output_type": "execute_result"
    }
   ],
   "source": [
    "lst"
   ]
  },
  {
   "cell_type": "code",
   "execution_count": 135,
   "metadata": {},
   "outputs": [
    {
     "data": {
      "text/html": [
       "<div>\n",
       "<style scoped>\n",
       "    .dataframe tbody tr th:only-of-type {\n",
       "        vertical-align: middle;\n",
       "    }\n",
       "\n",
       "    .dataframe tbody tr th {\n",
       "        vertical-align: top;\n",
       "    }\n",
       "\n",
       "    .dataframe thead th {\n",
       "        text-align: right;\n",
       "    }\n",
       "</style>\n",
       "<table border=\"1\" class=\"dataframe\">\n",
       "  <thead>\n",
       "    <tr style=\"text-align: right;\">\n",
       "      <th></th>\n",
       "      <th>Fecha</th>\n",
       "      <th>Hora</th>\n",
       "      <th>Latitud</th>\n",
       "      <th>Longitud</th>\n",
       "      <th>Profundidad</th>\n",
       "    </tr>\n",
       "  </thead>\n",
       "  <tbody>\n",
       "    <tr>\n",
       "      <th>0</th>\n",
       "      <td>2021-01-27</td>\n",
       "      <td>07:55:23</td>\n",
       "      <td>16.66</td>\n",
       "      <td>-94.21</td>\n",
       "      <td>123.0 km</td>\n",
       "    </tr>\n",
       "    <tr>\n",
       "      <th>1</th>\n",
       "      <td>2021-01-27</td>\n",
       "      <td>06:07:07</td>\n",
       "      <td>14.78</td>\n",
       "      <td>-92.48</td>\n",
       "      <td>80.0 km</td>\n",
       "    </tr>\n",
       "    <tr>\n",
       "      <th>2</th>\n",
       "      <td>2021-01-27</td>\n",
       "      <td>04:56:08</td>\n",
       "      <td>15.88</td>\n",
       "      <td>-95.1</td>\n",
       "      <td>22.0 km</td>\n",
       "    </tr>\n",
       "    <tr>\n",
       "      <th>3</th>\n",
       "      <td>2021-01-27</td>\n",
       "      <td>04:34:24</td>\n",
       "      <td>15.36</td>\n",
       "      <td>-94.78</td>\n",
       "      <td>16.0 km</td>\n",
       "    </tr>\n",
       "    <tr>\n",
       "      <th>4</th>\n",
       "      <td>2021-01-27</td>\n",
       "      <td>04:29:34</td>\n",
       "      <td>16.62</td>\n",
       "      <td>-94.08</td>\n",
       "      <td>121.0 km</td>\n",
       "    </tr>\n",
       "    <tr>\n",
       "      <th>5</th>\n",
       "      <td>2021-01-27</td>\n",
       "      <td>04:23:14</td>\n",
       "      <td>15.08</td>\n",
       "      <td>-94.44</td>\n",
       "      <td>16.0 km</td>\n",
       "    </tr>\n",
       "    <tr>\n",
       "      <th>6</th>\n",
       "      <td>2021-01-27</td>\n",
       "      <td>04:12:48</td>\n",
       "      <td>20.22</td>\n",
       "      <td>-105.33</td>\n",
       "      <td>16.0 km</td>\n",
       "    </tr>\n",
       "    <tr>\n",
       "      <th>7</th>\n",
       "      <td>2021-01-27</td>\n",
       "      <td>03:59:42</td>\n",
       "      <td>16.79</td>\n",
       "      <td>-94.24</td>\n",
       "      <td>128.0 km</td>\n",
       "    </tr>\n",
       "    <tr>\n",
       "      <th>8</th>\n",
       "      <td>2021-01-27</td>\n",
       "      <td>03:43:23</td>\n",
       "      <td>19.38</td>\n",
       "      <td>-105.23</td>\n",
       "      <td>18.0 km</td>\n",
       "    </tr>\n",
       "    <tr>\n",
       "      <th>9</th>\n",
       "      <td>2021-01-27</td>\n",
       "      <td>03:41:05</td>\n",
       "      <td>17.58</td>\n",
       "      <td>-92.98</td>\n",
       "      <td>2.0 km</td>\n",
       "    </tr>\n",
       "    <tr>\n",
       "      <th>10</th>\n",
       "      <td>2021-01-27</td>\n",
       "      <td>03:33:04</td>\n",
       "      <td>16.63</td>\n",
       "      <td>-95.01</td>\n",
       "      <td>90.0 km</td>\n",
       "    </tr>\n",
       "    <tr>\n",
       "      <th>11</th>\n",
       "      <td>2021-01-27</td>\n",
       "      <td>02:42:09</td>\n",
       "      <td>16.29</td>\n",
       "      <td>-98.17</td>\n",
       "      <td>14.0 km</td>\n",
       "    </tr>\n",
       "    <tr>\n",
       "      <th>12</th>\n",
       "      <td>2021-01-27</td>\n",
       "      <td>02:39:39</td>\n",
       "      <td>16.82</td>\n",
       "      <td>-97.67</td>\n",
       "      <td>5.0 km</td>\n",
       "    </tr>\n",
       "    <tr>\n",
       "      <th>13</th>\n",
       "      <td>2021-01-27</td>\n",
       "      <td>02:29:31</td>\n",
       "      <td>14.14</td>\n",
       "      <td>-92.69</td>\n",
       "      <td>19.0 km</td>\n",
       "    </tr>\n",
       "    <tr>\n",
       "      <th>14</th>\n",
       "      <td>2021-01-27</td>\n",
       "      <td>02:07:44</td>\n",
       "      <td>17.01</td>\n",
       "      <td>-95.77</td>\n",
       "      <td>15.0 km</td>\n",
       "    </tr>\n",
       "  </tbody>\n",
       "</table>\n",
       "</div>"
      ],
      "text/plain": [
       "         Fecha      Hora Latitud Longitud Profundidad\n",
       "0   2021-01-27  07:55:23   16.66   -94.21    123.0 km\n",
       "1   2021-01-27  06:07:07   14.78   -92.48     80.0 km\n",
       "2   2021-01-27  04:56:08   15.88    -95.1     22.0 km\n",
       "3   2021-01-27  04:34:24   15.36   -94.78     16.0 km\n",
       "4   2021-01-27  04:29:34   16.62   -94.08    121.0 km\n",
       "5   2021-01-27  04:23:14   15.08   -94.44     16.0 km\n",
       "6   2021-01-27  04:12:48   20.22  -105.33     16.0 km\n",
       "7   2021-01-27  03:59:42   16.79   -94.24    128.0 km\n",
       "8   2021-01-27  03:43:23   19.38  -105.23     18.0 km\n",
       "9   2021-01-27  03:41:05   17.58   -92.98      2.0 km\n",
       "10  2021-01-27  03:33:04   16.63   -95.01     90.0 km\n",
       "11  2021-01-27  02:42:09   16.29   -98.17     14.0 km\n",
       "12  2021-01-27  02:39:39   16.82   -97.67      5.0 km\n",
       "13  2021-01-27  02:29:31   14.14   -92.69     19.0 km\n",
       "14  2021-01-27  02:07:44   17.01   -95.77     15.0 km"
      ]
     },
     "execution_count": 135,
     "metadata": {},
     "output_type": "execute_result"
    }
   ],
   "source": [
    "pd.DataFrame(lst)"
   ]
  },
  {
   "cell_type": "code",
   "execution_count": 136,
   "metadata": {},
   "outputs": [
    {
     "data": {
      "text/plain": [
       "<Response [200]>"
      ]
     },
     "execution_count": 136,
     "metadata": {},
     "output_type": "execute_result"
    }
   ],
   "source": [
    "url = 'https://www.who.int/feeds/entity/mediacentre/news/es/rss.xml'\n",
    "req = requests.get(url)\n",
    "req"
   ]
  },
  {
   "cell_type": "code",
   "execution_count": 137,
   "metadata": {},
   "outputs": [
    {
     "data": {
      "text/plain": [
       "OrderedDict([('rss',\n",
       "              OrderedDict([('@version', '2.0'),\n",
       "                           ('@xmlns:atom', 'http://www.w3.org/2005/Atom'),\n",
       "                           ('channel',\n",
       "                            OrderedDict([('title', 'Noticias de la OMS'),\n",
       "                                         ('link',\n",
       "                                          'http://www.who.int/feeds/entity/mediacentre/news/es/rss.xml'),\n",
       "                                         ('description', None),\n",
       "                                         ('language', 'es'),\n",
       "                                         ('lastBuildDate',\n",
       "                                          'Tue, 26 Jan 2021 19:01:00 GMT'),\n",
       "                                         ('managingEditor',\n",
       "                                          'internet@who.int (editors)'),\n",
       "                                         ('webMaster',\n",
       "                                          'webdev@who.int (webdev)'),\n",
       "                                         ('atom:link',\n",
       "                                          OrderedDict([('@href',\n",
       "                                                        'http://www.who.int/feeds/entity/mediacentre/news/es/rss.xml'),\n",
       "                                                       ('@rel', 'self'),\n",
       "                                                       ('@type',\n",
       "                                                        'application/rss+xml')])),\n",
       "                                         ('copyright',\n",
       "                                          '© World Health Organization (WHO), 2021. All rights reserved.\\n      http://www.who.int/about/copyright/en/\\n      http://www.who.int/about/licensing/rss/en/'),\n",
       "                                         ('ttl', '60'),\n",
       "                                         ('generator',\n",
       "                                          'WHO Webit (Bricolage 1.11.2)'),\n",
       "                                         ('docs',\n",
       "                                          'http://backend.userland.com/rss'),\n",
       "                                         ('item',\n",
       "                                          [OrderedDict([('title',\n",
       "                                                         'Siete años de tragedia sanitaria en Siria'),\n",
       "                                                        ('description',\n",
       "                                                         'Tras siete años de conflicto en Siria, la Organización Mundial de la Salud reitera su llamamiento a proteger a los trabajadores sanitarios y a facilitar el acceso inmediato a las poblaciones sitiadas.'),\n",
       "                                                        ('pubDate',\n",
       "                                                         'Mon, 19 Mar 2018 11:00:00 GMT'),\n",
       "                                                        ('link',\n",
       "                                                         'http://www.who.int/entity/mediacentre/news/releases/2018/seven-years-syria/es/index.html'),\n",
       "                                                        ('guid',\n",
       "                                                         OrderedDict([('@isPermaLink',\n",
       "                                                                       'false'),\n",
       "                                                                      ('#text',\n",
       "                                                                       'www.who.int.237219')])),\n",
       "                                                        ('category',\n",
       "                                                         'preparación para las emergencias, crisis, emergencias [subject], servicios de salud [subject], vigilancia [subject], Comunicado de prensa [doctype]')]),\n",
       "                                           OrderedDict([('title',\n",
       "                                                         'La igualdad de género debe ser un aspecto fundamental de la «salud para todos»'),\n",
       "                                                        ('description',\n",
       "                                                         'Este año, en el Día Internacional de la Mujer, imaginamos un mundo en el que todas las mujeres y las niñas tengan acceso a una atención sanitaria asequible y de calidad, un mundo en el que las mujeres y las niñas puedan ejercer libremente sus derechos a la salud sexual y reproductiva y sean tratadas y respetadas como iguales.'),\n",
       "                                                        ('pubDate',\n",
       "                                                         'Wed, 07 Mar 2018 16:50:00 GMT'),\n",
       "                                                        ('link',\n",
       "                                                         'http://www.who.int/entity/mediacentre/news/statements/2018/gender-equality-health-for-all/es/index.html'),\n",
       "                                                        ('guid',\n",
       "                                                         OrderedDict([('@isPermaLink',\n",
       "                                                                       'false'),\n",
       "                                                                      ('#text',\n",
       "                                                                       'www.who.int.236939')])),\n",
       "                                                        ('category',\n",
       "                                                         'desigualdades de género, sexo, género [subject], cobertura universal de salud [subject], mujer, salud de la mujer [subject]')]),\n",
       "                                           OrderedDict([('title',\n",
       "                                                         'Nuevo impulso a la lucha contra las enfermedades no transmisibles con participación de líderes mundiales'),\n",
       "                                                        ('description',\n",
       "                                                         'La OMS ha anunciado hoy la creación de una nueva comisión de alto nivel formada por jefes de estado y ministros, empresarios y personalidades destacadas de la sanidad y el desarrollo. La comisión propondrá soluciones audaces e innovadoras para acelerar la prevención y el control de las principales causas mundiales de muerte.'),\n",
       "                                                        ('pubDate',\n",
       "                                                         'Fri, 16 Feb 2018 11:00:00 GMT'),\n",
       "                                                        ('link',\n",
       "                                                         'http://www.who.int/entity/mediacentre/news/releases/2018/world-leaders-ncds/es/index.html'),\n",
       "                                                        ('guid',\n",
       "                                                         OrderedDict([('@isPermaLink',\n",
       "                                                                       'false'),\n",
       "                                                                      ('#text',\n",
       "                                                                       'www.who.int.236489')])),\n",
       "                                                        ('category',\n",
       "                                                         'enfermedades transmisibles [subject], enfermedades no transmisibles [subject], Comunicado de prensa [doctype]')]),\n",
       "                                           OrderedDict([('title',\n",
       "                                                         'Datos recientes revelan los altos niveles de resistencia a los antibióticos en todo el mundo'),\n",
       "                                                        ('description',\n",
       "                                                         'Los primeros datos publicados por la Organización Mundial de la Salud sobre la vigilancia de la resistencia a los antibióticos indican que los niveles de resistencia a algunas infecciones bacterianas graves son elevados tanto en los países de ingresos altos como en los de ingresos bajos.'),\n",
       "                                                        ('pubDate',\n",
       "                                                         'Fri, 26 Jan 2018 13:30:00 GMT'),\n",
       "                                                        ('link',\n",
       "                                                         'http://www.who.int/entity/mediacentre/news/releases/2018/antibiotic-resistance-found/es/index.html'),\n",
       "                                                        ('guid',\n",
       "                                                         OrderedDict([('@isPermaLink',\n",
       "                                                                       'false'),\n",
       "                                                                      ('#text',\n",
       "                                                                       'www.who.int.235908')])),\n",
       "                                                        ('category',\n",
       "                                                         'resistencia a los antimicrobianos [subject], medio ambiente saludable, medio ambiente, contaminación ambiental, contaminación, salud ambiental, salud medioambiental [subject], promoción de la salud mental, salud mental [subject]')]),\n",
       "                                           OrderedDict([('title',\n",
       "                                                         'La Dra. Carissa Etienne, elegida para un segundo mandato como Directora Regional de la OMS para las Américas.'),\n",
       "                                                        ('description',\n",
       "                                                         'El Consejo Ejecutivo de la OMS, que celebra actualmente su 142.ª reunión en Ginebra, ha nombrado a la Dra. Carissa Etienne para un segundo mandato como Directora Regional de la OMS para las Américas.'),\n",
       "                                                        ('pubDate',\n",
       "                                                         'Tue, 23 Jan 2018 09:05:00 GMT'),\n",
       "                                                        ('link',\n",
       "                                                         'http://www.who.int/entity/mediacentre/news/notes/2018/election-for-who-paho-regional-director/es/index.html'),\n",
       "                                                        ('guid',\n",
       "                                                         OrderedDict([('@isPermaLink',\n",
       "                                                                       'false'),\n",
       "                                                                      ('#text',\n",
       "                                                                       'www.who.int.235665')])),\n",
       "                                                        ('category',\n",
       "                                                         'Región de las Américas [region]')])])]))]))])"
      ]
     },
     "execution_count": 137,
     "metadata": {},
     "output_type": "execute_result"
    }
   ],
   "source": [
    "xmltodict.parse(req.content)"
   ]
  },
  {
   "cell_type": "code",
   "execution_count": null,
   "metadata": {},
   "outputs": [],
   "source": []
  }
 ],
 "metadata": {
  "kernelspec": {
   "display_name": "Python 3",
   "language": "python",
   "name": "python3"
  },
  "language_info": {
   "codemirror_mode": {
    "name": "ipython",
    "version": 3
   },
   "file_extension": ".py",
   "mimetype": "text/x-python",
   "name": "python",
   "nbconvert_exporter": "python",
   "pygments_lexer": "ipython3",
   "version": "3.7.4"
  }
 },
 "nbformat": 4,
 "nbformat_minor": 4
}
