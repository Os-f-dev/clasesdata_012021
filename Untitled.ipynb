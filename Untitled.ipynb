{
 "cells": [
  {
   "cell_type": "code",
   "execution_count": 2,
   "metadata": {},
   "outputs": [],
   "source": [
    "import pandas as pd\n",
    "import numpy as np"
   ]
  },
  {
   "cell_type": "code",
   "execution_count": 16,
   "metadata": {},
   "outputs": [
    {
     "data": {
      "text/html": [
       "<div>\n",
       "<style scoped>\n",
       "    .dataframe tbody tr th:only-of-type {\n",
       "        vertical-align: middle;\n",
       "    }\n",
       "\n",
       "    .dataframe tbody tr th {\n",
       "        vertical-align: top;\n",
       "    }\n",
       "\n",
       "    .dataframe thead th {\n",
       "        text-align: right;\n",
       "    }\n",
       "</style>\n",
       "<table border=\"1\" class=\"dataframe\">\n",
       "  <thead>\n",
       "    <tr style=\"text-align: right;\">\n",
       "      <th></th>\n",
       "      <th>brainwt</th>\n",
       "      <th>bodywt</th>\n",
       "      <th>animal</th>\n",
       "    </tr>\n",
       "  </thead>\n",
       "  <tbody>\n",
       "    <tr>\n",
       "      <th>0</th>\n",
       "      <td>3.385</td>\n",
       "      <td>44.500</td>\n",
       "      <td>Arctic_fox</td>\n",
       "    </tr>\n",
       "    <tr>\n",
       "      <th>1</th>\n",
       "      <td>0.480</td>\n",
       "      <td>15.499</td>\n",
       "      <td>Owl_monkey</td>\n",
       "    </tr>\n",
       "    <tr>\n",
       "      <th>2</th>\n",
       "      <td>1.350</td>\n",
       "      <td>8.100</td>\n",
       "      <td>Beaver</td>\n",
       "    </tr>\n",
       "    <tr>\n",
       "      <th>3</th>\n",
       "      <td>464.983</td>\n",
       "      <td>423.012</td>\n",
       "      <td>Cow</td>\n",
       "    </tr>\n",
       "    <tr>\n",
       "      <th>4</th>\n",
       "      <td>36.328</td>\n",
       "      <td>119.498</td>\n",
       "      <td>Gray_wolf</td>\n",
       "    </tr>\n",
       "    <tr>\n",
       "      <th>...</th>\n",
       "      <td>...</td>\n",
       "      <td>...</td>\n",
       "      <td>...</td>\n",
       "    </tr>\n",
       "    <tr>\n",
       "      <th>57</th>\n",
       "      <td>160.004</td>\n",
       "      <td>169.000</td>\n",
       "      <td>Brazilian_tapir</td>\n",
       "    </tr>\n",
       "    <tr>\n",
       "      <th>58</th>\n",
       "      <td>0.900</td>\n",
       "      <td>2.600</td>\n",
       "      <td>Tenrec</td>\n",
       "    </tr>\n",
       "    <tr>\n",
       "      <th>59</th>\n",
       "      <td>1.620</td>\n",
       "      <td>11.400</td>\n",
       "      <td>Phalanger</td>\n",
       "    </tr>\n",
       "    <tr>\n",
       "      <th>60</th>\n",
       "      <td>0.104</td>\n",
       "      <td>2.500</td>\n",
       "      <td>Tree_shrew</td>\n",
       "    </tr>\n",
       "    <tr>\n",
       "      <th>61</th>\n",
       "      <td>4.235</td>\n",
       "      <td>50.400</td>\n",
       "      <td>Red_fox</td>\n",
       "    </tr>\n",
       "  </tbody>\n",
       "</table>\n",
       "<p>62 rows × 3 columns</p>\n",
       "</div>"
      ],
      "text/plain": [
       "    brainwt   bodywt           animal\n",
       "0     3.385   44.500       Arctic_fox\n",
       "1     0.480   15.499       Owl_monkey\n",
       "2     1.350    8.100           Beaver\n",
       "3   464.983  423.012              Cow\n",
       "4    36.328  119.498        Gray_wolf\n",
       "..      ...      ...              ...\n",
       "57  160.004  169.000  Brazilian_tapir\n",
       "58    0.900    2.600           Tenrec\n",
       "59    1.620   11.400        Phalanger\n",
       "60    0.104    2.500       Tree_shrew\n",
       "61    4.235   50.400          Red_fox\n",
       "\n",
       "[62 rows x 3 columns]"
      ]
     },
     "execution_count": 16,
     "metadata": {},
     "output_type": "execute_result"
    }
   ],
   "source": [
    "animals = pd.read_csv('data/animals.csv')\n",
    "animals"
   ]
  },
  {
   "cell_type": "code",
   "execution_count": 4,
   "metadata": {},
   "outputs": [
    {
     "name": "stdout",
     "output_type": "stream",
     "text": [
      "<class 'pandas.core.frame.DataFrame'>\n",
      "RangeIndex: 62 entries, 0 to 61\n",
      "Data columns (total 3 columns):\n",
      "brainwt    62 non-null float64\n",
      "bodywt     62 non-null float64\n",
      "animal     62 non-null object\n",
      "dtypes: float64(2), object(1)\n",
      "memory usage: 1.6+ KB\n"
     ]
    }
   ],
   "source": [
    "animals.info()"
   ]
  },
  {
   "cell_type": "code",
   "execution_count": 6,
   "metadata": {},
   "outputs": [
    {
     "name": "stdout",
     "output_type": "stream",
     "text": [
      "<class 'pandas.core.frame.DataFrame'>\n",
      "RangeIndex: 62 entries, 0 to 61\n",
      "Columns: 3 entries, brainwt to animal\n",
      "dtypes: float64(2), object(1)\n",
      "memory usage: 1.6+ KB\n"
     ]
    }
   ],
   "source": [
    "animals.info(verbose = False)"
   ]
  },
  {
   "cell_type": "code",
   "execution_count": 7,
   "metadata": {},
   "outputs": [
    {
     "name": "stdout",
     "output_type": "stream",
     "text": [
      "<class 'pandas.core.frame.DataFrame'>\n",
      "RangeIndex: 62 entries, 0 to 61\n",
      "Data columns (total 3 columns):\n",
      "brainwt    62 non-null float64\n",
      "bodywt     62 non-null float64\n",
      "animal     62 non-null object\n",
      "dtypes: float64(2), object(1)\n",
      "memory usage: 1.6+ KB\n"
     ]
    }
   ],
   "source": [
    "animals.info(memory_usage = 'low')"
   ]
  },
  {
   "cell_type": "code",
   "execution_count": 17,
   "metadata": {},
   "outputs": [],
   "source": [
    "animals['brainwt'] = animals['brainwt'].astype('float16')"
   ]
  },
  {
   "cell_type": "code",
   "execution_count": 18,
   "metadata": {},
   "outputs": [
    {
     "data": {
      "text/plain": [
       "brainwt    float16\n",
       "bodywt     float64\n",
       "animal      object\n",
       "dtype: object"
      ]
     },
     "execution_count": 18,
     "metadata": {},
     "output_type": "execute_result"
    }
   ],
   "source": [
    "animals.dtypes"
   ]
  },
  {
   "cell_type": "code",
   "execution_count": 38,
   "metadata": {},
   "outputs": [],
   "source": [
    "stats = animals.describe() #nos regresa estadistica descripitva"
   ]
  },
  {
   "cell_type": "code",
   "execution_count": 22,
   "metadata": {},
   "outputs": [
    {
     "data": {
      "text/plain": [
       "count      62.000000\n",
       "mean      198.875000\n",
       "std              inf\n",
       "min         0.005001\n",
       "25%         0.599854\n",
       "50%         3.342773\n",
       "75%        48.195312\n",
       "max      6656.000000\n",
       "Name: brainwt, dtype: float64"
      ]
     },
     "execution_count": 22,
     "metadata": {},
     "output_type": "execute_result"
    }
   ],
   "source": [
    "stats['brainwt']"
   ]
  },
  {
   "cell_type": "code",
   "execution_count": 37,
   "metadata": {},
   "outputs": [
    {
     "data": {
      "text/html": [
       "<div>\n",
       "<style scoped>\n",
       "    .dataframe tbody tr th:only-of-type {\n",
       "        vertical-align: middle;\n",
       "    }\n",
       "\n",
       "    .dataframe tbody tr th {\n",
       "        vertical-align: top;\n",
       "    }\n",
       "\n",
       "    .dataframe thead th {\n",
       "        text-align: right;\n",
       "    }\n",
       "</style>\n",
       "<table border=\"1\" class=\"dataframe\">\n",
       "  <thead>\n",
       "    <tr style=\"text-align: right;\">\n",
       "      <th></th>\n",
       "      <th>brainwt</th>\n",
       "      <th>bodywt</th>\n",
       "    </tr>\n",
       "  </thead>\n",
       "  <tbody>\n",
       "    <tr>\n",
       "      <th>count</th>\n",
       "      <td>62.000000</td>\n",
       "      <td>62.000000</td>\n",
       "    </tr>\n",
       "    <tr>\n",
       "      <th>mean</th>\n",
       "      <td>198.875000</td>\n",
       "      <td>283.135355</td>\n",
       "    </tr>\n",
       "    <tr>\n",
       "      <th>std</th>\n",
       "      <td>inf</td>\n",
       "      <td>930.278876</td>\n",
       "    </tr>\n",
       "    <tr>\n",
       "      <th>min</th>\n",
       "      <td>0.005001</td>\n",
       "      <td>0.140000</td>\n",
       "    </tr>\n",
       "    <tr>\n",
       "      <th>25%</th>\n",
       "      <td>0.599854</td>\n",
       "      <td>4.250000</td>\n",
       "    </tr>\n",
       "    <tr>\n",
       "      <th>50%</th>\n",
       "      <td>3.342773</td>\n",
       "      <td>17.250000</td>\n",
       "    </tr>\n",
       "    <tr>\n",
       "      <th>75%</th>\n",
       "      <td>48.195312</td>\n",
       "      <td>165.998250</td>\n",
       "    </tr>\n",
       "    <tr>\n",
       "      <th>max</th>\n",
       "      <td>6656.000000</td>\n",
       "      <td>5711.860000</td>\n",
       "    </tr>\n",
       "  </tbody>\n",
       "</table>\n",
       "</div>"
      ],
      "text/plain": [
       "           brainwt       bodywt\n",
       "count    62.000000    62.000000\n",
       "mean    198.875000   283.135355\n",
       "std            inf   930.278876\n",
       "min       0.005001     0.140000\n",
       "25%       0.599854     4.250000\n",
       "50%       3.342773    17.250000\n",
       "75%      48.195312   165.998250\n",
       "max    6656.000000  5711.860000"
      ]
     },
     "execution_count": 37,
     "metadata": {},
     "output_type": "execute_result"
    }
   ],
   "source": [
    "stats"
   ]
  },
  {
   "cell_type": "code",
   "execution_count": 26,
   "metadata": {},
   "outputs": [
    {
     "data": {
      "text/plain": [
       "6656.0"
      ]
     },
     "execution_count": 26,
     "metadata": {},
     "output_type": "execute_result"
    }
   ],
   "source": [
    "stats['brainwt']['max']"
   ]
  },
  {
   "cell_type": "code",
   "execution_count": 24,
   "metadata": {},
   "outputs": [
    {
     "data": {
      "text/plain": [
       "6656.0"
      ]
     },
     "execution_count": 24,
     "metadata": {},
     "output_type": "execute_result"
    }
   ],
   "source": [
    "animals.brainwt.max()"
   ]
  },
  {
   "cell_type": "code",
   "execution_count": 25,
   "metadata": {},
   "outputs": [
    {
     "data": {
      "text/plain": [
       "6656.0"
      ]
     },
     "execution_count": 25,
     "metadata": {},
     "output_type": "execute_result"
    }
   ],
   "source": [
    "animals['brainwt'].max()"
   ]
  },
  {
   "cell_type": "code",
   "execution_count": 28,
   "metadata": {},
   "outputs": [
    {
     "data": {
      "text/plain": [
       "6656.0"
      ]
     },
     "execution_count": 28,
     "metadata": {},
     "output_type": "execute_result"
    }
   ],
   "source": [
    "animals.max()['brainwt']"
   ]
  },
  {
   "cell_type": "code",
   "execution_count": 29,
   "metadata": {},
   "outputs": [
    {
     "data": {
      "text/plain": [
       "brainwt    198.875000\n",
       "bodywt     283.135355\n",
       "dtype: float64"
      ]
     },
     "execution_count": 29,
     "metadata": {},
     "output_type": "execute_result"
    }
   ],
   "source": [
    "animals.mean()"
   ]
  },
  {
   "cell_type": "code",
   "execution_count": 30,
   "metadata": {},
   "outputs": [
    {
     "data": {
      "text/plain": [
       "brainwt          0.00500107\n",
       "bodywt                 0.14\n",
       "animal     African_elephant\n",
       "dtype: object"
      ]
     },
     "execution_count": 30,
     "metadata": {},
     "output_type": "execute_result"
    }
   ],
   "source": [
    "animals.min()"
   ]
  },
  {
   "cell_type": "code",
   "execution_count": 31,
   "metadata": {},
   "outputs": [
    {
     "data": {
      "text/plain": [
       "brainwt           inf\n",
       "bodywt     930.278876\n",
       "dtype: float64"
      ]
     },
     "execution_count": 31,
     "metadata": {},
     "output_type": "execute_result"
    }
   ],
   "source": [
    "animals.std()"
   ]
  },
  {
   "cell_type": "code",
   "execution_count": 32,
   "metadata": {},
   "outputs": [
    {
     "data": {
      "text/plain": [
       "brainwt     3.34375\n",
       "bodywt     17.25000\n",
       "dtype: float64"
      ]
     },
     "execution_count": 32,
     "metadata": {},
     "output_type": "execute_result"
    }
   ],
   "source": [
    "animals.median()"
   ]
  },
  {
   "cell_type": "code",
   "execution_count": 34,
   "metadata": {},
   "outputs": [
    {
     "data": {
      "text/plain": [
       "brainwt     3.342773\n",
       "bodywt     17.250000\n",
       "Name: 0.5, dtype: float64"
      ]
     },
     "execution_count": 34,
     "metadata": {},
     "output_type": "execute_result"
    }
   ],
   "source": [
    "animals.quantile(0.5)"
   ]
  },
  {
   "cell_type": "code",
   "execution_count": 35,
   "metadata": {},
   "outputs": [
    {
     "data": {
      "text/plain": [
       "brainwt    0.599854\n",
       "bodywt     4.250000\n",
       "Name: 0.25, dtype: float64"
      ]
     },
     "execution_count": 35,
     "metadata": {},
     "output_type": "execute_result"
    }
   ],
   "source": [
    "animals.quantile(0.25)"
   ]
  },
  {
   "cell_type": "code",
   "execution_count": 36,
   "metadata": {},
   "outputs": [
    {
     "data": {
      "text/plain": [
       "brainwt    0.103795\n",
       "bodywt     1.851000\n",
       "Name: 0.13, dtype: float64"
      ]
     },
     "execution_count": 36,
     "metadata": {},
     "output_type": "execute_result"
    }
   ],
   "source": [
    "animals.quantile(0.13)"
   ]
  },
  {
   "cell_type": "code",
   "execution_count": 39,
   "metadata": {},
   "outputs": [
    {
     "data": {
      "image/png": "[encoded data removed]",
      "text/plain": [
       "<Figure size 432x288 with 1 Axes>"
      ]
     },
     "metadata": {
      "needs_background": "light"
     },
     "output_type": "display_data"
    }
   ],
   "source": [
    "animals.boxplot();"
   ]
  },
  {
   "cell_type": "code",
   "execution_count": 42,
   "metadata": {},
   "outputs": [],
   "source": [
    "stats = stats.T"
   ]
  },
  {
   "cell_type": "code",
   "execution_count": 44,
   "metadata": {},
   "outputs": [
    {
     "data": {
      "text/html": [
       "<div>\n",
       "<style scoped>\n",
       "    .dataframe tbody tr th:only-of-type {\n",
       "        vertical-align: middle;\n",
       "    }\n",
       "\n",
       "    .dataframe tbody tr th {\n",
       "        vertical-align: top;\n",
       "    }\n",
       "\n",
       "    .dataframe thead th {\n",
       "        text-align: right;\n",
       "    }\n",
       "</style>\n",
       "<table border=\"1\" class=\"dataframe\">\n",
       "  <thead>\n",
       "    <tr style=\"text-align: right;\">\n",
       "      <th></th>\n",
       "      <th>count</th>\n",
       "      <th>mean</th>\n",
       "      <th>std</th>\n",
       "      <th>min</th>\n",
       "      <th>25%</th>\n",
       "      <th>50%</th>\n",
       "      <th>75%</th>\n",
       "      <th>max</th>\n",
       "      <th>IQR</th>\n",
       "    </tr>\n",
       "  </thead>\n",
       "  <tbody>\n",
       "    <tr>\n",
       "      <th>brainwt</th>\n",
       "      <td>62.0</td>\n",
       "      <td>198.875000</td>\n",
       "      <td>inf</td>\n",
       "      <td>0.005001</td>\n",
       "      <td>0.599854</td>\n",
       "      <td>3.342773</td>\n",
       "      <td>48.195312</td>\n",
       "      <td>6656.00</td>\n",
       "      <td>47.595459</td>\n",
       "    </tr>\n",
       "    <tr>\n",
       "      <th>bodywt</th>\n",
       "      <td>62.0</td>\n",
       "      <td>283.135355</td>\n",
       "      <td>930.278876</td>\n",
       "      <td>0.140000</td>\n",
       "      <td>4.250000</td>\n",
       "      <td>17.250000</td>\n",
       "      <td>165.998250</td>\n",
       "      <td>5711.86</td>\n",
       "      <td>161.748250</td>\n",
       "    </tr>\n",
       "  </tbody>\n",
       "</table>\n",
       "</div>"
      ],
      "text/plain": [
       "         count        mean         std       min       25%        50%  \\\n",
       "brainwt   62.0  198.875000         inf  0.005001  0.599854   3.342773   \n",
       "bodywt    62.0  283.135355  930.278876  0.140000  4.250000  17.250000   \n",
       "\n",
       "                75%      max         IQR  \n",
       "brainwt   48.195312  6656.00   47.595459  \n",
       "bodywt   165.998250  5711.86  161.748250  "
      ]
     },
     "execution_count": 44,
     "metadata": {},
     "output_type": "execute_result"
    }
   ],
   "source": [
    "stats['IQR'] = stats['75%']-stats['25%']\n",
    "stats"
   ]
  },
  {
   "cell_type": "code",
   "execution_count": 46,
   "metadata": {},
   "outputs": [
    {
     "data": {
      "text/html": [
       "<div>\n",
       "<style scoped>\n",
       "    .dataframe tbody tr th:only-of-type {\n",
       "        vertical-align: middle;\n",
       "    }\n",
       "\n",
       "    .dataframe tbody tr th {\n",
       "        vertical-align: top;\n",
       "    }\n",
       "\n",
       "    .dataframe thead th {\n",
       "        text-align: right;\n",
       "    }\n",
       "</style>\n",
       "<table border=\"1\" class=\"dataframe\">\n",
       "  <thead>\n",
       "    <tr style=\"text-align: right;\">\n",
       "      <th></th>\n",
       "      <th>count</th>\n",
       "      <th>mean</th>\n",
       "      <th>std</th>\n",
       "      <th>min</th>\n",
       "      <th>25%</th>\n",
       "      <th>50%</th>\n",
       "      <th>75%</th>\n",
       "      <th>max</th>\n",
       "      <th>IQR</th>\n",
       "      <th>Maximum</th>\n",
       "      <th>Minumum</th>\n",
       "    </tr>\n",
       "  </thead>\n",
       "  <tbody>\n",
       "    <tr>\n",
       "      <th>brainwt</th>\n",
       "      <td>62.0</td>\n",
       "      <td>198.875000</td>\n",
       "      <td>inf</td>\n",
       "      <td>0.005001</td>\n",
       "      <td>0.599854</td>\n",
       "      <td>3.342773</td>\n",
       "      <td>48.195312</td>\n",
       "      <td>6656.00</td>\n",
       "      <td>47.595459</td>\n",
       "      <td>118.988647</td>\n",
       "      <td>-23.797729</td>\n",
       "    </tr>\n",
       "    <tr>\n",
       "      <th>bodywt</th>\n",
       "      <td>62.0</td>\n",
       "      <td>283.135355</td>\n",
       "      <td>930.278876</td>\n",
       "      <td>0.140000</td>\n",
       "      <td>4.250000</td>\n",
       "      <td>17.250000</td>\n",
       "      <td>165.998250</td>\n",
       "      <td>5711.86</td>\n",
       "      <td>161.748250</td>\n",
       "      <td>404.370625</td>\n",
       "      <td>-80.874125</td>\n",
       "    </tr>\n",
       "  </tbody>\n",
       "</table>\n",
       "</div>"
      ],
      "text/plain": [
       "         count        mean         std       min       25%        50%  \\\n",
       "brainwt   62.0  198.875000         inf  0.005001  0.599854   3.342773   \n",
       "bodywt    62.0  283.135355  930.278876  0.140000  4.250000  17.250000   \n",
       "\n",
       "                75%      max         IQR     Maximum    Minumum  \n",
       "brainwt   48.195312  6656.00   47.595459  118.988647 -23.797729  \n",
       "bodywt   165.998250  5711.86  161.748250  404.370625 -80.874125  "
      ]
     },
     "execution_count": 46,
     "metadata": {},
     "output_type": "execute_result"
    }
   ],
   "source": [
    "stats['Maximum'] = stats['IQR']+(1.5*stats['IQR'])\n",
    "stats['Minumum'] = stats['IQR']-(1.5*stats['IQR'])\n",
    "stats"
   ]
  },
  {
   "cell_type": "code",
   "execution_count": 48,
   "metadata": {},
   "outputs": [
    {
     "data": {
      "text/html": [
       "<div>\n",
       "<style scoped>\n",
       "    .dataframe tbody tr th:only-of-type {\n",
       "        vertical-align: middle;\n",
       "    }\n",
       "\n",
       "    .dataframe tbody tr th {\n",
       "        vertical-align: top;\n",
       "    }\n",
       "\n",
       "    .dataframe thead th {\n",
       "        text-align: right;\n",
       "    }\n",
       "</style>\n",
       "<table border=\"1\" class=\"dataframe\">\n",
       "  <thead>\n",
       "    <tr style=\"text-align: right;\">\n",
       "      <th></th>\n",
       "      <th>brainwt</th>\n",
       "      <th>bodywt</th>\n",
       "      <th>animal</th>\n",
       "    </tr>\n",
       "  </thead>\n",
       "  <tbody>\n",
       "    <tr>\n",
       "      <th>0</th>\n",
       "      <td>3.384766</td>\n",
       "      <td>44.500</td>\n",
       "      <td>Arctic_fox</td>\n",
       "    </tr>\n",
       "    <tr>\n",
       "      <th>1</th>\n",
       "      <td>0.479980</td>\n",
       "      <td>15.499</td>\n",
       "      <td>Owl_monkey</td>\n",
       "    </tr>\n",
       "    <tr>\n",
       "      <th>2</th>\n",
       "      <td>1.349609</td>\n",
       "      <td>8.100</td>\n",
       "      <td>Beaver</td>\n",
       "    </tr>\n",
       "    <tr>\n",
       "      <th>4</th>\n",
       "      <td>36.312500</td>\n",
       "      <td>119.498</td>\n",
       "      <td>Gray_wolf</td>\n",
       "    </tr>\n",
       "    <tr>\n",
       "      <th>5</th>\n",
       "      <td>27.656250</td>\n",
       "      <td>114.996</td>\n",
       "      <td>Goat</td>\n",
       "    </tr>\n",
       "    <tr>\n",
       "      <th>6</th>\n",
       "      <td>14.828125</td>\n",
       "      <td>98.199</td>\n",
       "      <td>Roe_deer</td>\n",
       "    </tr>\n",
       "    <tr>\n",
       "      <th>7</th>\n",
       "      <td>1.040039</td>\n",
       "      <td>5.500</td>\n",
       "      <td>Guinea_pig</td>\n",
       "    </tr>\n",
       "    <tr>\n",
       "      <th>8</th>\n",
       "      <td>4.191406</td>\n",
       "      <td>57.998</td>\n",
       "      <td>Vervet</td>\n",
       "    </tr>\n",
       "    <tr>\n",
       "      <th>9</th>\n",
       "      <td>0.425049</td>\n",
       "      <td>6.400</td>\n",
       "      <td>Chinchilla</td>\n",
       "    </tr>\n",
       "    <tr>\n",
       "      <th>10</th>\n",
       "      <td>0.101013</td>\n",
       "      <td>4.000</td>\n",
       "      <td>Ground_squirrel</td>\n",
       "    </tr>\n",
       "    <tr>\n",
       "      <th>11</th>\n",
       "      <td>0.919922</td>\n",
       "      <td>5.700</td>\n",
       "      <td>Arctic</td>\n",
       "    </tr>\n",
       "    <tr>\n",
       "      <th>12</th>\n",
       "      <td>1.000000</td>\n",
       "      <td>6.600</td>\n",
       "      <td>African_giant_pouched_rat</td>\n",
       "    </tr>\n",
       "    <tr>\n",
       "      <th>13</th>\n",
       "      <td>0.005001</td>\n",
       "      <td>0.140</td>\n",
       "      <td>Lesser_short-tailed-shrew</td>\n",
       "    </tr>\n",
       "    <tr>\n",
       "      <th>14</th>\n",
       "      <td>0.059998</td>\n",
       "      <td>1.000</td>\n",
       "      <td>Star-nosed_mole</td>\n",
       "    </tr>\n",
       "    <tr>\n",
       "      <th>15</th>\n",
       "      <td>3.500000</td>\n",
       "      <td>10.800</td>\n",
       "      <td>Nine-banded_armadillo</td>\n",
       "    </tr>\n",
       "    <tr>\n",
       "      <th>16</th>\n",
       "      <td>2.000000</td>\n",
       "      <td>12.300</td>\n",
       "      <td>Tree_hyrax</td>\n",
       "    </tr>\n",
       "    <tr>\n",
       "      <th>17</th>\n",
       "      <td>1.700195</td>\n",
       "      <td>6.300</td>\n",
       "      <td>N._American</td>\n",
       "    </tr>\n",
       "    <tr>\n",
       "      <th>19</th>\n",
       "      <td>0.022995</td>\n",
       "      <td>0.300</td>\n",
       "      <td>Big_brown_bat</td>\n",
       "    </tr>\n",
       "    <tr>\n",
       "      <th>22</th>\n",
       "      <td>0.785156</td>\n",
       "      <td>3.500</td>\n",
       "      <td>European_hedgehog</td>\n",
       "    </tr>\n",
       "    <tr>\n",
       "      <th>23</th>\n",
       "      <td>10.000000</td>\n",
       "      <td>114.996</td>\n",
       "      <td>Patas_monkey</td>\n",
       "    </tr>\n",
       "    <tr>\n",
       "      <th>24</th>\n",
       "      <td>3.300781</td>\n",
       "      <td>25.600</td>\n",
       "      <td>Cat</td>\n",
       "    </tr>\n",
       "    <tr>\n",
       "      <th>25</th>\n",
       "      <td>0.199951</td>\n",
       "      <td>5.000</td>\n",
       "      <td>Galago</td>\n",
       "    </tr>\n",
       "    <tr>\n",
       "      <th>26</th>\n",
       "      <td>1.410156</td>\n",
       "      <td>17.500</td>\n",
       "      <td>Genet</td>\n",
       "    </tr>\n",
       "    <tr>\n",
       "      <th>29</th>\n",
       "      <td>85.000000</td>\n",
       "      <td>324.992</td>\n",
       "      <td>Gray_seal</td>\n",
       "    </tr>\n",
       "    <tr>\n",
       "      <th>30</th>\n",
       "      <td>0.750000</td>\n",
       "      <td>12.300</td>\n",
       "      <td>Rock_hyrax1</td>\n",
       "    </tr>\n",
       "    <tr>\n",
       "      <th>33</th>\n",
       "      <td>3.500000</td>\n",
       "      <td>3.900</td>\n",
       "      <td>Water_opossum</td>\n",
       "    </tr>\n",
       "    <tr>\n",
       "      <th>34</th>\n",
       "      <td>6.800781</td>\n",
       "      <td>179.003</td>\n",
       "      <td>Rhesus_monkey</td>\n",
       "    </tr>\n",
       "    <tr>\n",
       "      <th>35</th>\n",
       "      <td>35.000000</td>\n",
       "      <td>56.003</td>\n",
       "      <td>Kangaroo</td>\n",
       "    </tr>\n",
       "    <tr>\n",
       "      <th>36</th>\n",
       "      <td>4.050781</td>\n",
       "      <td>17.000</td>\n",
       "      <td>Yellow-bellied_marmot</td>\n",
       "    </tr>\n",
       "    <tr>\n",
       "      <th>37</th>\n",
       "      <td>0.119995</td>\n",
       "      <td>1.000</td>\n",
       "      <td>Golden_hamster</td>\n",
       "    </tr>\n",
       "    <tr>\n",
       "      <th>38</th>\n",
       "      <td>0.022995</td>\n",
       "      <td>0.400</td>\n",
       "      <td>Mouse</td>\n",
       "    </tr>\n",
       "    <tr>\n",
       "      <th>39</th>\n",
       "      <td>0.010002</td>\n",
       "      <td>0.250</td>\n",
       "      <td>Little_brown_bat</td>\n",
       "    </tr>\n",
       "    <tr>\n",
       "      <th>40</th>\n",
       "      <td>1.400391</td>\n",
       "      <td>12.500</td>\n",
       "      <td>Slow_loris</td>\n",
       "    </tr>\n",
       "    <tr>\n",
       "      <th>42</th>\n",
       "      <td>2.500000</td>\n",
       "      <td>12.100</td>\n",
       "      <td>Rabbit</td>\n",
       "    </tr>\n",
       "    <tr>\n",
       "      <th>43</th>\n",
       "      <td>55.500000</td>\n",
       "      <td>175.002</td>\n",
       "      <td>Sheep</td>\n",
       "    </tr>\n",
       "    <tr>\n",
       "      <th>44</th>\n",
       "      <td>100.000000</td>\n",
       "      <td>156.993</td>\n",
       "      <td>Jaguar</td>\n",
       "    </tr>\n",
       "    <tr>\n",
       "      <th>46</th>\n",
       "      <td>10.546875</td>\n",
       "      <td>179.504</td>\n",
       "      <td>Baboon</td>\n",
       "    </tr>\n",
       "    <tr>\n",
       "      <th>47</th>\n",
       "      <td>0.549805</td>\n",
       "      <td>2.400</td>\n",
       "      <td>Desert_hedgehog</td>\n",
       "    </tr>\n",
       "    <tr>\n",
       "      <th>48</th>\n",
       "      <td>60.000000</td>\n",
       "      <td>80.996</td>\n",
       "      <td>Giant_armadillo</td>\n",
       "    </tr>\n",
       "    <tr>\n",
       "      <th>49</th>\n",
       "      <td>3.599609</td>\n",
       "      <td>21.000</td>\n",
       "      <td>Rock_hyrax2</td>\n",
       "    </tr>\n",
       "    <tr>\n",
       "      <th>50</th>\n",
       "      <td>4.289062</td>\n",
       "      <td>39.201</td>\n",
       "      <td>Raccoon</td>\n",
       "    </tr>\n",
       "    <tr>\n",
       "      <th>51</th>\n",
       "      <td>0.280029</td>\n",
       "      <td>1.900</td>\n",
       "      <td>Rat</td>\n",
       "    </tr>\n",
       "    <tr>\n",
       "      <th>52</th>\n",
       "      <td>0.075012</td>\n",
       "      <td>1.200</td>\n",
       "      <td>E._American_mole</td>\n",
       "    </tr>\n",
       "    <tr>\n",
       "      <th>53</th>\n",
       "      <td>0.122009</td>\n",
       "      <td>3.000</td>\n",
       "      <td>Mole_rat</td>\n",
       "    </tr>\n",
       "    <tr>\n",
       "      <th>54</th>\n",
       "      <td>0.048004</td>\n",
       "      <td>0.330</td>\n",
       "      <td>Musk_shrew</td>\n",
       "    </tr>\n",
       "    <tr>\n",
       "      <th>56</th>\n",
       "      <td>3.000000</td>\n",
       "      <td>25.001</td>\n",
       "      <td>Echidna</td>\n",
       "    </tr>\n",
       "    <tr>\n",
       "      <th>58</th>\n",
       "      <td>0.899902</td>\n",
       "      <td>2.600</td>\n",
       "      <td>Tenrec</td>\n",
       "    </tr>\n",
       "    <tr>\n",
       "      <th>59</th>\n",
       "      <td>1.620117</td>\n",
       "      <td>11.400</td>\n",
       "      <td>Phalanger</td>\n",
       "    </tr>\n",
       "    <tr>\n",
       "      <th>60</th>\n",
       "      <td>0.104004</td>\n",
       "      <td>2.500</td>\n",
       "      <td>Tree_shrew</td>\n",
       "    </tr>\n",
       "    <tr>\n",
       "      <th>61</th>\n",
       "      <td>4.234375</td>\n",
       "      <td>50.400</td>\n",
       "      <td>Red_fox</td>\n",
       "    </tr>\n",
       "  </tbody>\n",
       "</table>\n",
       "</div>"
      ],
      "text/plain": [
       "       brainwt   bodywt                     animal\n",
       "0     3.384766   44.500                 Arctic_fox\n",
       "1     0.479980   15.499                 Owl_monkey\n",
       "2     1.349609    8.100                     Beaver\n",
       "4    36.312500  119.498                  Gray_wolf\n",
       "5    27.656250  114.996                       Goat\n",
       "6    14.828125   98.199                   Roe_deer\n",
       "7     1.040039    5.500                 Guinea_pig\n",
       "8     4.191406   57.998                     Vervet\n",
       "9     0.425049    6.400                 Chinchilla\n",
       "10    0.101013    4.000            Ground_squirrel\n",
       "11    0.919922    5.700                     Arctic\n",
       "12    1.000000    6.600  African_giant_pouched_rat\n",
       "13    0.005001    0.140  Lesser_short-tailed-shrew\n",
       "14    0.059998    1.000            Star-nosed_mole\n",
       "15    3.500000   10.800      Nine-banded_armadillo\n",
       "16    2.000000   12.300                 Tree_hyrax\n",
       "17    1.700195    6.300                N._American\n",
       "19    0.022995    0.300              Big_brown_bat\n",
       "22    0.785156    3.500          European_hedgehog\n",
       "23   10.000000  114.996               Patas_monkey\n",
       "24    3.300781   25.600                        Cat\n",
       "25    0.199951    5.000                     Galago\n",
       "26    1.410156   17.500                      Genet\n",
       "29   85.000000  324.992                  Gray_seal\n",
       "30    0.750000   12.300                Rock_hyrax1\n",
       "33    3.500000    3.900              Water_opossum\n",
       "34    6.800781  179.003              Rhesus_monkey\n",
       "35   35.000000   56.003                   Kangaroo\n",
       "36    4.050781   17.000      Yellow-bellied_marmot\n",
       "37    0.119995    1.000             Golden_hamster\n",
       "38    0.022995    0.400                      Mouse\n",
       "39    0.010002    0.250           Little_brown_bat\n",
       "40    1.400391   12.500                 Slow_loris\n",
       "42    2.500000   12.100                     Rabbit\n",
       "43   55.500000  175.002                      Sheep\n",
       "44  100.000000  156.993                     Jaguar\n",
       "46   10.546875  179.504                     Baboon\n",
       "47    0.549805    2.400            Desert_hedgehog\n",
       "48   60.000000   80.996            Giant_armadillo\n",
       "49    3.599609   21.000                Rock_hyrax2\n",
       "50    4.289062   39.201                    Raccoon\n",
       "51    0.280029    1.900                        Rat\n",
       "52    0.075012    1.200           E._American_mole\n",
       "53    0.122009    3.000                   Mole_rat\n",
       "54    0.048004    0.330                 Musk_shrew\n",
       "56    3.000000   25.001                    Echidna\n",
       "58    0.899902    2.600                     Tenrec\n",
       "59    1.620117   11.400                  Phalanger\n",
       "60    0.104004    2.500                 Tree_shrew\n",
       "61    4.234375   50.400                    Red_fox"
      ]
     },
     "execution_count": 48,
     "metadata": {},
     "output_type": "execute_result"
    }
   ],
   "source": [
    "animals = animals[(animals['brainwt'] > -23.79) & (animals['brainwt'] < 118.98)]\n",
    "animals = animals[(animals['bodywt'] > -80.87) & (animals['bodywt'] < 404.37)]\n",
    "animals"
   ]
  },
  {
   "cell_type": "code",
   "execution_count": 50,
   "metadata": {
    "scrolled": true
   },
   "outputs": [
    {
     "data": {
      "text/html": [
       "<div>\n",
       "<style scoped>\n",
       "    .dataframe tbody tr th:only-of-type {\n",
       "        vertical-align: middle;\n",
       "    }\n",
       "\n",
       "    .dataframe tbody tr th {\n",
       "        vertical-align: top;\n",
       "    }\n",
       "\n",
       "    .dataframe thead th {\n",
       "        text-align: right;\n",
       "    }\n",
       "</style>\n",
       "<table border=\"1\" class=\"dataframe\">\n",
       "  <thead>\n",
       "    <tr style=\"text-align: right;\">\n",
       "      <th></th>\n",
       "      <th>index</th>\n",
       "      <th>brainwt</th>\n",
       "      <th>bodywt</th>\n",
       "      <th>animal</th>\n",
       "    </tr>\n",
       "  </thead>\n",
       "  <tbody>\n",
       "    <tr>\n",
       "      <th>0</th>\n",
       "      <td>0</td>\n",
       "      <td>3.384766</td>\n",
       "      <td>44.500</td>\n",
       "      <td>Arctic_fox</td>\n",
       "    </tr>\n",
       "    <tr>\n",
       "      <th>1</th>\n",
       "      <td>1</td>\n",
       "      <td>0.479980</td>\n",
       "      <td>15.499</td>\n",
       "      <td>Owl_monkey</td>\n",
       "    </tr>\n",
       "    <tr>\n",
       "      <th>2</th>\n",
       "      <td>2</td>\n",
       "      <td>1.349609</td>\n",
       "      <td>8.100</td>\n",
       "      <td>Beaver</td>\n",
       "    </tr>\n",
       "    <tr>\n",
       "      <th>3</th>\n",
       "      <td>4</td>\n",
       "      <td>36.312500</td>\n",
       "      <td>119.498</td>\n",
       "      <td>Gray_wolf</td>\n",
       "    </tr>\n",
       "    <tr>\n",
       "      <th>4</th>\n",
       "      <td>5</td>\n",
       "      <td>27.656250</td>\n",
       "      <td>114.996</td>\n",
       "      <td>Goat</td>\n",
       "    </tr>\n",
       "    <tr>\n",
       "      <th>5</th>\n",
       "      <td>6</td>\n",
       "      <td>14.828125</td>\n",
       "      <td>98.199</td>\n",
       "      <td>Roe_deer</td>\n",
       "    </tr>\n",
       "    <tr>\n",
       "      <th>6</th>\n",
       "      <td>7</td>\n",
       "      <td>1.040039</td>\n",
       "      <td>5.500</td>\n",
       "      <td>Guinea_pig</td>\n",
       "    </tr>\n",
       "    <tr>\n",
       "      <th>7</th>\n",
       "      <td>8</td>\n",
       "      <td>4.191406</td>\n",
       "      <td>57.998</td>\n",
       "      <td>Vervet</td>\n",
       "    </tr>\n",
       "    <tr>\n",
       "      <th>8</th>\n",
       "      <td>9</td>\n",
       "      <td>0.425049</td>\n",
       "      <td>6.400</td>\n",
       "      <td>Chinchilla</td>\n",
       "    </tr>\n",
       "    <tr>\n",
       "      <th>9</th>\n",
       "      <td>10</td>\n",
       "      <td>0.101013</td>\n",
       "      <td>4.000</td>\n",
       "      <td>Ground_squirrel</td>\n",
       "    </tr>\n",
       "    <tr>\n",
       "      <th>10</th>\n",
       "      <td>11</td>\n",
       "      <td>0.919922</td>\n",
       "      <td>5.700</td>\n",
       "      <td>Arctic</td>\n",
       "    </tr>\n",
       "    <tr>\n",
       "      <th>11</th>\n",
       "      <td>12</td>\n",
       "      <td>1.000000</td>\n",
       "      <td>6.600</td>\n",
       "      <td>African_giant_pouched_rat</td>\n",
       "    </tr>\n",
       "    <tr>\n",
       "      <th>12</th>\n",
       "      <td>13</td>\n",
       "      <td>0.005001</td>\n",
       "      <td>0.140</td>\n",
       "      <td>Lesser_short-tailed-shrew</td>\n",
       "    </tr>\n",
       "    <tr>\n",
       "      <th>13</th>\n",
       "      <td>14</td>\n",
       "      <td>0.059998</td>\n",
       "      <td>1.000</td>\n",
       "      <td>Star-nosed_mole</td>\n",
       "    </tr>\n",
       "    <tr>\n",
       "      <th>14</th>\n",
       "      <td>15</td>\n",
       "      <td>3.500000</td>\n",
       "      <td>10.800</td>\n",
       "      <td>Nine-banded_armadillo</td>\n",
       "    </tr>\n",
       "    <tr>\n",
       "      <th>15</th>\n",
       "      <td>16</td>\n",
       "      <td>2.000000</td>\n",
       "      <td>12.300</td>\n",
       "      <td>Tree_hyrax</td>\n",
       "    </tr>\n",
       "    <tr>\n",
       "      <th>16</th>\n",
       "      <td>17</td>\n",
       "      <td>1.700195</td>\n",
       "      <td>6.300</td>\n",
       "      <td>N._American</td>\n",
       "    </tr>\n",
       "    <tr>\n",
       "      <th>17</th>\n",
       "      <td>19</td>\n",
       "      <td>0.022995</td>\n",
       "      <td>0.300</td>\n",
       "      <td>Big_brown_bat</td>\n",
       "    </tr>\n",
       "    <tr>\n",
       "      <th>18</th>\n",
       "      <td>22</td>\n",
       "      <td>0.785156</td>\n",
       "      <td>3.500</td>\n",
       "      <td>European_hedgehog</td>\n",
       "    </tr>\n",
       "    <tr>\n",
       "      <th>19</th>\n",
       "      <td>23</td>\n",
       "      <td>10.000000</td>\n",
       "      <td>114.996</td>\n",
       "      <td>Patas_monkey</td>\n",
       "    </tr>\n",
       "    <tr>\n",
       "      <th>20</th>\n",
       "      <td>24</td>\n",
       "      <td>3.300781</td>\n",
       "      <td>25.600</td>\n",
       "      <td>Cat</td>\n",
       "    </tr>\n",
       "    <tr>\n",
       "      <th>21</th>\n",
       "      <td>25</td>\n",
       "      <td>0.199951</td>\n",
       "      <td>5.000</td>\n",
       "      <td>Galago</td>\n",
       "    </tr>\n",
       "    <tr>\n",
       "      <th>22</th>\n",
       "      <td>26</td>\n",
       "      <td>1.410156</td>\n",
       "      <td>17.500</td>\n",
       "      <td>Genet</td>\n",
       "    </tr>\n",
       "    <tr>\n",
       "      <th>23</th>\n",
       "      <td>29</td>\n",
       "      <td>85.000000</td>\n",
       "      <td>324.992</td>\n",
       "      <td>Gray_seal</td>\n",
       "    </tr>\n",
       "    <tr>\n",
       "      <th>24</th>\n",
       "      <td>30</td>\n",
       "      <td>0.750000</td>\n",
       "      <td>12.300</td>\n",
       "      <td>Rock_hyrax1</td>\n",
       "    </tr>\n",
       "    <tr>\n",
       "      <th>25</th>\n",
       "      <td>33</td>\n",
       "      <td>3.500000</td>\n",
       "      <td>3.900</td>\n",
       "      <td>Water_opossum</td>\n",
       "    </tr>\n",
       "    <tr>\n",
       "      <th>26</th>\n",
       "      <td>34</td>\n",
       "      <td>6.800781</td>\n",
       "      <td>179.003</td>\n",
       "      <td>Rhesus_monkey</td>\n",
       "    </tr>\n",
       "    <tr>\n",
       "      <th>27</th>\n",
       "      <td>35</td>\n",
       "      <td>35.000000</td>\n",
       "      <td>56.003</td>\n",
       "      <td>Kangaroo</td>\n",
       "    </tr>\n",
       "    <tr>\n",
       "      <th>28</th>\n",
       "      <td>36</td>\n",
       "      <td>4.050781</td>\n",
       "      <td>17.000</td>\n",
       "      <td>Yellow-bellied_marmot</td>\n",
       "    </tr>\n",
       "    <tr>\n",
       "      <th>29</th>\n",
       "      <td>37</td>\n",
       "      <td>0.119995</td>\n",
       "      <td>1.000</td>\n",
       "      <td>Golden_hamster</td>\n",
       "    </tr>\n",
       "    <tr>\n",
       "      <th>30</th>\n",
       "      <td>38</td>\n",
       "      <td>0.022995</td>\n",
       "      <td>0.400</td>\n",
       "      <td>Mouse</td>\n",
       "    </tr>\n",
       "    <tr>\n",
       "      <th>31</th>\n",
       "      <td>39</td>\n",
       "      <td>0.010002</td>\n",
       "      <td>0.250</td>\n",
       "      <td>Little_brown_bat</td>\n",
       "    </tr>\n",
       "    <tr>\n",
       "      <th>32</th>\n",
       "      <td>40</td>\n",
       "      <td>1.400391</td>\n",
       "      <td>12.500</td>\n",
       "      <td>Slow_loris</td>\n",
       "    </tr>\n",
       "    <tr>\n",
       "      <th>33</th>\n",
       "      <td>42</td>\n",
       "      <td>2.500000</td>\n",
       "      <td>12.100</td>\n",
       "      <td>Rabbit</td>\n",
       "    </tr>\n",
       "    <tr>\n",
       "      <th>34</th>\n",
       "      <td>43</td>\n",
       "      <td>55.500000</td>\n",
       "      <td>175.002</td>\n",
       "      <td>Sheep</td>\n",
       "    </tr>\n",
       "    <tr>\n",
       "      <th>35</th>\n",
       "      <td>44</td>\n",
       "      <td>100.000000</td>\n",
       "      <td>156.993</td>\n",
       "      <td>Jaguar</td>\n",
       "    </tr>\n",
       "    <tr>\n",
       "      <th>36</th>\n",
       "      <td>46</td>\n",
       "      <td>10.546875</td>\n",
       "      <td>179.504</td>\n",
       "      <td>Baboon</td>\n",
       "    </tr>\n",
       "    <tr>\n",
       "      <th>37</th>\n",
       "      <td>47</td>\n",
       "      <td>0.549805</td>\n",
       "      <td>2.400</td>\n",
       "      <td>Desert_hedgehog</td>\n",
       "    </tr>\n",
       "    <tr>\n",
       "      <th>38</th>\n",
       "      <td>48</td>\n",
       "      <td>60.000000</td>\n",
       "      <td>80.996</td>\n",
       "      <td>Giant_armadillo</td>\n",
       "    </tr>\n",
       "    <tr>\n",
       "      <th>39</th>\n",
       "      <td>49</td>\n",
       "      <td>3.599609</td>\n",
       "      <td>21.000</td>\n",
       "      <td>Rock_hyrax2</td>\n",
       "    </tr>\n",
       "    <tr>\n",
       "      <th>40</th>\n",
       "      <td>50</td>\n",
       "      <td>4.289062</td>\n",
       "      <td>39.201</td>\n",
       "      <td>Raccoon</td>\n",
       "    </tr>\n",
       "    <tr>\n",
       "      <th>41</th>\n",
       "      <td>51</td>\n",
       "      <td>0.280029</td>\n",
       "      <td>1.900</td>\n",
       "      <td>Rat</td>\n",
       "    </tr>\n",
       "    <tr>\n",
       "      <th>42</th>\n",
       "      <td>52</td>\n",
       "      <td>0.075012</td>\n",
       "      <td>1.200</td>\n",
       "      <td>E._American_mole</td>\n",
       "    </tr>\n",
       "    <tr>\n",
       "      <th>43</th>\n",
       "      <td>53</td>\n",
       "      <td>0.122009</td>\n",
       "      <td>3.000</td>\n",
       "      <td>Mole_rat</td>\n",
       "    </tr>\n",
       "    <tr>\n",
       "      <th>44</th>\n",
       "      <td>54</td>\n",
       "      <td>0.048004</td>\n",
       "      <td>0.330</td>\n",
       "      <td>Musk_shrew</td>\n",
       "    </tr>\n",
       "    <tr>\n",
       "      <th>45</th>\n",
       "      <td>56</td>\n",
       "      <td>3.000000</td>\n",
       "      <td>25.001</td>\n",
       "      <td>Echidna</td>\n",
       "    </tr>\n",
       "    <tr>\n",
       "      <th>46</th>\n",
       "      <td>58</td>\n",
       "      <td>0.899902</td>\n",
       "      <td>2.600</td>\n",
       "      <td>Tenrec</td>\n",
       "    </tr>\n",
       "    <tr>\n",
       "      <th>47</th>\n",
       "      <td>59</td>\n",
       "      <td>1.620117</td>\n",
       "      <td>11.400</td>\n",
       "      <td>Phalanger</td>\n",
       "    </tr>\n",
       "    <tr>\n",
       "      <th>48</th>\n",
       "      <td>60</td>\n",
       "      <td>0.104004</td>\n",
       "      <td>2.500</td>\n",
       "      <td>Tree_shrew</td>\n",
       "    </tr>\n",
       "    <tr>\n",
       "      <th>49</th>\n",
       "      <td>61</td>\n",
       "      <td>4.234375</td>\n",
       "      <td>50.400</td>\n",
       "      <td>Red_fox</td>\n",
       "    </tr>\n",
       "  </tbody>\n",
       "</table>\n",
       "</div>"
      ],
      "text/plain": [
       "    index     brainwt   bodywt                     animal\n",
       "0       0    3.384766   44.500                 Arctic_fox\n",
       "1       1    0.479980   15.499                 Owl_monkey\n",
       "2       2    1.349609    8.100                     Beaver\n",
       "3       4   36.312500  119.498                  Gray_wolf\n",
       "4       5   27.656250  114.996                       Goat\n",
       "5       6   14.828125   98.199                   Roe_deer\n",
       "6       7    1.040039    5.500                 Guinea_pig\n",
       "7       8    4.191406   57.998                     Vervet\n",
       "8       9    0.425049    6.400                 Chinchilla\n",
       "9      10    0.101013    4.000            Ground_squirrel\n",
       "10     11    0.919922    5.700                     Arctic\n",
       "11     12    1.000000    6.600  African_giant_pouched_rat\n",
       "12     13    0.005001    0.140  Lesser_short-tailed-shrew\n",
       "13     14    0.059998    1.000            Star-nosed_mole\n",
       "14     15    3.500000   10.800      Nine-banded_armadillo\n",
       "15     16    2.000000   12.300                 Tree_hyrax\n",
       "16     17    1.700195    6.300                N._American\n",
       "17     19    0.022995    0.300              Big_brown_bat\n",
       "18     22    0.785156    3.500          European_hedgehog\n",
       "19     23   10.000000  114.996               Patas_monkey\n",
       "20     24    3.300781   25.600                        Cat\n",
       "21     25    0.199951    5.000                     Galago\n",
       "22     26    1.410156   17.500                      Genet\n",
       "23     29   85.000000  324.992                  Gray_seal\n",
       "24     30    0.750000   12.300                Rock_hyrax1\n",
       "25     33    3.500000    3.900              Water_opossum\n",
       "26     34    6.800781  179.003              Rhesus_monkey\n",
       "27     35   35.000000   56.003                   Kangaroo\n",
       "28     36    4.050781   17.000      Yellow-bellied_marmot\n",
       "29     37    0.119995    1.000             Golden_hamster\n",
       "30     38    0.022995    0.400                      Mouse\n",
       "31     39    0.010002    0.250           Little_brown_bat\n",
       "32     40    1.400391   12.500                 Slow_loris\n",
       "33     42    2.500000   12.100                     Rabbit\n",
       "34     43   55.500000  175.002                      Sheep\n",
       "35     44  100.000000  156.993                     Jaguar\n",
       "36     46   10.546875  179.504                     Baboon\n",
       "37     47    0.549805    2.400            Desert_hedgehog\n",
       "38     48   60.000000   80.996            Giant_armadillo\n",
       "39     49    3.599609   21.000                Rock_hyrax2\n",
       "40     50    4.289062   39.201                    Raccoon\n",
       "41     51    0.280029    1.900                        Rat\n",
       "42     52    0.075012    1.200           E._American_mole\n",
       "43     53    0.122009    3.000                   Mole_rat\n",
       "44     54    0.048004    0.330                 Musk_shrew\n",
       "45     56    3.000000   25.001                    Echidna\n",
       "46     58    0.899902    2.600                     Tenrec\n",
       "47     59    1.620117   11.400                  Phalanger\n",
       "48     60    0.104004    2.500                 Tree_shrew\n",
       "49     61    4.234375   50.400                    Red_fox"
      ]
     },
     "execution_count": 50,
     "metadata": {},
     "output_type": "execute_result"
    }
   ],
   "source": [
    "animals.reset_index(inplace = True)\n"
   ]
  },
  {
   "cell_type": "code",
   "execution_count": 51,
   "metadata": {
    "scrolled": true
   },
   "outputs": [
    {
     "data": {
      "text/html": [
       "<div>\n",
       "<style scoped>\n",
       "    .dataframe tbody tr th:only-of-type {\n",
       "        vertical-align: middle;\n",
       "    }\n",
       "\n",
       "    .dataframe tbody tr th {\n",
       "        vertical-align: top;\n",
       "    }\n",
       "\n",
       "    .dataframe thead th {\n",
       "        text-align: right;\n",
       "    }\n",
       "</style>\n",
       "<table border=\"1\" class=\"dataframe\">\n",
       "  <thead>\n",
       "    <tr style=\"text-align: right;\">\n",
       "      <th></th>\n",
       "      <th>brainwt</th>\n",
       "      <th>bodywt</th>\n",
       "      <th>animal</th>\n",
       "    </tr>\n",
       "  </thead>\n",
       "  <tbody>\n",
       "    <tr>\n",
       "      <th>0</th>\n",
       "      <td>3.384766</td>\n",
       "      <td>44.500</td>\n",
       "      <td>Arctic_fox</td>\n",
       "    </tr>\n",
       "    <tr>\n",
       "      <th>1</th>\n",
       "      <td>0.479980</td>\n",
       "      <td>15.499</td>\n",
       "      <td>Owl_monkey</td>\n",
       "    </tr>\n",
       "    <tr>\n",
       "      <th>2</th>\n",
       "      <td>1.349609</td>\n",
       "      <td>8.100</td>\n",
       "      <td>Beaver</td>\n",
       "    </tr>\n",
       "    <tr>\n",
       "      <th>3</th>\n",
       "      <td>36.312500</td>\n",
       "      <td>119.498</td>\n",
       "      <td>Gray_wolf</td>\n",
       "    </tr>\n",
       "    <tr>\n",
       "      <th>4</th>\n",
       "      <td>27.656250</td>\n",
       "      <td>114.996</td>\n",
       "      <td>Goat</td>\n",
       "    </tr>\n",
       "    <tr>\n",
       "      <th>5</th>\n",
       "      <td>14.828125</td>\n",
       "      <td>98.199</td>\n",
       "      <td>Roe_deer</td>\n",
       "    </tr>\n",
       "    <tr>\n",
       "      <th>6</th>\n",
       "      <td>1.040039</td>\n",
       "      <td>5.500</td>\n",
       "      <td>Guinea_pig</td>\n",
       "    </tr>\n",
       "    <tr>\n",
       "      <th>7</th>\n",
       "      <td>4.191406</td>\n",
       "      <td>57.998</td>\n",
       "      <td>Vervet</td>\n",
       "    </tr>\n",
       "    <tr>\n",
       "      <th>8</th>\n",
       "      <td>0.425049</td>\n",
       "      <td>6.400</td>\n",
       "      <td>Chinchilla</td>\n",
       "    </tr>\n",
       "    <tr>\n",
       "      <th>9</th>\n",
       "      <td>0.101013</td>\n",
       "      <td>4.000</td>\n",
       "      <td>Ground_squirrel</td>\n",
       "    </tr>\n",
       "    <tr>\n",
       "      <th>10</th>\n",
       "      <td>0.919922</td>\n",
       "      <td>5.700</td>\n",
       "      <td>Arctic</td>\n",
       "    </tr>\n",
       "    <tr>\n",
       "      <th>11</th>\n",
       "      <td>1.000000</td>\n",
       "      <td>6.600</td>\n",
       "      <td>African_giant_pouched_rat</td>\n",
       "    </tr>\n",
       "    <tr>\n",
       "      <th>12</th>\n",
       "      <td>0.005001</td>\n",
       "      <td>0.140</td>\n",
       "      <td>Lesser_short-tailed-shrew</td>\n",
       "    </tr>\n",
       "    <tr>\n",
       "      <th>13</th>\n",
       "      <td>0.059998</td>\n",
       "      <td>1.000</td>\n",
       "      <td>Star-nosed_mole</td>\n",
       "    </tr>\n",
       "    <tr>\n",
       "      <th>14</th>\n",
       "      <td>3.500000</td>\n",
       "      <td>10.800</td>\n",
       "      <td>Nine-banded_armadillo</td>\n",
       "    </tr>\n",
       "    <tr>\n",
       "      <th>15</th>\n",
       "      <td>2.000000</td>\n",
       "      <td>12.300</td>\n",
       "      <td>Tree_hyrax</td>\n",
       "    </tr>\n",
       "    <tr>\n",
       "      <th>16</th>\n",
       "      <td>1.700195</td>\n",
       "      <td>6.300</td>\n",
       "      <td>N._American</td>\n",
       "    </tr>\n",
       "    <tr>\n",
       "      <th>17</th>\n",
       "      <td>0.022995</td>\n",
       "      <td>0.300</td>\n",
       "      <td>Big_brown_bat</td>\n",
       "    </tr>\n",
       "    <tr>\n",
       "      <th>18</th>\n",
       "      <td>0.785156</td>\n",
       "      <td>3.500</td>\n",
       "      <td>European_hedgehog</td>\n",
       "    </tr>\n",
       "    <tr>\n",
       "      <th>19</th>\n",
       "      <td>10.000000</td>\n",
       "      <td>114.996</td>\n",
       "      <td>Patas_monkey</td>\n",
       "    </tr>\n",
       "    <tr>\n",
       "      <th>20</th>\n",
       "      <td>3.300781</td>\n",
       "      <td>25.600</td>\n",
       "      <td>Cat</td>\n",
       "    </tr>\n",
       "    <tr>\n",
       "      <th>21</th>\n",
       "      <td>0.199951</td>\n",
       "      <td>5.000</td>\n",
       "      <td>Galago</td>\n",
       "    </tr>\n",
       "    <tr>\n",
       "      <th>22</th>\n",
       "      <td>1.410156</td>\n",
       "      <td>17.500</td>\n",
       "      <td>Genet</td>\n",
       "    </tr>\n",
       "    <tr>\n",
       "      <th>23</th>\n",
       "      <td>85.000000</td>\n",
       "      <td>324.992</td>\n",
       "      <td>Gray_seal</td>\n",
       "    </tr>\n",
       "    <tr>\n",
       "      <th>24</th>\n",
       "      <td>0.750000</td>\n",
       "      <td>12.300</td>\n",
       "      <td>Rock_hyrax1</td>\n",
       "    </tr>\n",
       "    <tr>\n",
       "      <th>25</th>\n",
       "      <td>3.500000</td>\n",
       "      <td>3.900</td>\n",
       "      <td>Water_opossum</td>\n",
       "    </tr>\n",
       "    <tr>\n",
       "      <th>26</th>\n",
       "      <td>6.800781</td>\n",
       "      <td>179.003</td>\n",
       "      <td>Rhesus_monkey</td>\n",
       "    </tr>\n",
       "    <tr>\n",
       "      <th>27</th>\n",
       "      <td>35.000000</td>\n",
       "      <td>56.003</td>\n",
       "      <td>Kangaroo</td>\n",
       "    </tr>\n",
       "    <tr>\n",
       "      <th>28</th>\n",
       "      <td>4.050781</td>\n",
       "      <td>17.000</td>\n",
       "      <td>Yellow-bellied_marmot</td>\n",
       "    </tr>\n",
       "    <tr>\n",
       "      <th>29</th>\n",
       "      <td>0.119995</td>\n",
       "      <td>1.000</td>\n",
       "      <td>Golden_hamster</td>\n",
       "    </tr>\n",
       "    <tr>\n",
       "      <th>30</th>\n",
       "      <td>0.022995</td>\n",
       "      <td>0.400</td>\n",
       "      <td>Mouse</td>\n",
       "    </tr>\n",
       "    <tr>\n",
       "      <th>31</th>\n",
       "      <td>0.010002</td>\n",
       "      <td>0.250</td>\n",
       "      <td>Little_brown_bat</td>\n",
       "    </tr>\n",
       "    <tr>\n",
       "      <th>32</th>\n",
       "      <td>1.400391</td>\n",
       "      <td>12.500</td>\n",
       "      <td>Slow_loris</td>\n",
       "    </tr>\n",
       "    <tr>\n",
       "      <th>33</th>\n",
       "      <td>2.500000</td>\n",
       "      <td>12.100</td>\n",
       "      <td>Rabbit</td>\n",
       "    </tr>\n",
       "    <tr>\n",
       "      <th>34</th>\n",
       "      <td>55.500000</td>\n",
       "      <td>175.002</td>\n",
       "      <td>Sheep</td>\n",
       "    </tr>\n",
       "    <tr>\n",
       "      <th>35</th>\n",
       "      <td>100.000000</td>\n",
       "      <td>156.993</td>\n",
       "      <td>Jaguar</td>\n",
       "    </tr>\n",
       "    <tr>\n",
       "      <th>36</th>\n",
       "      <td>10.546875</td>\n",
       "      <td>179.504</td>\n",
       "      <td>Baboon</td>\n",
       "    </tr>\n",
       "    <tr>\n",
       "      <th>37</th>\n",
       "      <td>0.549805</td>\n",
       "      <td>2.400</td>\n",
       "      <td>Desert_hedgehog</td>\n",
       "    </tr>\n",
       "    <tr>\n",
       "      <th>38</th>\n",
       "      <td>60.000000</td>\n",
       "      <td>80.996</td>\n",
       "      <td>Giant_armadillo</td>\n",
       "    </tr>\n",
       "    <tr>\n",
       "      <th>39</th>\n",
       "      <td>3.599609</td>\n",
       "      <td>21.000</td>\n",
       "      <td>Rock_hyrax2</td>\n",
       "    </tr>\n",
       "    <tr>\n",
       "      <th>40</th>\n",
       "      <td>4.289062</td>\n",
       "      <td>39.201</td>\n",
       "      <td>Raccoon</td>\n",
       "    </tr>\n",
       "    <tr>\n",
       "      <th>41</th>\n",
       "      <td>0.280029</td>\n",
       "      <td>1.900</td>\n",
       "      <td>Rat</td>\n",
       "    </tr>\n",
       "    <tr>\n",
       "      <th>42</th>\n",
       "      <td>0.075012</td>\n",
       "      <td>1.200</td>\n",
       "      <td>E._American_mole</td>\n",
       "    </tr>\n",
       "    <tr>\n",
       "      <th>43</th>\n",
       "      <td>0.122009</td>\n",
       "      <td>3.000</td>\n",
       "      <td>Mole_rat</td>\n",
       "    </tr>\n",
       "    <tr>\n",
       "      <th>44</th>\n",
       "      <td>0.048004</td>\n",
       "      <td>0.330</td>\n",
       "      <td>Musk_shrew</td>\n",
       "    </tr>\n",
       "    <tr>\n",
       "      <th>45</th>\n",
       "      <td>3.000000</td>\n",
       "      <td>25.001</td>\n",
       "      <td>Echidna</td>\n",
       "    </tr>\n",
       "    <tr>\n",
       "      <th>46</th>\n",
       "      <td>0.899902</td>\n",
       "      <td>2.600</td>\n",
       "      <td>Tenrec</td>\n",
       "    </tr>\n",
       "    <tr>\n",
       "      <th>47</th>\n",
       "      <td>1.620117</td>\n",
       "      <td>11.400</td>\n",
       "      <td>Phalanger</td>\n",
       "    </tr>\n",
       "    <tr>\n",
       "      <th>48</th>\n",
       "      <td>0.104004</td>\n",
       "      <td>2.500</td>\n",
       "      <td>Tree_shrew</td>\n",
       "    </tr>\n",
       "    <tr>\n",
       "      <th>49</th>\n",
       "      <td>4.234375</td>\n",
       "      <td>50.400</td>\n",
       "      <td>Red_fox</td>\n",
       "    </tr>\n",
       "  </tbody>\n",
       "</table>\n",
       "</div>"
      ],
      "text/plain": [
       "       brainwt   bodywt                     animal\n",
       "0     3.384766   44.500                 Arctic_fox\n",
       "1     0.479980   15.499                 Owl_monkey\n",
       "2     1.349609    8.100                     Beaver\n",
       "3    36.312500  119.498                  Gray_wolf\n",
       "4    27.656250  114.996                       Goat\n",
       "5    14.828125   98.199                   Roe_deer\n",
       "6     1.040039    5.500                 Guinea_pig\n",
       "7     4.191406   57.998                     Vervet\n",
       "8     0.425049    6.400                 Chinchilla\n",
       "9     0.101013    4.000            Ground_squirrel\n",
       "10    0.919922    5.700                     Arctic\n",
       "11    1.000000    6.600  African_giant_pouched_rat\n",
       "12    0.005001    0.140  Lesser_short-tailed-shrew\n",
       "13    0.059998    1.000            Star-nosed_mole\n",
       "14    3.500000   10.800      Nine-banded_armadillo\n",
       "15    2.000000   12.300                 Tree_hyrax\n",
       "16    1.700195    6.300                N._American\n",
       "17    0.022995    0.300              Big_brown_bat\n",
       "18    0.785156    3.500          European_hedgehog\n",
       "19   10.000000  114.996               Patas_monkey\n",
       "20    3.300781   25.600                        Cat\n",
       "21    0.199951    5.000                     Galago\n",
       "22    1.410156   17.500                      Genet\n",
       "23   85.000000  324.992                  Gray_seal\n",
       "24    0.750000   12.300                Rock_hyrax1\n",
       "25    3.500000    3.900              Water_opossum\n",
       "26    6.800781  179.003              Rhesus_monkey\n",
       "27   35.000000   56.003                   Kangaroo\n",
       "28    4.050781   17.000      Yellow-bellied_marmot\n",
       "29    0.119995    1.000             Golden_hamster\n",
       "30    0.022995    0.400                      Mouse\n",
       "31    0.010002    0.250           Little_brown_bat\n",
       "32    1.400391   12.500                 Slow_loris\n",
       "33    2.500000   12.100                     Rabbit\n",
       "34   55.500000  175.002                      Sheep\n",
       "35  100.000000  156.993                     Jaguar\n",
       "36   10.546875  179.504                     Baboon\n",
       "37    0.549805    2.400            Desert_hedgehog\n",
       "38   60.000000   80.996            Giant_armadillo\n",
       "39    3.599609   21.000                Rock_hyrax2\n",
       "40    4.289062   39.201                    Raccoon\n",
       "41    0.280029    1.900                        Rat\n",
       "42    0.075012    1.200           E._American_mole\n",
       "43    0.122009    3.000                   Mole_rat\n",
       "44    0.048004    0.330                 Musk_shrew\n",
       "45    3.000000   25.001                    Echidna\n",
       "46    0.899902    2.600                     Tenrec\n",
       "47    1.620117   11.400                  Phalanger\n",
       "48    0.104004    2.500                 Tree_shrew\n",
       "49    4.234375   50.400                    Red_fox"
      ]
     },
     "execution_count": 51,
     "metadata": {},
     "output_type": "execute_result"
    }
   ],
   "source": [
    "animals.drop('index',inplace = True, axis = 1)\n",
    "animals"
   ]
  },
  {
   "cell_type": "code",
   "execution_count": 52,
   "metadata": {},
   "outputs": [
    {
     "data": {
      "image/png": "[encoded data removed]",
      "text/plain": [
       "<Figure size 432x288 with 1 Axes>"
      ]
     },
     "metadata": {
      "needs_background": "light"
     },
     "output_type": "display_data"
    }
   ],
   "source": [
    "animals.boxplot();"
   ]
  },
  {
   "cell_type": "code",
   "execution_count": 54,
   "metadata": {},
   "outputs": [
    {
     "data": {
      "image/png": "[encoded data removed]",
      "text/plain": [
       "<Figure size 432x288 with 1 Axes>"
      ]
     },
     "metadata": {
      "needs_background": "light"
     },
     "output_type": "display_data"
    }
   ],
   "source": [
    "animals['brainwt'].plot.box();"
   ]
  },
  {
   "cell_type": "code",
   "execution_count": 55,
   "metadata": {},
   "outputs": [
    {
     "data": {
      "image/png": "[encoded data removed]",
      "text/plain": [
       "<Figure size 432x288 with 1 Axes>"
      ]
     },
     "metadata": {
      "needs_background": "light"
     },
     "output_type": "display_data"
    }
   ],
   "source": [
    "animals['bodywt'].plot.box();"
   ]
  },
  {
   "cell_type": "code",
   "execution_count": 56,
   "metadata": {},
   "outputs": [
    {
     "data": {
      "image/png": "[encoded data removed]",
      "text/plain": [
       "<Figure size 432x288 with 2 Axes>"
      ]
     },
     "metadata": {
      "needs_background": "light"
     },
     "output_type": "display_data"
    }
   ],
   "source": [
    "animals.hist();"
   ]
  },
  {
   "cell_type": "code",
   "execution_count": 57,
   "metadata": {},
   "outputs": [
    {
     "data": {
      "image/png": "[encoded data removed]",
      "text/plain": [
       "<Figure size 432x288 with 2 Axes>"
      ]
     },
     "metadata": {
      "needs_background": "light"
     },
     "output_type": "display_data"
    }
   ],
   "source": [
    "animals.hist(bins = 50);"
   ]
  },
  {
   "cell_type": "code",
   "execution_count": 58,
   "metadata": {},
   "outputs": [],
   "source": [
    "from scipy.stats import norm, kurtosis\n",
    "from scipy.stats import skew"
   ]
  },
  {
   "cell_type": "code",
   "execution_count": 59,
   "metadata": {},
   "outputs": [
    {
     "data": {
      "text/plain": [
       "5.628636542090433"
      ]
     },
     "execution_count": 59,
     "metadata": {},
     "output_type": "execute_result"
    }
   ],
   "source": [
    "kurtosis(animals['bodywt'])"
   ]
  },
  {
   "cell_type": "code",
   "execution_count": 62,
   "metadata": {},
   "outputs": [
    {
     "data": {
      "text/plain": [
       "inf"
      ]
     },
     "execution_count": 62,
     "metadata": {},
     "output_type": "execute_result"
    }
   ],
   "source": [
    "round(kurtosis(animals['brainwt']),4)"
   ]
  },
  {
   "cell_type": "code",
   "execution_count": 63,
   "metadata": {},
   "outputs": [
    {
     "data": {
      "text/plain": [
       "2.2999822093741007"
      ]
     },
     "execution_count": 63,
     "metadata": {},
     "output_type": "execute_result"
    }
   ],
   "source": [
    "skew(animals['bodywt'])"
   ]
  },
  {
   "cell_type": "code",
   "execution_count": 64,
   "metadata": {},
   "outputs": [
    {
     "data": {
      "text/html": [
       "<div>\n",
       "<style scoped>\n",
       "    .dataframe tbody tr th:only-of-type {\n",
       "        vertical-align: middle;\n",
       "    }\n",
       "\n",
       "    .dataframe tbody tr th {\n",
       "        vertical-align: top;\n",
       "    }\n",
       "\n",
       "    .dataframe thead th {\n",
       "        text-align: right;\n",
       "    }\n",
       "</style>\n",
       "<table border=\"1\" class=\"dataframe\">\n",
       "  <thead>\n",
       "    <tr style=\"text-align: right;\">\n",
       "      <th></th>\n",
       "      <th>brainwt</th>\n",
       "      <th>bodywt</th>\n",
       "    </tr>\n",
       "  </thead>\n",
       "  <tbody>\n",
       "    <tr>\n",
       "      <th>brainwt</th>\n",
       "      <td>1.000000</td>\n",
       "      <td>0.770476</td>\n",
       "    </tr>\n",
       "    <tr>\n",
       "      <th>bodywt</th>\n",
       "      <td>0.770476</td>\n",
       "      <td>1.000000</td>\n",
       "    </tr>\n",
       "  </tbody>\n",
       "</table>\n",
       "</div>"
      ],
      "text/plain": [
       "          brainwt    bodywt\n",
       "brainwt  1.000000  0.770476\n",
       "bodywt   0.770476  1.000000"
      ]
     },
     "execution_count": 64,
     "metadata": {},
     "output_type": "execute_result"
    }
   ],
   "source": [
    "animals.corr()"
   ]
  },
  {
   "cell_type": "code",
   "execution_count": 65,
   "metadata": {},
   "outputs": [
    {
     "data": {
      "text/html": [
       "<div>\n",
       "<style scoped>\n",
       "    .dataframe tbody tr th:only-of-type {\n",
       "        vertical-align: middle;\n",
       "    }\n",
       "\n",
       "    .dataframe tbody tr th {\n",
       "        vertical-align: top;\n",
       "    }\n",
       "\n",
       "    .dataframe thead th {\n",
       "        text-align: right;\n",
       "    }\n",
       "</style>\n",
       "<table border=\"1\" class=\"dataframe\">\n",
       "  <thead>\n",
       "    <tr style=\"text-align: right;\">\n",
       "      <th></th>\n",
       "      <th>brainwt</th>\n",
       "      <th>bodywt</th>\n",
       "      <th>animal</th>\n",
       "    </tr>\n",
       "  </thead>\n",
       "  <tbody>\n",
       "    <tr>\n",
       "      <th>12</th>\n",
       "      <td>0.005001</td>\n",
       "      <td>0.140</td>\n",
       "      <td>Lesser_short-tailed-shrew</td>\n",
       "    </tr>\n",
       "    <tr>\n",
       "      <th>35</th>\n",
       "      <td>100.000000</td>\n",
       "      <td>156.993</td>\n",
       "      <td>Jaguar</td>\n",
       "    </tr>\n",
       "  </tbody>\n",
       "</table>\n",
       "</div>"
      ],
      "text/plain": [
       "       brainwt   bodywt                     animal\n",
       "12    0.005001    0.140  Lesser_short-tailed-shrew\n",
       "35  100.000000  156.993                     Jaguar"
      ]
     },
     "execution_count": 65,
     "metadata": {},
     "output_type": "execute_result"
    }
   ],
   "source": [
    "animals[(animals['brainwt'] == animals['brainwt'].min())|(animals['brainwt'] == animals['brainwt'].max())]"
   ]
  },
  {
   "cell_type": "code",
   "execution_count": 66,
   "metadata": {},
   "outputs": [
    {
     "data": {
      "text/html": [
       "<div>\n",
       "<style scoped>\n",
       "    .dataframe tbody tr th:only-of-type {\n",
       "        vertical-align: middle;\n",
       "    }\n",
       "\n",
       "    .dataframe tbody tr th {\n",
       "        vertical-align: top;\n",
       "    }\n",
       "\n",
       "    .dataframe thead th {\n",
       "        text-align: right;\n",
       "    }\n",
       "</style>\n",
       "<table border=\"1\" class=\"dataframe\">\n",
       "  <thead>\n",
       "    <tr style=\"text-align: right;\">\n",
       "      <th></th>\n",
       "      <th>brainwt</th>\n",
       "      <th>bodywt</th>\n",
       "      <th>animal</th>\n",
       "    </tr>\n",
       "  </thead>\n",
       "  <tbody>\n",
       "    <tr>\n",
       "      <th>5</th>\n",
       "      <td>14.828125</td>\n",
       "      <td>98.199</td>\n",
       "      <td>Roe_deer</td>\n",
       "    </tr>\n",
       "    <tr>\n",
       "      <th>38</th>\n",
       "      <td>60.000000</td>\n",
       "      <td>80.996</td>\n",
       "      <td>Giant_armadillo</td>\n",
       "    </tr>\n",
       "  </tbody>\n",
       "</table>\n",
       "</div>"
      ],
      "text/plain": [
       "      brainwt  bodywt           animal\n",
       "5   14.828125  98.199         Roe_deer\n",
       "38  60.000000  80.996  Giant_armadillo"
      ]
     },
     "execution_count": 66,
     "metadata": {},
     "output_type": "execute_result"
    }
   ],
   "source": [
    "animals[(animals['bodywt'] > 80) & ((animals['bodywt'] < 100) & (animals['bodywt'] > 40))]"
   ]
  },
  {
   "cell_type": "code",
   "execution_count": 67,
   "metadata": {
    "scrolled": true
   },
   "outputs": [
    {
     "data": {
      "text/html": [
       "<div>\n",
       "<style scoped>\n",
       "    .dataframe tbody tr th:only-of-type {\n",
       "        vertical-align: middle;\n",
       "    }\n",
       "\n",
       "    .dataframe tbody tr th {\n",
       "        vertical-align: top;\n",
       "    }\n",
       "\n",
       "    .dataframe thead th {\n",
       "        text-align: right;\n",
       "    }\n",
       "</style>\n",
       "<table border=\"1\" class=\"dataframe\">\n",
       "  <thead>\n",
       "    <tr style=\"text-align: right;\">\n",
       "      <th></th>\n",
       "      <th>brainwt</th>\n",
       "      <th>bodywt</th>\n",
       "      <th>animal</th>\n",
       "    </tr>\n",
       "  </thead>\n",
       "  <tbody>\n",
       "    <tr>\n",
       "      <th>3</th>\n",
       "      <td>36.312500</td>\n",
       "      <td>119.498</td>\n",
       "      <td>Gray_wolf</td>\n",
       "    </tr>\n",
       "    <tr>\n",
       "      <th>4</th>\n",
       "      <td>27.656250</td>\n",
       "      <td>114.996</td>\n",
       "      <td>Goat</td>\n",
       "    </tr>\n",
       "    <tr>\n",
       "      <th>5</th>\n",
       "      <td>14.828125</td>\n",
       "      <td>98.199</td>\n",
       "      <td>Roe_deer</td>\n",
       "    </tr>\n",
       "    <tr>\n",
       "      <th>19</th>\n",
       "      <td>10.000000</td>\n",
       "      <td>114.996</td>\n",
       "      <td>Patas_monkey</td>\n",
       "    </tr>\n",
       "    <tr>\n",
       "      <th>23</th>\n",
       "      <td>85.000000</td>\n",
       "      <td>324.992</td>\n",
       "      <td>Gray_seal</td>\n",
       "    </tr>\n",
       "    <tr>\n",
       "      <th>26</th>\n",
       "      <td>6.800781</td>\n",
       "      <td>179.003</td>\n",
       "      <td>Rhesus_monkey</td>\n",
       "    </tr>\n",
       "    <tr>\n",
       "      <th>34</th>\n",
       "      <td>55.500000</td>\n",
       "      <td>175.002</td>\n",
       "      <td>Sheep</td>\n",
       "    </tr>\n",
       "    <tr>\n",
       "      <th>35</th>\n",
       "      <td>100.000000</td>\n",
       "      <td>156.993</td>\n",
       "      <td>Jaguar</td>\n",
       "    </tr>\n",
       "    <tr>\n",
       "      <th>36</th>\n",
       "      <td>10.546875</td>\n",
       "      <td>179.504</td>\n",
       "      <td>Baboon</td>\n",
       "    </tr>\n",
       "    <tr>\n",
       "      <th>38</th>\n",
       "      <td>60.000000</td>\n",
       "      <td>80.996</td>\n",
       "      <td>Giant_armadillo</td>\n",
       "    </tr>\n",
       "  </tbody>\n",
       "</table>\n",
       "</div>"
      ],
      "text/plain": [
       "       brainwt   bodywt           animal\n",
       "3    36.312500  119.498        Gray_wolf\n",
       "4    27.656250  114.996             Goat\n",
       "5    14.828125   98.199         Roe_deer\n",
       "19   10.000000  114.996     Patas_monkey\n",
       "23   85.000000  324.992        Gray_seal\n",
       "26    6.800781  179.003    Rhesus_monkey\n",
       "34   55.500000  175.002            Sheep\n",
       "35  100.000000  156.993           Jaguar\n",
       "36   10.546875  179.504           Baboon\n",
       "38   60.000000   80.996  Giant_armadillo"
      ]
     },
     "execution_count": 67,
     "metadata": {},
     "output_type": "execute_result"
    }
   ],
   "source": [
    "animals[(animals['bodywt'] > 80)]"
   ]
  },
  {
   "cell_type": "code",
   "execution_count": 68,
   "metadata": {},
   "outputs": [
    {
     "data": {
      "text/html": [
       "<div>\n",
       "<style scoped>\n",
       "    .dataframe tbody tr th:only-of-type {\n",
       "        vertical-align: middle;\n",
       "    }\n",
       "\n",
       "    .dataframe tbody tr th {\n",
       "        vertical-align: top;\n",
       "    }\n",
       "\n",
       "    .dataframe thead th {\n",
       "        text-align: right;\n",
       "    }\n",
       "</style>\n",
       "<table border=\"1\" class=\"dataframe\">\n",
       "  <thead>\n",
       "    <tr style=\"text-align: right;\">\n",
       "      <th></th>\n",
       "      <th>brainwt</th>\n",
       "      <th>bodywt</th>\n",
       "      <th>animal</th>\n",
       "    </tr>\n",
       "  </thead>\n",
       "  <tbody>\n",
       "    <tr>\n",
       "      <th>0</th>\n",
       "      <td>3.384766</td>\n",
       "      <td>44.500</td>\n",
       "      <td>Arctic_fox</td>\n",
       "    </tr>\n",
       "    <tr>\n",
       "      <th>5</th>\n",
       "      <td>14.828125</td>\n",
       "      <td>98.199</td>\n",
       "      <td>Roe_deer</td>\n",
       "    </tr>\n",
       "    <tr>\n",
       "      <th>7</th>\n",
       "      <td>4.191406</td>\n",
       "      <td>57.998</td>\n",
       "      <td>Vervet</td>\n",
       "    </tr>\n",
       "    <tr>\n",
       "      <th>27</th>\n",
       "      <td>35.000000</td>\n",
       "      <td>56.003</td>\n",
       "      <td>Kangaroo</td>\n",
       "    </tr>\n",
       "    <tr>\n",
       "      <th>38</th>\n",
       "      <td>60.000000</td>\n",
       "      <td>80.996</td>\n",
       "      <td>Giant_armadillo</td>\n",
       "    </tr>\n",
       "    <tr>\n",
       "      <th>49</th>\n",
       "      <td>4.234375</td>\n",
       "      <td>50.400</td>\n",
       "      <td>Red_fox</td>\n",
       "    </tr>\n",
       "  </tbody>\n",
       "</table>\n",
       "</div>"
      ],
      "text/plain": [
       "      brainwt  bodywt           animal\n",
       "0    3.384766  44.500       Arctic_fox\n",
       "5   14.828125  98.199         Roe_deer\n",
       "7    4.191406  57.998           Vervet\n",
       "27  35.000000  56.003         Kangaroo\n",
       "38  60.000000  80.996  Giant_armadillo\n",
       "49   4.234375  50.400          Red_fox"
      ]
     },
     "execution_count": 68,
     "metadata": {},
     "output_type": "execute_result"
    }
   ],
   "source": [
    "animals[(animals['bodywt'] < 100) & (animals['bodywt'] > 40)]"
   ]
  },
  {
   "cell_type": "code",
   "execution_count": 69,
   "metadata": {},
   "outputs": [],
   "source": [
    "from scipy import stats"
   ]
  },
  {
   "cell_type": "code",
   "execution_count": 71,
   "metadata": {},
   "outputs": [
    {
     "name": "stderr",
     "output_type": "stream",
     "text": [
      "C:\\Users\\GralG\\AppData\\Roaming\\Python\\Python37\\site-packages\\scipy\\stats\\stats.py:1020: RuntimeWarning: overflow encountered in multiply\n",
      "  s *= a_zero_mean\n",
      "C:\\Users\\GralG\\AppData\\Roaming\\Python\\Python37\\site-packages\\scipy\\stats\\stats.py:1018: RuntimeWarning: overflow encountered in square\n",
      "  s = s**2\n"
     ]
    },
    {
     "data": {
      "text/plain": [
       "DescribeResult(nobs=50, minmax=(0.005, 100.0), mean=9.98, variance=467.0, skewness=inf, kurtosis=inf)"
      ]
     },
     "execution_count": 71,
     "metadata": {},
     "output_type": "execute_result"
    }
   ],
   "source": [
    "stats.describe(animals['brainwt'])"
   ]
  },
  {
   "cell_type": "code",
   "execution_count": 73,
   "metadata": {},
   "outputs": [
    {
     "data": {
      "text/html": [
       "<div>\n",
       "<style scoped>\n",
       "    .dataframe tbody tr th:only-of-type {\n",
       "        vertical-align: middle;\n",
       "    }\n",
       "\n",
       "    .dataframe tbody tr th {\n",
       "        vertical-align: top;\n",
       "    }\n",
       "\n",
       "    .dataframe thead th {\n",
       "        text-align: right;\n",
       "    }\n",
       "</style>\n",
       "<table border=\"1\" class=\"dataframe\">\n",
       "  <thead>\n",
       "    <tr style=\"text-align: right;\">\n",
       "      <th></th>\n",
       "      <th>brainwt</th>\n",
       "      <th>bodywt</th>\n",
       "      <th>animal</th>\n",
       "    </tr>\n",
       "  </thead>\n",
       "  <tbody>\n",
       "    <tr>\n",
       "      <th>0</th>\n",
       "      <td>3.385</td>\n",
       "      <td>44.500</td>\n",
       "      <td>Arctic_fox</td>\n",
       "    </tr>\n",
       "    <tr>\n",
       "      <th>1</th>\n",
       "      <td>0.480</td>\n",
       "      <td>15.499</td>\n",
       "      <td>Owl_monkey</td>\n",
       "    </tr>\n",
       "    <tr>\n",
       "      <th>2</th>\n",
       "      <td>1.350</td>\n",
       "      <td>8.100</td>\n",
       "      <td>Beaver</td>\n",
       "    </tr>\n",
       "    <tr>\n",
       "      <th>3</th>\n",
       "      <td>464.983</td>\n",
       "      <td>423.012</td>\n",
       "      <td>Cow</td>\n",
       "    </tr>\n",
       "    <tr>\n",
       "      <th>4</th>\n",
       "      <td>36.328</td>\n",
       "      <td>119.498</td>\n",
       "      <td>Gray_wolf</td>\n",
       "    </tr>\n",
       "    <tr>\n",
       "      <th>...</th>\n",
       "      <td>...</td>\n",
       "      <td>...</td>\n",
       "      <td>...</td>\n",
       "    </tr>\n",
       "    <tr>\n",
       "      <th>57</th>\n",
       "      <td>160.004</td>\n",
       "      <td>169.000</td>\n",
       "      <td>Brazilian_tapir</td>\n",
       "    </tr>\n",
       "    <tr>\n",
       "      <th>58</th>\n",
       "      <td>0.900</td>\n",
       "      <td>2.600</td>\n",
       "      <td>Tenrec</td>\n",
       "    </tr>\n",
       "    <tr>\n",
       "      <th>59</th>\n",
       "      <td>1.620</td>\n",
       "      <td>11.400</td>\n",
       "      <td>Phalanger</td>\n",
       "    </tr>\n",
       "    <tr>\n",
       "      <th>60</th>\n",
       "      <td>0.104</td>\n",
       "      <td>2.500</td>\n",
       "      <td>Tree_shrew</td>\n",
       "    </tr>\n",
       "    <tr>\n",
       "      <th>61</th>\n",
       "      <td>4.235</td>\n",
       "      <td>50.400</td>\n",
       "      <td>Red_fox</td>\n",
       "    </tr>\n",
       "  </tbody>\n",
       "</table>\n",
       "<p>62 rows × 3 columns</p>\n",
       "</div>"
      ],
      "text/plain": [
       "    brainwt   bodywt           animal\n",
       "0     3.385   44.500       Arctic_fox\n",
       "1     0.480   15.499       Owl_monkey\n",
       "2     1.350    8.100           Beaver\n",
       "3   464.983  423.012              Cow\n",
       "4    36.328  119.498        Gray_wolf\n",
       "..      ...      ...              ...\n",
       "57  160.004  169.000  Brazilian_tapir\n",
       "58    0.900    2.600           Tenrec\n",
       "59    1.620   11.400        Phalanger\n",
       "60    0.104    2.500       Tree_shrew\n",
       "61    4.235   50.400          Red_fox\n",
       "\n",
       "[62 rows x 3 columns]"
      ]
     },
     "execution_count": 73,
     "metadata": {},
     "output_type": "execute_result"
    }
   ],
   "source": [
    "animals_ori = pd.read_csv('data/animals.csv')\n",
    "animals_ori"
   ]
  },
  {
   "cell_type": "code",
   "execution_count": 74,
   "metadata": {},
   "outputs": [
    {
     "data": {
      "text/plain": [
       "brainwt                  6654.18\n",
       "bodywt                   5711.86\n",
       "animal     Yellow-bellied_marmot\n",
       "dtype: object"
      ]
     },
     "execution_count": 74,
     "metadata": {},
     "output_type": "execute_result"
    }
   ],
   "source": [
    "animals_ori.max()"
   ]
  },
  {
   "cell_type": "code",
   "execution_count": 77,
   "metadata": {},
   "outputs": [
    {
     "data": {
      "text/plain": [
       "865418.7877149212"
      ]
     },
     "execution_count": 77,
     "metadata": {},
     "output_type": "execute_result"
    }
   ],
   "source": [
    "animals_ori['bodywt'].var()"
   ]
  },
  {
   "cell_type": "code",
   "execution_count": 75,
   "metadata": {},
   "outputs": [
    {
     "data": {
      "text/plain": [
       "90.52294117647061"
      ]
     },
     "execution_count": 75,
     "metadata": {},
     "output_type": "execute_result"
    }
   ],
   "source": [
    "stats.tmean(animals['bodywt'], (20,300))"
   ]
  },
  {
   "cell_type": "code",
   "execution_count": 76,
   "metadata": {},
   "outputs": [
    {
     "data": {
      "text/plain": [
       "3215.0864499338236"
      ]
     },
     "execution_count": 76,
     "metadata": {},
     "output_type": "execute_result"
    }
   ],
   "source": [
    "stats.tvar(animals['bodywt'], (20,300))"
   ]
  },
  {
   "cell_type": "code",
   "execution_count": 84,
   "metadata": {},
   "outputs": [
    {
     "data": {
      "text/plain": [
       "56.701732336268385"
      ]
     },
     "execution_count": 84,
     "metadata": {},
     "output_type": "execute_result"
    }
   ],
   "source": [
    "import math\n",
    "math.sqrt(stats.tvar(animals['bodywt'], (20,300)))"
   ]
  },
  {
   "cell_type": "code",
   "execution_count": 80,
   "metadata": {},
   "outputs": [
    {
     "data": {
      "text/plain": [
       "39.201"
      ]
     },
     "execution_count": 80,
     "metadata": {},
     "output_type": "execute_result"
    }
   ],
   "source": [
    "stats.tmin(animals['bodywt'], lowerlimit = 35)"
   ]
  },
  {
   "cell_type": "code",
   "execution_count": 81,
   "metadata": {},
   "outputs": [
    {
     "data": {
      "text/plain": [
       "98.199"
      ]
     },
     "execution_count": 81,
     "metadata": {},
     "output_type": "execute_result"
    }
   ],
   "source": [
    "stats.tmax(animals['bodywt'], upperlimit = 100)"
   ]
  },
  {
   "cell_type": "code",
   "execution_count": 86,
   "metadata": {},
   "outputs": [
    {
     "data": {
      "text/plain": [
       "56.701732336268385"
      ]
     },
     "execution_count": 86,
     "metadata": {},
     "output_type": "execute_result"
    }
   ],
   "source": [
    "import math\n",
    "math.sqrt(stats.tvar(animals['bodywt'], (20,300))) \n",
    "stats.tstd(animals['bodywt'], limits = (20,300))#desviacion estandard es la raiz cuadrada de la variacion "
   ]
  },
  {
   "cell_type": "code",
   "execution_count": 87,
   "metadata": {},
   "outputs": [
    {
     "data": {
      "text/plain": [
       "3"
      ]
     },
     "execution_count": 87,
     "metadata": {},
     "output_type": "execute_result"
    }
   ],
   "source": [
    "eval(\"1 + 2\")"
   ]
  },
  {
   "cell_type": "code",
   "execution_count": 88,
   "metadata": {},
   "outputs": [],
   "source": [
    "maxi = animals['brainwt'].max()"
   ]
  },
  {
   "cell_type": "code",
   "execution_count": 90,
   "metadata": {},
   "outputs": [
    {
     "data": {
      "text/plain": [
       "200.0"
      ]
     },
     "execution_count": 90,
     "metadata": {},
     "output_type": "execute_result"
    }
   ],
   "source": [
    "eval(\"maxi + 100\")"
   ]
  },
  {
   "cell_type": "code",
   "execution_count": 91,
   "metadata": {},
   "outputs": [
    {
     "data": {
      "text/plain": [
       "100.0"
      ]
     },
     "execution_count": 91,
     "metadata": {},
     "output_type": "execute_result"
    }
   ],
   "source": [
    "maxi"
   ]
  },
  {
   "cell_type": "code",
   "execution_count": 93,
   "metadata": {},
   "outputs": [
    {
     "data": {
      "text/plain": [
       "[0, 1, 2, 3, 4, 5, 6, 7, 8, 9]"
      ]
     },
     "execution_count": 93,
     "metadata": {},
     "output_type": "execute_result"
    }
   ],
   "source": [
    "res =  eval(\"[i for i in range(10)]\")\n",
    "res"
   ]
  },
  {
   "cell_type": "code",
   "execution_count": 94,
   "metadata": {},
   "outputs": [
    {
     "data": {
      "text/plain": [
       "list"
      ]
     },
     "execution_count": 94,
     "metadata": {},
     "output_type": "execute_result"
    }
   ],
   "source": [
    "type(res)"
   ]
  },
  {
   "cell_type": "code",
   "execution_count": 95,
   "metadata": {},
   "outputs": [
    {
     "data": {
      "text/plain": [
       "[0, 1, 2, 3, 4, 5, 6, 7, 8, 9]"
      ]
     },
     "execution_count": 95,
     "metadata": {},
     "output_type": "execute_result"
    }
   ],
   "source": [
    "res"
   ]
  },
  {
   "cell_type": "code",
   "execution_count": 96,
   "metadata": {},
   "outputs": [],
   "source": [
    "y = [i for i in range(10,21)]"
   ]
  },
  {
   "cell_type": "code",
   "execution_count": 97,
   "metadata": {},
   "outputs": [
    {
     "data": {
      "text/plain": [
       "[(0, 10),\n",
       " (1, 11),\n",
       " (2, 12),\n",
       " (3, 13),\n",
       " (4, 14),\n",
       " (5, 15),\n",
       " (6, 16),\n",
       " (7, 17),\n",
       " (8, 18),\n",
       " (9, 19)]"
      ]
     },
     "execution_count": 97,
     "metadata": {},
     "output_type": "execute_result"
    }
   ],
   "source": [
    "eval(\"list(zip(res,y))\")"
   ]
  },
  {
   "cell_type": "code",
   "execution_count": 98,
   "metadata": {},
   "outputs": [],
   "source": [
    "import math"
   ]
  },
  {
   "cell_type": "code",
   "execution_count": 102,
   "metadata": {},
   "outputs": [
    {
     "data": {
      "text/plain": [
       "3.141592653589793"
      ]
     },
     "execution_count": 102,
     "metadata": {},
     "output_type": "execute_result"
    }
   ],
   "source": [
    "math.pi"
   ]
  },
  {
   "cell_type": "code",
   "execution_count": 99,
   "metadata": {},
   "outputs": [
    {
     "data": {
      "text/plain": [
       "9.42477796076938"
      ]
     },
     "execution_count": 99,
     "metadata": {},
     "output_type": "execute_result"
    }
   ],
   "source": [
    "eval(\"math.pi*3\")"
   ]
  },
  {
   "cell_type": "code",
   "execution_count": 101,
   "metadata": {
    "scrolled": true
   },
   "outputs": [
    {
     "ename": "SyntaxError",
     "evalue": "invalid syntax (<string>, line 1)",
     "output_type": "error",
     "traceback": [
      "Traceback \u001b[1;36m(most recent call last)\u001b[0m:\n",
      "  File \u001b[0;32m\"C:\\Users\\GralG\\AppData\\Roaming\\Python\\Python37\\site-packages\\IPython\\core\\interactiveshell.py\"\u001b[0m, line \u001b[0;32m3417\u001b[0m, in \u001b[0;35mrun_code\u001b[0m\n    exec(code_obj, self.user_global_ns, self.user_ns)\n",
      "\u001b[1;36m  File \u001b[1;32m\"<ipython-input-101-84ec24706345>\"\u001b[1;36m, line \u001b[1;32m1\u001b[1;36m, in \u001b[1;35m<module>\u001b[1;36m\u001b[0m\n\u001b[1;33m    eval(\"\"\"x = 1\"\"\")\u001b[0m\n",
      "\u001b[1;36m  File \u001b[1;32m\"<string>\"\u001b[1;36m, line \u001b[1;32m1\u001b[0m\n\u001b[1;33m    x = 1\u001b[0m\n\u001b[1;37m      ^\u001b[0m\n\u001b[1;31mSyntaxError\u001b[0m\u001b[1;31m:\u001b[0m invalid syntax\n"
     ]
    }
   ],
   "source": [
    "eval(\"\"\"x = 1\"\"\")"
   ]
  },
  {
   "cell_type": "code",
   "execution_count": 103,
   "metadata": {},
   "outputs": [
    {
     "data": {
      "text/plain": [
       "[100, 121, 144, 169, 196, 225, 256, 289, 324, 361, 400]"
      ]
     },
     "execution_count": 103,
     "metadata": {},
     "output_type": "execute_result"
    }
   ],
   "source": [
    "eval(\"[(lambda x:x**2)(x) for x in y]\")"
   ]
  },
  {
   "cell_type": "code",
   "execution_count": 104,
   "metadata": {},
   "outputs": [
    {
     "data": {
      "text/plain": [
       "<code object <module> at 0x00000156E285BA50, file \"<string>\", line 1>"
      ]
     },
     "execution_count": 104,
     "metadata": {},
     "output_type": "execute_result"
    }
   ],
   "source": [
    "code = compile(\"9+6*(4/3)\", \"<string>\",\"eval\")\n",
    "code"
   ]
  },
  {
   "cell_type": "code",
   "execution_count": 105,
   "metadata": {},
   "outputs": [
    {
     "data": {
      "text/plain": [
       "17.0"
      ]
     },
     "execution_count": 105,
     "metadata": {},
     "output_type": "execute_result"
    }
   ],
   "source": [
    "eval(code)"
   ]
  },
  {
   "cell_type": "code",
   "execution_count": 106,
   "metadata": {},
   "outputs": [
    {
     "data": {
      "text/plain": [
       "50965.01042163601"
      ]
     },
     "execution_count": 106,
     "metadata": {},
     "output_type": "execute_result"
    }
   ],
   "source": [
    "code = compile(\"4/3 * math.pi * math.pow(23,3)\", \"str\", \"eval\")\n",
    "eval(code)"
   ]
  },
  {
   "cell_type": "code",
   "execution_count": 109,
   "metadata": {
    "scrolled": true
   },
   "outputs": [
    {
     "data": {
      "text/html": [
       "<div>\n",
       "<style scoped>\n",
       "    .dataframe tbody tr th:only-of-type {\n",
       "        vertical-align: middle;\n",
       "    }\n",
       "\n",
       "    .dataframe tbody tr th {\n",
       "        vertical-align: top;\n",
       "    }\n",
       "\n",
       "    .dataframe thead th {\n",
       "        text-align: right;\n",
       "    }\n",
       "</style>\n",
       "<table border=\"1\" class=\"dataframe\">\n",
       "  <thead>\n",
       "    <tr style=\"text-align: right;\">\n",
       "      <th></th>\n",
       "      <th>brainwt</th>\n",
       "      <th>bodywt</th>\n",
       "      <th>animal</th>\n",
       "    </tr>\n",
       "  </thead>\n",
       "  <tbody>\n",
       "    <tr>\n",
       "      <th>0</th>\n",
       "      <td>3.384766</td>\n",
       "      <td>44.500</td>\n",
       "      <td>Arctic_fox</td>\n",
       "    </tr>\n",
       "    <tr>\n",
       "      <th>3</th>\n",
       "      <td>36.312500</td>\n",
       "      <td>119.498</td>\n",
       "      <td>Gray_wolf</td>\n",
       "    </tr>\n",
       "    <tr>\n",
       "      <th>4</th>\n",
       "      <td>27.656250</td>\n",
       "      <td>114.996</td>\n",
       "      <td>Goat</td>\n",
       "    </tr>\n",
       "    <tr>\n",
       "      <th>5</th>\n",
       "      <td>14.828125</td>\n",
       "      <td>98.199</td>\n",
       "      <td>Roe_deer</td>\n",
       "    </tr>\n",
       "    <tr>\n",
       "      <th>7</th>\n",
       "      <td>4.191406</td>\n",
       "      <td>57.998</td>\n",
       "      <td>Vervet</td>\n",
       "    </tr>\n",
       "    <tr>\n",
       "      <th>19</th>\n",
       "      <td>10.000000</td>\n",
       "      <td>114.996</td>\n",
       "      <td>Patas_monkey</td>\n",
       "    </tr>\n",
       "    <tr>\n",
       "      <th>26</th>\n",
       "      <td>6.800781</td>\n",
       "      <td>179.003</td>\n",
       "      <td>Rhesus_monkey</td>\n",
       "    </tr>\n",
       "    <tr>\n",
       "      <th>27</th>\n",
       "      <td>35.000000</td>\n",
       "      <td>56.003</td>\n",
       "      <td>Kangaroo</td>\n",
       "    </tr>\n",
       "    <tr>\n",
       "      <th>34</th>\n",
       "      <td>55.500000</td>\n",
       "      <td>175.002</td>\n",
       "      <td>Sheep</td>\n",
       "    </tr>\n",
       "    <tr>\n",
       "      <th>36</th>\n",
       "      <td>10.546875</td>\n",
       "      <td>179.504</td>\n",
       "      <td>Baboon</td>\n",
       "    </tr>\n",
       "    <tr>\n",
       "      <th>38</th>\n",
       "      <td>60.000000</td>\n",
       "      <td>80.996</td>\n",
       "      <td>Giant_armadillo</td>\n",
       "    </tr>\n",
       "    <tr>\n",
       "      <th>40</th>\n",
       "      <td>4.289062</td>\n",
       "      <td>39.201</td>\n",
       "      <td>Raccoon</td>\n",
       "    </tr>\n",
       "    <tr>\n",
       "      <th>49</th>\n",
       "      <td>4.234375</td>\n",
       "      <td>50.400</td>\n",
       "      <td>Red_fox</td>\n",
       "    </tr>\n",
       "  </tbody>\n",
       "</table>\n",
       "</div>"
      ],
      "text/plain": [
       "      brainwt   bodywt           animal\n",
       "0    3.384766   44.500       Arctic_fox\n",
       "3   36.312500  119.498        Gray_wolf\n",
       "4   27.656250  114.996             Goat\n",
       "5   14.828125   98.199         Roe_deer\n",
       "7    4.191406   57.998           Vervet\n",
       "19  10.000000  114.996     Patas_monkey\n",
       "26   6.800781  179.003    Rhesus_monkey\n",
       "27  35.000000   56.003         Kangaroo\n",
       "34  55.500000  175.002            Sheep\n",
       "36  10.546875  179.504           Baboon\n",
       "38  60.000000   80.996  Giant_armadillo\n",
       "40   4.289062   39.201          Raccoon\n",
       "49   4.234375   50.400          Red_fox"
      ]
     },
     "execution_count": 109,
     "metadata": {},
     "output_type": "execute_result"
    }
   ],
   "source": [
    "animals[pd.eval('animals.bodywt > 30 & animals.brainwt < 80')]"
   ]
  },
  {
   "cell_type": "code",
   "execution_count": 112,
   "metadata": {
    "scrolled": true
   },
   "outputs": [
    {
     "data": {
      "text/html": [
       "<div>\n",
       "<style scoped>\n",
       "    .dataframe tbody tr th:only-of-type {\n",
       "        vertical-align: middle;\n",
       "    }\n",
       "\n",
       "    .dataframe tbody tr th {\n",
       "        vertical-align: top;\n",
       "    }\n",
       "\n",
       "    .dataframe thead th {\n",
       "        text-align: right;\n",
       "    }\n",
       "</style>\n",
       "<table border=\"1\" class=\"dataframe\">\n",
       "  <thead>\n",
       "    <tr style=\"text-align: right;\">\n",
       "      <th></th>\n",
       "      <th>brainwt</th>\n",
       "      <th>bodywt</th>\n",
       "      <th>animal</th>\n",
       "    </tr>\n",
       "  </thead>\n",
       "  <tbody>\n",
       "    <tr>\n",
       "      <th>0</th>\n",
       "      <td>3.384766</td>\n",
       "      <td>44.500</td>\n",
       "      <td>Arctic_fox</td>\n",
       "    </tr>\n",
       "    <tr>\n",
       "      <th>3</th>\n",
       "      <td>36.312500</td>\n",
       "      <td>119.498</td>\n",
       "      <td>Gray_wolf</td>\n",
       "    </tr>\n",
       "    <tr>\n",
       "      <th>4</th>\n",
       "      <td>27.656250</td>\n",
       "      <td>114.996</td>\n",
       "      <td>Goat</td>\n",
       "    </tr>\n",
       "    <tr>\n",
       "      <th>5</th>\n",
       "      <td>14.828125</td>\n",
       "      <td>98.199</td>\n",
       "      <td>Roe_deer</td>\n",
       "    </tr>\n",
       "    <tr>\n",
       "      <th>7</th>\n",
       "      <td>4.191406</td>\n",
       "      <td>57.998</td>\n",
       "      <td>Vervet</td>\n",
       "    </tr>\n",
       "    <tr>\n",
       "      <th>19</th>\n",
       "      <td>10.000000</td>\n",
       "      <td>114.996</td>\n",
       "      <td>Patas_monkey</td>\n",
       "    </tr>\n",
       "    <tr>\n",
       "      <th>26</th>\n",
       "      <td>6.800781</td>\n",
       "      <td>179.003</td>\n",
       "      <td>Rhesus_monkey</td>\n",
       "    </tr>\n",
       "    <tr>\n",
       "      <th>27</th>\n",
       "      <td>35.000000</td>\n",
       "      <td>56.003</td>\n",
       "      <td>Kangaroo</td>\n",
       "    </tr>\n",
       "    <tr>\n",
       "      <th>34</th>\n",
       "      <td>55.500000</td>\n",
       "      <td>175.002</td>\n",
       "      <td>Sheep</td>\n",
       "    </tr>\n",
       "    <tr>\n",
       "      <th>36</th>\n",
       "      <td>10.546875</td>\n",
       "      <td>179.504</td>\n",
       "      <td>Baboon</td>\n",
       "    </tr>\n",
       "    <tr>\n",
       "      <th>38</th>\n",
       "      <td>60.000000</td>\n",
       "      <td>80.996</td>\n",
       "      <td>Giant_armadillo</td>\n",
       "    </tr>\n",
       "    <tr>\n",
       "      <th>40</th>\n",
       "      <td>4.289062</td>\n",
       "      <td>39.201</td>\n",
       "      <td>Raccoon</td>\n",
       "    </tr>\n",
       "    <tr>\n",
       "      <th>49</th>\n",
       "      <td>4.234375</td>\n",
       "      <td>50.400</td>\n",
       "      <td>Red_fox</td>\n",
       "    </tr>\n",
       "  </tbody>\n",
       "</table>\n",
       "</div>"
      ],
      "text/plain": [
       "      brainwt   bodywt           animal\n",
       "0    3.384766   44.500       Arctic_fox\n",
       "3   36.312500  119.498        Gray_wolf\n",
       "4   27.656250  114.996             Goat\n",
       "5   14.828125   98.199         Roe_deer\n",
       "7    4.191406   57.998           Vervet\n",
       "19  10.000000  114.996     Patas_monkey\n",
       "26   6.800781  179.003    Rhesus_monkey\n",
       "27  35.000000   56.003         Kangaroo\n",
       "34  55.500000  175.002            Sheep\n",
       "36  10.546875  179.504           Baboon\n",
       "38  60.000000   80.996  Giant_armadillo\n",
       "40   4.289062   39.201          Raccoon\n",
       "49   4.234375   50.400          Red_fox"
      ]
     },
     "execution_count": 112,
     "metadata": {},
     "output_type": "execute_result"
    }
   ],
   "source": [
    "animals.query('brainwt < 80 & bodywt > 30')"
   ]
  },
  {
   "cell_type": "code",
   "execution_count": 114,
   "metadata": {
    "scrolled": true
   },
   "outputs": [
    {
     "data": {
      "text/html": [
       "<div>\n",
       "<style scoped>\n",
       "    .dataframe tbody tr th:only-of-type {\n",
       "        vertical-align: middle;\n",
       "    }\n",
       "\n",
       "    .dataframe tbody tr th {\n",
       "        vertical-align: top;\n",
       "    }\n",
       "\n",
       "    .dataframe thead th {\n",
       "        text-align: right;\n",
       "    }\n",
       "</style>\n",
       "<table border=\"1\" class=\"dataframe\">\n",
       "  <thead>\n",
       "    <tr style=\"text-align: right;\">\n",
       "      <th></th>\n",
       "      <th>brainwt</th>\n",
       "      <th>bodywt</th>\n",
       "      <th>animal</th>\n",
       "      <th>ratio_wt</th>\n",
       "      <th>new_column</th>\n",
       "    </tr>\n",
       "  </thead>\n",
       "  <tbody>\n",
       "    <tr>\n",
       "      <th>0</th>\n",
       "      <td>3.384766</td>\n",
       "      <td>44.500</td>\n",
       "      <td>Arctic_fox</td>\n",
       "      <td>0.076062</td>\n",
       "      <td>0.152124</td>\n",
       "    </tr>\n",
       "    <tr>\n",
       "      <th>1</th>\n",
       "      <td>0.479980</td>\n",
       "      <td>15.499</td>\n",
       "      <td>Owl_monkey</td>\n",
       "      <td>0.030968</td>\n",
       "      <td>0.061937</td>\n",
       "    </tr>\n",
       "    <tr>\n",
       "      <th>2</th>\n",
       "      <td>1.349609</td>\n",
       "      <td>8.100</td>\n",
       "      <td>Beaver</td>\n",
       "      <td>0.166618</td>\n",
       "      <td>0.333237</td>\n",
       "    </tr>\n",
       "    <tr>\n",
       "      <th>3</th>\n",
       "      <td>36.312500</td>\n",
       "      <td>119.498</td>\n",
       "      <td>Gray_wolf</td>\n",
       "      <td>0.303875</td>\n",
       "      <td>0.607751</td>\n",
       "    </tr>\n",
       "    <tr>\n",
       "      <th>4</th>\n",
       "      <td>27.656250</td>\n",
       "      <td>114.996</td>\n",
       "      <td>Goat</td>\n",
       "      <td>0.240497</td>\n",
       "      <td>0.480995</td>\n",
       "    </tr>\n",
       "    <tr>\n",
       "      <th>5</th>\n",
       "      <td>14.828125</td>\n",
       "      <td>98.199</td>\n",
       "      <td>Roe_deer</td>\n",
       "      <td>0.151001</td>\n",
       "      <td>0.302002</td>\n",
       "    </tr>\n",
       "    <tr>\n",
       "      <th>6</th>\n",
       "      <td>1.040039</td>\n",
       "      <td>5.500</td>\n",
       "      <td>Guinea_pig</td>\n",
       "      <td>0.189098</td>\n",
       "      <td>0.378196</td>\n",
       "    </tr>\n",
       "    <tr>\n",
       "      <th>7</th>\n",
       "      <td>4.191406</td>\n",
       "      <td>57.998</td>\n",
       "      <td>Vervet</td>\n",
       "      <td>0.072268</td>\n",
       "      <td>0.144536</td>\n",
       "    </tr>\n",
       "    <tr>\n",
       "      <th>8</th>\n",
       "      <td>0.425049</td>\n",
       "      <td>6.400</td>\n",
       "      <td>Chinchilla</td>\n",
       "      <td>0.066414</td>\n",
       "      <td>0.132828</td>\n",
       "    </tr>\n",
       "    <tr>\n",
       "      <th>9</th>\n",
       "      <td>0.101013</td>\n",
       "      <td>4.000</td>\n",
       "      <td>Ground_squirrel</td>\n",
       "      <td>0.025253</td>\n",
       "      <td>0.050507</td>\n",
       "    </tr>\n",
       "    <tr>\n",
       "      <th>10</th>\n",
       "      <td>0.919922</td>\n",
       "      <td>5.700</td>\n",
       "      <td>Arctic</td>\n",
       "      <td>0.161390</td>\n",
       "      <td>0.322780</td>\n",
       "    </tr>\n",
       "    <tr>\n",
       "      <th>11</th>\n",
       "      <td>1.000000</td>\n",
       "      <td>6.600</td>\n",
       "      <td>African_giant_pouched_rat</td>\n",
       "      <td>0.151515</td>\n",
       "      <td>0.303030</td>\n",
       "    </tr>\n",
       "    <tr>\n",
       "      <th>12</th>\n",
       "      <td>0.005001</td>\n",
       "      <td>0.140</td>\n",
       "      <td>Lesser_short-tailed-shrew</td>\n",
       "      <td>0.035722</td>\n",
       "      <td>0.071444</td>\n",
       "    </tr>\n",
       "    <tr>\n",
       "      <th>13</th>\n",
       "      <td>0.059998</td>\n",
       "      <td>1.000</td>\n",
       "      <td>Star-nosed_mole</td>\n",
       "      <td>0.059998</td>\n",
       "      <td>0.119995</td>\n",
       "    </tr>\n",
       "    <tr>\n",
       "      <th>14</th>\n",
       "      <td>3.500000</td>\n",
       "      <td>10.800</td>\n",
       "      <td>Nine-banded_armadillo</td>\n",
       "      <td>0.324074</td>\n",
       "      <td>0.648148</td>\n",
       "    </tr>\n",
       "    <tr>\n",
       "      <th>15</th>\n",
       "      <td>2.000000</td>\n",
       "      <td>12.300</td>\n",
       "      <td>Tree_hyrax</td>\n",
       "      <td>0.162602</td>\n",
       "      <td>0.325203</td>\n",
       "    </tr>\n",
       "    <tr>\n",
       "      <th>16</th>\n",
       "      <td>1.700195</td>\n",
       "      <td>6.300</td>\n",
       "      <td>N._American</td>\n",
       "      <td>0.269872</td>\n",
       "      <td>0.539745</td>\n",
       "    </tr>\n",
       "    <tr>\n",
       "      <th>17</th>\n",
       "      <td>0.022995</td>\n",
       "      <td>0.300</td>\n",
       "      <td>Big_brown_bat</td>\n",
       "      <td>0.076650</td>\n",
       "      <td>0.153300</td>\n",
       "    </tr>\n",
       "    <tr>\n",
       "      <th>18</th>\n",
       "      <td>0.785156</td>\n",
       "      <td>3.500</td>\n",
       "      <td>European_hedgehog</td>\n",
       "      <td>0.224330</td>\n",
       "      <td>0.448661</td>\n",
       "    </tr>\n",
       "    <tr>\n",
       "      <th>19</th>\n",
       "      <td>10.000000</td>\n",
       "      <td>114.996</td>\n",
       "      <td>Patas_monkey</td>\n",
       "      <td>0.086960</td>\n",
       "      <td>0.173919</td>\n",
       "    </tr>\n",
       "    <tr>\n",
       "      <th>20</th>\n",
       "      <td>3.300781</td>\n",
       "      <td>25.600</td>\n",
       "      <td>Cat</td>\n",
       "      <td>0.128937</td>\n",
       "      <td>0.257874</td>\n",
       "    </tr>\n",
       "    <tr>\n",
       "      <th>21</th>\n",
       "      <td>0.199951</td>\n",
       "      <td>5.000</td>\n",
       "      <td>Galago</td>\n",
       "      <td>0.039990</td>\n",
       "      <td>0.079980</td>\n",
       "    </tr>\n",
       "    <tr>\n",
       "      <th>22</th>\n",
       "      <td>1.410156</td>\n",
       "      <td>17.500</td>\n",
       "      <td>Genet</td>\n",
       "      <td>0.080580</td>\n",
       "      <td>0.161161</td>\n",
       "    </tr>\n",
       "    <tr>\n",
       "      <th>23</th>\n",
       "      <td>85.000000</td>\n",
       "      <td>324.992</td>\n",
       "      <td>Gray_seal</td>\n",
       "      <td>0.261545</td>\n",
       "      <td>0.523090</td>\n",
       "    </tr>\n",
       "    <tr>\n",
       "      <th>24</th>\n",
       "      <td>0.750000</td>\n",
       "      <td>12.300</td>\n",
       "      <td>Rock_hyrax1</td>\n",
       "      <td>0.060976</td>\n",
       "      <td>0.121951</td>\n",
       "    </tr>\n",
       "    <tr>\n",
       "      <th>25</th>\n",
       "      <td>3.500000</td>\n",
       "      <td>3.900</td>\n",
       "      <td>Water_opossum</td>\n",
       "      <td>0.897436</td>\n",
       "      <td>1.794872</td>\n",
       "    </tr>\n",
       "    <tr>\n",
       "      <th>26</th>\n",
       "      <td>6.800781</td>\n",
       "      <td>179.003</td>\n",
       "      <td>Rhesus_monkey</td>\n",
       "      <td>0.037993</td>\n",
       "      <td>0.075985</td>\n",
       "    </tr>\n",
       "    <tr>\n",
       "      <th>27</th>\n",
       "      <td>35.000000</td>\n",
       "      <td>56.003</td>\n",
       "      <td>Kangaroo</td>\n",
       "      <td>0.624967</td>\n",
       "      <td>1.249933</td>\n",
       "    </tr>\n",
       "    <tr>\n",
       "      <th>28</th>\n",
       "      <td>4.050781</td>\n",
       "      <td>17.000</td>\n",
       "      <td>Yellow-bellied_marmot</td>\n",
       "      <td>0.238281</td>\n",
       "      <td>0.476562</td>\n",
       "    </tr>\n",
       "    <tr>\n",
       "      <th>29</th>\n",
       "      <td>0.119995</td>\n",
       "      <td>1.000</td>\n",
       "      <td>Golden_hamster</td>\n",
       "      <td>0.119995</td>\n",
       "      <td>0.239990</td>\n",
       "    </tr>\n",
       "    <tr>\n",
       "      <th>30</th>\n",
       "      <td>0.022995</td>\n",
       "      <td>0.400</td>\n",
       "      <td>Mouse</td>\n",
       "      <td>0.057487</td>\n",
       "      <td>0.114975</td>\n",
       "    </tr>\n",
       "    <tr>\n",
       "      <th>31</th>\n",
       "      <td>0.010002</td>\n",
       "      <td>0.250</td>\n",
       "      <td>Little_brown_bat</td>\n",
       "      <td>0.040009</td>\n",
       "      <td>0.080017</td>\n",
       "    </tr>\n",
       "    <tr>\n",
       "      <th>32</th>\n",
       "      <td>1.400391</td>\n",
       "      <td>12.500</td>\n",
       "      <td>Slow_loris</td>\n",
       "      <td>0.112031</td>\n",
       "      <td>0.224062</td>\n",
       "    </tr>\n",
       "    <tr>\n",
       "      <th>33</th>\n",
       "      <td>2.500000</td>\n",
       "      <td>12.100</td>\n",
       "      <td>Rabbit</td>\n",
       "      <td>0.206612</td>\n",
       "      <td>0.413223</td>\n",
       "    </tr>\n",
       "    <tr>\n",
       "      <th>34</th>\n",
       "      <td>55.500000</td>\n",
       "      <td>175.002</td>\n",
       "      <td>Sheep</td>\n",
       "      <td>0.317139</td>\n",
       "      <td>0.634278</td>\n",
       "    </tr>\n",
       "    <tr>\n",
       "      <th>35</th>\n",
       "      <td>100.000000</td>\n",
       "      <td>156.993</td>\n",
       "      <td>Jaguar</td>\n",
       "      <td>0.636971</td>\n",
       "      <td>1.273942</td>\n",
       "    </tr>\n",
       "    <tr>\n",
       "      <th>36</th>\n",
       "      <td>10.546875</td>\n",
       "      <td>179.504</td>\n",
       "      <td>Baboon</td>\n",
       "      <td>0.058756</td>\n",
       "      <td>0.117511</td>\n",
       "    </tr>\n",
       "    <tr>\n",
       "      <th>37</th>\n",
       "      <td>0.549805</td>\n",
       "      <td>2.400</td>\n",
       "      <td>Desert_hedgehog</td>\n",
       "      <td>0.229085</td>\n",
       "      <td>0.458171</td>\n",
       "    </tr>\n",
       "    <tr>\n",
       "      <th>38</th>\n",
       "      <td>60.000000</td>\n",
       "      <td>80.996</td>\n",
       "      <td>Giant_armadillo</td>\n",
       "      <td>0.740777</td>\n",
       "      <td>1.481555</td>\n",
       "    </tr>\n",
       "    <tr>\n",
       "      <th>39</th>\n",
       "      <td>3.599609</td>\n",
       "      <td>21.000</td>\n",
       "      <td>Rock_hyrax2</td>\n",
       "      <td>0.171410</td>\n",
       "      <td>0.342820</td>\n",
       "    </tr>\n",
       "    <tr>\n",
       "      <th>40</th>\n",
       "      <td>4.289062</td>\n",
       "      <td>39.201</td>\n",
       "      <td>Raccoon</td>\n",
       "      <td>0.109412</td>\n",
       "      <td>0.218824</td>\n",
       "    </tr>\n",
       "    <tr>\n",
       "      <th>41</th>\n",
       "      <td>0.280029</td>\n",
       "      <td>1.900</td>\n",
       "      <td>Rat</td>\n",
       "      <td>0.147384</td>\n",
       "      <td>0.294768</td>\n",
       "    </tr>\n",
       "    <tr>\n",
       "      <th>42</th>\n",
       "      <td>0.075012</td>\n",
       "      <td>1.200</td>\n",
       "      <td>E._American_mole</td>\n",
       "      <td>0.062510</td>\n",
       "      <td>0.125020</td>\n",
       "    </tr>\n",
       "    <tr>\n",
       "      <th>43</th>\n",
       "      <td>0.122009</td>\n",
       "      <td>3.000</td>\n",
       "      <td>Mole_rat</td>\n",
       "      <td>0.040670</td>\n",
       "      <td>0.081340</td>\n",
       "    </tr>\n",
       "    <tr>\n",
       "      <th>44</th>\n",
       "      <td>0.048004</td>\n",
       "      <td>0.330</td>\n",
       "      <td>Musk_shrew</td>\n",
       "      <td>0.145467</td>\n",
       "      <td>0.290934</td>\n",
       "    </tr>\n",
       "    <tr>\n",
       "      <th>45</th>\n",
       "      <td>3.000000</td>\n",
       "      <td>25.001</td>\n",
       "      <td>Echidna</td>\n",
       "      <td>0.119995</td>\n",
       "      <td>0.239990</td>\n",
       "    </tr>\n",
       "    <tr>\n",
       "      <th>46</th>\n",
       "      <td>0.899902</td>\n",
       "      <td>2.600</td>\n",
       "      <td>Tenrec</td>\n",
       "      <td>0.346116</td>\n",
       "      <td>0.692233</td>\n",
       "    </tr>\n",
       "    <tr>\n",
       "      <th>47</th>\n",
       "      <td>1.620117</td>\n",
       "      <td>11.400</td>\n",
       "      <td>Phalanger</td>\n",
       "      <td>0.142116</td>\n",
       "      <td>0.284231</td>\n",
       "    </tr>\n",
       "    <tr>\n",
       "      <th>48</th>\n",
       "      <td>0.104004</td>\n",
       "      <td>2.500</td>\n",
       "      <td>Tree_shrew</td>\n",
       "      <td>0.041602</td>\n",
       "      <td>0.083203</td>\n",
       "    </tr>\n",
       "    <tr>\n",
       "      <th>49</th>\n",
       "      <td>4.234375</td>\n",
       "      <td>50.400</td>\n",
       "      <td>Red_fox</td>\n",
       "      <td>0.084015</td>\n",
       "      <td>0.168031</td>\n",
       "    </tr>\n",
       "  </tbody>\n",
       "</table>\n",
       "</div>"
      ],
      "text/plain": [
       "       brainwt   bodywt                     animal  ratio_wt  new_column\n",
       "0     3.384766   44.500                 Arctic_fox  0.076062    0.152124\n",
       "1     0.479980   15.499                 Owl_monkey  0.030968    0.061937\n",
       "2     1.349609    8.100                     Beaver  0.166618    0.333237\n",
       "3    36.312500  119.498                  Gray_wolf  0.303875    0.607751\n",
       "4    27.656250  114.996                       Goat  0.240497    0.480995\n",
       "5    14.828125   98.199                   Roe_deer  0.151001    0.302002\n",
       "6     1.040039    5.500                 Guinea_pig  0.189098    0.378196\n",
       "7     4.191406   57.998                     Vervet  0.072268    0.144536\n",
       "8     0.425049    6.400                 Chinchilla  0.066414    0.132828\n",
       "9     0.101013    4.000            Ground_squirrel  0.025253    0.050507\n",
       "10    0.919922    5.700                     Arctic  0.161390    0.322780\n",
       "11    1.000000    6.600  African_giant_pouched_rat  0.151515    0.303030\n",
       "12    0.005001    0.140  Lesser_short-tailed-shrew  0.035722    0.071444\n",
       "13    0.059998    1.000            Star-nosed_mole  0.059998    0.119995\n",
       "14    3.500000   10.800      Nine-banded_armadillo  0.324074    0.648148\n",
       "15    2.000000   12.300                 Tree_hyrax  0.162602    0.325203\n",
       "16    1.700195    6.300                N._American  0.269872    0.539745\n",
       "17    0.022995    0.300              Big_brown_bat  0.076650    0.153300\n",
       "18    0.785156    3.500          European_hedgehog  0.224330    0.448661\n",
       "19   10.000000  114.996               Patas_monkey  0.086960    0.173919\n",
       "20    3.300781   25.600                        Cat  0.128937    0.257874\n",
       "21    0.199951    5.000                     Galago  0.039990    0.079980\n",
       "22    1.410156   17.500                      Genet  0.080580    0.161161\n",
       "23   85.000000  324.992                  Gray_seal  0.261545    0.523090\n",
       "24    0.750000   12.300                Rock_hyrax1  0.060976    0.121951\n",
       "25    3.500000    3.900              Water_opossum  0.897436    1.794872\n",
       "26    6.800781  179.003              Rhesus_monkey  0.037993    0.075985\n",
       "27   35.000000   56.003                   Kangaroo  0.624967    1.249933\n",
       "28    4.050781   17.000      Yellow-bellied_marmot  0.238281    0.476562\n",
       "29    0.119995    1.000             Golden_hamster  0.119995    0.239990\n",
       "30    0.022995    0.400                      Mouse  0.057487    0.114975\n",
       "31    0.010002    0.250           Little_brown_bat  0.040009    0.080017\n",
       "32    1.400391   12.500                 Slow_loris  0.112031    0.224062\n",
       "33    2.500000   12.100                     Rabbit  0.206612    0.413223\n",
       "34   55.500000  175.002                      Sheep  0.317139    0.634278\n",
       "35  100.000000  156.993                     Jaguar  0.636971    1.273942\n",
       "36   10.546875  179.504                     Baboon  0.058756    0.117511\n",
       "37    0.549805    2.400            Desert_hedgehog  0.229085    0.458171\n",
       "38   60.000000   80.996            Giant_armadillo  0.740777    1.481555\n",
       "39    3.599609   21.000                Rock_hyrax2  0.171410    0.342820\n",
       "40    4.289062   39.201                    Raccoon  0.109412    0.218824\n",
       "41    0.280029    1.900                        Rat  0.147384    0.294768\n",
       "42    0.075012    1.200           E._American_mole  0.062510    0.125020\n",
       "43    0.122009    3.000                   Mole_rat  0.040670    0.081340\n",
       "44    0.048004    0.330                 Musk_shrew  0.145467    0.290934\n",
       "45    3.000000   25.001                    Echidna  0.119995    0.239990\n",
       "46    0.899902    2.600                     Tenrec  0.346116    0.692233\n",
       "47    1.620117   11.400                  Phalanger  0.142116    0.284231\n",
       "48    0.104004    2.500                 Tree_shrew  0.041602    0.083203\n",
       "49    4.234375   50.400                    Red_fox  0.084015    0.168031"
      ]
     },
     "execution_count": 114,
     "metadata": {},
     "output_type": "execute_result"
    }
   ],
   "source": [
    "animals_new = animals.eval(\"\"\"\n",
    "ratio_wt = brainwt/bodywt\n",
    "new_column = ratio_wt*2\"\"\")\n",
    "animals_new"
   ]
  },
  {
   "cell_type": "code",
   "execution_count": 115,
   "metadata": {
    "scrolled": true
   },
   "outputs": [
    {
     "data": {
      "text/plain": [
       "['brainwt,bodywt,animal\\n',\n",
       " '3.385,44.5,Arctic_fox\\n',\n",
       " '0.48,15.499,Owl_monkey\\n',\n",
       " '1.35,8.1,Beaver\\n',\n",
       " '464.983,423.012,Cow\\n',\n",
       " '36.328,119.498,Gray_wolf\\n',\n",
       " '27.66,114.996,Goat\\n',\n",
       " '14.831,98.199,Roe_deer\\n',\n",
       " '1.04,5.5,Guinea_pig\\n',\n",
       " '4.19,57.998,Vervet\\n',\n",
       " '0.425,6.4,Chinchilla\\n',\n",
       " '0.101,4,Ground_squirrel\\n',\n",
       " '0.92,5.7,Arctic\\n',\n",
       " '1,6.6,African_giant_pouched_rat\\n',\n",
       " '0.005,0.14,Lesser_short-tailed-shrew\\n',\n",
       " '0.06,1,Star-nosed_mole\\n',\n",
       " '3.5,10.8,Nine-banded_armadillo\\n',\n",
       " '2,12.3,Tree_hyrax\\n',\n",
       " '1.7,6.3,N._American\\n',\n",
       " '2547.07,4603.17,Asian_elephant\\n',\n",
       " '0.023,0.3,Big_brown_bat\\n',\n",
       " '187.092,419.012,Donkey\\n',\n",
       " '521.026,654.977,Horse\\n',\n",
       " '0.785,3.5,European_hedgehog\\n',\n",
       " '10,114.996,Patas_monkey\\n',\n",
       " '3.3,25.6,Cat\\n',\n",
       " '0.2,5,Galago\\n',\n",
       " '1.41,17.5,Genet\\n',\n",
       " '529.006,680.005,Giraffe\\n',\n",
       " '206.996,406.019,Gorilla\\n',\n",
       " '85.004,324.992,Gray_seal\\n',\n",
       " '0.75,12.3,Rock_hyrax1\\n',\n",
       " '61.998,1320.02,Human\\n',\n",
       " '6654.18,5711.86,African_elephant\\n',\n",
       " '3.5,3.9,Water_opossum\\n',\n",
       " '6.8,179.003,Rhesus_monkey\\n',\n",
       " '34.998,56.003,Kangaroo\\n',\n",
       " '4.05,17,Yellow-bellied_marmot\\n',\n",
       " '0.12,1,Golden_hamster\\n',\n",
       " '0.023,0.4,Mouse\\n',\n",
       " '0.01,0.25,Little_brown_bat\\n',\n",
       " '1.4,12.5,Slow_loris\\n',\n",
       " '250.01,489.997,Okapi\\n',\n",
       " '2.5,12.1,Rabbit\\n',\n",
       " '55.501,175.002,Sheep\\n',\n",
       " '100.003,156.993,Jaguar\\n',\n",
       " '52.159,440.011,Chimpanzee\\n',\n",
       " '10.55,179.504,Baboon\\n',\n",
       " '0.55,2.4,Desert_hedgehog\\n',\n",
       " '59.997,80.996,Giant_armadillo\\n',\n",
       " '3.6,21,Rock_hyrax2\\n',\n",
       " '4.288,39.201,Raccoon\\n',\n",
       " '0.28,1.9,Rat\\n',\n",
       " '0.075,1.2,E._American_mole\\n',\n",
       " '0.122,3,Mole_rat\\n',\n",
       " '0.048,0.33,Musk_shrew\\n',\n",
       " '192.001,180.008,Pig\\n',\n",
       " '3,25.001,Echidna\\n',\n",
       " '160.004,169,Brazilian_tapir\\n',\n",
       " '0.9,2.6,Tenrec\\n',\n",
       " '1.62,11.4,Phalanger\\n',\n",
       " '0.104,2.5,Tree_shrew\\n',\n",
       " '4.235,50.4,Red_fox\\n']"
      ]
     },
     "execution_count": 115,
     "metadata": {},
     "output_type": "execute_result"
    }
   ],
   "source": [
    "with open('data/animals.csv', 'r') as f:\n",
    "    f_read = f.readlines()\n",
    "\n",
    "f_read"
   ]
  },
  {
   "cell_type": "code",
   "execution_count": 122,
   "metadata": {},
   "outputs": [],
   "source": [
    "[a,b,c,d] = ['string1','string2','string3','string4']"
   ]
  },
  {
   "cell_type": "code",
   "execution_count": 123,
   "metadata": {},
   "outputs": [
    {
     "data": {
      "text/plain": [
       "'string1'"
      ]
     },
     "execution_count": 123,
     "metadata": {},
     "output_type": "execute_result"
    }
   ],
   "source": [
    "a"
   ]
  },
  {
   "cell_type": "code",
   "execution_count": 124,
   "metadata": {},
   "outputs": [
    {
     "data": {
      "text/plain": [
       "'string2'"
      ]
     },
     "execution_count": 124,
     "metadata": {},
     "output_type": "execute_result"
    }
   ],
   "source": [
    "b"
   ]
  },
  {
   "cell_type": "code",
   "execution_count": 125,
   "metadata": {},
   "outputs": [
    {
     "data": {
      "text/plain": [
       "'string3'"
      ]
     },
     "execution_count": 125,
     "metadata": {},
     "output_type": "execute_result"
    }
   ],
   "source": [
    "c"
   ]
  },
  {
   "cell_type": "code",
   "execution_count": 126,
   "metadata": {},
   "outputs": [
    {
     "data": {
      "text/plain": [
       "'string4'"
      ]
     },
     "execution_count": 126,
     "metadata": {},
     "output_type": "execute_result"
    }
   ],
   "source": [
    "d"
   ]
  },
  {
   "cell_type": "code",
   "execution_count": 130,
   "metadata": {},
   "outputs": [],
   "source": [
    "for i in range(10):\n",
    "    var_i = i"
   ]
  },
  {
   "cell_type": "code",
   "execution_count": 131,
   "metadata": {},
   "outputs": [
    {
     "data": {
      "text/plain": [
       "9"
      ]
     },
     "execution_count": 131,
     "metadata": {},
     "output_type": "execute_result"
    }
   ],
   "source": [
    "var_i"
   ]
  },
  {
   "cell_type": "code",
   "execution_count": 132,
   "metadata": {
    "scrolled": true
   },
   "outputs": [
    {
     "data": {
      "text/html": [
       "<div>\n",
       "<style scoped>\n",
       "    .dataframe tbody tr th:only-of-type {\n",
       "        vertical-align: middle;\n",
       "    }\n",
       "\n",
       "    .dataframe tbody tr th {\n",
       "        vertical-align: top;\n",
       "    }\n",
       "\n",
       "    .dataframe thead th {\n",
       "        text-align: right;\n",
       "    }\n",
       "</style>\n",
       "<table border=\"1\" class=\"dataframe\">\n",
       "  <thead>\n",
       "    <tr style=\"text-align: right;\">\n",
       "      <th></th>\n",
       "      <th>brainwt</th>\n",
       "      <th>bodywt</th>\n",
       "      <th>animal</th>\n",
       "      <th>wratio</th>\n",
       "    </tr>\n",
       "  </thead>\n",
       "  <tbody>\n",
       "    <tr>\n",
       "      <th>0</th>\n",
       "      <td>3.384766</td>\n",
       "      <td>44.500</td>\n",
       "      <td>Arctic_fox</td>\n",
       "      <td>0.076062</td>\n",
       "    </tr>\n",
       "    <tr>\n",
       "      <th>1</th>\n",
       "      <td>0.479980</td>\n",
       "      <td>15.499</td>\n",
       "      <td>Owl_monkey</td>\n",
       "      <td>0.030968</td>\n",
       "    </tr>\n",
       "    <tr>\n",
       "      <th>2</th>\n",
       "      <td>1.349609</td>\n",
       "      <td>8.100</td>\n",
       "      <td>Beaver</td>\n",
       "      <td>0.166618</td>\n",
       "    </tr>\n",
       "    <tr>\n",
       "      <th>3</th>\n",
       "      <td>36.312500</td>\n",
       "      <td>119.498</td>\n",
       "      <td>Gray_wolf</td>\n",
       "      <td>0.303875</td>\n",
       "    </tr>\n",
       "    <tr>\n",
       "      <th>4</th>\n",
       "      <td>27.656250</td>\n",
       "      <td>114.996</td>\n",
       "      <td>Goat</td>\n",
       "      <td>0.240497</td>\n",
       "    </tr>\n",
       "    <tr>\n",
       "      <th>5</th>\n",
       "      <td>14.828125</td>\n",
       "      <td>98.199</td>\n",
       "      <td>Roe_deer</td>\n",
       "      <td>0.151001</td>\n",
       "    </tr>\n",
       "    <tr>\n",
       "      <th>6</th>\n",
       "      <td>1.040039</td>\n",
       "      <td>5.500</td>\n",
       "      <td>Guinea_pig</td>\n",
       "      <td>0.189098</td>\n",
       "    </tr>\n",
       "    <tr>\n",
       "      <th>7</th>\n",
       "      <td>4.191406</td>\n",
       "      <td>57.998</td>\n",
       "      <td>Vervet</td>\n",
       "      <td>0.072268</td>\n",
       "    </tr>\n",
       "    <tr>\n",
       "      <th>8</th>\n",
       "      <td>0.425049</td>\n",
       "      <td>6.400</td>\n",
       "      <td>Chinchilla</td>\n",
       "      <td>0.066414</td>\n",
       "    </tr>\n",
       "    <tr>\n",
       "      <th>9</th>\n",
       "      <td>0.101013</td>\n",
       "      <td>4.000</td>\n",
       "      <td>Ground_squirrel</td>\n",
       "      <td>0.025253</td>\n",
       "    </tr>\n",
       "    <tr>\n",
       "      <th>10</th>\n",
       "      <td>0.919922</td>\n",
       "      <td>5.700</td>\n",
       "      <td>Arctic</td>\n",
       "      <td>0.161390</td>\n",
       "    </tr>\n",
       "    <tr>\n",
       "      <th>11</th>\n",
       "      <td>1.000000</td>\n",
       "      <td>6.600</td>\n",
       "      <td>African_giant_pouched_rat</td>\n",
       "      <td>0.151515</td>\n",
       "    </tr>\n",
       "    <tr>\n",
       "      <th>12</th>\n",
       "      <td>0.005001</td>\n",
       "      <td>0.140</td>\n",
       "      <td>Lesser_short-tailed-shrew</td>\n",
       "      <td>0.035722</td>\n",
       "    </tr>\n",
       "    <tr>\n",
       "      <th>13</th>\n",
       "      <td>0.059998</td>\n",
       "      <td>1.000</td>\n",
       "      <td>Star-nosed_mole</td>\n",
       "      <td>0.059998</td>\n",
       "    </tr>\n",
       "    <tr>\n",
       "      <th>14</th>\n",
       "      <td>3.500000</td>\n",
       "      <td>10.800</td>\n",
       "      <td>Nine-banded_armadillo</td>\n",
       "      <td>0.324074</td>\n",
       "    </tr>\n",
       "    <tr>\n",
       "      <th>15</th>\n",
       "      <td>2.000000</td>\n",
       "      <td>12.300</td>\n",
       "      <td>Tree_hyrax</td>\n",
       "      <td>0.162602</td>\n",
       "    </tr>\n",
       "    <tr>\n",
       "      <th>16</th>\n",
       "      <td>1.700195</td>\n",
       "      <td>6.300</td>\n",
       "      <td>N._American</td>\n",
       "      <td>0.269872</td>\n",
       "    </tr>\n",
       "    <tr>\n",
       "      <th>17</th>\n",
       "      <td>0.022995</td>\n",
       "      <td>0.300</td>\n",
       "      <td>Big_brown_bat</td>\n",
       "      <td>0.076650</td>\n",
       "    </tr>\n",
       "    <tr>\n",
       "      <th>18</th>\n",
       "      <td>0.785156</td>\n",
       "      <td>3.500</td>\n",
       "      <td>European_hedgehog</td>\n",
       "      <td>0.224330</td>\n",
       "    </tr>\n",
       "    <tr>\n",
       "      <th>19</th>\n",
       "      <td>10.000000</td>\n",
       "      <td>114.996</td>\n",
       "      <td>Patas_monkey</td>\n",
       "      <td>0.086960</td>\n",
       "    </tr>\n",
       "    <tr>\n",
       "      <th>20</th>\n",
       "      <td>3.300781</td>\n",
       "      <td>25.600</td>\n",
       "      <td>Cat</td>\n",
       "      <td>0.128937</td>\n",
       "    </tr>\n",
       "    <tr>\n",
       "      <th>21</th>\n",
       "      <td>0.199951</td>\n",
       "      <td>5.000</td>\n",
       "      <td>Galago</td>\n",
       "      <td>0.039990</td>\n",
       "    </tr>\n",
       "    <tr>\n",
       "      <th>22</th>\n",
       "      <td>1.410156</td>\n",
       "      <td>17.500</td>\n",
       "      <td>Genet</td>\n",
       "      <td>0.080580</td>\n",
       "    </tr>\n",
       "    <tr>\n",
       "      <th>23</th>\n",
       "      <td>85.000000</td>\n",
       "      <td>324.992</td>\n",
       "      <td>Gray_seal</td>\n",
       "      <td>0.261545</td>\n",
       "    </tr>\n",
       "    <tr>\n",
       "      <th>24</th>\n",
       "      <td>0.750000</td>\n",
       "      <td>12.300</td>\n",
       "      <td>Rock_hyrax1</td>\n",
       "      <td>0.060976</td>\n",
       "    </tr>\n",
       "    <tr>\n",
       "      <th>25</th>\n",
       "      <td>3.500000</td>\n",
       "      <td>3.900</td>\n",
       "      <td>Water_opossum</td>\n",
       "      <td>0.897436</td>\n",
       "    </tr>\n",
       "    <tr>\n",
       "      <th>26</th>\n",
       "      <td>6.800781</td>\n",
       "      <td>179.003</td>\n",
       "      <td>Rhesus_monkey</td>\n",
       "      <td>0.037993</td>\n",
       "    </tr>\n",
       "    <tr>\n",
       "      <th>27</th>\n",
       "      <td>35.000000</td>\n",
       "      <td>56.003</td>\n",
       "      <td>Kangaroo</td>\n",
       "      <td>0.624967</td>\n",
       "    </tr>\n",
       "    <tr>\n",
       "      <th>28</th>\n",
       "      <td>4.050781</td>\n",
       "      <td>17.000</td>\n",
       "      <td>Yellow-bellied_marmot</td>\n",
       "      <td>0.238281</td>\n",
       "    </tr>\n",
       "    <tr>\n",
       "      <th>29</th>\n",
       "      <td>0.119995</td>\n",
       "      <td>1.000</td>\n",
       "      <td>Golden_hamster</td>\n",
       "      <td>0.119995</td>\n",
       "    </tr>\n",
       "    <tr>\n",
       "      <th>30</th>\n",
       "      <td>0.022995</td>\n",
       "      <td>0.400</td>\n",
       "      <td>Mouse</td>\n",
       "      <td>0.057487</td>\n",
       "    </tr>\n",
       "    <tr>\n",
       "      <th>31</th>\n",
       "      <td>0.010002</td>\n",
       "      <td>0.250</td>\n",
       "      <td>Little_brown_bat</td>\n",
       "      <td>0.040009</td>\n",
       "    </tr>\n",
       "    <tr>\n",
       "      <th>32</th>\n",
       "      <td>1.400391</td>\n",
       "      <td>12.500</td>\n",
       "      <td>Slow_loris</td>\n",
       "      <td>0.112031</td>\n",
       "    </tr>\n",
       "    <tr>\n",
       "      <th>33</th>\n",
       "      <td>2.500000</td>\n",
       "      <td>12.100</td>\n",
       "      <td>Rabbit</td>\n",
       "      <td>0.206612</td>\n",
       "    </tr>\n",
       "    <tr>\n",
       "      <th>34</th>\n",
       "      <td>55.500000</td>\n",
       "      <td>175.002</td>\n",
       "      <td>Sheep</td>\n",
       "      <td>0.317139</td>\n",
       "    </tr>\n",
       "    <tr>\n",
       "      <th>35</th>\n",
       "      <td>100.000000</td>\n",
       "      <td>156.993</td>\n",
       "      <td>Jaguar</td>\n",
       "      <td>0.636971</td>\n",
       "    </tr>\n",
       "    <tr>\n",
       "      <th>36</th>\n",
       "      <td>10.546875</td>\n",
       "      <td>179.504</td>\n",
       "      <td>Baboon</td>\n",
       "      <td>0.058756</td>\n",
       "    </tr>\n",
       "    <tr>\n",
       "      <th>37</th>\n",
       "      <td>0.549805</td>\n",
       "      <td>2.400</td>\n",
       "      <td>Desert_hedgehog</td>\n",
       "      <td>0.229085</td>\n",
       "    </tr>\n",
       "    <tr>\n",
       "      <th>38</th>\n",
       "      <td>60.000000</td>\n",
       "      <td>80.996</td>\n",
       "      <td>Giant_armadillo</td>\n",
       "      <td>0.740777</td>\n",
       "    </tr>\n",
       "    <tr>\n",
       "      <th>39</th>\n",
       "      <td>3.599609</td>\n",
       "      <td>21.000</td>\n",
       "      <td>Rock_hyrax2</td>\n",
       "      <td>0.171410</td>\n",
       "    </tr>\n",
       "    <tr>\n",
       "      <th>40</th>\n",
       "      <td>4.289062</td>\n",
       "      <td>39.201</td>\n",
       "      <td>Raccoon</td>\n",
       "      <td>0.109412</td>\n",
       "    </tr>\n",
       "    <tr>\n",
       "      <th>41</th>\n",
       "      <td>0.280029</td>\n",
       "      <td>1.900</td>\n",
       "      <td>Rat</td>\n",
       "      <td>0.147384</td>\n",
       "    </tr>\n",
       "    <tr>\n",
       "      <th>42</th>\n",
       "      <td>0.075012</td>\n",
       "      <td>1.200</td>\n",
       "      <td>E._American_mole</td>\n",
       "      <td>0.062510</td>\n",
       "    </tr>\n",
       "    <tr>\n",
       "      <th>43</th>\n",
       "      <td>0.122009</td>\n",
       "      <td>3.000</td>\n",
       "      <td>Mole_rat</td>\n",
       "      <td>0.040670</td>\n",
       "    </tr>\n",
       "    <tr>\n",
       "      <th>44</th>\n",
       "      <td>0.048004</td>\n",
       "      <td>0.330</td>\n",
       "      <td>Musk_shrew</td>\n",
       "      <td>0.145467</td>\n",
       "    </tr>\n",
       "    <tr>\n",
       "      <th>45</th>\n",
       "      <td>3.000000</td>\n",
       "      <td>25.001</td>\n",
       "      <td>Echidna</td>\n",
       "      <td>0.119995</td>\n",
       "    </tr>\n",
       "    <tr>\n",
       "      <th>46</th>\n",
       "      <td>0.899902</td>\n",
       "      <td>2.600</td>\n",
       "      <td>Tenrec</td>\n",
       "      <td>0.346116</td>\n",
       "    </tr>\n",
       "    <tr>\n",
       "      <th>47</th>\n",
       "      <td>1.620117</td>\n",
       "      <td>11.400</td>\n",
       "      <td>Phalanger</td>\n",
       "      <td>0.142116</td>\n",
       "    </tr>\n",
       "    <tr>\n",
       "      <th>48</th>\n",
       "      <td>0.104004</td>\n",
       "      <td>2.500</td>\n",
       "      <td>Tree_shrew</td>\n",
       "      <td>0.041602</td>\n",
       "    </tr>\n",
       "    <tr>\n",
       "      <th>49</th>\n",
       "      <td>4.234375</td>\n",
       "      <td>50.400</td>\n",
       "      <td>Red_fox</td>\n",
       "      <td>0.084015</td>\n",
       "    </tr>\n",
       "  </tbody>\n",
       "</table>\n",
       "</div>"
      ],
      "text/plain": [
       "       brainwt   bodywt                     animal    wratio\n",
       "0     3.384766   44.500                 Arctic_fox  0.076062\n",
       "1     0.479980   15.499                 Owl_monkey  0.030968\n",
       "2     1.349609    8.100                     Beaver  0.166618\n",
       "3    36.312500  119.498                  Gray_wolf  0.303875\n",
       "4    27.656250  114.996                       Goat  0.240497\n",
       "5    14.828125   98.199                   Roe_deer  0.151001\n",
       "6     1.040039    5.500                 Guinea_pig  0.189098\n",
       "7     4.191406   57.998                     Vervet  0.072268\n",
       "8     0.425049    6.400                 Chinchilla  0.066414\n",
       "9     0.101013    4.000            Ground_squirrel  0.025253\n",
       "10    0.919922    5.700                     Arctic  0.161390\n",
       "11    1.000000    6.600  African_giant_pouched_rat  0.151515\n",
       "12    0.005001    0.140  Lesser_short-tailed-shrew  0.035722\n",
       "13    0.059998    1.000            Star-nosed_mole  0.059998\n",
       "14    3.500000   10.800      Nine-banded_armadillo  0.324074\n",
       "15    2.000000   12.300                 Tree_hyrax  0.162602\n",
       "16    1.700195    6.300                N._American  0.269872\n",
       "17    0.022995    0.300              Big_brown_bat  0.076650\n",
       "18    0.785156    3.500          European_hedgehog  0.224330\n",
       "19   10.000000  114.996               Patas_monkey  0.086960\n",
       "20    3.300781   25.600                        Cat  0.128937\n",
       "21    0.199951    5.000                     Galago  0.039990\n",
       "22    1.410156   17.500                      Genet  0.080580\n",
       "23   85.000000  324.992                  Gray_seal  0.261545\n",
       "24    0.750000   12.300                Rock_hyrax1  0.060976\n",
       "25    3.500000    3.900              Water_opossum  0.897436\n",
       "26    6.800781  179.003              Rhesus_monkey  0.037993\n",
       "27   35.000000   56.003                   Kangaroo  0.624967\n",
       "28    4.050781   17.000      Yellow-bellied_marmot  0.238281\n",
       "29    0.119995    1.000             Golden_hamster  0.119995\n",
       "30    0.022995    0.400                      Mouse  0.057487\n",
       "31    0.010002    0.250           Little_brown_bat  0.040009\n",
       "32    1.400391   12.500                 Slow_loris  0.112031\n",
       "33    2.500000   12.100                     Rabbit  0.206612\n",
       "34   55.500000  175.002                      Sheep  0.317139\n",
       "35  100.000000  156.993                     Jaguar  0.636971\n",
       "36   10.546875  179.504                     Baboon  0.058756\n",
       "37    0.549805    2.400            Desert_hedgehog  0.229085\n",
       "38   60.000000   80.996            Giant_armadillo  0.740777\n",
       "39    3.599609   21.000                Rock_hyrax2  0.171410\n",
       "40    4.289062   39.201                    Raccoon  0.109412\n",
       "41    0.280029    1.900                        Rat  0.147384\n",
       "42    0.075012    1.200           E._American_mole  0.062510\n",
       "43    0.122009    3.000                   Mole_rat  0.040670\n",
       "44    0.048004    0.330                 Musk_shrew  0.145467\n",
       "45    3.000000   25.001                    Echidna  0.119995\n",
       "46    0.899902    2.600                     Tenrec  0.346116\n",
       "47    1.620117   11.400                  Phalanger  0.142116\n",
       "48    0.104004    2.500                 Tree_shrew  0.041602\n",
       "49    4.234375   50.400                    Red_fox  0.084015"
      ]
     },
     "execution_count": 132,
     "metadata": {},
     "output_type": "execute_result"
    }
   ],
   "source": [
    "animals['wratio'] = np.where(animals['brainwt'] !=0, animals['brainwt']/animals['bodywt'],0)\n",
    "animals"
   ]
  },
  {
   "cell_type": "code",
   "execution_count": 133,
   "metadata": {},
   "outputs": [],
   "source": [
    "animals['animals_and'] = np.where((animals['brainwt'] > 15 )&(animals['brainwt'] < 100),\n",
    "                      animals['bodywt']/animals['brainwt'],0)"
   ]
  },
  {
   "cell_type": "code",
   "execution_count": 135,
   "metadata": {},
   "outputs": [],
   "source": [
    "animals['nested']= np.where(animals['brainwt'] > 15, animals['bodywt']/animals['brainwt'],\n",
    "                           np.where(animals['brainwt'] < 10, animals['bodywt']*animals['brainwt'],0))"
   ]
  },
  {
   "cell_type": "code",
   "execution_count": 136,
   "metadata": {
    "scrolled": true
   },
   "outputs": [
    {
     "data": {
      "text/html": [
       "<div>\n",
       "<style scoped>\n",
       "    .dataframe tbody tr th:only-of-type {\n",
       "        vertical-align: middle;\n",
       "    }\n",
       "\n",
       "    .dataframe tbody tr th {\n",
       "        vertical-align: top;\n",
       "    }\n",
       "\n",
       "    .dataframe thead th {\n",
       "        text-align: right;\n",
       "    }\n",
       "</style>\n",
       "<table border=\"1\" class=\"dataframe\">\n",
       "  <thead>\n",
       "    <tr style=\"text-align: right;\">\n",
       "      <th></th>\n",
       "      <th>brainwt</th>\n",
       "      <th>bodywt</th>\n",
       "      <th>animal</th>\n",
       "      <th>wratio</th>\n",
       "      <th>animals_and</th>\n",
       "      <th>nested</th>\n",
       "    </tr>\n",
       "  </thead>\n",
       "  <tbody>\n",
       "    <tr>\n",
       "      <th>0</th>\n",
       "      <td>3.384766</td>\n",
       "      <td>44.500</td>\n",
       "      <td>Arctic_fox</td>\n",
       "      <td>0.076062</td>\n",
       "      <td>0.000000</td>\n",
       "      <td>150.622070</td>\n",
       "    </tr>\n",
       "    <tr>\n",
       "      <th>1</th>\n",
       "      <td>0.479980</td>\n",
       "      <td>15.499</td>\n",
       "      <td>Owl_monkey</td>\n",
       "      <td>0.030968</td>\n",
       "      <td>0.000000</td>\n",
       "      <td>7.439217</td>\n",
       "    </tr>\n",
       "    <tr>\n",
       "      <th>2</th>\n",
       "      <td>1.349609</td>\n",
       "      <td>8.100</td>\n",
       "      <td>Beaver</td>\n",
       "      <td>0.166618</td>\n",
       "      <td>0.000000</td>\n",
       "      <td>10.931836</td>\n",
       "    </tr>\n",
       "    <tr>\n",
       "      <th>3</th>\n",
       "      <td>36.312500</td>\n",
       "      <td>119.498</td>\n",
       "      <td>Gray_wolf</td>\n",
       "      <td>0.303875</td>\n",
       "      <td>3.290823</td>\n",
       "      <td>3.290823</td>\n",
       "    </tr>\n",
       "    <tr>\n",
       "      <th>4</th>\n",
       "      <td>27.656250</td>\n",
       "      <td>114.996</td>\n",
       "      <td>Goat</td>\n",
       "      <td>0.240497</td>\n",
       "      <td>4.158047</td>\n",
       "      <td>4.158047</td>\n",
       "    </tr>\n",
       "    <tr>\n",
       "      <th>5</th>\n",
       "      <td>14.828125</td>\n",
       "      <td>98.199</td>\n",
       "      <td>Roe_deer</td>\n",
       "      <td>0.151001</td>\n",
       "      <td>0.000000</td>\n",
       "      <td>0.000000</td>\n",
       "    </tr>\n",
       "    <tr>\n",
       "      <th>6</th>\n",
       "      <td>1.040039</td>\n",
       "      <td>5.500</td>\n",
       "      <td>Guinea_pig</td>\n",
       "      <td>0.189098</td>\n",
       "      <td>0.000000</td>\n",
       "      <td>5.720215</td>\n",
       "    </tr>\n",
       "    <tr>\n",
       "      <th>7</th>\n",
       "      <td>4.191406</td>\n",
       "      <td>57.998</td>\n",
       "      <td>Vervet</td>\n",
       "      <td>0.072268</td>\n",
       "      <td>0.000000</td>\n",
       "      <td>243.093180</td>\n",
       "    </tr>\n",
       "    <tr>\n",
       "      <th>8</th>\n",
       "      <td>0.425049</td>\n",
       "      <td>6.400</td>\n",
       "      <td>Chinchilla</td>\n",
       "      <td>0.066414</td>\n",
       "      <td>0.000000</td>\n",
       "      <td>2.720313</td>\n",
       "    </tr>\n",
       "    <tr>\n",
       "      <th>9</th>\n",
       "      <td>0.101013</td>\n",
       "      <td>4.000</td>\n",
       "      <td>Ground_squirrel</td>\n",
       "      <td>0.025253</td>\n",
       "      <td>0.000000</td>\n",
       "      <td>0.404053</td>\n",
       "    </tr>\n",
       "    <tr>\n",
       "      <th>10</th>\n",
       "      <td>0.919922</td>\n",
       "      <td>5.700</td>\n",
       "      <td>Arctic</td>\n",
       "      <td>0.161390</td>\n",
       "      <td>0.000000</td>\n",
       "      <td>5.243555</td>\n",
       "    </tr>\n",
       "    <tr>\n",
       "      <th>11</th>\n",
       "      <td>1.000000</td>\n",
       "      <td>6.600</td>\n",
       "      <td>African_giant_pouched_rat</td>\n",
       "      <td>0.151515</td>\n",
       "      <td>0.000000</td>\n",
       "      <td>6.600000</td>\n",
       "    </tr>\n",
       "    <tr>\n",
       "      <th>12</th>\n",
       "      <td>0.005001</td>\n",
       "      <td>0.140</td>\n",
       "      <td>Lesser_short-tailed-shrew</td>\n",
       "      <td>0.035722</td>\n",
       "      <td>0.000000</td>\n",
       "      <td>0.000700</td>\n",
       "    </tr>\n",
       "    <tr>\n",
       "      <th>13</th>\n",
       "      <td>0.059998</td>\n",
       "      <td>1.000</td>\n",
       "      <td>Star-nosed_mole</td>\n",
       "      <td>0.059998</td>\n",
       "      <td>0.000000</td>\n",
       "      <td>0.059998</td>\n",
       "    </tr>\n",
       "    <tr>\n",
       "      <th>14</th>\n",
       "      <td>3.500000</td>\n",
       "      <td>10.800</td>\n",
       "      <td>Nine-banded_armadillo</td>\n",
       "      <td>0.324074</td>\n",
       "      <td>0.000000</td>\n",
       "      <td>37.800000</td>\n",
       "    </tr>\n",
       "    <tr>\n",
       "      <th>15</th>\n",
       "      <td>2.000000</td>\n",
       "      <td>12.300</td>\n",
       "      <td>Tree_hyrax</td>\n",
       "      <td>0.162602</td>\n",
       "      <td>0.000000</td>\n",
       "      <td>24.600000</td>\n",
       "    </tr>\n",
       "    <tr>\n",
       "      <th>16</th>\n",
       "      <td>1.700195</td>\n",
       "      <td>6.300</td>\n",
       "      <td>N._American</td>\n",
       "      <td>0.269872</td>\n",
       "      <td>0.000000</td>\n",
       "      <td>10.711230</td>\n",
       "    </tr>\n",
       "    <tr>\n",
       "      <th>17</th>\n",
       "      <td>0.022995</td>\n",
       "      <td>0.300</td>\n",
       "      <td>Big_brown_bat</td>\n",
       "      <td>0.076650</td>\n",
       "      <td>0.000000</td>\n",
       "      <td>0.006898</td>\n",
       "    </tr>\n",
       "    <tr>\n",
       "      <th>18</th>\n",
       "      <td>0.785156</td>\n",
       "      <td>3.500</td>\n",
       "      <td>European_hedgehog</td>\n",
       "      <td>0.224330</td>\n",
       "      <td>0.000000</td>\n",
       "      <td>2.748047</td>\n",
       "    </tr>\n",
       "    <tr>\n",
       "      <th>19</th>\n",
       "      <td>10.000000</td>\n",
       "      <td>114.996</td>\n",
       "      <td>Patas_monkey</td>\n",
       "      <td>0.086960</td>\n",
       "      <td>0.000000</td>\n",
       "      <td>0.000000</td>\n",
       "    </tr>\n",
       "    <tr>\n",
       "      <th>20</th>\n",
       "      <td>3.300781</td>\n",
       "      <td>25.600</td>\n",
       "      <td>Cat</td>\n",
       "      <td>0.128937</td>\n",
       "      <td>0.000000</td>\n",
       "      <td>84.500000</td>\n",
       "    </tr>\n",
       "    <tr>\n",
       "      <th>21</th>\n",
       "      <td>0.199951</td>\n",
       "      <td>5.000</td>\n",
       "      <td>Galago</td>\n",
       "      <td>0.039990</td>\n",
       "      <td>0.000000</td>\n",
       "      <td>0.999756</td>\n",
       "    </tr>\n",
       "    <tr>\n",
       "      <th>22</th>\n",
       "      <td>1.410156</td>\n",
       "      <td>17.500</td>\n",
       "      <td>Genet</td>\n",
       "      <td>0.080580</td>\n",
       "      <td>0.000000</td>\n",
       "      <td>24.677734</td>\n",
       "    </tr>\n",
       "    <tr>\n",
       "      <th>23</th>\n",
       "      <td>85.000000</td>\n",
       "      <td>324.992</td>\n",
       "      <td>Gray_seal</td>\n",
       "      <td>0.261545</td>\n",
       "      <td>3.823435</td>\n",
       "      <td>3.823435</td>\n",
       "    </tr>\n",
       "    <tr>\n",
       "      <th>24</th>\n",
       "      <td>0.750000</td>\n",
       "      <td>12.300</td>\n",
       "      <td>Rock_hyrax1</td>\n",
       "      <td>0.060976</td>\n",
       "      <td>0.000000</td>\n",
       "      <td>9.225000</td>\n",
       "    </tr>\n",
       "    <tr>\n",
       "      <th>25</th>\n",
       "      <td>3.500000</td>\n",
       "      <td>3.900</td>\n",
       "      <td>Water_opossum</td>\n",
       "      <td>0.897436</td>\n",
       "      <td>0.000000</td>\n",
       "      <td>13.650000</td>\n",
       "    </tr>\n",
       "    <tr>\n",
       "      <th>26</th>\n",
       "      <td>6.800781</td>\n",
       "      <td>179.003</td>\n",
       "      <td>Rhesus_monkey</td>\n",
       "      <td>0.037993</td>\n",
       "      <td>0.000000</td>\n",
       "      <td>1217.360246</td>\n",
       "    </tr>\n",
       "    <tr>\n",
       "      <th>27</th>\n",
       "      <td>35.000000</td>\n",
       "      <td>56.003</td>\n",
       "      <td>Kangaroo</td>\n",
       "      <td>0.624967</td>\n",
       "      <td>1.600086</td>\n",
       "      <td>1.600086</td>\n",
       "    </tr>\n",
       "    <tr>\n",
       "      <th>28</th>\n",
       "      <td>4.050781</td>\n",
       "      <td>17.000</td>\n",
       "      <td>Yellow-bellied_marmot</td>\n",
       "      <td>0.238281</td>\n",
       "      <td>0.000000</td>\n",
       "      <td>68.863281</td>\n",
       "    </tr>\n",
       "    <tr>\n",
       "      <th>29</th>\n",
       "      <td>0.119995</td>\n",
       "      <td>1.000</td>\n",
       "      <td>Golden_hamster</td>\n",
       "      <td>0.119995</td>\n",
       "      <td>0.000000</td>\n",
       "      <td>0.119995</td>\n",
       "    </tr>\n",
       "    <tr>\n",
       "      <th>30</th>\n",
       "      <td>0.022995</td>\n",
       "      <td>0.400</td>\n",
       "      <td>Mouse</td>\n",
       "      <td>0.057487</td>\n",
       "      <td>0.000000</td>\n",
       "      <td>0.009198</td>\n",
       "    </tr>\n",
       "    <tr>\n",
       "      <th>31</th>\n",
       "      <td>0.010002</td>\n",
       "      <td>0.250</td>\n",
       "      <td>Little_brown_bat</td>\n",
       "      <td>0.040009</td>\n",
       "      <td>0.000000</td>\n",
       "      <td>0.002501</td>\n",
       "    </tr>\n",
       "    <tr>\n",
       "      <th>32</th>\n",
       "      <td>1.400391</td>\n",
       "      <td>12.500</td>\n",
       "      <td>Slow_loris</td>\n",
       "      <td>0.112031</td>\n",
       "      <td>0.000000</td>\n",
       "      <td>17.504883</td>\n",
       "    </tr>\n",
       "    <tr>\n",
       "      <th>33</th>\n",
       "      <td>2.500000</td>\n",
       "      <td>12.100</td>\n",
       "      <td>Rabbit</td>\n",
       "      <td>0.206612</td>\n",
       "      <td>0.000000</td>\n",
       "      <td>30.250000</td>\n",
       "    </tr>\n",
       "    <tr>\n",
       "      <th>34</th>\n",
       "      <td>55.500000</td>\n",
       "      <td>175.002</td>\n",
       "      <td>Sheep</td>\n",
       "      <td>0.317139</td>\n",
       "      <td>3.153189</td>\n",
       "      <td>3.153189</td>\n",
       "    </tr>\n",
       "    <tr>\n",
       "      <th>35</th>\n",
       "      <td>100.000000</td>\n",
       "      <td>156.993</td>\n",
       "      <td>Jaguar</td>\n",
       "      <td>0.636971</td>\n",
       "      <td>0.000000</td>\n",
       "      <td>1.569930</td>\n",
       "    </tr>\n",
       "    <tr>\n",
       "      <th>36</th>\n",
       "      <td>10.546875</td>\n",
       "      <td>179.504</td>\n",
       "      <td>Baboon</td>\n",
       "      <td>0.058756</td>\n",
       "      <td>0.000000</td>\n",
       "      <td>0.000000</td>\n",
       "    </tr>\n",
       "    <tr>\n",
       "      <th>37</th>\n",
       "      <td>0.549805</td>\n",
       "      <td>2.400</td>\n",
       "      <td>Desert_hedgehog</td>\n",
       "      <td>0.229085</td>\n",
       "      <td>0.000000</td>\n",
       "      <td>1.319531</td>\n",
       "    </tr>\n",
       "    <tr>\n",
       "      <th>38</th>\n",
       "      <td>60.000000</td>\n",
       "      <td>80.996</td>\n",
       "      <td>Giant_armadillo</td>\n",
       "      <td>0.740777</td>\n",
       "      <td>1.349933</td>\n",
       "      <td>1.349933</td>\n",
       "    </tr>\n",
       "    <tr>\n",
       "      <th>39</th>\n",
       "      <td>3.599609</td>\n",
       "      <td>21.000</td>\n",
       "      <td>Rock_hyrax2</td>\n",
       "      <td>0.171410</td>\n",
       "      <td>0.000000</td>\n",
       "      <td>75.591797</td>\n",
       "    </tr>\n",
       "    <tr>\n",
       "      <th>40</th>\n",
       "      <td>4.289062</td>\n",
       "      <td>39.201</td>\n",
       "      <td>Raccoon</td>\n",
       "      <td>0.109412</td>\n",
       "      <td>0.000000</td>\n",
       "      <td>168.135539</td>\n",
       "    </tr>\n",
       "    <tr>\n",
       "      <th>41</th>\n",
       "      <td>0.280029</td>\n",
       "      <td>1.900</td>\n",
       "      <td>Rat</td>\n",
       "      <td>0.147384</td>\n",
       "      <td>0.000000</td>\n",
       "      <td>0.532056</td>\n",
       "    </tr>\n",
       "    <tr>\n",
       "      <th>42</th>\n",
       "      <td>0.075012</td>\n",
       "      <td>1.200</td>\n",
       "      <td>E._American_mole</td>\n",
       "      <td>0.062510</td>\n",
       "      <td>0.000000</td>\n",
       "      <td>0.090015</td>\n",
       "    </tr>\n",
       "    <tr>\n",
       "      <th>43</th>\n",
       "      <td>0.122009</td>\n",
       "      <td>3.000</td>\n",
       "      <td>Mole_rat</td>\n",
       "      <td>0.040670</td>\n",
       "      <td>0.000000</td>\n",
       "      <td>0.366028</td>\n",
       "    </tr>\n",
       "    <tr>\n",
       "      <th>44</th>\n",
       "      <td>0.048004</td>\n",
       "      <td>0.330</td>\n",
       "      <td>Musk_shrew</td>\n",
       "      <td>0.145467</td>\n",
       "      <td>0.000000</td>\n",
       "      <td>0.015841</td>\n",
       "    </tr>\n",
       "    <tr>\n",
       "      <th>45</th>\n",
       "      <td>3.000000</td>\n",
       "      <td>25.001</td>\n",
       "      <td>Echidna</td>\n",
       "      <td>0.119995</td>\n",
       "      <td>0.000000</td>\n",
       "      <td>75.003000</td>\n",
       "    </tr>\n",
       "    <tr>\n",
       "      <th>46</th>\n",
       "      <td>0.899902</td>\n",
       "      <td>2.600</td>\n",
       "      <td>Tenrec</td>\n",
       "      <td>0.346116</td>\n",
       "      <td>0.000000</td>\n",
       "      <td>2.339746</td>\n",
       "    </tr>\n",
       "    <tr>\n",
       "      <th>47</th>\n",
       "      <td>1.620117</td>\n",
       "      <td>11.400</td>\n",
       "      <td>Phalanger</td>\n",
       "      <td>0.142116</td>\n",
       "      <td>0.000000</td>\n",
       "      <td>18.469336</td>\n",
       "    </tr>\n",
       "    <tr>\n",
       "      <th>48</th>\n",
       "      <td>0.104004</td>\n",
       "      <td>2.500</td>\n",
       "      <td>Tree_shrew</td>\n",
       "      <td>0.041602</td>\n",
       "      <td>0.000000</td>\n",
       "      <td>0.260010</td>\n",
       "    </tr>\n",
       "    <tr>\n",
       "      <th>49</th>\n",
       "      <td>4.234375</td>\n",
       "      <td>50.400</td>\n",
       "      <td>Red_fox</td>\n",
       "      <td>0.084015</td>\n",
       "      <td>0.000000</td>\n",
       "      <td>213.412500</td>\n",
       "    </tr>\n",
       "  </tbody>\n",
       "</table>\n",
       "</div>"
      ],
      "text/plain": [
       "       brainwt   bodywt                     animal    wratio  animals_and  \\\n",
       "0     3.384766   44.500                 Arctic_fox  0.076062     0.000000   \n",
       "1     0.479980   15.499                 Owl_monkey  0.030968     0.000000   \n",
       "2     1.349609    8.100                     Beaver  0.166618     0.000000   \n",
       "3    36.312500  119.498                  Gray_wolf  0.303875     3.290823   \n",
       "4    27.656250  114.996                       Goat  0.240497     4.158047   \n",
       "5    14.828125   98.199                   Roe_deer  0.151001     0.000000   \n",
       "6     1.040039    5.500                 Guinea_pig  0.189098     0.000000   \n",
       "7     4.191406   57.998                     Vervet  0.072268     0.000000   \n",
       "8     0.425049    6.400                 Chinchilla  0.066414     0.000000   \n",
       "9     0.101013    4.000            Ground_squirrel  0.025253     0.000000   \n",
       "10    0.919922    5.700                     Arctic  0.161390     0.000000   \n",
       "11    1.000000    6.600  African_giant_pouched_rat  0.151515     0.000000   \n",
       "12    0.005001    0.140  Lesser_short-tailed-shrew  0.035722     0.000000   \n",
       "13    0.059998    1.000            Star-nosed_mole  0.059998     0.000000   \n",
       "14    3.500000   10.800      Nine-banded_armadillo  0.324074     0.000000   \n",
       "15    2.000000   12.300                 Tree_hyrax  0.162602     0.000000   \n",
       "16    1.700195    6.300                N._American  0.269872     0.000000   \n",
       "17    0.022995    0.300              Big_brown_bat  0.076650     0.000000   \n",
       "18    0.785156    3.500          European_hedgehog  0.224330     0.000000   \n",
       "19   10.000000  114.996               Patas_monkey  0.086960     0.000000   \n",
       "20    3.300781   25.600                        Cat  0.128937     0.000000   \n",
       "21    0.199951    5.000                     Galago  0.039990     0.000000   \n",
       "22    1.410156   17.500                      Genet  0.080580     0.000000   \n",
       "23   85.000000  324.992                  Gray_seal  0.261545     3.823435   \n",
       "24    0.750000   12.300                Rock_hyrax1  0.060976     0.000000   \n",
       "25    3.500000    3.900              Water_opossum  0.897436     0.000000   \n",
       "26    6.800781  179.003              Rhesus_monkey  0.037993     0.000000   \n",
       "27   35.000000   56.003                   Kangaroo  0.624967     1.600086   \n",
       "28    4.050781   17.000      Yellow-bellied_marmot  0.238281     0.000000   \n",
       "29    0.119995    1.000             Golden_hamster  0.119995     0.000000   \n",
       "30    0.022995    0.400                      Mouse  0.057487     0.000000   \n",
       "31    0.010002    0.250           Little_brown_bat  0.040009     0.000000   \n",
       "32    1.400391   12.500                 Slow_loris  0.112031     0.000000   \n",
       "33    2.500000   12.100                     Rabbit  0.206612     0.000000   \n",
       "34   55.500000  175.002                      Sheep  0.317139     3.153189   \n",
       "35  100.000000  156.993                     Jaguar  0.636971     0.000000   \n",
       "36   10.546875  179.504                     Baboon  0.058756     0.000000   \n",
       "37    0.549805    2.400            Desert_hedgehog  0.229085     0.000000   \n",
       "38   60.000000   80.996            Giant_armadillo  0.740777     1.349933   \n",
       "39    3.599609   21.000                Rock_hyrax2  0.171410     0.000000   \n",
       "40    4.289062   39.201                    Raccoon  0.109412     0.000000   \n",
       "41    0.280029    1.900                        Rat  0.147384     0.000000   \n",
       "42    0.075012    1.200           E._American_mole  0.062510     0.000000   \n",
       "43    0.122009    3.000                   Mole_rat  0.040670     0.000000   \n",
       "44    0.048004    0.330                 Musk_shrew  0.145467     0.000000   \n",
       "45    3.000000   25.001                    Echidna  0.119995     0.000000   \n",
       "46    0.899902    2.600                     Tenrec  0.346116     0.000000   \n",
       "47    1.620117   11.400                  Phalanger  0.142116     0.000000   \n",
       "48    0.104004    2.500                 Tree_shrew  0.041602     0.000000   \n",
       "49    4.234375   50.400                    Red_fox  0.084015     0.000000   \n",
       "\n",
       "         nested  \n",
       "0    150.622070  \n",
       "1      7.439217  \n",
       "2     10.931836  \n",
       "3      3.290823  \n",
       "4      4.158047  \n",
       "5      0.000000  \n",
       "6      5.720215  \n",
       "7    243.093180  \n",
       "8      2.720313  \n",
       "9      0.404053  \n",
       "10     5.243555  \n",
       "11     6.600000  \n",
       "12     0.000700  \n",
       "13     0.059998  \n",
       "14    37.800000  \n",
       "15    24.600000  \n",
       "16    10.711230  \n",
       "17     0.006898  \n",
       "18     2.748047  \n",
       "19     0.000000  \n",
       "20    84.500000  \n",
       "21     0.999756  \n",
       "22    24.677734  \n",
       "23     3.823435  \n",
       "24     9.225000  \n",
       "25    13.650000  \n",
       "26  1217.360246  \n",
       "27     1.600086  \n",
       "28    68.863281  \n",
       "29     0.119995  \n",
       "30     0.009198  \n",
       "31     0.002501  \n",
       "32    17.504883  \n",
       "33    30.250000  \n",
       "34     3.153189  \n",
       "35     1.569930  \n",
       "36     0.000000  \n",
       "37     1.319531  \n",
       "38     1.349933  \n",
       "39    75.591797  \n",
       "40   168.135539  \n",
       "41     0.532056  \n",
       "42     0.090015  \n",
       "43     0.366028  \n",
       "44     0.015841  \n",
       "45    75.003000  \n",
       "46     2.339746  \n",
       "47    18.469336  \n",
       "48     0.260010  \n",
       "49   213.412500  "
      ]
     },
     "execution_count": 136,
     "metadata": {},
     "output_type": "execute_result"
    }
   ],
   "source": [
    "animals"
   ]
  },
  {
   "cell_type": "code",
   "execution_count": 137,
   "metadata": {},
   "outputs": [],
   "source": [
    "import sympy"
   ]
  },
  {
   "cell_type": "code",
   "execution_count": 138,
   "metadata": {},
   "outputs": [
    {
     "data": {
      "text/plain": [
       "3.0"
      ]
     },
     "execution_count": 138,
     "metadata": {},
     "output_type": "execute_result"
    }
   ],
   "source": [
    "math.sqrt(9)"
   ]
  },
  {
   "cell_type": "code",
   "execution_count": 140,
   "metadata": {},
   "outputs": [
    {
     "data": {
      "text/latex": [
       "$\\displaystyle 3$"
      ],
      "text/plain": [
       "3"
      ]
     },
     "execution_count": 140,
     "metadata": {},
     "output_type": "execute_result"
    }
   ],
   "source": [
    "raiz = sympy.sqrt(9)\n",
    "raiz"
   ]
  },
  {
   "cell_type": "code",
   "execution_count": 141,
   "metadata": {},
   "outputs": [
    {
     "data": {
      "text/plain": [
       "sympy.core.numbers.Integer"
      ]
     },
     "execution_count": 141,
     "metadata": {},
     "output_type": "execute_result"
    }
   ],
   "source": [
    "type(raiz)"
   ]
  },
  {
   "cell_type": "code",
   "execution_count": 142,
   "metadata": {},
   "outputs": [
    {
     "data": {
      "text/latex": [
       "$\\displaystyle 9$"
      ],
      "text/plain": [
       "9"
      ]
     },
     "execution_count": 142,
     "metadata": {},
     "output_type": "execute_result"
    }
   ],
   "source": [
    "raiz**2"
   ]
  },
  {
   "cell_type": "code",
   "execution_count": 144,
   "metadata": {},
   "outputs": [],
   "source": [
    "from sympy import symbols"
   ]
  },
  {
   "cell_type": "code",
   "execution_count": 145,
   "metadata": {},
   "outputs": [],
   "source": [
    "x, y = symbols('x y')"
   ]
  },
  {
   "cell_type": "code",
   "execution_count": 149,
   "metadata": {},
   "outputs": [
    {
     "data": {
      "text/latex": [
       "$\\displaystyle 2 \\sqrt{x} y$"
      ],
      "text/plain": [
       "2*sqrt(x)*y"
      ]
     },
     "execution_count": 149,
     "metadata": {},
     "output_type": "execute_result"
    }
   ],
   "source": [
    "(y*2)*sympy.sqrt(x)"
   ]
  },
  {
   "cell_type": "code",
   "execution_count": 150,
   "metadata": {},
   "outputs": [],
   "source": [
    "expr = x + 2*y"
   ]
  },
  {
   "cell_type": "code",
   "execution_count": 151,
   "metadata": {},
   "outputs": [
    {
     "data": {
      "text/latex": [
       "$\\displaystyle x + 2 y$"
      ],
      "text/plain": [
       "x + 2*y"
      ]
     },
     "execution_count": 151,
     "metadata": {},
     "output_type": "execute_result"
    }
   ],
   "source": [
    "expr"
   ]
  },
  {
   "cell_type": "code",
   "execution_count": 154,
   "metadata": {},
   "outputs": [
    {
     "data": {
      "text/latex": [
       "$\\displaystyle 12$"
      ],
      "text/plain": [
       "12"
      ]
     },
     "execution_count": 154,
     "metadata": {},
     "output_type": "execute_result"
    }
   ],
   "source": [
    "expr.subs([(x,2),(y,5)])"
   ]
  },
  {
   "cell_type": "code",
   "execution_count": 156,
   "metadata": {},
   "outputs": [],
   "source": [
    "from sympy import *"
   ]
  },
  {
   "cell_type": "code",
   "execution_count": 157,
   "metadata": {},
   "outputs": [],
   "source": [
    "expr_2 = cos(x)"
   ]
  },
  {
   "cell_type": "code",
   "execution_count": 158,
   "metadata": {},
   "outputs": [
    {
     "data": {
      "text/latex": [
       "$\\displaystyle \\cos{\\left(4 \\right)}$"
      ],
      "text/plain": [
       "cos(4)"
      ]
     },
     "execution_count": 158,
     "metadata": {},
     "output_type": "execute_result"
    }
   ],
   "source": [
    "expr_2.subs(x,4)"
   ]
  },
  {
   "cell_type": "code",
   "execution_count": 159,
   "metadata": {},
   "outputs": [
    {
     "data": {
      "text/latex": [
       "$\\displaystyle e^{x} \\sin{\\left(x \\right)} + e^{x} \\cos{\\left(x \\right)}$"
      ],
      "text/plain": [
       "exp(x)*sin(x) + exp(x)*cos(x)"
      ]
     },
     "execution_count": 159,
     "metadata": {},
     "output_type": "execute_result"
    }
   ],
   "source": [
    "diff(sin(x)*exp(x),x) "
   ]
  },
  {
   "cell_type": "code",
   "execution_count": 160,
   "metadata": {},
   "outputs": [],
   "source": [
    "A = np.array([[1,2],[3,4]])\n",
    "b = np.array([3,17])"
   ]
  },
  {
   "cell_type": "code",
   "execution_count": null,
   "metadata": {},
   "outputs": [],
   "source": [
    "x+2y=3\n",
    "3x+4y=17"
   ]
  },
  {
   "cell_type": "code",
   "execution_count": 161,
   "metadata": {},
   "outputs": [],
   "source": [
    "import scipy.linalg as la"
   ]
  },
  {
   "cell_type": "code",
   "execution_count": 162,
   "metadata": {},
   "outputs": [
    {
     "data": {
      "text/plain": [
       "array([11., -4.])"
      ]
     },
     "execution_count": 162,
     "metadata": {},
     "output_type": "execute_result"
    }
   ],
   "source": [
    "x = la.solve(A,b)\n",
    "x"
   ]
  },
  {
   "cell_type": "code",
   "execution_count": 163,
   "metadata": {},
   "outputs": [
    {
     "data": {
      "text/plain": [
       "array([ 3., 17.])"
      ]
     },
     "execution_count": 163,
     "metadata": {},
     "output_type": "execute_result"
    }
   ],
   "source": [
    "A@x"
   ]
  },
  {
   "cell_type": "code",
   "execution_count": 164,
   "metadata": {},
   "outputs": [
    {
     "data": {
      "text/plain": [
       "True"
      ]
     },
     "execution_count": 164,
     "metadata": {},
     "output_type": "execute_result"
    }
   ],
   "source": [
    "np.allclose(A @ x, b)"
   ]
  },
  {
   "cell_type": "code",
   "execution_count": 165,
   "metadata": {},
   "outputs": [],
   "source": [
    "from scipy import integrate"
   ]
  },
  {
   "cell_type": "code",
   "execution_count": 166,
   "metadata": {},
   "outputs": [],
   "source": [
    "f = lambda x: 12*x"
   ]
  },
  {
   "cell_type": "code",
   "execution_count": null,
   "metadata": {},
   "outputs": [],
   "source": [
    "f(x) = 12*x"
   ]
  },
  {
   "cell_type": "code",
   "execution_count": 167,
   "metadata": {},
   "outputs": [
    {
     "data": {
      "text/plain": [
       "(6.0, 6.661338147750939e-14)"
      ]
     },
     "execution_count": 167,
     "metadata": {},
     "output_type": "execute_result"
    }
   ],
   "source": [
    "res = integrate.quad(f, 0,1)\n",
    "res"
   ]
  },
  {
   "cell_type": "code",
   "execution_count": 168,
   "metadata": {},
   "outputs": [
    {
     "data": {
      "text/plain": [
       "(3.0, 6.661338147750939e-14)"
      ]
     },
     "execution_count": 168,
     "metadata": {},
     "output_type": "execute_result"
    }
   ],
   "source": [
    "f=lambda x, y=1 : 12*x*1 #y=1\n",
    "\n",
    "res=integrate.dblquad(f, 0, 0.5, lambda x: 0, lambda x: 1)\n",
    "\n",
    "res"
   ]
  },
  {
   "cell_type": "code",
   "execution_count": 169,
   "metadata": {},
   "outputs": [
    {
     "name": "stdout",
     "output_type": "stream",
     "text": [
      "[0.         0.45454545 0.90909091 1.36363636 1.81818182 2.27272727\n",
      " 2.72727273 3.18181818 3.63636364 4.09090909 4.54545455 5.        ] [-0.65364362 -0.60001388 -0.42313893 -0.09242219  0.37976236  0.84649879\n",
      "  0.9808235   0.46118122 -0.52586509 -0.98820612 -0.10830906  0.97296947]\n"
     ]
    }
   ],
   "source": [
    "x = np.linspace(0,5,12)\n",
    "y = np.cos(x**2/3+4)\n",
    "print(x,y)"
   ]
  },
  {
   "cell_type": "code",
   "execution_count": 171,
   "metadata": {},
   "outputs": [],
   "source": [
    "import matplotlib.pyplot as plt"
   ]
  },
  {
   "cell_type": "code",
   "execution_count": 179,
   "metadata": {},
   "outputs": [
    {
     "data": {
      "image/png": "[encoded data removed]",
      "text/plain": [
       "<Figure size 432x288 with 1 Axes>"
      ]
     },
     "metadata": {
      "needs_background": "light"
     },
     "output_type": "display_data"
    }
   ],
   "source": [
    "plt.plot(x,y,'g*');"
   ]
  },
  {
   "cell_type": "code",
   "execution_count": 180,
   "metadata": {},
   "outputs": [],
   "source": [
    "from scipy.interpolate import interp1d"
   ]
  },
  {
   "cell_type": "code",
   "execution_count": 185,
   "metadata": {},
   "outputs": [],
   "source": [
    "f = interp1d(x,y) #objeto para interpolar\n",
    "\n",
    "x_new = np.linspace(0,5,40)\n",
    "y_new = f(x_new) #interpolacion del nuevo espacio lineal"
   ]
  },
  {
   "cell_type": "code",
   "execution_count": 186,
   "metadata": {},
   "outputs": [
    {
     "data": {
      "text/plain": [
       "[<matplotlib.lines.Line2D at 0x156e56a8fc8>]"
      ]
     },
     "execution_count": 186,
     "metadata": {},
     "output_type": "execute_result"
    },
    {
     "data": {
      "image/png": "[encoded data removed]",
      "text/plain": [
       "<Figure size 432x288 with 1 Axes>"
      ]
     },
     "metadata": {
      "needs_background": "light"
     },
     "output_type": "display_data"
    }
   ],
   "source": [
    "plt.plot(x_new,y_new, 'go')\n",
    "plt.plot(x,y,'b*')"
   ]
  },
  {
   "cell_type": "code",
   "execution_count": 190,
   "metadata": {},
   "outputs": [
    {
     "data": {
      "text/plain": [
       "[<matplotlib.lines.Line2D at 0x156e58fef88>]"
      ]
     },
     "execution_count": 190,
     "metadata": {},
     "output_type": "execute_result"
    },
    {
     "data": {
      "image/png": "[encoded data removed]",
      "text/plain": [
       "<Figure size 432x288 with 1 Axes>"
      ]
     },
     "metadata": {
      "needs_background": "light"
     },
     "output_type": "display_data"
    }
   ],
   "source": [
    "f = interp1d(x,y)\n",
    "\n",
    "xnew = np.linspace(0,5,30,endpoint=True)\n",
    "ynew = f(xnew)\n",
    "\n",
    "plt.plot(xnew,ynew, 'r-')\n",
    "plt.plot(x,y,'b-')"
   ]
  },
  {
   "cell_type": "code",
   "execution_count": null,
   "metadata": {},
   "outputs": [],
   "source": []
  }
 ],
 "metadata": {
  "kernelspec": {
   "display_name": "Python 3",
   "language": "python",
   "name": "python3"
  },
  "language_info": {
   "codemirror_mode": {
    "name": "ipython",
    "version": 3
   },
   "file_extension": ".py",
   "mimetype": "text/x-python",
   "name": "python",
   "nbconvert_exporter": "python",
   "pygments_lexer": "ipython3",
   "version": "3.7.4"
  }
 },
 "nbformat": 4,
 "nbformat_minor": 4
}
