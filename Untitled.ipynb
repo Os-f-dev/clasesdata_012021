{
 "cells": [
  {
   "cell_type": "markdown",
   "metadata": {},
   "source": [
    "#Survival Analysis\n",
    "\n",
    "Originalmente diseñado para cuantificar y medir la esperanza de vida de un individuo, por ejemplo, si queremos conocer la probabilidad de mortalidad si se contrae cierta enfermedad. Se puede usar para varios propósitos: esperanza de vida, fallos mecánicos, retención de clientes o para estimar el periodo de recuperación de una enfermedad.\n",
    "\n",
    "Hay tres requerimientos:\n",
    "+ Campo con el número de veces que ocurre el evento (un count)\n",
    "+ Campo temporal\n",
    "+ Campo de agrupación\n",
    "\n",
    "\n",
    "**Estimador Kaplan-Meier**\n",
    "\n",
    "https://en.wikipedia.org/wiki/Kaplan%E2%80%93Meier_estimator\n",
    "\n",
    "\n",
    "\n",
    "$$S(t) = \\prod_{i:t_i<t}(1-\\frac{d_i}{n_i})$$\n",
    "\n",
    "\n",
    "donde :\n",
    "\n",
    "$d_i = $ número de muertes\n",
    "\n",
    "$n_i = $ número de individuos"
   ]
  },
  {
   "cell_type": "code",
   "execution_count": 1,
   "metadata": {},
   "outputs": [
    {
     "data": {
      "text/html": [
       "        <script type=\"text/javascript\">\n",
       "        window.PlotlyConfig = {MathJaxConfig: 'local'};\n",
       "        if (window.MathJax) {MathJax.Hub.Config({SVG: {font: \"STIX-Web\"}});}\n",
       "        if (typeof require !== 'undefined') {\n",
       "        require.undef(\"plotly\");\n",
       "        requirejs.config({\n",
       "            paths: {\n",
       "                'plotly': ['https://cdn.plot.ly/plotly-latest.min']\n",
       "            }\n",
       "        });\n",
       "        require(['plotly'], function(Plotly) {\n",
       "            window._Plotly = Plotly;\n",
       "        });\n",
       "        }\n",
       "        </script>\n",
       "        "
      ]
     },
     "metadata": {},
     "output_type": "display_data"
    }
   ],
   "source": [
    "import chart_studio.plotly as py\n",
    "import cufflinks as cf\n",
    "cf.go_offline()"
   ]
  },
  {
   "cell_type": "code",
   "execution_count": 2,
   "metadata": {},
   "outputs": [],
   "source": [
    "import pandas as pd"
   ]
  },
  {
   "cell_type": "code",
   "execution_count": 3,
   "metadata": {},
   "outputs": [],
   "source": [
    "churn = pd.read_csv('data/churn.csv')"
   ]
  },
  {
   "cell_type": "code",
   "execution_count": 5,
   "metadata": {
    "scrolled": true
   },
   "outputs": [
    {
     "name": "stdout",
     "output_type": "stream",
     "text": [
      "<class 'pandas.core.frame.DataFrame'>\n",
      "RangeIndex: 7032 entries, 0 to 7031\n",
      "Data columns (total 25 columns):\n",
      "customerID          7032 non-null object\n",
      "gender              7032 non-null object\n",
      "SeniorCitizen       7032 non-null int64\n",
      "Partner             7032 non-null object\n",
      "Dependents          7032 non-null object\n",
      "tenure              7032 non-null int64\n",
      "PhoneService        7032 non-null object\n",
      "MultipleLines       7032 non-null object\n",
      "InternetService     7032 non-null object\n",
      "OnlineSecurity      7032 non-null object\n",
      "OnlineBackup        7032 non-null object\n",
      "DeviceProtection    7032 non-null object\n",
      "TechSupport         7032 non-null object\n",
      "StreamingTV         7032 non-null object\n",
      "StreamingMovies     7032 non-null object\n",
      "Contract            7032 non-null object\n",
      "PaperlessBilling    7032 non-null object\n",
      "PaymentMethod       7032 non-null object\n",
      "MonthlyCharges      7032 non-null float64\n",
      "TotalCharges        7032 non-null float64\n",
      "Churn               7032 non-null object\n",
      "MonthLevel          7032 non-null object\n",
      "TotalLevel          7032 non-null object\n",
      "TenureLevel         7032 non-null object\n",
      "ChurnBinary         7032 non-null float64\n",
      "dtypes: float64(3), int64(2), object(20)\n",
      "memory usage: 1.3+ MB\n"
     ]
    }
   ],
   "source": [
    "churn.info()"
   ]
  },
  {
   "cell_type": "code",
   "execution_count": 6,
   "metadata": {},
   "outputs": [
    {
     "data": {
      "text/html": [
       "<div>\n",
       "<style scoped>\n",
       "    .dataframe tbody tr th:only-of-type {\n",
       "        vertical-align: middle;\n",
       "    }\n",
       "\n",
       "    .dataframe tbody tr th {\n",
       "        vertical-align: top;\n",
       "    }\n",
       "\n",
       "    .dataframe thead th {\n",
       "        text-align: right;\n",
       "    }\n",
       "</style>\n",
       "<table border=\"1\" class=\"dataframe\">\n",
       "  <thead>\n",
       "    <tr style=\"text-align: right;\">\n",
       "      <th></th>\n",
       "      <th>customerID</th>\n",
       "      <th>gender</th>\n",
       "      <th>SeniorCitizen</th>\n",
       "      <th>Partner</th>\n",
       "      <th>Dependents</th>\n",
       "      <th>tenure</th>\n",
       "      <th>PhoneService</th>\n",
       "      <th>MultipleLines</th>\n",
       "      <th>InternetService</th>\n",
       "      <th>OnlineSecurity</th>\n",
       "      <th>...</th>\n",
       "      <th>Contract</th>\n",
       "      <th>PaperlessBilling</th>\n",
       "      <th>PaymentMethod</th>\n",
       "      <th>MonthlyCharges</th>\n",
       "      <th>TotalCharges</th>\n",
       "      <th>Churn</th>\n",
       "      <th>MonthLevel</th>\n",
       "      <th>TotalLevel</th>\n",
       "      <th>TenureLevel</th>\n",
       "      <th>ChurnBinary</th>\n",
       "    </tr>\n",
       "  </thead>\n",
       "  <tbody>\n",
       "    <tr>\n",
       "      <th>0</th>\n",
       "      <td>7590-VHVEG</td>\n",
       "      <td>Female</td>\n",
       "      <td>0</td>\n",
       "      <td>Yes</td>\n",
       "      <td>No</td>\n",
       "      <td>1</td>\n",
       "      <td>No</td>\n",
       "      <td>No phone service</td>\n",
       "      <td>DSL</td>\n",
       "      <td>No</td>\n",
       "      <td>...</td>\n",
       "      <td>Month-to-month</td>\n",
       "      <td>Yes</td>\n",
       "      <td>Electronic check</td>\n",
       "      <td>29.85</td>\n",
       "      <td>29.85</td>\n",
       "      <td>No</td>\n",
       "      <td>Low</td>\n",
       "      <td>Very Low</td>\n",
       "      <td>New</td>\n",
       "      <td>0.0</td>\n",
       "    </tr>\n",
       "    <tr>\n",
       "      <th>1</th>\n",
       "      <td>5575-GNVDE</td>\n",
       "      <td>Male</td>\n",
       "      <td>0</td>\n",
       "      <td>No</td>\n",
       "      <td>No</td>\n",
       "      <td>34</td>\n",
       "      <td>Yes</td>\n",
       "      <td>No</td>\n",
       "      <td>DSL</td>\n",
       "      <td>Yes</td>\n",
       "      <td>...</td>\n",
       "      <td>One year</td>\n",
       "      <td>No</td>\n",
       "      <td>Mailed check</td>\n",
       "      <td>56.95</td>\n",
       "      <td>1889.50</td>\n",
       "      <td>No</td>\n",
       "      <td>Low</td>\n",
       "      <td>Moderate</td>\n",
       "      <td>Loyal</td>\n",
       "      <td>0.0</td>\n",
       "    </tr>\n",
       "    <tr>\n",
       "      <th>2</th>\n",
       "      <td>3668-QPYBK</td>\n",
       "      <td>Male</td>\n",
       "      <td>0</td>\n",
       "      <td>No</td>\n",
       "      <td>No</td>\n",
       "      <td>2</td>\n",
       "      <td>Yes</td>\n",
       "      <td>No</td>\n",
       "      <td>DSL</td>\n",
       "      <td>Yes</td>\n",
       "      <td>...</td>\n",
       "      <td>Month-to-month</td>\n",
       "      <td>Yes</td>\n",
       "      <td>Mailed check</td>\n",
       "      <td>53.85</td>\n",
       "      <td>108.15</td>\n",
       "      <td>Yes</td>\n",
       "      <td>Low</td>\n",
       "      <td>Very Low</td>\n",
       "      <td>New</td>\n",
       "      <td>1.0</td>\n",
       "    </tr>\n",
       "    <tr>\n",
       "      <th>3</th>\n",
       "      <td>7795-CFOCW</td>\n",
       "      <td>Male</td>\n",
       "      <td>0</td>\n",
       "      <td>No</td>\n",
       "      <td>No</td>\n",
       "      <td>45</td>\n",
       "      <td>No</td>\n",
       "      <td>No phone service</td>\n",
       "      <td>DSL</td>\n",
       "      <td>Yes</td>\n",
       "      <td>...</td>\n",
       "      <td>One year</td>\n",
       "      <td>No</td>\n",
       "      <td>Bank transfer (automatic)</td>\n",
       "      <td>42.30</td>\n",
       "      <td>1840.75</td>\n",
       "      <td>No</td>\n",
       "      <td>Low</td>\n",
       "      <td>Moderate</td>\n",
       "      <td>Loyal</td>\n",
       "      <td>0.0</td>\n",
       "    </tr>\n",
       "    <tr>\n",
       "      <th>4</th>\n",
       "      <td>9237-HQITU</td>\n",
       "      <td>Female</td>\n",
       "      <td>0</td>\n",
       "      <td>No</td>\n",
       "      <td>No</td>\n",
       "      <td>2</td>\n",
       "      <td>Yes</td>\n",
       "      <td>No</td>\n",
       "      <td>Fiber optic</td>\n",
       "      <td>No</td>\n",
       "      <td>...</td>\n",
       "      <td>Month-to-month</td>\n",
       "      <td>Yes</td>\n",
       "      <td>Electronic check</td>\n",
       "      <td>70.70</td>\n",
       "      <td>151.65</td>\n",
       "      <td>Yes</td>\n",
       "      <td>Moderate</td>\n",
       "      <td>Very Low</td>\n",
       "      <td>New</td>\n",
       "      <td>1.0</td>\n",
       "    </tr>\n",
       "  </tbody>\n",
       "</table>\n",
       "<p>5 rows × 25 columns</p>\n",
       "</div>"
      ],
      "text/plain": [
       "   customerID  gender  SeniorCitizen Partner Dependents  tenure PhoneService  \\\n",
       "0  7590-VHVEG  Female              0     Yes         No       1           No   \n",
       "1  5575-GNVDE    Male              0      No         No      34          Yes   \n",
       "2  3668-QPYBK    Male              0      No         No       2          Yes   \n",
       "3  7795-CFOCW    Male              0      No         No      45           No   \n",
       "4  9237-HQITU  Female              0      No         No       2          Yes   \n",
       "\n",
       "      MultipleLines InternetService OnlineSecurity  ...        Contract  \\\n",
       "0  No phone service             DSL             No  ...  Month-to-month   \n",
       "1                No             DSL            Yes  ...        One year   \n",
       "2                No             DSL            Yes  ...  Month-to-month   \n",
       "3  No phone service             DSL            Yes  ...        One year   \n",
       "4                No     Fiber optic             No  ...  Month-to-month   \n",
       "\n",
       "  PaperlessBilling              PaymentMethod MonthlyCharges TotalCharges  \\\n",
       "0              Yes           Electronic check          29.85        29.85   \n",
       "1               No               Mailed check          56.95      1889.50   \n",
       "2              Yes               Mailed check          53.85       108.15   \n",
       "3               No  Bank transfer (automatic)          42.30      1840.75   \n",
       "4              Yes           Electronic check          70.70       151.65   \n",
       "\n",
       "  Churn MonthLevel TotalLevel  TenureLevel  ChurnBinary  \n",
       "0    No        Low   Very Low          New          0.0  \n",
       "1    No        Low   Moderate        Loyal          0.0  \n",
       "2   Yes        Low   Very Low          New          1.0  \n",
       "3    No        Low   Moderate        Loyal          0.0  \n",
       "4   Yes   Moderate   Very Low          New          1.0  \n",
       "\n",
       "[5 rows x 25 columns]"
      ]
     },
     "execution_count": 6,
     "metadata": {},
     "output_type": "execute_result"
    }
   ],
   "source": [
    "churn.head()"
   ]
  },
  {
   "cell_type": "code",
   "execution_count": 8,
   "metadata": {},
   "outputs": [
    {
     "data": {
      "text/plain": [
       "0        1\n",
       "1       34\n",
       "2        2\n",
       "3       45\n",
       "4        2\n",
       "        ..\n",
       "7027    24\n",
       "7028    72\n",
       "7029    11\n",
       "7030     4\n",
       "7031    66\n",
       "Name: tenure, Length: 7032, dtype: int64"
      ]
     },
     "execution_count": 8,
     "metadata": {},
     "output_type": "execute_result"
    }
   ],
   "source": [
    "churn.tenure"
   ]
  },
  {
   "cell_type": "code",
   "execution_count": 9,
   "metadata": {},
   "outputs": [],
   "source": [
    "from lifelines import KaplanMeierFitter"
   ]
  },
  {
   "cell_type": "code",
   "execution_count": 22,
   "metadata": {},
   "outputs": [],
   "source": [
    "def survival(data, group_field, time_field, event_field):\n",
    "    model = KaplanMeierFitter()\n",
    "    results = []\n",
    "    \n",
    "    for i in data[group_field].unique():\n",
    "        group = data[data[group_field] == i]\n",
    "        T = group[time_field]\n",
    "        E = group[event_field]\n",
    "        \n",
    "        model.fit(T,E, label =str(i))\n",
    "        results.append(model.survival_function_)\n",
    "        \n",
    "    survival = pd.concat(results, axis = 1)\n",
    "    return survival"
   ]
  },
  {
   "cell_type": "code",
   "execution_count": 23,
   "metadata": {},
   "outputs": [
    {
     "data": {
      "text/html": [
       "<div>\n",
       "<style scoped>\n",
       "    .dataframe tbody tr th:only-of-type {\n",
       "        vertical-align: middle;\n",
       "    }\n",
       "\n",
       "    .dataframe tbody tr th {\n",
       "        vertical-align: top;\n",
       "    }\n",
       "\n",
       "    .dataframe thead th {\n",
       "        text-align: right;\n",
       "    }\n",
       "</style>\n",
       "<table border=\"1\" class=\"dataframe\">\n",
       "  <thead>\n",
       "    <tr style=\"text-align: right;\">\n",
       "      <th></th>\n",
       "      <th>Female</th>\n",
       "      <th>Male</th>\n",
       "    </tr>\n",
       "    <tr>\n",
       "      <th>timeline</th>\n",
       "      <th></th>\n",
       "      <th></th>\n",
       "    </tr>\n",
       "  </thead>\n",
       "  <tbody>\n",
       "    <tr>\n",
       "      <th>0.0</th>\n",
       "      <td>1.000000</td>\n",
       "      <td>1.000000</td>\n",
       "    </tr>\n",
       "    <tr>\n",
       "      <th>1.0</th>\n",
       "      <td>0.946598</td>\n",
       "      <td>0.945337</td>\n",
       "    </tr>\n",
       "    <tr>\n",
       "      <th>2.0</th>\n",
       "      <td>0.926476</td>\n",
       "      <td>0.929190</td>\n",
       "    </tr>\n",
       "    <tr>\n",
       "      <th>3.0</th>\n",
       "      <td>0.911382</td>\n",
       "      <td>0.916052</td>\n",
       "    </tr>\n",
       "    <tr>\n",
       "      <th>4.0</th>\n",
       "      <td>0.896950</td>\n",
       "      <td>0.905107</td>\n",
       "    </tr>\n",
       "    <tr>\n",
       "      <th>...</th>\n",
       "      <td>...</td>\n",
       "      <td>...</td>\n",
       "    </tr>\n",
       "    <tr>\n",
       "      <th>68.0</th>\n",
       "      <td>0.628453</td>\n",
       "      <td>0.625792</td>\n",
       "    </tr>\n",
       "    <tr>\n",
       "      <th>69.0</th>\n",
       "      <td>0.626722</td>\n",
       "      <td>0.614355</td>\n",
       "    </tr>\n",
       "    <tr>\n",
       "      <th>70.0</th>\n",
       "      <td>0.617020</td>\n",
       "      <td>0.603116</td>\n",
       "    </tr>\n",
       "    <tr>\n",
       "      <th>71.0</th>\n",
       "      <td>0.614656</td>\n",
       "      <td>0.591989</td>\n",
       "    </tr>\n",
       "    <tr>\n",
       "      <th>72.0</th>\n",
       "      <td>0.604238</td>\n",
       "      <td>0.582389</td>\n",
       "    </tr>\n",
       "  </tbody>\n",
       "</table>\n",
       "<p>73 rows × 2 columns</p>\n",
       "</div>"
      ],
      "text/plain": [
       "            Female      Male\n",
       "timeline                    \n",
       "0.0       1.000000  1.000000\n",
       "1.0       0.946598  0.945337\n",
       "2.0       0.926476  0.929190\n",
       "3.0       0.911382  0.916052\n",
       "4.0       0.896950  0.905107\n",
       "...            ...       ...\n",
       "68.0      0.628453  0.625792\n",
       "69.0      0.626722  0.614355\n",
       "70.0      0.617020  0.603116\n",
       "71.0      0.614656  0.591989\n",
       "72.0      0.604238  0.582389\n",
       "\n",
       "[73 rows x 2 columns]"
      ]
     },
     "execution_count": 23,
     "metadata": {},
     "output_type": "execute_result"
    }
   ],
   "source": [
    "rates = survival(churn, 'gender', 'tenure','ChurnBinary')\n",
    "\n",
    "rates"
   ]
  },
  {
   "cell_type": "code",
   "execution_count": 24,
   "metadata": {},
   "outputs": [
    {
     "data": {
      "application/vnd.plotly.v1+json": {
       "config": {
        "linkText": "Export to plot.ly",
        "plotlyServerURL": "https://plot.ly",
        "showLink": true
       },
       "data": [
        {
         "line": {
          "color": "rgba(255, 153, 51, 1.0)",
          "dash": "solid",
          "shape": "linear",
          "width": 1.3
         },
         "mode": "lines",
         "name": "Female",
         "text": "",
         "type": "scatter",
         "x": [
          0,
          1,
          2,
          3,
          4,
          5,
          6,
          7,
          8,
          9,
          10,
          11,
          12,
          13,
          14,
          15,
          16,
          17,
          18,
          19,
          20,
          21,
          22,
          23,
          24,
          25,
          26,
          27,
          28,
          29,
          30,
          31,
          32,
          33,
          34,
          35,
          36,
          37,
          38,
          39,
          40,
          41,
          42,
          43,
          44,
          45,
          46,
          47,
          48,
          49,
          50,
          51,
          52,
          53,
          54,
          55,
          56,
          57,
          58,
          59,
          60,
          61,
          62,
          63,
          64,
          65,
          66,
          67,
          68,
          69,
          70,
          71,
          72
         ],
         "y": [
          1,
          0.9465977605512474,
          0.9264762701737902,
          0.9113821634586751,
          0.896949898740832,
          0.8872952296918849,
          0.8800429943390372,
          0.8726906554833175,
          0.8652262132831998,
          0.8569828232938405,
          0.8516475216702216,
          0.8452238206334072,
          0.8383715804985598,
          0.8313967753363424,
          0.8260786722958112,
          0.818187343250866,
          0.8116301873387937,
          0.8068428949452346,
          0.8023707865205957,
          0.8004757208934802,
          0.7974072945556042,
          0.7939098941408866,
          0.7895908986732556,
          0.7875979887826109,
          0.7851545617233061,
          0.7797711179984104,
          0.7759899002925987,
          0.7729938002914692,
          0.7695274603798482,
          0.7664511084537151,
          0.7615465347521503,
          0.7570242869210807,
          0.754279787995687,
          0.7500970904652122,
          0.7458539265342334,
          0.742502849842488,
          0.7410354529060406,
          0.7360653962131769,
          0.7325266202698442,
          0.7284257014719724,
          0.7253083304243034,
          0.7216050785548872,
          0.7161713053729981,
          0.7122881147164444,
          0.7111557011795345,
          0.7094365496053698,
          0.7065049936152652,
          0.7022744247912218,
          0.6973201078614781,
          0.6941243236824612,
          0.69018043547972,
          0.6895051121573326,
          0.6881191722333985,
          0.6845352182113495,
          0.6778748755476715,
          0.6755975803330658,
          0.6716513327843917,
          0.668342705529296,
          0.6640584574169287,
          0.6631647044459772,
          0.6603704711407272,
          0.6564513585523549,
          0.6543837952183315,
          0.6511335445798297,
          0.6477304075872521,
          0.6440777925068728,
          0.6388413876897442,
          0.6346292466720099,
          0.6284528063151047,
          0.6267215313665787,
          0.6170199596735978,
          0.6146558985254228,
          0.6042380019402463
         ]
        },
        {
         "line": {
          "color": "rgba(55, 128, 191, 1.0)",
          "dash": "solid",
          "shape": "linear",
          "width": 1.3
         },
         "mode": "lines",
         "name": "Male",
         "text": "",
         "type": "scatter",
         "x": [
          0,
          1,
          2,
          3,
          4,
          5,
          6,
          7,
          8,
          9,
          10,
          11,
          12,
          13,
          14,
          15,
          16,
          17,
          18,
          19,
          20,
          21,
          22,
          23,
          24,
          25,
          26,
          27,
          28,
          29,
          30,
          31,
          32,
          33,
          34,
          35,
          36,
          37,
          38,
          39,
          40,
          41,
          42,
          43,
          44,
          45,
          46,
          47,
          48,
          49,
          50,
          51,
          52,
          53,
          54,
          55,
          56,
          57,
          58,
          59,
          60,
          61,
          62,
          63,
          64,
          65,
          66,
          67,
          68,
          69,
          70,
          71,
          72
         ],
         "y": [
          1,
          0.9453367145674837,
          0.9291896588838777,
          0.9160520158919464,
          0.90510682087963,
          0.8948953593107315,
          0.8895723288319765,
          0.8807051073270652,
          0.8746024825862867,
          0.8677594676331145,
          0.8581508290071654,
          0.8541187969209925,
          0.8479863125394301,
          0.841763828387082,
          0.8386111548725236,
          0.8333012488686872,
          0.8297202379152332,
          0.8250079779358106,
          0.8205902645332092,
          0.8153492683181252,
          0.8115551814483344,
          0.8084825636293158,
          0.8022634669860134,
          0.7991033942455465,
          0.7922871585695932,
          0.7881968789693375,
          0.7857052133877691,
          0.7831734028183134,
          0.7814511963250351,
          0.7779684054779039,
          0.7757519712742631,
          0.7730427094421064,
          0.7670679441491526,
          0.7647364306411001,
          0.7633141062195731,
          0.7594516692494545,
          0.7559838534081326,
          0.7534805956153902,
          0.7504259445520846,
          0.7473164447818416,
          0.7436298943142778,
          0.739874187777337,
          0.7376964859737251,
          0.7332625476658439,
          0.7310046183427771,
          0.7292710105522404,
          0.7251374906543732,
          0.7209145601763522,
          0.7202978667972455,
          0.7140234951352489,
          0.7114665622968057,
          0.7068679787916556,
          0.7027977217160797,
          0.6964535095842398,
          0.6935576529955318,
          0.6890637589156474,
          0.6852313687103322,
          0.682055325286414,
          0.6771248048626572,
          0.6711999628201089,
          0.668588289813027,
          0.6649397861851253,
          0.6620736664170858,
          0.6610659439415651,
          0.6599910399676765,
          0.6531280482175793,
          0.6422627017592466,
          0.6330687571532857,
          0.6257921047722133,
          0.6143546511601887,
          0.6031164563218925,
          0.5919888464266545,
          0.5823890272954116
         ]
        }
       ],
       "layout": {
        "legend": {
         "bgcolor": "#F5F6F9",
         "font": {
          "color": "#4D5663"
         }
        },
        "paper_bgcolor": "#F5F6F9",
        "plot_bgcolor": "#F5F6F9",
        "template": {
         "data": {
          "bar": [
           {
            "error_x": {
             "color": "#2a3f5f"
            },
            "error_y": {
             "color": "#2a3f5f"
            },
            "marker": {
             "line": {
              "color": "#E5ECF6",
              "width": 0.5
             }
            },
            "type": "bar"
           }
          ],
          "barpolar": [
           {
            "marker": {
             "line": {
              "color": "#E5ECF6",
              "width": 0.5
             }
            },
            "type": "barpolar"
           }
          ],
          "carpet": [
           {
            "aaxis": {
             "endlinecolor": "#2a3f5f",
             "gridcolor": "white",
             "linecolor": "white",
             "minorgridcolor": "white",
             "startlinecolor": "#2a3f5f"
            },
            "baxis": {
             "endlinecolor": "#2a3f5f",
             "gridcolor": "white",
             "linecolor": "white",
             "minorgridcolor": "white",
             "startlinecolor": "#2a3f5f"
            },
            "type": "carpet"
           }
          ],
          "choropleth": [
           {
            "colorbar": {
             "outlinewidth": 0,
             "ticks": ""
            },
            "type": "choropleth"
           }
          ],
          "contour": [
           {
            "colorbar": {
             "outlinewidth": 0,
             "ticks": ""
            },
            "colorscale": [
             [
              0,
              "#0d0887"
             ],
             [
              0.1111111111111111,
              "#46039f"
             ],
             [
              0.2222222222222222,
              "#7201a8"
             ],
             [
              0.3333333333333333,
              "#9c179e"
             ],
             [
              0.4444444444444444,
              "#bd3786"
             ],
             [
              0.5555555555555556,
              "#d8576b"
             ],
             [
              0.6666666666666666,
              "#ed7953"
             ],
             [
              0.7777777777777778,
              "#fb9f3a"
             ],
             [
              0.8888888888888888,
              "#fdca26"
             ],
             [
              1,
              "#f0f921"
             ]
            ],
            "type": "contour"
           }
          ],
          "contourcarpet": [
           {
            "colorbar": {
             "outlinewidth": 0,
             "ticks": ""
            },
            "type": "contourcarpet"
           }
          ],
          "heatmap": [
           {
            "colorbar": {
             "outlinewidth": 0,
             "ticks": ""
            },
            "colorscale": [
             [
              0,
              "#0d0887"
             ],
             [
              0.1111111111111111,
              "#46039f"
             ],
             [
              0.2222222222222222,
              "#7201a8"
             ],
             [
              0.3333333333333333,
              "#9c179e"
             ],
             [
              0.4444444444444444,
              "#bd3786"
             ],
             [
              0.5555555555555556,
              "#d8576b"
             ],
             [
              0.6666666666666666,
              "#ed7953"
             ],
             [
              0.7777777777777778,
              "#fb9f3a"
             ],
             [
              0.8888888888888888,
              "#fdca26"
             ],
             [
              1,
              "#f0f921"
             ]
            ],
            "type": "heatmap"
           }
          ],
          "heatmapgl": [
           {
            "colorbar": {
             "outlinewidth": 0,
             "ticks": ""
            },
            "colorscale": [
             [
              0,
              "#0d0887"
             ],
             [
              0.1111111111111111,
              "#46039f"
             ],
             [
              0.2222222222222222,
              "#7201a8"
             ],
             [
              0.3333333333333333,
              "#9c179e"
             ],
             [
              0.4444444444444444,
              "#bd3786"
             ],
             [
              0.5555555555555556,
              "#d8576b"
             ],
             [
              0.6666666666666666,
              "#ed7953"
             ],
             [
              0.7777777777777778,
              "#fb9f3a"
             ],
             [
              0.8888888888888888,
              "#fdca26"
             ],
             [
              1,
              "#f0f921"
             ]
            ],
            "type": "heatmapgl"
           }
          ],
          "histogram": [
           {
            "marker": {
             "colorbar": {
              "outlinewidth": 0,
              "ticks": ""
             }
            },
            "type": "histogram"
           }
          ],
          "histogram2d": [
           {
            "colorbar": {
             "outlinewidth": 0,
             "ticks": ""
            },
            "colorscale": [
             [
              0,
              "#0d0887"
             ],
             [
              0.1111111111111111,
              "#46039f"
             ],
             [
              0.2222222222222222,
              "#7201a8"
             ],
             [
              0.3333333333333333,
              "#9c179e"
             ],
             [
              0.4444444444444444,
              "#bd3786"
             ],
             [
              0.5555555555555556,
              "#d8576b"
             ],
             [
              0.6666666666666666,
              "#ed7953"
             ],
             [
              0.7777777777777778,
              "#fb9f3a"
             ],
             [
              0.8888888888888888,
              "#fdca26"
             ],
             [
              1,
              "#f0f921"
             ]
            ],
            "type": "histogram2d"
           }
          ],
          "histogram2dcontour": [
           {
            "colorbar": {
             "outlinewidth": 0,
             "ticks": ""
            },
            "colorscale": [
             [
              0,
              "#0d0887"
             ],
             [
              0.1111111111111111,
              "#46039f"
             ],
             [
              0.2222222222222222,
              "#7201a8"
             ],
             [
              0.3333333333333333,
              "#9c179e"
             ],
             [
              0.4444444444444444,
              "#bd3786"
             ],
             [
              0.5555555555555556,
              "#d8576b"
             ],
             [
              0.6666666666666666,
              "#ed7953"
             ],
             [
              0.7777777777777778,
              "#fb9f3a"
             ],
             [
              0.8888888888888888,
              "#fdca26"
             ],
             [
              1,
              "#f0f921"
             ]
            ],
            "type": "histogram2dcontour"
           }
          ],
          "mesh3d": [
           {
            "colorbar": {
             "outlinewidth": 0,
             "ticks": ""
            },
            "type": "mesh3d"
           }
          ],
          "parcoords": [
           {
            "line": {
             "colorbar": {
              "outlinewidth": 0,
              "ticks": ""
             }
            },
            "type": "parcoords"
           }
          ],
          "pie": [
           {
            "automargin": true,
            "type": "pie"
           }
          ],
          "scatter": [
           {
            "marker": {
             "colorbar": {
              "outlinewidth": 0,
              "ticks": ""
             }
            },
            "type": "scatter"
           }
          ],
          "scatter3d": [
           {
            "line": {
             "colorbar": {
              "outlinewidth": 0,
              "ticks": ""
             }
            },
            "marker": {
             "colorbar": {
              "outlinewidth": 0,
              "ticks": ""
             }
            },
            "type": "scatter3d"
           }
          ],
          "scattercarpet": [
           {
            "marker": {
             "colorbar": {
              "outlinewidth": 0,
              "ticks": ""
             }
            },
            "type": "scattercarpet"
           }
          ],
          "scattergeo": [
           {
            "marker": {
             "colorbar": {
              "outlinewidth": 0,
              "ticks": ""
             }
            },
            "type": "scattergeo"
           }
          ],
          "scattergl": [
           {
            "marker": {
             "colorbar": {
              "outlinewidth": 0,
              "ticks": ""
             }
            },
            "type": "scattergl"
           }
          ],
          "scattermapbox": [
           {
            "marker": {
             "colorbar": {
              "outlinewidth": 0,
              "ticks": ""
             }
            },
            "type": "scattermapbox"
           }
          ],
          "scatterpolar": [
           {
            "marker": {
             "colorbar": {
              "outlinewidth": 0,
              "ticks": ""
             }
            },
            "type": "scatterpolar"
           }
          ],
          "scatterpolargl": [
           {
            "marker": {
             "colorbar": {
              "outlinewidth": 0,
              "ticks": ""
             }
            },
            "type": "scatterpolargl"
           }
          ],
          "scatterternary": [
           {
            "marker": {
             "colorbar": {
              "outlinewidth": 0,
              "ticks": ""
             }
            },
            "type": "scatterternary"
           }
          ],
          "surface": [
           {
            "colorbar": {
             "outlinewidth": 0,
             "ticks": ""
            },
            "colorscale": [
             [
              0,
              "#0d0887"
             ],
             [
              0.1111111111111111,
              "#46039f"
             ],
             [
              0.2222222222222222,
              "#7201a8"
             ],
             [
              0.3333333333333333,
              "#9c179e"
             ],
             [
              0.4444444444444444,
              "#bd3786"
             ],
             [
              0.5555555555555556,
              "#d8576b"
             ],
             [
              0.6666666666666666,
              "#ed7953"
             ],
             [
              0.7777777777777778,
              "#fb9f3a"
             ],
             [
              0.8888888888888888,
              "#fdca26"
             ],
             [
              1,
              "#f0f921"
             ]
            ],
            "type": "surface"
           }
          ],
          "table": [
           {
            "cells": {
             "fill": {
              "color": "#EBF0F8"
             },
             "line": {
              "color": "white"
             }
            },
            "header": {
             "fill": {
              "color": "#C8D4E3"
             },
             "line": {
              "color": "white"
             }
            },
            "type": "table"
           }
          ]
         },
         "layout": {
          "annotationdefaults": {
           "arrowcolor": "#2a3f5f",
           "arrowhead": 0,
           "arrowwidth": 1
          },
          "coloraxis": {
           "colorbar": {
            "outlinewidth": 0,
            "ticks": ""
           }
          },
          "colorscale": {
           "diverging": [
            [
             0,
             "#8e0152"
            ],
            [
             0.1,
             "#c51b7d"
            ],
            [
             0.2,
             "#de77ae"
            ],
            [
             0.3,
             "#f1b6da"
            ],
            [
             0.4,
             "#fde0ef"
            ],
            [
             0.5,
             "#f7f7f7"
            ],
            [
             0.6,
             "#e6f5d0"
            ],
            [
             0.7,
             "#b8e186"
            ],
            [
             0.8,
             "#7fbc41"
            ],
            [
             0.9,
             "#4d9221"
            ],
            [
             1,
             "#276419"
            ]
           ],
           "sequential": [
            [
             0,
             "#0d0887"
            ],
            [
             0.1111111111111111,
             "#46039f"
            ],
            [
             0.2222222222222222,
             "#7201a8"
            ],
            [
             0.3333333333333333,
             "#9c179e"
            ],
            [
             0.4444444444444444,
             "#bd3786"
            ],
            [
             0.5555555555555556,
             "#d8576b"
            ],
            [
             0.6666666666666666,
             "#ed7953"
            ],
            [
             0.7777777777777778,
             "#fb9f3a"
            ],
            [
             0.8888888888888888,
             "#fdca26"
            ],
            [
             1,
             "#f0f921"
            ]
           ],
           "sequentialminus": [
            [
             0,
             "#0d0887"
            ],
            [
             0.1111111111111111,
             "#46039f"
            ],
            [
             0.2222222222222222,
             "#7201a8"
            ],
            [
             0.3333333333333333,
             "#9c179e"
            ],
            [
             0.4444444444444444,
             "#bd3786"
            ],
            [
             0.5555555555555556,
             "#d8576b"
            ],
            [
             0.6666666666666666,
             "#ed7953"
            ],
            [
             0.7777777777777778,
             "#fb9f3a"
            ],
            [
             0.8888888888888888,
             "#fdca26"
            ],
            [
             1,
             "#f0f921"
            ]
           ]
          },
          "colorway": [
           "#636efa",
           "#EF553B",
           "#00cc96",
           "#ab63fa",
           "#FFA15A",
           "#19d3f3",
           "#FF6692",
           "#B6E880",
           "#FF97FF",
           "#FECB52"
          ],
          "font": {
           "color": "#2a3f5f"
          },
          "geo": {
           "bgcolor": "white",
           "lakecolor": "white",
           "landcolor": "#E5ECF6",
           "showlakes": true,
           "showland": true,
           "subunitcolor": "white"
          },
          "hoverlabel": {
           "align": "left"
          },
          "hovermode": "closest",
          "mapbox": {
           "style": "light"
          },
          "paper_bgcolor": "white",
          "plot_bgcolor": "#E5ECF6",
          "polar": {
           "angularaxis": {
            "gridcolor": "white",
            "linecolor": "white",
            "ticks": ""
           },
           "bgcolor": "#E5ECF6",
           "radialaxis": {
            "gridcolor": "white",
            "linecolor": "white",
            "ticks": ""
           }
          },
          "scene": {
           "xaxis": {
            "backgroundcolor": "#E5ECF6",
            "gridcolor": "white",
            "gridwidth": 2,
            "linecolor": "white",
            "showbackground": true,
            "ticks": "",
            "zerolinecolor": "white"
           },
           "yaxis": {
            "backgroundcolor": "#E5ECF6",
            "gridcolor": "white",
            "gridwidth": 2,
            "linecolor": "white",
            "showbackground": true,
            "ticks": "",
            "zerolinecolor": "white"
           },
           "zaxis": {
            "backgroundcolor": "#E5ECF6",
            "gridcolor": "white",
            "gridwidth": 2,
            "linecolor": "white",
            "showbackground": true,
            "ticks": "",
            "zerolinecolor": "white"
           }
          },
          "shapedefaults": {
           "line": {
            "color": "#2a3f5f"
           }
          },
          "ternary": {
           "aaxis": {
            "gridcolor": "white",
            "linecolor": "white",
            "ticks": ""
           },
           "baxis": {
            "gridcolor": "white",
            "linecolor": "white",
            "ticks": ""
           },
           "bgcolor": "#E5ECF6",
           "caxis": {
            "gridcolor": "white",
            "linecolor": "white",
            "ticks": ""
           }
          },
          "title": {
           "x": 0.05
          },
          "xaxis": {
           "automargin": true,
           "gridcolor": "white",
           "linecolor": "white",
           "ticks": "",
           "title": {
            "standoff": 15
           },
           "zerolinecolor": "white",
           "zerolinewidth": 2
          },
          "yaxis": {
           "automargin": true,
           "gridcolor": "white",
           "linecolor": "white",
           "ticks": "",
           "title": {
            "standoff": 15
           },
           "zerolinecolor": "white",
           "zerolinewidth": 2
          }
         }
        },
        "title": {
         "font": {
          "color": "#4D5663"
         },
         "text": "Tasa de retencion por genero y permanencia"
        },
        "xaxis": {
         "gridcolor": "#E1E5ED",
         "showgrid": true,
         "tickfont": {
          "color": "#4D5663"
         },
         "title": {
          "font": {
           "color": "#4D5663"
          },
          "text": "Permanencia(meses)"
         },
         "zerolinecolor": "#E1E5ED"
        },
        "yaxis": {
         "gridcolor": "#E1E5ED",
         "showgrid": true,
         "tickfont": {
          "color": "#4D5663"
         },
         "title": {
          "font": {
           "color": "#4D5663"
          },
          "text": "Tasa de retencion"
         },
         "zerolinecolor": "#E1E5ED"
        }
       }
      },
      "text/html": [
       "<div>                            <div id=\"85bfa283-fc15-48a4-a6f8-35d8a9a50c58\" class=\"plotly-graph-div\" style=\"height:525px; width:100%;\"></div>            <script type=\"text/javascript\">                require([\"plotly\"], function(Plotly) {                    window.PLOTLYENV=window.PLOTLYENV || {};\n",
       "                    window.PLOTLYENV.BASE_URL='https://plot.ly';                                    if (document.getElementById(\"85bfa283-fc15-48a4-a6f8-35d8a9a50c58\")) {                    Plotly.newPlot(                        \"85bfa283-fc15-48a4-a6f8-35d8a9a50c58\",                        [{\"line\": {\"color\": \"rgba(255, 153, 51, 1.0)\", \"dash\": \"solid\", \"shape\": \"linear\", \"width\": 1.3}, \"mode\": \"lines\", \"name\": \"Female\", \"text\": \"\", \"type\": \"scatter\", \"x\": [0.0, 1.0, 2.0, 3.0, 4.0, 5.0, 6.0, 7.0, 8.0, 9.0, 10.0, 11.0, 12.0, 13.0, 14.0, 15.0, 16.0, 17.0, 18.0, 19.0, 20.0, 21.0, 22.0, 23.0, 24.0, 25.0, 26.0, 27.0, 28.0, 29.0, 30.0, 31.0, 32.0, 33.0, 34.0, 35.0, 36.0, 37.0, 38.0, 39.0, 40.0, 41.0, 42.0, 43.0, 44.0, 45.0, 46.0, 47.0, 48.0, 49.0, 50.0, 51.0, 52.0, 53.0, 54.0, 55.0, 56.0, 57.0, 58.0, 59.0, 60.0, 61.0, 62.0, 63.0, 64.0, 65.0, 66.0, 67.0, 68.0, 69.0, 70.0, 71.0, 72.0], \"y\": [1.0, 0.9465977605512474, 0.9264762701737902, 0.9113821634586751, 0.896949898740832, 0.8872952296918849, 0.8800429943390372, 0.8726906554833175, 0.8652262132831998, 0.8569828232938405, 0.8516475216702216, 0.8452238206334072, 0.8383715804985598, 0.8313967753363424, 0.8260786722958112, 0.818187343250866, 0.8116301873387937, 0.8068428949452346, 0.8023707865205957, 0.8004757208934802, 0.7974072945556042, 0.7939098941408866, 0.7895908986732556, 0.7875979887826109, 0.7851545617233061, 0.7797711179984104, 0.7759899002925987, 0.7729938002914692, 0.7695274603798482, 0.7664511084537151, 0.7615465347521503, 0.7570242869210807, 0.754279787995687, 0.7500970904652122, 0.7458539265342334, 0.742502849842488, 0.7410354529060406, 0.7360653962131769, 0.7325266202698442, 0.7284257014719724, 0.7253083304243034, 0.7216050785548872, 0.7161713053729981, 0.7122881147164444, 0.7111557011795345, 0.7094365496053698, 0.7065049936152652, 0.7022744247912218, 0.6973201078614781, 0.6941243236824612, 0.69018043547972, 0.6895051121573326, 0.6881191722333985, 0.6845352182113495, 0.6778748755476715, 0.6755975803330658, 0.6716513327843917, 0.668342705529296, 0.6640584574169287, 0.6631647044459772, 0.6603704711407272, 0.6564513585523549, 0.6543837952183315, 0.6511335445798297, 0.6477304075872521, 0.6440777925068728, 0.6388413876897442, 0.6346292466720099, 0.6284528063151047, 0.6267215313665787, 0.6170199596735978, 0.6146558985254228, 0.6042380019402463]}, {\"line\": {\"color\": \"rgba(55, 128, 191, 1.0)\", \"dash\": \"solid\", \"shape\": \"linear\", \"width\": 1.3}, \"mode\": \"lines\", \"name\": \"Male\", \"text\": \"\", \"type\": \"scatter\", \"x\": [0.0, 1.0, 2.0, 3.0, 4.0, 5.0, 6.0, 7.0, 8.0, 9.0, 10.0, 11.0, 12.0, 13.0, 14.0, 15.0, 16.0, 17.0, 18.0, 19.0, 20.0, 21.0, 22.0, 23.0, 24.0, 25.0, 26.0, 27.0, 28.0, 29.0, 30.0, 31.0, 32.0, 33.0, 34.0, 35.0, 36.0, 37.0, 38.0, 39.0, 40.0, 41.0, 42.0, 43.0, 44.0, 45.0, 46.0, 47.0, 48.0, 49.0, 50.0, 51.0, 52.0, 53.0, 54.0, 55.0, 56.0, 57.0, 58.0, 59.0, 60.0, 61.0, 62.0, 63.0, 64.0, 65.0, 66.0, 67.0, 68.0, 69.0, 70.0, 71.0, 72.0], \"y\": [1.0, 0.9453367145674837, 0.9291896588838777, 0.9160520158919464, 0.90510682087963, 0.8948953593107315, 0.8895723288319765, 0.8807051073270652, 0.8746024825862867, 0.8677594676331145, 0.8581508290071654, 0.8541187969209925, 0.8479863125394301, 0.841763828387082, 0.8386111548725236, 0.8333012488686872, 0.8297202379152332, 0.8250079779358106, 0.8205902645332092, 0.8153492683181252, 0.8115551814483344, 0.8084825636293158, 0.8022634669860134, 0.7991033942455465, 0.7922871585695932, 0.7881968789693375, 0.7857052133877691, 0.7831734028183134, 0.7814511963250351, 0.7779684054779039, 0.7757519712742631, 0.7730427094421064, 0.7670679441491526, 0.7647364306411001, 0.7633141062195731, 0.7594516692494545, 0.7559838534081326, 0.7534805956153902, 0.7504259445520846, 0.7473164447818416, 0.7436298943142778, 0.739874187777337, 0.7376964859737251, 0.7332625476658439, 0.7310046183427771, 0.7292710105522404, 0.7251374906543732, 0.7209145601763522, 0.7202978667972455, 0.7140234951352489, 0.7114665622968057, 0.7068679787916556, 0.7027977217160797, 0.6964535095842398, 0.6935576529955318, 0.6890637589156474, 0.6852313687103322, 0.682055325286414, 0.6771248048626572, 0.6711999628201089, 0.668588289813027, 0.6649397861851253, 0.6620736664170858, 0.6610659439415651, 0.6599910399676765, 0.6531280482175793, 0.6422627017592466, 0.6330687571532857, 0.6257921047722133, 0.6143546511601887, 0.6031164563218925, 0.5919888464266545, 0.5823890272954116]}],                        {\"legend\": {\"bgcolor\": \"#F5F6F9\", \"font\": {\"color\": \"#4D5663\"}}, \"paper_bgcolor\": \"#F5F6F9\", \"plot_bgcolor\": \"#F5F6F9\", \"template\": {\"data\": {\"bar\": [{\"error_x\": {\"color\": \"#2a3f5f\"}, \"error_y\": {\"color\": \"#2a3f5f\"}, \"marker\": {\"line\": {\"color\": \"#E5ECF6\", \"width\": 0.5}}, \"type\": \"bar\"}], \"barpolar\": [{\"marker\": {\"line\": {\"color\": \"#E5ECF6\", \"width\": 0.5}}, \"type\": \"barpolar\"}], \"carpet\": [{\"aaxis\": {\"endlinecolor\": \"#2a3f5f\", \"gridcolor\": \"white\", \"linecolor\": \"white\", \"minorgridcolor\": \"white\", \"startlinecolor\": \"#2a3f5f\"}, \"baxis\": {\"endlinecolor\": \"#2a3f5f\", \"gridcolor\": \"white\", \"linecolor\": \"white\", \"minorgridcolor\": \"white\", \"startlinecolor\": \"#2a3f5f\"}, \"type\": \"carpet\"}], \"choropleth\": [{\"colorbar\": {\"outlinewidth\": 0, \"ticks\": \"\"}, \"type\": \"choropleth\"}], \"contour\": [{\"colorbar\": {\"outlinewidth\": 0, \"ticks\": \"\"}, \"colorscale\": [[0.0, \"#0d0887\"], [0.1111111111111111, \"#46039f\"], [0.2222222222222222, \"#7201a8\"], [0.3333333333333333, \"#9c179e\"], [0.4444444444444444, \"#bd3786\"], [0.5555555555555556, \"#d8576b\"], [0.6666666666666666, \"#ed7953\"], [0.7777777777777778, \"#fb9f3a\"], [0.8888888888888888, \"#fdca26\"], [1.0, \"#f0f921\"]], \"type\": \"contour\"}], \"contourcarpet\": [{\"colorbar\": {\"outlinewidth\": 0, \"ticks\": \"\"}, \"type\": \"contourcarpet\"}], \"heatmap\": [{\"colorbar\": {\"outlinewidth\": 0, \"ticks\": \"\"}, \"colorscale\": [[0.0, \"#0d0887\"], [0.1111111111111111, \"#46039f\"], [0.2222222222222222, \"#7201a8\"], [0.3333333333333333, \"#9c179e\"], [0.4444444444444444, \"#bd3786\"], [0.5555555555555556, \"#d8576b\"], [0.6666666666666666, \"#ed7953\"], [0.7777777777777778, \"#fb9f3a\"], [0.8888888888888888, \"#fdca26\"], [1.0, \"#f0f921\"]], \"type\": \"heatmap\"}], \"heatmapgl\": [{\"colorbar\": {\"outlinewidth\": 0, \"ticks\": \"\"}, \"colorscale\": [[0.0, \"#0d0887\"], [0.1111111111111111, \"#46039f\"], [0.2222222222222222, \"#7201a8\"], [0.3333333333333333, \"#9c179e\"], [0.4444444444444444, \"#bd3786\"], [0.5555555555555556, \"#d8576b\"], [0.6666666666666666, \"#ed7953\"], [0.7777777777777778, \"#fb9f3a\"], [0.8888888888888888, \"#fdca26\"], [1.0, \"#f0f921\"]], \"type\": \"heatmapgl\"}], \"histogram\": [{\"marker\": {\"colorbar\": {\"outlinewidth\": 0, \"ticks\": \"\"}}, \"type\": \"histogram\"}], \"histogram2d\": [{\"colorbar\": {\"outlinewidth\": 0, \"ticks\": \"\"}, \"colorscale\": [[0.0, \"#0d0887\"], [0.1111111111111111, \"#46039f\"], [0.2222222222222222, \"#7201a8\"], [0.3333333333333333, \"#9c179e\"], [0.4444444444444444, \"#bd3786\"], [0.5555555555555556, \"#d8576b\"], [0.6666666666666666, \"#ed7953\"], [0.7777777777777778, \"#fb9f3a\"], [0.8888888888888888, \"#fdca26\"], [1.0, \"#f0f921\"]], \"type\": \"histogram2d\"}], \"histogram2dcontour\": [{\"colorbar\": {\"outlinewidth\": 0, \"ticks\": \"\"}, \"colorscale\": [[0.0, \"#0d0887\"], [0.1111111111111111, \"#46039f\"], [0.2222222222222222, \"#7201a8\"], [0.3333333333333333, \"#9c179e\"], [0.4444444444444444, \"#bd3786\"], [0.5555555555555556, \"#d8576b\"], [0.6666666666666666, \"#ed7953\"], [0.7777777777777778, \"#fb9f3a\"], [0.8888888888888888, \"#fdca26\"], [1.0, \"#f0f921\"]], \"type\": \"histogram2dcontour\"}], \"mesh3d\": [{\"colorbar\": {\"outlinewidth\": 0, \"ticks\": \"\"}, \"type\": \"mesh3d\"}], \"parcoords\": [{\"line\": {\"colorbar\": {\"outlinewidth\": 0, \"ticks\": \"\"}}, \"type\": \"parcoords\"}], \"pie\": [{\"automargin\": true, \"type\": \"pie\"}], \"scatter\": [{\"marker\": {\"colorbar\": {\"outlinewidth\": 0, \"ticks\": \"\"}}, \"type\": \"scatter\"}], \"scatter3d\": [{\"line\": {\"colorbar\": {\"outlinewidth\": 0, \"ticks\": \"\"}}, \"marker\": {\"colorbar\": {\"outlinewidth\": 0, \"ticks\": \"\"}}, \"type\": \"scatter3d\"}], \"scattercarpet\": [{\"marker\": {\"colorbar\": {\"outlinewidth\": 0, \"ticks\": \"\"}}, \"type\": \"scattercarpet\"}], \"scattergeo\": [{\"marker\": {\"colorbar\": {\"outlinewidth\": 0, \"ticks\": \"\"}}, \"type\": \"scattergeo\"}], \"scattergl\": [{\"marker\": {\"colorbar\": {\"outlinewidth\": 0, \"ticks\": \"\"}}, \"type\": \"scattergl\"}], \"scattermapbox\": [{\"marker\": {\"colorbar\": {\"outlinewidth\": 0, \"ticks\": \"\"}}, \"type\": \"scattermapbox\"}], \"scatterpolar\": [{\"marker\": {\"colorbar\": {\"outlinewidth\": 0, \"ticks\": \"\"}}, \"type\": \"scatterpolar\"}], \"scatterpolargl\": [{\"marker\": {\"colorbar\": {\"outlinewidth\": 0, \"ticks\": \"\"}}, \"type\": \"scatterpolargl\"}], \"scatterternary\": [{\"marker\": {\"colorbar\": {\"outlinewidth\": 0, \"ticks\": \"\"}}, \"type\": \"scatterternary\"}], \"surface\": [{\"colorbar\": {\"outlinewidth\": 0, \"ticks\": \"\"}, \"colorscale\": [[0.0, \"#0d0887\"], [0.1111111111111111, \"#46039f\"], [0.2222222222222222, \"#7201a8\"], [0.3333333333333333, \"#9c179e\"], [0.4444444444444444, \"#bd3786\"], [0.5555555555555556, \"#d8576b\"], [0.6666666666666666, \"#ed7953\"], [0.7777777777777778, \"#fb9f3a\"], [0.8888888888888888, \"#fdca26\"], [1.0, \"#f0f921\"]], \"type\": \"surface\"}], \"table\": [{\"cells\": {\"fill\": {\"color\": \"#EBF0F8\"}, \"line\": {\"color\": \"white\"}}, \"header\": {\"fill\": {\"color\": \"#C8D4E3\"}, \"line\": {\"color\": \"white\"}}, \"type\": \"table\"}]}, \"layout\": {\"annotationdefaults\": {\"arrowcolor\": \"#2a3f5f\", \"arrowhead\": 0, \"arrowwidth\": 1}, \"coloraxis\": {\"colorbar\": {\"outlinewidth\": 0, \"ticks\": \"\"}}, \"colorscale\": {\"diverging\": [[0, \"#8e0152\"], [0.1, \"#c51b7d\"], [0.2, \"#de77ae\"], [0.3, \"#f1b6da\"], [0.4, \"#fde0ef\"], [0.5, \"#f7f7f7\"], [0.6, \"#e6f5d0\"], [0.7, \"#b8e186\"], [0.8, \"#7fbc41\"], [0.9, \"#4d9221\"], [1, \"#276419\"]], \"sequential\": [[0.0, \"#0d0887\"], [0.1111111111111111, \"#46039f\"], [0.2222222222222222, \"#7201a8\"], [0.3333333333333333, \"#9c179e\"], [0.4444444444444444, \"#bd3786\"], [0.5555555555555556, \"#d8576b\"], [0.6666666666666666, \"#ed7953\"], [0.7777777777777778, \"#fb9f3a\"], [0.8888888888888888, \"#fdca26\"], [1.0, \"#f0f921\"]], \"sequentialminus\": [[0.0, \"#0d0887\"], [0.1111111111111111, \"#46039f\"], [0.2222222222222222, \"#7201a8\"], [0.3333333333333333, \"#9c179e\"], [0.4444444444444444, \"#bd3786\"], [0.5555555555555556, \"#d8576b\"], [0.6666666666666666, \"#ed7953\"], [0.7777777777777778, \"#fb9f3a\"], [0.8888888888888888, \"#fdca26\"], [1.0, \"#f0f921\"]]}, \"colorway\": [\"#636efa\", \"#EF553B\", \"#00cc96\", \"#ab63fa\", \"#FFA15A\", \"#19d3f3\", \"#FF6692\", \"#B6E880\", \"#FF97FF\", \"#FECB52\"], \"font\": {\"color\": \"#2a3f5f\"}, \"geo\": {\"bgcolor\": \"white\", \"lakecolor\": \"white\", \"landcolor\": \"#E5ECF6\", \"showlakes\": true, \"showland\": true, \"subunitcolor\": \"white\"}, \"hoverlabel\": {\"align\": \"left\"}, \"hovermode\": \"closest\", \"mapbox\": {\"style\": \"light\"}, \"paper_bgcolor\": \"white\", \"plot_bgcolor\": \"#E5ECF6\", \"polar\": {\"angularaxis\": {\"gridcolor\": \"white\", \"linecolor\": \"white\", \"ticks\": \"\"}, \"bgcolor\": \"#E5ECF6\", \"radialaxis\": {\"gridcolor\": \"white\", \"linecolor\": \"white\", \"ticks\": \"\"}}, \"scene\": {\"xaxis\": {\"backgroundcolor\": \"#E5ECF6\", \"gridcolor\": \"white\", \"gridwidth\": 2, \"linecolor\": \"white\", \"showbackground\": true, \"ticks\": \"\", \"zerolinecolor\": \"white\"}, \"yaxis\": {\"backgroundcolor\": \"#E5ECF6\", \"gridcolor\": \"white\", \"gridwidth\": 2, \"linecolor\": \"white\", \"showbackground\": true, \"ticks\": \"\", \"zerolinecolor\": \"white\"}, \"zaxis\": {\"backgroundcolor\": \"#E5ECF6\", \"gridcolor\": \"white\", \"gridwidth\": 2, \"linecolor\": \"white\", \"showbackground\": true, \"ticks\": \"\", \"zerolinecolor\": \"white\"}}, \"shapedefaults\": {\"line\": {\"color\": \"#2a3f5f\"}}, \"ternary\": {\"aaxis\": {\"gridcolor\": \"white\", \"linecolor\": \"white\", \"ticks\": \"\"}, \"baxis\": {\"gridcolor\": \"white\", \"linecolor\": \"white\", \"ticks\": \"\"}, \"bgcolor\": \"#E5ECF6\", \"caxis\": {\"gridcolor\": \"white\", \"linecolor\": \"white\", \"ticks\": \"\"}}, \"title\": {\"x\": 0.05}, \"xaxis\": {\"automargin\": true, \"gridcolor\": \"white\", \"linecolor\": \"white\", \"ticks\": \"\", \"title\": {\"standoff\": 15}, \"zerolinecolor\": \"white\", \"zerolinewidth\": 2}, \"yaxis\": {\"automargin\": true, \"gridcolor\": \"white\", \"linecolor\": \"white\", \"ticks\": \"\", \"title\": {\"standoff\": 15}, \"zerolinecolor\": \"white\", \"zerolinewidth\": 2}}}, \"title\": {\"font\": {\"color\": \"#4D5663\"}, \"text\": \"Tasa de retencion por genero y permanencia\"}, \"xaxis\": {\"gridcolor\": \"#E1E5ED\", \"showgrid\": true, \"tickfont\": {\"color\": \"#4D5663\"}, \"title\": {\"font\": {\"color\": \"#4D5663\"}, \"text\": \"Permanencia(meses)\"}, \"zerolinecolor\": \"#E1E5ED\"}, \"yaxis\": {\"gridcolor\": \"#E1E5ED\", \"showgrid\": true, \"tickfont\": {\"color\": \"#4D5663\"}, \"title\": {\"font\": {\"color\": \"#4D5663\"}, \"text\": \"Tasa de retencion\"}, \"zerolinecolor\": \"#E1E5ED\"}},                        {\"showLink\": true, \"linkText\": \"Export to plot.ly\", \"plotlyServerURL\": \"https://plot.ly\", \"responsive\": true}                    ).then(function(){\n",
       "                            \n",
       "var gd = document.getElementById('85bfa283-fc15-48a4-a6f8-35d8a9a50c58');\n",
       "var x = new MutationObserver(function (mutations, observer) {{\n",
       "        var display = window.getComputedStyle(gd).display;\n",
       "        if (!display || display === 'none') {{\n",
       "            console.log([gd, 'removed!']);\n",
       "            Plotly.purge(gd);\n",
       "            observer.disconnect();\n",
       "        }}\n",
       "}});\n",
       "\n",
       "// Listen for the removal of the full notebook cells\n",
       "var notebookContainer = gd.closest('#notebook-container');\n",
       "if (notebookContainer) {{\n",
       "    x.observe(notebookContainer, {childList: true});\n",
       "}}\n",
       "\n",
       "// Listen for the clearing of the current output cell\n",
       "var outputEl = gd.closest('.output');\n",
       "if (outputEl) {{\n",
       "    x.observe(outputEl, {childList: true});\n",
       "}}\n",
       "\n",
       "                        })                };                });            </script>        </div>"
      ]
     },
     "metadata": {},
     "output_type": "display_data"
    }
   ],
   "source": [
    "rates.iplot(kind='line', xTitle='Permanencia(meses)', yTitle='Tasa de retencion',\n",
    "            title='Tasa de retencion por genero y permanencia')"
   ]
  },
  {
   "cell_type": "code",
   "execution_count": 26,
   "metadata": {},
   "outputs": [
    {
     "data": {
      "application/vnd.plotly.v1+json": {
       "config": {
        "linkText": "Export to plot.ly",
        "plotlyServerURL": "https://plot.ly",
        "showLink": true
       },
       "data": [
        {
         "line": {
          "color": "rgba(255, 153, 51, 1.0)",
          "dash": "solid",
          "shape": "linear",
          "width": 1.3
         },
         "mode": "lines",
         "name": "0",
         "text": "",
         "type": "scatter",
         "x": [
          0,
          1,
          2,
          3,
          4,
          5,
          6,
          7,
          8,
          9,
          10,
          11,
          12,
          13,
          14,
          15,
          16,
          17,
          18,
          19,
          20,
          21,
          22,
          23,
          24,
          25,
          26,
          27,
          28,
          29,
          30,
          31,
          32,
          33,
          34,
          35,
          36,
          37,
          38,
          39,
          40,
          41,
          42,
          43,
          44,
          45,
          46,
          47,
          48,
          49,
          50,
          51,
          52,
          53,
          54,
          55,
          56,
          57,
          58,
          59,
          60,
          61,
          62,
          63,
          64,
          65,
          66,
          67,
          68,
          69,
          70,
          71,
          72
         ],
         "y": [
          1,
          0.9480475382003397,
          0.9316074074801017,
          0.9182678277290335,
          0.9053940548588076,
          0.8962335533745863,
          0.8897967259950471,
          0.8821211018760468,
          0.8768622655433784,
          0.8695385852216849,
          0.8625051092607986,
          0.8576033515950975,
          0.8511832347393984,
          0.8452766348452969,
          0.8414169241839033,
          0.8359954233837497,
          0.8322524889098166,
          0.8277959829451046,
          0.8234986813942969,
          0.8200463392420005,
          0.8179460498130934,
          0.8151100623534697,
          0.8096106398148567,
          0.8069362503139668,
          0.8034676879853221,
          0.7994238116066599,
          0.7971103664926857,
          0.7965868128857938,
          0.7941898615932599,
          0.7914922058133915,
          0.7884754302541582,
          0.7848521780119153,
          0.7823057938727279,
          0.7794349469227362,
          0.7765189912664593,
          0.7732587970283179,
          0.7714379364387695,
          0.7689742623902628,
          0.7661506114879733,
          0.7623262323956869,
          0.7600593319595063,
          0.7570851867474903,
          0.7533656972190305,
          0.7509488503443592,
          0.7495392795318876,
          0.7477461233607587,
          0.7459143102217073,
          0.7429005150288921,
          0.739809925262781,
          0.7350523051646278,
          0.7326156676889439,
          0.7309468392887414,
          0.7283639882665198,
          0.7238982372654991,
          0.71928742046763,
          0.7164406364816104,
          0.7135084101385752,
          0.7109638009726031,
          0.7072827753758514,
          0.7034537116267168,
          0.70062177236896,
          0.6964690607630477,
          0.693968274189392,
          0.6913321174023478,
          0.6892329308110449,
          0.6840001428330865,
          0.6800463847820284,
          0.6715245002609502,
          0.6668350833596863,
          0.6604741763642041,
          0.6496071423838059,
          0.6423081857278079,
          0.6339120002934576
         ]
        },
        {
         "line": {
          "color": "rgba(55, 128, 191, 1.0)",
          "dash": "solid",
          "shape": "linear",
          "width": 1.3
         },
         "mode": "lines",
         "name": "1",
         "text": "",
         "type": "scatter",
         "x": [
          0,
          1,
          2,
          3,
          4,
          5,
          6,
          7,
          8,
          9,
          10,
          11,
          12,
          13,
          14,
          15,
          16,
          17,
          18,
          19,
          20,
          21,
          22,
          23,
          24,
          25,
          26,
          27,
          28,
          29,
          30,
          31,
          32,
          33,
          34,
          35,
          36,
          37,
          38,
          39,
          40,
          41,
          42,
          43,
          44,
          45,
          46,
          47,
          48,
          49,
          50,
          51,
          52,
          53,
          54,
          55,
          56,
          57,
          58,
          59,
          60,
          61,
          62,
          63,
          64,
          65,
          66,
          67,
          68,
          69,
          70,
          71,
          72
         ],
         "y": [
          1,
          0.935201401050788,
          0.908633179430027,
          0.8906937287009054,
          0.8789740743758931,
          0.8652686574157701,
          0.8597338898843259,
          0.8495100274100257,
          0.835382920524049,
          0.8268197698580849,
          0.8172278931775966,
          0.8104977811161337,
          0.8036868753924681,
          0.7939096627964529,
          0.7879996653066531,
          0.7760602764383705,
          0.7650594220043212,
          0.7590035426744718,
          0.7539163875627127,
          0.7497909900931495,
          0.7404445650088861,
          0.7351857257687663,
          0.7309422295161327,
          0.7287987039163782,
          0.7190088705801879,
          0.7113130569807059,
          0.7046859166982766,
          0.69238187688291,
          0.6889878480746605,
          0.6832653576421469,
          0.67745527807036,
          0.6739083917977402,
          0.661938438124601,
          0.6570622802010316,
          0.6545874693528168,
          0.6495424792229302,
          0.6443771314756307,
          0.6352830993781923,
          0.6300436511358978,
          0.627379618784372,
          0.6193190669370352,
          0.6125431471674834,
          0.6084412957355584,
          0.5973787267221851,
          0.5945741317610478,
          0.5931448670212373,
          0.5828676044738396,
          0.5739233445586401,
          0.5724130199676963,
          0.5678091618982506,
          0.5615523116293994,
          0.5551161819832175,
          0.5518411602606027,
          0.5450701030794911,
          0.539911710936783,
          0.5345660504324585,
          0.5271672123641893,
          0.5213741660744731,
          0.5132908456702177,
          0.511237682287537,
          0.5091163641037713,
          0.5068636368289756,
          0.5045278597007316,
          0.5045278597007316,
          0.5020177708464989,
          0.49664859682674994,
          0.4729986636445237,
          0.4729986636445237,
          0.45844485860930767,
          0.4506081943595759,
          0.44194265216035317,
          0.43686285156080873,
          0.4212606068622083
         ]
        }
       ],
       "layout": {
        "legend": {
         "bgcolor": "#F5F6F9",
         "font": {
          "color": "#4D5663"
         }
        },
        "paper_bgcolor": "#F5F6F9",
        "plot_bgcolor": "#F5F6F9",
        "template": {
         "data": {
          "bar": [
           {
            "error_x": {
             "color": "#2a3f5f"
            },
            "error_y": {
             "color": "#2a3f5f"
            },
            "marker": {
             "line": {
              "color": "#E5ECF6",
              "width": 0.5
             }
            },
            "type": "bar"
           }
          ],
          "barpolar": [
           {
            "marker": {
             "line": {
              "color": "#E5ECF6",
              "width": 0.5
             }
            },
            "type": "barpolar"
           }
          ],
          "carpet": [
           {
            "aaxis": {
             "endlinecolor": "#2a3f5f",
             "gridcolor": "white",
             "linecolor": "white",
             "minorgridcolor": "white",
             "startlinecolor": "#2a3f5f"
            },
            "baxis": {
             "endlinecolor": "#2a3f5f",
             "gridcolor": "white",
             "linecolor": "white",
             "minorgridcolor": "white",
             "startlinecolor": "#2a3f5f"
            },
            "type": "carpet"
           }
          ],
          "choropleth": [
           {
            "colorbar": {
             "outlinewidth": 0,
             "ticks": ""
            },
            "type": "choropleth"
           }
          ],
          "contour": [
           {
            "colorbar": {
             "outlinewidth": 0,
             "ticks": ""
            },
            "colorscale": [
             [
              0,
              "#0d0887"
             ],
             [
              0.1111111111111111,
              "#46039f"
             ],
             [
              0.2222222222222222,
              "#7201a8"
             ],
             [
              0.3333333333333333,
              "#9c179e"
             ],
             [
              0.4444444444444444,
              "#bd3786"
             ],
             [
              0.5555555555555556,
              "#d8576b"
             ],
             [
              0.6666666666666666,
              "#ed7953"
             ],
             [
              0.7777777777777778,
              "#fb9f3a"
             ],
             [
              0.8888888888888888,
              "#fdca26"
             ],
             [
              1,
              "#f0f921"
             ]
            ],
            "type": "contour"
           }
          ],
          "contourcarpet": [
           {
            "colorbar": {
             "outlinewidth": 0,
             "ticks": ""
            },
            "type": "contourcarpet"
           }
          ],
          "heatmap": [
           {
            "colorbar": {
             "outlinewidth": 0,
             "ticks": ""
            },
            "colorscale": [
             [
              0,
              "#0d0887"
             ],
             [
              0.1111111111111111,
              "#46039f"
             ],
             [
              0.2222222222222222,
              "#7201a8"
             ],
             [
              0.3333333333333333,
              "#9c179e"
             ],
             [
              0.4444444444444444,
              "#bd3786"
             ],
             [
              0.5555555555555556,
              "#d8576b"
             ],
             [
              0.6666666666666666,
              "#ed7953"
             ],
             [
              0.7777777777777778,
              "#fb9f3a"
             ],
             [
              0.8888888888888888,
              "#fdca26"
             ],
             [
              1,
              "#f0f921"
             ]
            ],
            "type": "heatmap"
           }
          ],
          "heatmapgl": [
           {
            "colorbar": {
             "outlinewidth": 0,
             "ticks": ""
            },
            "colorscale": [
             [
              0,
              "#0d0887"
             ],
             [
              0.1111111111111111,
              "#46039f"
             ],
             [
              0.2222222222222222,
              "#7201a8"
             ],
             [
              0.3333333333333333,
              "#9c179e"
             ],
             [
              0.4444444444444444,
              "#bd3786"
             ],
             [
              0.5555555555555556,
              "#d8576b"
             ],
             [
              0.6666666666666666,
              "#ed7953"
             ],
             [
              0.7777777777777778,
              "#fb9f3a"
             ],
             [
              0.8888888888888888,
              "#fdca26"
             ],
             [
              1,
              "#f0f921"
             ]
            ],
            "type": "heatmapgl"
           }
          ],
          "histogram": [
           {
            "marker": {
             "colorbar": {
              "outlinewidth": 0,
              "ticks": ""
             }
            },
            "type": "histogram"
           }
          ],
          "histogram2d": [
           {
            "colorbar": {
             "outlinewidth": 0,
             "ticks": ""
            },
            "colorscale": [
             [
              0,
              "#0d0887"
             ],
             [
              0.1111111111111111,
              "#46039f"
             ],
             [
              0.2222222222222222,
              "#7201a8"
             ],
             [
              0.3333333333333333,
              "#9c179e"
             ],
             [
              0.4444444444444444,
              "#bd3786"
             ],
             [
              0.5555555555555556,
              "#d8576b"
             ],
             [
              0.6666666666666666,
              "#ed7953"
             ],
             [
              0.7777777777777778,
              "#fb9f3a"
             ],
             [
              0.8888888888888888,
              "#fdca26"
             ],
             [
              1,
              "#f0f921"
             ]
            ],
            "type": "histogram2d"
           }
          ],
          "histogram2dcontour": [
           {
            "colorbar": {
             "outlinewidth": 0,
             "ticks": ""
            },
            "colorscale": [
             [
              0,
              "#0d0887"
             ],
             [
              0.1111111111111111,
              "#46039f"
             ],
             [
              0.2222222222222222,
              "#7201a8"
             ],
             [
              0.3333333333333333,
              "#9c179e"
             ],
             [
              0.4444444444444444,
              "#bd3786"
             ],
             [
              0.5555555555555556,
              "#d8576b"
             ],
             [
              0.6666666666666666,
              "#ed7953"
             ],
             [
              0.7777777777777778,
              "#fb9f3a"
             ],
             [
              0.8888888888888888,
              "#fdca26"
             ],
             [
              1,
              "#f0f921"
             ]
            ],
            "type": "histogram2dcontour"
           }
          ],
          "mesh3d": [
           {
            "colorbar": {
             "outlinewidth": 0,
             "ticks": ""
            },
            "type": "mesh3d"
           }
          ],
          "parcoords": [
           {
            "line": {
             "colorbar": {
              "outlinewidth": 0,
              "ticks": ""
             }
            },
            "type": "parcoords"
           }
          ],
          "pie": [
           {
            "automargin": true,
            "type": "pie"
           }
          ],
          "scatter": [
           {
            "marker": {
             "colorbar": {
              "outlinewidth": 0,
              "ticks": ""
             }
            },
            "type": "scatter"
           }
          ],
          "scatter3d": [
           {
            "line": {
             "colorbar": {
              "outlinewidth": 0,
              "ticks": ""
             }
            },
            "marker": {
             "colorbar": {
              "outlinewidth": 0,
              "ticks": ""
             }
            },
            "type": "scatter3d"
           }
          ],
          "scattercarpet": [
           {
            "marker": {
             "colorbar": {
              "outlinewidth": 0,
              "ticks": ""
             }
            },
            "type": "scattercarpet"
           }
          ],
          "scattergeo": [
           {
            "marker": {
             "colorbar": {
              "outlinewidth": 0,
              "ticks": ""
             }
            },
            "type": "scattergeo"
           }
          ],
          "scattergl": [
           {
            "marker": {
             "colorbar": {
              "outlinewidth": 0,
              "ticks": ""
             }
            },
            "type": "scattergl"
           }
          ],
          "scattermapbox": [
           {
            "marker": {
             "colorbar": {
              "outlinewidth": 0,
              "ticks": ""
             }
            },
            "type": "scattermapbox"
           }
          ],
          "scatterpolar": [
           {
            "marker": {
             "colorbar": {
              "outlinewidth": 0,
              "ticks": ""
             }
            },
            "type": "scatterpolar"
           }
          ],
          "scatterpolargl": [
           {
            "marker": {
             "colorbar": {
              "outlinewidth": 0,
              "ticks": ""
             }
            },
            "type": "scatterpolargl"
           }
          ],
          "scatterternary": [
           {
            "marker": {
             "colorbar": {
              "outlinewidth": 0,
              "ticks": ""
             }
            },
            "type": "scatterternary"
           }
          ],
          "surface": [
           {
            "colorbar": {
             "outlinewidth": 0,
             "ticks": ""
            },
            "colorscale": [
             [
              0,
              "#0d0887"
             ],
             [
              0.1111111111111111,
              "#46039f"
             ],
             [
              0.2222222222222222,
              "#7201a8"
             ],
             [
              0.3333333333333333,
              "#9c179e"
             ],
             [
              0.4444444444444444,
              "#bd3786"
             ],
             [
              0.5555555555555556,
              "#d8576b"
             ],
             [
              0.6666666666666666,
              "#ed7953"
             ],
             [
              0.7777777777777778,
              "#fb9f3a"
             ],
             [
              0.8888888888888888,
              "#fdca26"
             ],
             [
              1,
              "#f0f921"
             ]
            ],
            "type": "surface"
           }
          ],
          "table": [
           {
            "cells": {
             "fill": {
              "color": "#EBF0F8"
             },
             "line": {
              "color": "white"
             }
            },
            "header": {
             "fill": {
              "color": "#C8D4E3"
             },
             "line": {
              "color": "white"
             }
            },
            "type": "table"
           }
          ]
         },
         "layout": {
          "annotationdefaults": {
           "arrowcolor": "#2a3f5f",
           "arrowhead": 0,
           "arrowwidth": 1
          },
          "coloraxis": {
           "colorbar": {
            "outlinewidth": 0,
            "ticks": ""
           }
          },
          "colorscale": {
           "diverging": [
            [
             0,
             "#8e0152"
            ],
            [
             0.1,
             "#c51b7d"
            ],
            [
             0.2,
             "#de77ae"
            ],
            [
             0.3,
             "#f1b6da"
            ],
            [
             0.4,
             "#fde0ef"
            ],
            [
             0.5,
             "#f7f7f7"
            ],
            [
             0.6,
             "#e6f5d0"
            ],
            [
             0.7,
             "#b8e186"
            ],
            [
             0.8,
             "#7fbc41"
            ],
            [
             0.9,
             "#4d9221"
            ],
            [
             1,
             "#276419"
            ]
           ],
           "sequential": [
            [
             0,
             "#0d0887"
            ],
            [
             0.1111111111111111,
             "#46039f"
            ],
            [
             0.2222222222222222,
             "#7201a8"
            ],
            [
             0.3333333333333333,
             "#9c179e"
            ],
            [
             0.4444444444444444,
             "#bd3786"
            ],
            [
             0.5555555555555556,
             "#d8576b"
            ],
            [
             0.6666666666666666,
             "#ed7953"
            ],
            [
             0.7777777777777778,
             "#fb9f3a"
            ],
            [
             0.8888888888888888,
             "#fdca26"
            ],
            [
             1,
             "#f0f921"
            ]
           ],
           "sequentialminus": [
            [
             0,
             "#0d0887"
            ],
            [
             0.1111111111111111,
             "#46039f"
            ],
            [
             0.2222222222222222,
             "#7201a8"
            ],
            [
             0.3333333333333333,
             "#9c179e"
            ],
            [
             0.4444444444444444,
             "#bd3786"
            ],
            [
             0.5555555555555556,
             "#d8576b"
            ],
            [
             0.6666666666666666,
             "#ed7953"
            ],
            [
             0.7777777777777778,
             "#fb9f3a"
            ],
            [
             0.8888888888888888,
             "#fdca26"
            ],
            [
             1,
             "#f0f921"
            ]
           ]
          },
          "colorway": [
           "#636efa",
           "#EF553B",
           "#00cc96",
           "#ab63fa",
           "#FFA15A",
           "#19d3f3",
           "#FF6692",
           "#B6E880",
           "#FF97FF",
           "#FECB52"
          ],
          "font": {
           "color": "#2a3f5f"
          },
          "geo": {
           "bgcolor": "white",
           "lakecolor": "white",
           "landcolor": "#E5ECF6",
           "showlakes": true,
           "showland": true,
           "subunitcolor": "white"
          },
          "hoverlabel": {
           "align": "left"
          },
          "hovermode": "closest",
          "mapbox": {
           "style": "light"
          },
          "paper_bgcolor": "white",
          "plot_bgcolor": "#E5ECF6",
          "polar": {
           "angularaxis": {
            "gridcolor": "white",
            "linecolor": "white",
            "ticks": ""
           },
           "bgcolor": "#E5ECF6",
           "radialaxis": {
            "gridcolor": "white",
            "linecolor": "white",
            "ticks": ""
           }
          },
          "scene": {
           "xaxis": {
            "backgroundcolor": "#E5ECF6",
            "gridcolor": "white",
            "gridwidth": 2,
            "linecolor": "white",
            "showbackground": true,
            "ticks": "",
            "zerolinecolor": "white"
           },
           "yaxis": {
            "backgroundcolor": "#E5ECF6",
            "gridcolor": "white",
            "gridwidth": 2,
            "linecolor": "white",
            "showbackground": true,
            "ticks": "",
            "zerolinecolor": "white"
           },
           "zaxis": {
            "backgroundcolor": "#E5ECF6",
            "gridcolor": "white",
            "gridwidth": 2,
            "linecolor": "white",
            "showbackground": true,
            "ticks": "",
            "zerolinecolor": "white"
           }
          },
          "shapedefaults": {
           "line": {
            "color": "#2a3f5f"
           }
          },
          "ternary": {
           "aaxis": {
            "gridcolor": "white",
            "linecolor": "white",
            "ticks": ""
           },
           "baxis": {
            "gridcolor": "white",
            "linecolor": "white",
            "ticks": ""
           },
           "bgcolor": "#E5ECF6",
           "caxis": {
            "gridcolor": "white",
            "linecolor": "white",
            "ticks": ""
           }
          },
          "title": {
           "x": 0.05
          },
          "xaxis": {
           "automargin": true,
           "gridcolor": "white",
           "linecolor": "white",
           "ticks": "",
           "title": {
            "standoff": 15
           },
           "zerolinecolor": "white",
           "zerolinewidth": 2
          },
          "yaxis": {
           "automargin": true,
           "gridcolor": "white",
           "linecolor": "white",
           "ticks": "",
           "title": {
            "standoff": 15
           },
           "zerolinecolor": "white",
           "zerolinewidth": 2
          }
         }
        },
        "title": {
         "font": {
          "color": "#4D5663"
         },
         "text": "Retention Rates by Tenure and SeniorCitizen"
        },
        "xaxis": {
         "gridcolor": "#E1E5ED",
         "showgrid": true,
         "tickfont": {
          "color": "#4D5663"
         },
         "title": {
          "font": {
           "color": "#4D5663"
          },
          "text": "Tenure (Months)"
         },
         "zerolinecolor": "#E1E5ED"
        },
        "yaxis": {
         "gridcolor": "#E1E5ED",
         "showgrid": true,
         "tickfont": {
          "color": "#4D5663"
         },
         "title": {
          "font": {
           "color": "#4D5663"
          },
          "text": "Retention Rate"
         },
         "zerolinecolor": "#E1E5ED"
        }
       }
      },
      "text/html": [
       "<div>                            <div id=\"dd1d83fe-bf7b-4a7a-a53f-3f7ceccac704\" class=\"plotly-graph-div\" style=\"height:525px; width:100%;\"></div>            <script type=\"text/javascript\">                require([\"plotly\"], function(Plotly) {                    window.PLOTLYENV=window.PLOTLYENV || {};\n",
       "                    window.PLOTLYENV.BASE_URL='https://plot.ly';                                    if (document.getElementById(\"dd1d83fe-bf7b-4a7a-a53f-3f7ceccac704\")) {                    Plotly.newPlot(                        \"dd1d83fe-bf7b-4a7a-a53f-3f7ceccac704\",                        [{\"line\": {\"color\": \"rgba(255, 153, 51, 1.0)\", \"dash\": \"solid\", \"shape\": \"linear\", \"width\": 1.3}, \"mode\": \"lines\", \"name\": \"0\", \"text\": \"\", \"type\": \"scatter\", \"x\": [0.0, 1.0, 2.0, 3.0, 4.0, 5.0, 6.0, 7.0, 8.0, 9.0, 10.0, 11.0, 12.0, 13.0, 14.0, 15.0, 16.0, 17.0, 18.0, 19.0, 20.0, 21.0, 22.0, 23.0, 24.0, 25.0, 26.0, 27.0, 28.0, 29.0, 30.0, 31.0, 32.0, 33.0, 34.0, 35.0, 36.0, 37.0, 38.0, 39.0, 40.0, 41.0, 42.0, 43.0, 44.0, 45.0, 46.0, 47.0, 48.0, 49.0, 50.0, 51.0, 52.0, 53.0, 54.0, 55.0, 56.0, 57.0, 58.0, 59.0, 60.0, 61.0, 62.0, 63.0, 64.0, 65.0, 66.0, 67.0, 68.0, 69.0, 70.0, 71.0, 72.0], \"y\": [1.0, 0.9480475382003397, 0.9316074074801017, 0.9182678277290335, 0.9053940548588076, 0.8962335533745863, 0.8897967259950471, 0.8821211018760468, 0.8768622655433784, 0.8695385852216849, 0.8625051092607986, 0.8576033515950975, 0.8511832347393984, 0.8452766348452969, 0.8414169241839033, 0.8359954233837497, 0.8322524889098166, 0.8277959829451046, 0.8234986813942969, 0.8200463392420005, 0.8179460498130934, 0.8151100623534697, 0.8096106398148567, 0.8069362503139668, 0.8034676879853221, 0.7994238116066599, 0.7971103664926857, 0.7965868128857938, 0.7941898615932599, 0.7914922058133915, 0.7884754302541582, 0.7848521780119153, 0.7823057938727279, 0.7794349469227362, 0.7765189912664593, 0.7732587970283179, 0.7714379364387695, 0.7689742623902628, 0.7661506114879733, 0.7623262323956869, 0.7600593319595063, 0.7570851867474903, 0.7533656972190305, 0.7509488503443592, 0.7495392795318876, 0.7477461233607587, 0.7459143102217073, 0.7429005150288921, 0.739809925262781, 0.7350523051646278, 0.7326156676889439, 0.7309468392887414, 0.7283639882665198, 0.7238982372654991, 0.71928742046763, 0.7164406364816104, 0.7135084101385752, 0.7109638009726031, 0.7072827753758514, 0.7034537116267168, 0.70062177236896, 0.6964690607630477, 0.693968274189392, 0.6913321174023478, 0.6892329308110449, 0.6840001428330865, 0.6800463847820284, 0.6715245002609502, 0.6668350833596863, 0.6604741763642041, 0.6496071423838059, 0.6423081857278079, 0.6339120002934576]}, {\"line\": {\"color\": \"rgba(55, 128, 191, 1.0)\", \"dash\": \"solid\", \"shape\": \"linear\", \"width\": 1.3}, \"mode\": \"lines\", \"name\": \"1\", \"text\": \"\", \"type\": \"scatter\", \"x\": [0.0, 1.0, 2.0, 3.0, 4.0, 5.0, 6.0, 7.0, 8.0, 9.0, 10.0, 11.0, 12.0, 13.0, 14.0, 15.0, 16.0, 17.0, 18.0, 19.0, 20.0, 21.0, 22.0, 23.0, 24.0, 25.0, 26.0, 27.0, 28.0, 29.0, 30.0, 31.0, 32.0, 33.0, 34.0, 35.0, 36.0, 37.0, 38.0, 39.0, 40.0, 41.0, 42.0, 43.0, 44.0, 45.0, 46.0, 47.0, 48.0, 49.0, 50.0, 51.0, 52.0, 53.0, 54.0, 55.0, 56.0, 57.0, 58.0, 59.0, 60.0, 61.0, 62.0, 63.0, 64.0, 65.0, 66.0, 67.0, 68.0, 69.0, 70.0, 71.0, 72.0], \"y\": [1.0, 0.935201401050788, 0.908633179430027, 0.8906937287009054, 0.8789740743758931, 0.8652686574157701, 0.8597338898843259, 0.8495100274100257, 0.835382920524049, 0.8268197698580849, 0.8172278931775966, 0.8104977811161337, 0.8036868753924681, 0.7939096627964529, 0.7879996653066531, 0.7760602764383705, 0.7650594220043212, 0.7590035426744718, 0.7539163875627127, 0.7497909900931495, 0.7404445650088861, 0.7351857257687663, 0.7309422295161327, 0.7287987039163782, 0.7190088705801879, 0.7113130569807059, 0.7046859166982766, 0.69238187688291, 0.6889878480746605, 0.6832653576421469, 0.67745527807036, 0.6739083917977402, 0.661938438124601, 0.6570622802010316, 0.6545874693528168, 0.6495424792229302, 0.6443771314756307, 0.6352830993781923, 0.6300436511358978, 0.627379618784372, 0.6193190669370352, 0.6125431471674834, 0.6084412957355584, 0.5973787267221851, 0.5945741317610478, 0.5931448670212373, 0.5828676044738396, 0.5739233445586401, 0.5724130199676963, 0.5678091618982506, 0.5615523116293994, 0.5551161819832175, 0.5518411602606027, 0.5450701030794911, 0.539911710936783, 0.5345660504324585, 0.5271672123641893, 0.5213741660744731, 0.5132908456702177, 0.511237682287537, 0.5091163641037713, 0.5068636368289756, 0.5045278597007316, 0.5045278597007316, 0.5020177708464989, 0.49664859682674994, 0.4729986636445237, 0.4729986636445237, 0.45844485860930767, 0.4506081943595759, 0.44194265216035317, 0.43686285156080873, 0.4212606068622083]}],                        {\"legend\": {\"bgcolor\": \"#F5F6F9\", \"font\": {\"color\": \"#4D5663\"}}, \"paper_bgcolor\": \"#F5F6F9\", \"plot_bgcolor\": \"#F5F6F9\", \"template\": {\"data\": {\"bar\": [{\"error_x\": {\"color\": \"#2a3f5f\"}, \"error_y\": {\"color\": \"#2a3f5f\"}, \"marker\": {\"line\": {\"color\": \"#E5ECF6\", \"width\": 0.5}}, \"type\": \"bar\"}], \"barpolar\": [{\"marker\": {\"line\": {\"color\": \"#E5ECF6\", \"width\": 0.5}}, \"type\": \"barpolar\"}], \"carpet\": [{\"aaxis\": {\"endlinecolor\": \"#2a3f5f\", \"gridcolor\": \"white\", \"linecolor\": \"white\", \"minorgridcolor\": \"white\", \"startlinecolor\": \"#2a3f5f\"}, \"baxis\": {\"endlinecolor\": \"#2a3f5f\", \"gridcolor\": \"white\", \"linecolor\": \"white\", \"minorgridcolor\": \"white\", \"startlinecolor\": \"#2a3f5f\"}, \"type\": \"carpet\"}], \"choropleth\": [{\"colorbar\": {\"outlinewidth\": 0, \"ticks\": \"\"}, \"type\": \"choropleth\"}], \"contour\": [{\"colorbar\": {\"outlinewidth\": 0, \"ticks\": \"\"}, \"colorscale\": [[0.0, \"#0d0887\"], [0.1111111111111111, \"#46039f\"], [0.2222222222222222, \"#7201a8\"], [0.3333333333333333, \"#9c179e\"], [0.4444444444444444, \"#bd3786\"], [0.5555555555555556, \"#d8576b\"], [0.6666666666666666, \"#ed7953\"], [0.7777777777777778, \"#fb9f3a\"], [0.8888888888888888, \"#fdca26\"], [1.0, \"#f0f921\"]], \"type\": \"contour\"}], \"contourcarpet\": [{\"colorbar\": {\"outlinewidth\": 0, \"ticks\": \"\"}, \"type\": \"contourcarpet\"}], \"heatmap\": [{\"colorbar\": {\"outlinewidth\": 0, \"ticks\": \"\"}, \"colorscale\": [[0.0, \"#0d0887\"], [0.1111111111111111, \"#46039f\"], [0.2222222222222222, \"#7201a8\"], [0.3333333333333333, \"#9c179e\"], [0.4444444444444444, \"#bd3786\"], [0.5555555555555556, \"#d8576b\"], [0.6666666666666666, \"#ed7953\"], [0.7777777777777778, \"#fb9f3a\"], [0.8888888888888888, \"#fdca26\"], [1.0, \"#f0f921\"]], \"type\": \"heatmap\"}], \"heatmapgl\": [{\"colorbar\": {\"outlinewidth\": 0, \"ticks\": \"\"}, \"colorscale\": [[0.0, \"#0d0887\"], [0.1111111111111111, \"#46039f\"], [0.2222222222222222, \"#7201a8\"], [0.3333333333333333, \"#9c179e\"], [0.4444444444444444, \"#bd3786\"], [0.5555555555555556, \"#d8576b\"], [0.6666666666666666, \"#ed7953\"], [0.7777777777777778, \"#fb9f3a\"], [0.8888888888888888, \"#fdca26\"], [1.0, \"#f0f921\"]], \"type\": \"heatmapgl\"}], \"histogram\": [{\"marker\": {\"colorbar\": {\"outlinewidth\": 0, \"ticks\": \"\"}}, \"type\": \"histogram\"}], \"histogram2d\": [{\"colorbar\": {\"outlinewidth\": 0, \"ticks\": \"\"}, \"colorscale\": [[0.0, \"#0d0887\"], [0.1111111111111111, \"#46039f\"], [0.2222222222222222, \"#7201a8\"], [0.3333333333333333, \"#9c179e\"], [0.4444444444444444, \"#bd3786\"], [0.5555555555555556, \"#d8576b\"], [0.6666666666666666, \"#ed7953\"], [0.7777777777777778, \"#fb9f3a\"], [0.8888888888888888, \"#fdca26\"], [1.0, \"#f0f921\"]], \"type\": \"histogram2d\"}], \"histogram2dcontour\": [{\"colorbar\": {\"outlinewidth\": 0, \"ticks\": \"\"}, \"colorscale\": [[0.0, \"#0d0887\"], [0.1111111111111111, \"#46039f\"], [0.2222222222222222, \"#7201a8\"], [0.3333333333333333, \"#9c179e\"], [0.4444444444444444, \"#bd3786\"], [0.5555555555555556, \"#d8576b\"], [0.6666666666666666, \"#ed7953\"], [0.7777777777777778, \"#fb9f3a\"], [0.8888888888888888, \"#fdca26\"], [1.0, \"#f0f921\"]], \"type\": \"histogram2dcontour\"}], \"mesh3d\": [{\"colorbar\": {\"outlinewidth\": 0, \"ticks\": \"\"}, \"type\": \"mesh3d\"}], \"parcoords\": [{\"line\": {\"colorbar\": {\"outlinewidth\": 0, \"ticks\": \"\"}}, \"type\": \"parcoords\"}], \"pie\": [{\"automargin\": true, \"type\": \"pie\"}], \"scatter\": [{\"marker\": {\"colorbar\": {\"outlinewidth\": 0, \"ticks\": \"\"}}, \"type\": \"scatter\"}], \"scatter3d\": [{\"line\": {\"colorbar\": {\"outlinewidth\": 0, \"ticks\": \"\"}}, \"marker\": {\"colorbar\": {\"outlinewidth\": 0, \"ticks\": \"\"}}, \"type\": \"scatter3d\"}], \"scattercarpet\": [{\"marker\": {\"colorbar\": {\"outlinewidth\": 0, \"ticks\": \"\"}}, \"type\": \"scattercarpet\"}], \"scattergeo\": [{\"marker\": {\"colorbar\": {\"outlinewidth\": 0, \"ticks\": \"\"}}, \"type\": \"scattergeo\"}], \"scattergl\": [{\"marker\": {\"colorbar\": {\"outlinewidth\": 0, \"ticks\": \"\"}}, \"type\": \"scattergl\"}], \"scattermapbox\": [{\"marker\": {\"colorbar\": {\"outlinewidth\": 0, \"ticks\": \"\"}}, \"type\": \"scattermapbox\"}], \"scatterpolar\": [{\"marker\": {\"colorbar\": {\"outlinewidth\": 0, \"ticks\": \"\"}}, \"type\": \"scatterpolar\"}], \"scatterpolargl\": [{\"marker\": {\"colorbar\": {\"outlinewidth\": 0, \"ticks\": \"\"}}, \"type\": \"scatterpolargl\"}], \"scatterternary\": [{\"marker\": {\"colorbar\": {\"outlinewidth\": 0, \"ticks\": \"\"}}, \"type\": \"scatterternary\"}], \"surface\": [{\"colorbar\": {\"outlinewidth\": 0, \"ticks\": \"\"}, \"colorscale\": [[0.0, \"#0d0887\"], [0.1111111111111111, \"#46039f\"], [0.2222222222222222, \"#7201a8\"], [0.3333333333333333, \"#9c179e\"], [0.4444444444444444, \"#bd3786\"], [0.5555555555555556, \"#d8576b\"], [0.6666666666666666, \"#ed7953\"], [0.7777777777777778, \"#fb9f3a\"], [0.8888888888888888, \"#fdca26\"], [1.0, \"#f0f921\"]], \"type\": \"surface\"}], \"table\": [{\"cells\": {\"fill\": {\"color\": \"#EBF0F8\"}, \"line\": {\"color\": \"white\"}}, \"header\": {\"fill\": {\"color\": \"#C8D4E3\"}, \"line\": {\"color\": \"white\"}}, \"type\": \"table\"}]}, \"layout\": {\"annotationdefaults\": {\"arrowcolor\": \"#2a3f5f\", \"arrowhead\": 0, \"arrowwidth\": 1}, \"coloraxis\": {\"colorbar\": {\"outlinewidth\": 0, \"ticks\": \"\"}}, \"colorscale\": {\"diverging\": [[0, \"#8e0152\"], [0.1, \"#c51b7d\"], [0.2, \"#de77ae\"], [0.3, \"#f1b6da\"], [0.4, \"#fde0ef\"], [0.5, \"#f7f7f7\"], [0.6, \"#e6f5d0\"], [0.7, \"#b8e186\"], [0.8, \"#7fbc41\"], [0.9, \"#4d9221\"], [1, \"#276419\"]], \"sequential\": [[0.0, \"#0d0887\"], [0.1111111111111111, \"#46039f\"], [0.2222222222222222, \"#7201a8\"], [0.3333333333333333, \"#9c179e\"], [0.4444444444444444, \"#bd3786\"], [0.5555555555555556, \"#d8576b\"], [0.6666666666666666, \"#ed7953\"], [0.7777777777777778, \"#fb9f3a\"], [0.8888888888888888, \"#fdca26\"], [1.0, \"#f0f921\"]], \"sequentialminus\": [[0.0, \"#0d0887\"], [0.1111111111111111, \"#46039f\"], [0.2222222222222222, \"#7201a8\"], [0.3333333333333333, \"#9c179e\"], [0.4444444444444444, \"#bd3786\"], [0.5555555555555556, \"#d8576b\"], [0.6666666666666666, \"#ed7953\"], [0.7777777777777778, \"#fb9f3a\"], [0.8888888888888888, \"#fdca26\"], [1.0, \"#f0f921\"]]}, \"colorway\": [\"#636efa\", \"#EF553B\", \"#00cc96\", \"#ab63fa\", \"#FFA15A\", \"#19d3f3\", \"#FF6692\", \"#B6E880\", \"#FF97FF\", \"#FECB52\"], \"font\": {\"color\": \"#2a3f5f\"}, \"geo\": {\"bgcolor\": \"white\", \"lakecolor\": \"white\", \"landcolor\": \"#E5ECF6\", \"showlakes\": true, \"showland\": true, \"subunitcolor\": \"white\"}, \"hoverlabel\": {\"align\": \"left\"}, \"hovermode\": \"closest\", \"mapbox\": {\"style\": \"light\"}, \"paper_bgcolor\": \"white\", \"plot_bgcolor\": \"#E5ECF6\", \"polar\": {\"angularaxis\": {\"gridcolor\": \"white\", \"linecolor\": \"white\", \"ticks\": \"\"}, \"bgcolor\": \"#E5ECF6\", \"radialaxis\": {\"gridcolor\": \"white\", \"linecolor\": \"white\", \"ticks\": \"\"}}, \"scene\": {\"xaxis\": {\"backgroundcolor\": \"#E5ECF6\", \"gridcolor\": \"white\", \"gridwidth\": 2, \"linecolor\": \"white\", \"showbackground\": true, \"ticks\": \"\", \"zerolinecolor\": \"white\"}, \"yaxis\": {\"backgroundcolor\": \"#E5ECF6\", \"gridcolor\": \"white\", \"gridwidth\": 2, \"linecolor\": \"white\", \"showbackground\": true, \"ticks\": \"\", \"zerolinecolor\": \"white\"}, \"zaxis\": {\"backgroundcolor\": \"#E5ECF6\", \"gridcolor\": \"white\", \"gridwidth\": 2, \"linecolor\": \"white\", \"showbackground\": true, \"ticks\": \"\", \"zerolinecolor\": \"white\"}}, \"shapedefaults\": {\"line\": {\"color\": \"#2a3f5f\"}}, \"ternary\": {\"aaxis\": {\"gridcolor\": \"white\", \"linecolor\": \"white\", \"ticks\": \"\"}, \"baxis\": {\"gridcolor\": \"white\", \"linecolor\": \"white\", \"ticks\": \"\"}, \"bgcolor\": \"#E5ECF6\", \"caxis\": {\"gridcolor\": \"white\", \"linecolor\": \"white\", \"ticks\": \"\"}}, \"title\": {\"x\": 0.05}, \"xaxis\": {\"automargin\": true, \"gridcolor\": \"white\", \"linecolor\": \"white\", \"ticks\": \"\", \"title\": {\"standoff\": 15}, \"zerolinecolor\": \"white\", \"zerolinewidth\": 2}, \"yaxis\": {\"automargin\": true, \"gridcolor\": \"white\", \"linecolor\": \"white\", \"ticks\": \"\", \"title\": {\"standoff\": 15}, \"zerolinecolor\": \"white\", \"zerolinewidth\": 2}}}, \"title\": {\"font\": {\"color\": \"#4D5663\"}, \"text\": \"Retention Rates by Tenure and SeniorCitizen\"}, \"xaxis\": {\"gridcolor\": \"#E1E5ED\", \"showgrid\": true, \"tickfont\": {\"color\": \"#4D5663\"}, \"title\": {\"font\": {\"color\": \"#4D5663\"}, \"text\": \"Tenure (Months)\"}, \"zerolinecolor\": \"#E1E5ED\"}, \"yaxis\": {\"gridcolor\": \"#E1E5ED\", \"showgrid\": true, \"tickfont\": {\"color\": \"#4D5663\"}, \"title\": {\"font\": {\"color\": \"#4D5663\"}, \"text\": \"Retention Rate\"}, \"zerolinecolor\": \"#E1E5ED\"}},                        {\"showLink\": true, \"linkText\": \"Export to plot.ly\", \"plotlyServerURL\": \"https://plot.ly\", \"responsive\": true}                    ).then(function(){\n",
       "                            \n",
       "var gd = document.getElementById('dd1d83fe-bf7b-4a7a-a53f-3f7ceccac704');\n",
       "var x = new MutationObserver(function (mutations, observer) {{\n",
       "        var display = window.getComputedStyle(gd).display;\n",
       "        if (!display || display === 'none') {{\n",
       "            console.log([gd, 'removed!']);\n",
       "            Plotly.purge(gd);\n",
       "            observer.disconnect();\n",
       "        }}\n",
       "}});\n",
       "\n",
       "// Listen for the removal of the full notebook cells\n",
       "var notebookContainer = gd.closest('#notebook-container');\n",
       "if (notebookContainer) {{\n",
       "    x.observe(notebookContainer, {childList: true});\n",
       "}}\n",
       "\n",
       "// Listen for the clearing of the current output cell\n",
       "var outputEl = gd.closest('.output');\n",
       "if (outputEl) {{\n",
       "    x.observe(outputEl, {childList: true});\n",
       "}}\n",
       "\n",
       "                        })                };                });            </script>        </div>"
      ]
     },
     "metadata": {},
     "output_type": "display_data"
    }
   ],
   "source": [
    "rates = survival(churn, 'SeniorCitizen', 'tenure', 'ChurnBinary')\n",
    "\n",
    "rates.iplot(kind='line', xTitle='Tenure (Months)', yTitle='Retention Rate',\n",
    "            title='Retention Rates by Tenure and SeniorCitizen')\n",
    "\n",
    "#Senior Citizen representa jubilados"
   ]
  },
  {
   "cell_type": "code",
   "execution_count": 28,
   "metadata": {},
   "outputs": [
    {
     "data": {
      "application/vnd.plotly.v1+json": {
       "config": {
        "linkText": "Export to plot.ly",
        "plotlyServerURL": "https://plot.ly",
        "showLink": true
       },
       "data": [
        {
         "line": {
          "color": "rgba(255, 153, 51, 1.0)",
          "dash": "solid",
          "shape": "linear",
          "width": 1.3
         },
         "mode": "lines",
         "name": "Month-to-month",
         "text": "",
         "type": "scatter",
         "x": [
          0,
          1,
          2,
          3,
          4,
          5,
          6,
          7,
          8,
          9,
          10,
          11,
          12,
          13,
          14,
          15,
          16,
          17,
          18,
          19,
          20,
          21,
          22,
          23,
          24,
          25,
          26,
          27,
          28,
          29,
          30,
          31,
          32,
          33,
          34,
          35,
          36,
          37,
          38,
          39,
          40,
          41,
          42,
          43,
          44,
          45,
          46,
          47,
          48,
          49,
          50,
          51,
          52,
          53,
          54,
          55,
          56,
          57,
          58,
          59,
          60,
          61,
          62,
          63,
          64,
          65,
          66,
          67,
          68,
          69,
          70,
          71,
          72
         ],
         "y": [
          1,
          0.9019354838709666,
          0.8685713158647337,
          0.8417230081727618,
          0.8175050128498966,
          0.7983233309841447,
          0.7858348940504861,
          0.7698756151298826,
          0.7564380245720602,
          0.7412958043292921,
          0.7257296301833199,
          0.7150936316950445,
          0.7030966363488644,
          0.6892664526460961,
          0.6804493623174757,
          0.6659966491109621,
          0.6547832358968269,
          0.6449430369854153,
          0.6357295650284809,
          0.6287769518771098,
          0.6207557008963952,
          0.6138939945489775,
          0.6031403297548981,
          0.5973455467628572,
          0.5859154739046663,
          0.5766965241404322,
          0.5687965717549469,
          0.5617273983010134,
          0.5561380709547346,
          0.5475468546166075,
          0.5386484766975947,
          0.5300790691137696,
          0.5187202319184743,
          0.5134938315968774,
          0.5060909061085871,
          0.4976910570445439,
          0.49110396952483704,
          0.4806549488966491,
          0.47371129794950645,
          0.46655793942342333,
          0.45763248319097527,
          0.4491734724111053,
          0.4386459691514699,
          0.42861456445154034,
          0.42482151520860606,
          0.421871365797435,
          0.41466868394235656,
          0.4006304212047246,
          0.397263779009727,
          0.3856478790386823,
          0.3757910642389718,
          0.36812185884633986,
          0.36145298459187736,
          0.35284696114921343,
          0.3453713899384248,
          0.33590916007709815,
          0.3307413268451428,
          0.32134526642340605,
          0.31310564420742126,
          0.3043474443694515,
          0.29715813465993696,
          0.2889037420304941,
          0.28583029796634,
          0.27910487919066146,
          0.27910487919066146,
          0.2610981127912639,
          0.23271788314003955,
          0.22606880076460992,
          0.20095004512409773,
          0.16548827245513925,
          0.1504438840501266,
          0.1289519006143942,
          0.1289519006143942
         ]
        },
        {
         "line": {
          "color": "rgba(55, 128, 191, 1.0)",
          "dash": "solid",
          "shape": "linear",
          "width": 1.3
         },
         "mode": "lines",
         "name": "One year",
         "text": "",
         "type": "scatter",
         "x": [
          0,
          1,
          2,
          3,
          4,
          5,
          6,
          7,
          8,
          9,
          10,
          11,
          12,
          13,
          14,
          15,
          16,
          17,
          18,
          19,
          20,
          21,
          22,
          23,
          24,
          25,
          26,
          27,
          28,
          29,
          30,
          31,
          32,
          33,
          34,
          35,
          36,
          37,
          38,
          39,
          40,
          41,
          42,
          43,
          44,
          45,
          46,
          47,
          48,
          49,
          50,
          51,
          52,
          53,
          54,
          55,
          56,
          57,
          58,
          59,
          60,
          61,
          62,
          63,
          64,
          65,
          66,
          67,
          68,
          69,
          70,
          71,
          72
         ],
         "y": [
          1,
          1,
          0.9986348122866899,
          0.9986348122866899,
          0.997947047264454,
          0.9972564264704988,
          0.9972564264704988,
          0.9965609896319563,
          0.9958591861181306,
          0.9951534035624126,
          0.9951534035624126,
          0.9944348812493706,
          0.9908082040748656,
          0.9900737280155071,
          0.989331543811598,
          0.989331543811598,
          0.989331543811598,
          0.9878083235747827,
          0.9862563859100931,
          0.9839062912653509,
          0.9839062912653509,
          0.9823103362105818,
          0.9790896465836618,
          0.9782723764279155,
          0.9782723764279155,
          0.9748755973430957,
          0.9748755973430957,
          0.9748755973430957,
          0.9730785916337071,
          0.9730785916337071,
          0.9721465240172004,
          0.9702496527508245,
          0.9692880574557302,
          0.9643926632261558,
          0.9633953595413302,
          0.9603498526091653,
          0.9593071274706106,
          0.9582435940698666,
          0.9539027397365943,
          0.9494762769071906,
          0.9472156191050304,
          0.9425894133951156,
          0.9402061278998047,
          0.9365429871417538,
          0.9340355092645337,
          0.9301651963808414,
          0.9248801668559502,
          0.923522046199774,
          0.9165468041589897,
          0.9107641744797536,
          0.9092759977240679,
          0.9061459598661544,
          0.9028267438959483,
          0.8906498899320339,
          0.8777419205127298,
          0.8739256512931093,
          0.8619540670288203,
          0.8598099026829775,
          0.8464102678359697,
          0.8392975765096171,
          0.8318260847306003,
          0.8265109020805645,
          0.8148287691889662,
          0.8084876892730982,
          0.8016360986860379,
          0.7900181842123272,
          0.7691182322490382,
          0.7391525868367375,
          0.7145141672755129,
          0.6919505619931284,
          0.6438984396324943,
          0.6438984396324943,
          0.5681456820286713
         ]
        },
        {
         "line": {
          "color": "rgba(50, 171, 96, 1.0)",
          "dash": "solid",
          "shape": "linear",
          "width": 1.3
         },
         "mode": "lines",
         "name": "Two year",
         "text": "",
         "type": "scatter",
         "x": [
          0,
          1,
          2,
          3,
          4,
          5,
          6,
          7,
          8,
          9,
          10,
          11,
          12,
          13,
          14,
          15,
          16,
          17,
          18,
          19,
          20,
          21,
          22,
          23,
          24,
          25,
          26,
          27,
          28,
          29,
          30,
          31,
          32,
          33,
          34,
          35,
          36,
          37,
          38,
          39,
          40,
          41,
          42,
          43,
          44,
          45,
          46,
          47,
          48,
          49,
          50,
          51,
          52,
          53,
          54,
          55,
          56,
          57,
          58,
          59,
          60,
          61,
          62,
          63,
          64,
          65,
          66,
          67,
          68,
          69,
          70,
          71,
          72
         ],
         "y": [
          1,
          1,
          1,
          1,
          1,
          1,
          1,
          1,
          1,
          1,
          1,
          1,
          1,
          1,
          1,
          1,
          1,
          1,
          1,
          1,
          1,
          1,
          1,
          1,
          1,
          0.9993493819128172,
          0.9993493819128172,
          0.9993493819128172,
          0.9993493819128172,
          0.9993493819128172,
          0.9993493819128172,
          0.9993493819128172,
          0.9993493819128172,
          0.9986759658872691,
          0.9986759658872691,
          0.9986759658872691,
          0.9986759658872691,
          0.9986759658872691,
          0.9986759658872691,
          0.9979721773277996,
          0.9979721773277996,
          0.9979721773277996,
          0.9979721773277996,
          0.9972442618082321,
          0.9972442618082321,
          0.9972442618082321,
          0.9964950174342213,
          0.9964950174342213,
          0.995718930972045,
          0.9949305549380209,
          0.9941333349420767,
          0.9941333349420767,
          0.9933151182054991,
          0.9924775843790181,
          0.9916278604197892,
          0.9907580114194203,
          0.9898749828887438,
          0.9880702882982452,
          0.9871459942960957,
          0.9861995455959076,
          0.9861995455959076,
          0.983198938459206,
          0.983198938459206,
          0.983198938459206,
          0.9809643954172538,
          0.9786287659043554,
          0.9749497103934366,
          0.9710757380342574,
          0.9682972666807979,
          0.9652427011707642,
          0.9567458464069369,
          0.9467797438401981,
          0.9357385806467265
         ]
        }
       ],
       "layout": {
        "legend": {
         "bgcolor": "#F5F6F9",
         "font": {
          "color": "#4D5663"
         }
        },
        "paper_bgcolor": "#F5F6F9",
        "plot_bgcolor": "#F5F6F9",
        "template": {
         "data": {
          "bar": [
           {
            "error_x": {
             "color": "#2a3f5f"
            },
            "error_y": {
             "color": "#2a3f5f"
            },
            "marker": {
             "line": {
              "color": "#E5ECF6",
              "width": 0.5
             }
            },
            "type": "bar"
           }
          ],
          "barpolar": [
           {
            "marker": {
             "line": {
              "color": "#E5ECF6",
              "width": 0.5
             }
            },
            "type": "barpolar"
           }
          ],
          "carpet": [
           {
            "aaxis": {
             "endlinecolor": "#2a3f5f",
             "gridcolor": "white",
             "linecolor": "white",
             "minorgridcolor": "white",
             "startlinecolor": "#2a3f5f"
            },
            "baxis": {
             "endlinecolor": "#2a3f5f",
             "gridcolor": "white",
             "linecolor": "white",
             "minorgridcolor": "white",
             "startlinecolor": "#2a3f5f"
            },
            "type": "carpet"
           }
          ],
          "choropleth": [
           {
            "colorbar": {
             "outlinewidth": 0,
             "ticks": ""
            },
            "type": "choropleth"
           }
          ],
          "contour": [
           {
            "colorbar": {
             "outlinewidth": 0,
             "ticks": ""
            },
            "colorscale": [
             [
              0,
              "#0d0887"
             ],
             [
              0.1111111111111111,
              "#46039f"
             ],
             [
              0.2222222222222222,
              "#7201a8"
             ],
             [
              0.3333333333333333,
              "#9c179e"
             ],
             [
              0.4444444444444444,
              "#bd3786"
             ],
             [
              0.5555555555555556,
              "#d8576b"
             ],
             [
              0.6666666666666666,
              "#ed7953"
             ],
             [
              0.7777777777777778,
              "#fb9f3a"
             ],
             [
              0.8888888888888888,
              "#fdca26"
             ],
             [
              1,
              "#f0f921"
             ]
            ],
            "type": "contour"
           }
          ],
          "contourcarpet": [
           {
            "colorbar": {
             "outlinewidth": 0,
             "ticks": ""
            },
            "type": "contourcarpet"
           }
          ],
          "heatmap": [
           {
            "colorbar": {
             "outlinewidth": 0,
             "ticks": ""
            },
            "colorscale": [
             [
              0,
              "#0d0887"
             ],
             [
              0.1111111111111111,
              "#46039f"
             ],
             [
              0.2222222222222222,
              "#7201a8"
             ],
             [
              0.3333333333333333,
              "#9c179e"
             ],
             [
              0.4444444444444444,
              "#bd3786"
             ],
             [
              0.5555555555555556,
              "#d8576b"
             ],
             [
              0.6666666666666666,
              "#ed7953"
             ],
             [
              0.7777777777777778,
              "#fb9f3a"
             ],
             [
              0.8888888888888888,
              "#fdca26"
             ],
             [
              1,
              "#f0f921"
             ]
            ],
            "type": "heatmap"
           }
          ],
          "heatmapgl": [
           {
            "colorbar": {
             "outlinewidth": 0,
             "ticks": ""
            },
            "colorscale": [
             [
              0,
              "#0d0887"
             ],
             [
              0.1111111111111111,
              "#46039f"
             ],
             [
              0.2222222222222222,
              "#7201a8"
             ],
             [
              0.3333333333333333,
              "#9c179e"
             ],
             [
              0.4444444444444444,
              "#bd3786"
             ],
             [
              0.5555555555555556,
              "#d8576b"
             ],
             [
              0.6666666666666666,
              "#ed7953"
             ],
             [
              0.7777777777777778,
              "#fb9f3a"
             ],
             [
              0.8888888888888888,
              "#fdca26"
             ],
             [
              1,
              "#f0f921"
             ]
            ],
            "type": "heatmapgl"
           }
          ],
          "histogram": [
           {
            "marker": {
             "colorbar": {
              "outlinewidth": 0,
              "ticks": ""
             }
            },
            "type": "histogram"
           }
          ],
          "histogram2d": [
           {
            "colorbar": {
             "outlinewidth": 0,
             "ticks": ""
            },
            "colorscale": [
             [
              0,
              "#0d0887"
             ],
             [
              0.1111111111111111,
              "#46039f"
             ],
             [
              0.2222222222222222,
              "#7201a8"
             ],
             [
              0.3333333333333333,
              "#9c179e"
             ],
             [
              0.4444444444444444,
              "#bd3786"
             ],
             [
              0.5555555555555556,
              "#d8576b"
             ],
             [
              0.6666666666666666,
              "#ed7953"
             ],
             [
              0.7777777777777778,
              "#fb9f3a"
             ],
             [
              0.8888888888888888,
              "#fdca26"
             ],
             [
              1,
              "#f0f921"
             ]
            ],
            "type": "histogram2d"
           }
          ],
          "histogram2dcontour": [
           {
            "colorbar": {
             "outlinewidth": 0,
             "ticks": ""
            },
            "colorscale": [
             [
              0,
              "#0d0887"
             ],
             [
              0.1111111111111111,
              "#46039f"
             ],
             [
              0.2222222222222222,
              "#7201a8"
             ],
             [
              0.3333333333333333,
              "#9c179e"
             ],
             [
              0.4444444444444444,
              "#bd3786"
             ],
             [
              0.5555555555555556,
              "#d8576b"
             ],
             [
              0.6666666666666666,
              "#ed7953"
             ],
             [
              0.7777777777777778,
              "#fb9f3a"
             ],
             [
              0.8888888888888888,
              "#fdca26"
             ],
             [
              1,
              "#f0f921"
             ]
            ],
            "type": "histogram2dcontour"
           }
          ],
          "mesh3d": [
           {
            "colorbar": {
             "outlinewidth": 0,
             "ticks": ""
            },
            "type": "mesh3d"
           }
          ],
          "parcoords": [
           {
            "line": {
             "colorbar": {
              "outlinewidth": 0,
              "ticks": ""
             }
            },
            "type": "parcoords"
           }
          ],
          "pie": [
           {
            "automargin": true,
            "type": "pie"
           }
          ],
          "scatter": [
           {
            "marker": {
             "colorbar": {
              "outlinewidth": 0,
              "ticks": ""
             }
            },
            "type": "scatter"
           }
          ],
          "scatter3d": [
           {
            "line": {
             "colorbar": {
              "outlinewidth": 0,
              "ticks": ""
             }
            },
            "marker": {
             "colorbar": {
              "outlinewidth": 0,
              "ticks": ""
             }
            },
            "type": "scatter3d"
           }
          ],
          "scattercarpet": [
           {
            "marker": {
             "colorbar": {
              "outlinewidth": 0,
              "ticks": ""
             }
            },
            "type": "scattercarpet"
           }
          ],
          "scattergeo": [
           {
            "marker": {
             "colorbar": {
              "outlinewidth": 0,
              "ticks": ""
             }
            },
            "type": "scattergeo"
           }
          ],
          "scattergl": [
           {
            "marker": {
             "colorbar": {
              "outlinewidth": 0,
              "ticks": ""
             }
            },
            "type": "scattergl"
           }
          ],
          "scattermapbox": [
           {
            "marker": {
             "colorbar": {
              "outlinewidth": 0,
              "ticks": ""
             }
            },
            "type": "scattermapbox"
           }
          ],
          "scatterpolar": [
           {
            "marker": {
             "colorbar": {
              "outlinewidth": 0,
              "ticks": ""
             }
            },
            "type": "scatterpolar"
           }
          ],
          "scatterpolargl": [
           {
            "marker": {
             "colorbar": {
              "outlinewidth": 0,
              "ticks": ""
             }
            },
            "type": "scatterpolargl"
           }
          ],
          "scatterternary": [
           {
            "marker": {
             "colorbar": {
              "outlinewidth": 0,
              "ticks": ""
             }
            },
            "type": "scatterternary"
           }
          ],
          "surface": [
           {
            "colorbar": {
             "outlinewidth": 0,
             "ticks": ""
            },
            "colorscale": [
             [
              0,
              "#0d0887"
             ],
             [
              0.1111111111111111,
              "#46039f"
             ],
             [
              0.2222222222222222,
              "#7201a8"
             ],
             [
              0.3333333333333333,
              "#9c179e"
             ],
             [
              0.4444444444444444,
              "#bd3786"
             ],
             [
              0.5555555555555556,
              "#d8576b"
             ],
             [
              0.6666666666666666,
              "#ed7953"
             ],
             [
              0.7777777777777778,
              "#fb9f3a"
             ],
             [
              0.8888888888888888,
              "#fdca26"
             ],
             [
              1,
              "#f0f921"
             ]
            ],
            "type": "surface"
           }
          ],
          "table": [
           {
            "cells": {
             "fill": {
              "color": "#EBF0F8"
             },
             "line": {
              "color": "white"
             }
            },
            "header": {
             "fill": {
              "color": "#C8D4E3"
             },
             "line": {
              "color": "white"
             }
            },
            "type": "table"
           }
          ]
         },
         "layout": {
          "annotationdefaults": {
           "arrowcolor": "#2a3f5f",
           "arrowhead": 0,
           "arrowwidth": 1
          },
          "coloraxis": {
           "colorbar": {
            "outlinewidth": 0,
            "ticks": ""
           }
          },
          "colorscale": {
           "diverging": [
            [
             0,
             "#8e0152"
            ],
            [
             0.1,
             "#c51b7d"
            ],
            [
             0.2,
             "#de77ae"
            ],
            [
             0.3,
             "#f1b6da"
            ],
            [
             0.4,
             "#fde0ef"
            ],
            [
             0.5,
             "#f7f7f7"
            ],
            [
             0.6,
             "#e6f5d0"
            ],
            [
             0.7,
             "#b8e186"
            ],
            [
             0.8,
             "#7fbc41"
            ],
            [
             0.9,
             "#4d9221"
            ],
            [
             1,
             "#276419"
            ]
           ],
           "sequential": [
            [
             0,
             "#0d0887"
            ],
            [
             0.1111111111111111,
             "#46039f"
            ],
            [
             0.2222222222222222,
             "#7201a8"
            ],
            [
             0.3333333333333333,
             "#9c179e"
            ],
            [
             0.4444444444444444,
             "#bd3786"
            ],
            [
             0.5555555555555556,
             "#d8576b"
            ],
            [
             0.6666666666666666,
             "#ed7953"
            ],
            [
             0.7777777777777778,
             "#fb9f3a"
            ],
            [
             0.8888888888888888,
             "#fdca26"
            ],
            [
             1,
             "#f0f921"
            ]
           ],
           "sequentialminus": [
            [
             0,
             "#0d0887"
            ],
            [
             0.1111111111111111,
             "#46039f"
            ],
            [
             0.2222222222222222,
             "#7201a8"
            ],
            [
             0.3333333333333333,
             "#9c179e"
            ],
            [
             0.4444444444444444,
             "#bd3786"
            ],
            [
             0.5555555555555556,
             "#d8576b"
            ],
            [
             0.6666666666666666,
             "#ed7953"
            ],
            [
             0.7777777777777778,
             "#fb9f3a"
            ],
            [
             0.8888888888888888,
             "#fdca26"
            ],
            [
             1,
             "#f0f921"
            ]
           ]
          },
          "colorway": [
           "#636efa",
           "#EF553B",
           "#00cc96",
           "#ab63fa",
           "#FFA15A",
           "#19d3f3",
           "#FF6692",
           "#B6E880",
           "#FF97FF",
           "#FECB52"
          ],
          "font": {
           "color": "#2a3f5f"
          },
          "geo": {
           "bgcolor": "white",
           "lakecolor": "white",
           "landcolor": "#E5ECF6",
           "showlakes": true,
           "showland": true,
           "subunitcolor": "white"
          },
          "hoverlabel": {
           "align": "left"
          },
          "hovermode": "closest",
          "mapbox": {
           "style": "light"
          },
          "paper_bgcolor": "white",
          "plot_bgcolor": "#E5ECF6",
          "polar": {
           "angularaxis": {
            "gridcolor": "white",
            "linecolor": "white",
            "ticks": ""
           },
           "bgcolor": "#E5ECF6",
           "radialaxis": {
            "gridcolor": "white",
            "linecolor": "white",
            "ticks": ""
           }
          },
          "scene": {
           "xaxis": {
            "backgroundcolor": "#E5ECF6",
            "gridcolor": "white",
            "gridwidth": 2,
            "linecolor": "white",
            "showbackground": true,
            "ticks": "",
            "zerolinecolor": "white"
           },
           "yaxis": {
            "backgroundcolor": "#E5ECF6",
            "gridcolor": "white",
            "gridwidth": 2,
            "linecolor": "white",
            "showbackground": true,
            "ticks": "",
            "zerolinecolor": "white"
           },
           "zaxis": {
            "backgroundcolor": "#E5ECF6",
            "gridcolor": "white",
            "gridwidth": 2,
            "linecolor": "white",
            "showbackground": true,
            "ticks": "",
            "zerolinecolor": "white"
           }
          },
          "shapedefaults": {
           "line": {
            "color": "#2a3f5f"
           }
          },
          "ternary": {
           "aaxis": {
            "gridcolor": "white",
            "linecolor": "white",
            "ticks": ""
           },
           "baxis": {
            "gridcolor": "white",
            "linecolor": "white",
            "ticks": ""
           },
           "bgcolor": "#E5ECF6",
           "caxis": {
            "gridcolor": "white",
            "linecolor": "white",
            "ticks": ""
           }
          },
          "title": {
           "x": 0.05
          },
          "xaxis": {
           "automargin": true,
           "gridcolor": "white",
           "linecolor": "white",
           "ticks": "",
           "title": {
            "standoff": 15
           },
           "zerolinecolor": "white",
           "zerolinewidth": 2
          },
          "yaxis": {
           "automargin": true,
           "gridcolor": "white",
           "linecolor": "white",
           "ticks": "",
           "title": {
            "standoff": 15
           },
           "zerolinecolor": "white",
           "zerolinewidth": 2
          }
         }
        },
        "title": {
         "font": {
          "color": "#4D5663"
         },
         "text": "Retention Rates by Tenure and Contract"
        },
        "xaxis": {
         "gridcolor": "#E1E5ED",
         "showgrid": true,
         "tickfont": {
          "color": "#4D5663"
         },
         "title": {
          "font": {
           "color": "#4D5663"
          },
          "text": "Tenure (Months)"
         },
         "zerolinecolor": "#E1E5ED"
        },
        "yaxis": {
         "gridcolor": "#E1E5ED",
         "showgrid": true,
         "tickfont": {
          "color": "#4D5663"
         },
         "title": {
          "font": {
           "color": "#4D5663"
          },
          "text": "Retention Rate"
         },
         "zerolinecolor": "#E1E5ED"
        }
       }
      },
      "text/html": [
       "<div>                            <div id=\"35ee9789-2a3e-4d05-aec3-32de7b3eacb5\" class=\"plotly-graph-div\" style=\"height:525px; width:100%;\"></div>            <script type=\"text/javascript\">                require([\"plotly\"], function(Plotly) {                    window.PLOTLYENV=window.PLOTLYENV || {};\n",
       "                    window.PLOTLYENV.BASE_URL='https://plot.ly';                                    if (document.getElementById(\"35ee9789-2a3e-4d05-aec3-32de7b3eacb5\")) {                    Plotly.newPlot(                        \"35ee9789-2a3e-4d05-aec3-32de7b3eacb5\",                        [{\"line\": {\"color\": \"rgba(255, 153, 51, 1.0)\", \"dash\": \"solid\", \"shape\": \"linear\", \"width\": 1.3}, \"mode\": \"lines\", \"name\": \"Month-to-month\", \"text\": \"\", \"type\": \"scatter\", \"x\": [0.0, 1.0, 2.0, 3.0, 4.0, 5.0, 6.0, 7.0, 8.0, 9.0, 10.0, 11.0, 12.0, 13.0, 14.0, 15.0, 16.0, 17.0, 18.0, 19.0, 20.0, 21.0, 22.0, 23.0, 24.0, 25.0, 26.0, 27.0, 28.0, 29.0, 30.0, 31.0, 32.0, 33.0, 34.0, 35.0, 36.0, 37.0, 38.0, 39.0, 40.0, 41.0, 42.0, 43.0, 44.0, 45.0, 46.0, 47.0, 48.0, 49.0, 50.0, 51.0, 52.0, 53.0, 54.0, 55.0, 56.0, 57.0, 58.0, 59.0, 60.0, 61.0, 62.0, 63.0, 64.0, 65.0, 66.0, 67.0, 68.0, 69.0, 70.0, 71.0, 72.0], \"y\": [1.0, 0.9019354838709666, 0.8685713158647337, 0.8417230081727618, 0.8175050128498966, 0.7983233309841447, 0.7858348940504861, 0.7698756151298826, 0.7564380245720602, 0.7412958043292921, 0.7257296301833199, 0.7150936316950445, 0.7030966363488644, 0.6892664526460961, 0.6804493623174757, 0.6659966491109621, 0.6547832358968269, 0.6449430369854153, 0.6357295650284809, 0.6287769518771098, 0.6207557008963952, 0.6138939945489775, 0.6031403297548981, 0.5973455467628572, 0.5859154739046663, 0.5766965241404322, 0.5687965717549469, 0.5617273983010134, 0.5561380709547346, 0.5475468546166075, 0.5386484766975947, 0.5300790691137696, 0.5187202319184743, 0.5134938315968774, 0.5060909061085871, 0.4976910570445439, 0.49110396952483704, 0.4806549488966491, 0.47371129794950645, 0.46655793942342333, 0.45763248319097527, 0.4491734724111053, 0.4386459691514699, 0.42861456445154034, 0.42482151520860606, 0.421871365797435, 0.41466868394235656, 0.4006304212047246, 0.397263779009727, 0.3856478790386823, 0.3757910642389718, 0.36812185884633986, 0.36145298459187736, 0.35284696114921343, 0.3453713899384248, 0.33590916007709815, 0.3307413268451428, 0.32134526642340605, 0.31310564420742126, 0.3043474443694515, 0.29715813465993696, 0.2889037420304941, 0.28583029796634, 0.27910487919066146, 0.27910487919066146, 0.2610981127912639, 0.23271788314003955, 0.22606880076460992, 0.20095004512409773, 0.16548827245513925, 0.1504438840501266, 0.1289519006143942, 0.1289519006143942]}, {\"line\": {\"color\": \"rgba(55, 128, 191, 1.0)\", \"dash\": \"solid\", \"shape\": \"linear\", \"width\": 1.3}, \"mode\": \"lines\", \"name\": \"One year\", \"text\": \"\", \"type\": \"scatter\", \"x\": [0.0, 1.0, 2.0, 3.0, 4.0, 5.0, 6.0, 7.0, 8.0, 9.0, 10.0, 11.0, 12.0, 13.0, 14.0, 15.0, 16.0, 17.0, 18.0, 19.0, 20.0, 21.0, 22.0, 23.0, 24.0, 25.0, 26.0, 27.0, 28.0, 29.0, 30.0, 31.0, 32.0, 33.0, 34.0, 35.0, 36.0, 37.0, 38.0, 39.0, 40.0, 41.0, 42.0, 43.0, 44.0, 45.0, 46.0, 47.0, 48.0, 49.0, 50.0, 51.0, 52.0, 53.0, 54.0, 55.0, 56.0, 57.0, 58.0, 59.0, 60.0, 61.0, 62.0, 63.0, 64.0, 65.0, 66.0, 67.0, 68.0, 69.0, 70.0, 71.0, 72.0], \"y\": [1.0, 1.0, 0.9986348122866899, 0.9986348122866899, 0.997947047264454, 0.9972564264704988, 0.9972564264704988, 0.9965609896319563, 0.9958591861181306, 0.9951534035624126, 0.9951534035624126, 0.9944348812493706, 0.9908082040748656, 0.9900737280155071, 0.989331543811598, 0.989331543811598, 0.989331543811598, 0.9878083235747827, 0.9862563859100931, 0.9839062912653509, 0.9839062912653509, 0.9823103362105818, 0.9790896465836618, 0.9782723764279155, 0.9782723764279155, 0.9748755973430957, 0.9748755973430957, 0.9748755973430957, 0.9730785916337071, 0.9730785916337071, 0.9721465240172004, 0.9702496527508245, 0.9692880574557302, 0.9643926632261558, 0.9633953595413302, 0.9603498526091653, 0.9593071274706106, 0.9582435940698666, 0.9539027397365943, 0.9494762769071906, 0.9472156191050304, 0.9425894133951156, 0.9402061278998047, 0.9365429871417538, 0.9340355092645337, 0.9301651963808414, 0.9248801668559502, 0.923522046199774, 0.9165468041589897, 0.9107641744797536, 0.9092759977240679, 0.9061459598661544, 0.9028267438959483, 0.8906498899320339, 0.8777419205127298, 0.8739256512931093, 0.8619540670288203, 0.8598099026829775, 0.8464102678359697, 0.8392975765096171, 0.8318260847306003, 0.8265109020805645, 0.8148287691889662, 0.8084876892730982, 0.8016360986860379, 0.7900181842123272, 0.7691182322490382, 0.7391525868367375, 0.7145141672755129, 0.6919505619931284, 0.6438984396324943, 0.6438984396324943, 0.5681456820286713]}, {\"line\": {\"color\": \"rgba(50, 171, 96, 1.0)\", \"dash\": \"solid\", \"shape\": \"linear\", \"width\": 1.3}, \"mode\": \"lines\", \"name\": \"Two year\", \"text\": \"\", \"type\": \"scatter\", \"x\": [0.0, 1.0, 2.0, 3.0, 4.0, 5.0, 6.0, 7.0, 8.0, 9.0, 10.0, 11.0, 12.0, 13.0, 14.0, 15.0, 16.0, 17.0, 18.0, 19.0, 20.0, 21.0, 22.0, 23.0, 24.0, 25.0, 26.0, 27.0, 28.0, 29.0, 30.0, 31.0, 32.0, 33.0, 34.0, 35.0, 36.0, 37.0, 38.0, 39.0, 40.0, 41.0, 42.0, 43.0, 44.0, 45.0, 46.0, 47.0, 48.0, 49.0, 50.0, 51.0, 52.0, 53.0, 54.0, 55.0, 56.0, 57.0, 58.0, 59.0, 60.0, 61.0, 62.0, 63.0, 64.0, 65.0, 66.0, 67.0, 68.0, 69.0, 70.0, 71.0, 72.0], \"y\": [1.0, 1.0, 1.0, 1.0, 1.0, 1.0, 1.0, 1.0, 1.0, 1.0, 1.0, 1.0, 1.0, 1.0, 1.0, 1.0, 1.0, 1.0, 1.0, 1.0, 1.0, 1.0, 1.0, 1.0, 1.0, 0.9993493819128172, 0.9993493819128172, 0.9993493819128172, 0.9993493819128172, 0.9993493819128172, 0.9993493819128172, 0.9993493819128172, 0.9993493819128172, 0.9986759658872691, 0.9986759658872691, 0.9986759658872691, 0.9986759658872691, 0.9986759658872691, 0.9986759658872691, 0.9979721773277996, 0.9979721773277996, 0.9979721773277996, 0.9979721773277996, 0.9972442618082321, 0.9972442618082321, 0.9972442618082321, 0.9964950174342213, 0.9964950174342213, 0.995718930972045, 0.9949305549380209, 0.9941333349420767, 0.9941333349420767, 0.9933151182054991, 0.9924775843790181, 0.9916278604197892, 0.9907580114194203, 0.9898749828887438, 0.9880702882982452, 0.9871459942960957, 0.9861995455959076, 0.9861995455959076, 0.983198938459206, 0.983198938459206, 0.983198938459206, 0.9809643954172538, 0.9786287659043554, 0.9749497103934366, 0.9710757380342574, 0.9682972666807979, 0.9652427011707642, 0.9567458464069369, 0.9467797438401981, 0.9357385806467265]}],                        {\"legend\": {\"bgcolor\": \"#F5F6F9\", \"font\": {\"color\": \"#4D5663\"}}, \"paper_bgcolor\": \"#F5F6F9\", \"plot_bgcolor\": \"#F5F6F9\", \"template\": {\"data\": {\"bar\": [{\"error_x\": {\"color\": \"#2a3f5f\"}, \"error_y\": {\"color\": \"#2a3f5f\"}, \"marker\": {\"line\": {\"color\": \"#E5ECF6\", \"width\": 0.5}}, \"type\": \"bar\"}], \"barpolar\": [{\"marker\": {\"line\": {\"color\": \"#E5ECF6\", \"width\": 0.5}}, \"type\": \"barpolar\"}], \"carpet\": [{\"aaxis\": {\"endlinecolor\": \"#2a3f5f\", \"gridcolor\": \"white\", \"linecolor\": \"white\", \"minorgridcolor\": \"white\", \"startlinecolor\": \"#2a3f5f\"}, \"baxis\": {\"endlinecolor\": \"#2a3f5f\", \"gridcolor\": \"white\", \"linecolor\": \"white\", \"minorgridcolor\": \"white\", \"startlinecolor\": \"#2a3f5f\"}, \"type\": \"carpet\"}], \"choropleth\": [{\"colorbar\": {\"outlinewidth\": 0, \"ticks\": \"\"}, \"type\": \"choropleth\"}], \"contour\": [{\"colorbar\": {\"outlinewidth\": 0, \"ticks\": \"\"}, \"colorscale\": [[0.0, \"#0d0887\"], [0.1111111111111111, \"#46039f\"], [0.2222222222222222, \"#7201a8\"], [0.3333333333333333, \"#9c179e\"], [0.4444444444444444, \"#bd3786\"], [0.5555555555555556, \"#d8576b\"], [0.6666666666666666, \"#ed7953\"], [0.7777777777777778, \"#fb9f3a\"], [0.8888888888888888, \"#fdca26\"], [1.0, \"#f0f921\"]], \"type\": \"contour\"}], \"contourcarpet\": [{\"colorbar\": {\"outlinewidth\": 0, \"ticks\": \"\"}, \"type\": \"contourcarpet\"}], \"heatmap\": [{\"colorbar\": {\"outlinewidth\": 0, \"ticks\": \"\"}, \"colorscale\": [[0.0, \"#0d0887\"], [0.1111111111111111, \"#46039f\"], [0.2222222222222222, \"#7201a8\"], [0.3333333333333333, \"#9c179e\"], [0.4444444444444444, \"#bd3786\"], [0.5555555555555556, \"#d8576b\"], [0.6666666666666666, \"#ed7953\"], [0.7777777777777778, \"#fb9f3a\"], [0.8888888888888888, \"#fdca26\"], [1.0, \"#f0f921\"]], \"type\": \"heatmap\"}], \"heatmapgl\": [{\"colorbar\": {\"outlinewidth\": 0, \"ticks\": \"\"}, \"colorscale\": [[0.0, \"#0d0887\"], [0.1111111111111111, \"#46039f\"], [0.2222222222222222, \"#7201a8\"], [0.3333333333333333, \"#9c179e\"], [0.4444444444444444, \"#bd3786\"], [0.5555555555555556, \"#d8576b\"], [0.6666666666666666, \"#ed7953\"], [0.7777777777777778, \"#fb9f3a\"], [0.8888888888888888, \"#fdca26\"], [1.0, \"#f0f921\"]], \"type\": \"heatmapgl\"}], \"histogram\": [{\"marker\": {\"colorbar\": {\"outlinewidth\": 0, \"ticks\": \"\"}}, \"type\": \"histogram\"}], \"histogram2d\": [{\"colorbar\": {\"outlinewidth\": 0, \"ticks\": \"\"}, \"colorscale\": [[0.0, \"#0d0887\"], [0.1111111111111111, \"#46039f\"], [0.2222222222222222, \"#7201a8\"], [0.3333333333333333, \"#9c179e\"], [0.4444444444444444, \"#bd3786\"], [0.5555555555555556, \"#d8576b\"], [0.6666666666666666, \"#ed7953\"], [0.7777777777777778, \"#fb9f3a\"], [0.8888888888888888, \"#fdca26\"], [1.0, \"#f0f921\"]], \"type\": \"histogram2d\"}], \"histogram2dcontour\": [{\"colorbar\": {\"outlinewidth\": 0, \"ticks\": \"\"}, \"colorscale\": [[0.0, \"#0d0887\"], [0.1111111111111111, \"#46039f\"], [0.2222222222222222, \"#7201a8\"], [0.3333333333333333, \"#9c179e\"], [0.4444444444444444, \"#bd3786\"], [0.5555555555555556, \"#d8576b\"], [0.6666666666666666, \"#ed7953\"], [0.7777777777777778, \"#fb9f3a\"], [0.8888888888888888, \"#fdca26\"], [1.0, \"#f0f921\"]], \"type\": \"histogram2dcontour\"}], \"mesh3d\": [{\"colorbar\": {\"outlinewidth\": 0, \"ticks\": \"\"}, \"type\": \"mesh3d\"}], \"parcoords\": [{\"line\": {\"colorbar\": {\"outlinewidth\": 0, \"ticks\": \"\"}}, \"type\": \"parcoords\"}], \"pie\": [{\"automargin\": true, \"type\": \"pie\"}], \"scatter\": [{\"marker\": {\"colorbar\": {\"outlinewidth\": 0, \"ticks\": \"\"}}, \"type\": \"scatter\"}], \"scatter3d\": [{\"line\": {\"colorbar\": {\"outlinewidth\": 0, \"ticks\": \"\"}}, \"marker\": {\"colorbar\": {\"outlinewidth\": 0, \"ticks\": \"\"}}, \"type\": \"scatter3d\"}], \"scattercarpet\": [{\"marker\": {\"colorbar\": {\"outlinewidth\": 0, \"ticks\": \"\"}}, \"type\": \"scattercarpet\"}], \"scattergeo\": [{\"marker\": {\"colorbar\": {\"outlinewidth\": 0, \"ticks\": \"\"}}, \"type\": \"scattergeo\"}], \"scattergl\": [{\"marker\": {\"colorbar\": {\"outlinewidth\": 0, \"ticks\": \"\"}}, \"type\": \"scattergl\"}], \"scattermapbox\": [{\"marker\": {\"colorbar\": {\"outlinewidth\": 0, \"ticks\": \"\"}}, \"type\": \"scattermapbox\"}], \"scatterpolar\": [{\"marker\": {\"colorbar\": {\"outlinewidth\": 0, \"ticks\": \"\"}}, \"type\": \"scatterpolar\"}], \"scatterpolargl\": [{\"marker\": {\"colorbar\": {\"outlinewidth\": 0, \"ticks\": \"\"}}, \"type\": \"scatterpolargl\"}], \"scatterternary\": [{\"marker\": {\"colorbar\": {\"outlinewidth\": 0, \"ticks\": \"\"}}, \"type\": \"scatterternary\"}], \"surface\": [{\"colorbar\": {\"outlinewidth\": 0, \"ticks\": \"\"}, \"colorscale\": [[0.0, \"#0d0887\"], [0.1111111111111111, \"#46039f\"], [0.2222222222222222, \"#7201a8\"], [0.3333333333333333, \"#9c179e\"], [0.4444444444444444, \"#bd3786\"], [0.5555555555555556, \"#d8576b\"], [0.6666666666666666, \"#ed7953\"], [0.7777777777777778, \"#fb9f3a\"], [0.8888888888888888, \"#fdca26\"], [1.0, \"#f0f921\"]], \"type\": \"surface\"}], \"table\": [{\"cells\": {\"fill\": {\"color\": \"#EBF0F8\"}, \"line\": {\"color\": \"white\"}}, \"header\": {\"fill\": {\"color\": \"#C8D4E3\"}, \"line\": {\"color\": \"white\"}}, \"type\": \"table\"}]}, \"layout\": {\"annotationdefaults\": {\"arrowcolor\": \"#2a3f5f\", \"arrowhead\": 0, \"arrowwidth\": 1}, \"coloraxis\": {\"colorbar\": {\"outlinewidth\": 0, \"ticks\": \"\"}}, \"colorscale\": {\"diverging\": [[0, \"#8e0152\"], [0.1, \"#c51b7d\"], [0.2, \"#de77ae\"], [0.3, \"#f1b6da\"], [0.4, \"#fde0ef\"], [0.5, \"#f7f7f7\"], [0.6, \"#e6f5d0\"], [0.7, \"#b8e186\"], [0.8, \"#7fbc41\"], [0.9, \"#4d9221\"], [1, \"#276419\"]], \"sequential\": [[0.0, \"#0d0887\"], [0.1111111111111111, \"#46039f\"], [0.2222222222222222, \"#7201a8\"], [0.3333333333333333, \"#9c179e\"], [0.4444444444444444, \"#bd3786\"], [0.5555555555555556, \"#d8576b\"], [0.6666666666666666, \"#ed7953\"], [0.7777777777777778, \"#fb9f3a\"], [0.8888888888888888, \"#fdca26\"], [1.0, \"#f0f921\"]], \"sequentialminus\": [[0.0, \"#0d0887\"], [0.1111111111111111, \"#46039f\"], [0.2222222222222222, \"#7201a8\"], [0.3333333333333333, \"#9c179e\"], [0.4444444444444444, \"#bd3786\"], [0.5555555555555556, \"#d8576b\"], [0.6666666666666666, \"#ed7953\"], [0.7777777777777778, \"#fb9f3a\"], [0.8888888888888888, \"#fdca26\"], [1.0, \"#f0f921\"]]}, \"colorway\": [\"#636efa\", \"#EF553B\", \"#00cc96\", \"#ab63fa\", \"#FFA15A\", \"#19d3f3\", \"#FF6692\", \"#B6E880\", \"#FF97FF\", \"#FECB52\"], \"font\": {\"color\": \"#2a3f5f\"}, \"geo\": {\"bgcolor\": \"white\", \"lakecolor\": \"white\", \"landcolor\": \"#E5ECF6\", \"showlakes\": true, \"showland\": true, \"subunitcolor\": \"white\"}, \"hoverlabel\": {\"align\": \"left\"}, \"hovermode\": \"closest\", \"mapbox\": {\"style\": \"light\"}, \"paper_bgcolor\": \"white\", \"plot_bgcolor\": \"#E5ECF6\", \"polar\": {\"angularaxis\": {\"gridcolor\": \"white\", \"linecolor\": \"white\", \"ticks\": \"\"}, \"bgcolor\": \"#E5ECF6\", \"radialaxis\": {\"gridcolor\": \"white\", \"linecolor\": \"white\", \"ticks\": \"\"}}, \"scene\": {\"xaxis\": {\"backgroundcolor\": \"#E5ECF6\", \"gridcolor\": \"white\", \"gridwidth\": 2, \"linecolor\": \"white\", \"showbackground\": true, \"ticks\": \"\", \"zerolinecolor\": \"white\"}, \"yaxis\": {\"backgroundcolor\": \"#E5ECF6\", \"gridcolor\": \"white\", \"gridwidth\": 2, \"linecolor\": \"white\", \"showbackground\": true, \"ticks\": \"\", \"zerolinecolor\": \"white\"}, \"zaxis\": {\"backgroundcolor\": \"#E5ECF6\", \"gridcolor\": \"white\", \"gridwidth\": 2, \"linecolor\": \"white\", \"showbackground\": true, \"ticks\": \"\", \"zerolinecolor\": \"white\"}}, \"shapedefaults\": {\"line\": {\"color\": \"#2a3f5f\"}}, \"ternary\": {\"aaxis\": {\"gridcolor\": \"white\", \"linecolor\": \"white\", \"ticks\": \"\"}, \"baxis\": {\"gridcolor\": \"white\", \"linecolor\": \"white\", \"ticks\": \"\"}, \"bgcolor\": \"#E5ECF6\", \"caxis\": {\"gridcolor\": \"white\", \"linecolor\": \"white\", \"ticks\": \"\"}}, \"title\": {\"x\": 0.05}, \"xaxis\": {\"automargin\": true, \"gridcolor\": \"white\", \"linecolor\": \"white\", \"ticks\": \"\", \"title\": {\"standoff\": 15}, \"zerolinecolor\": \"white\", \"zerolinewidth\": 2}, \"yaxis\": {\"automargin\": true, \"gridcolor\": \"white\", \"linecolor\": \"white\", \"ticks\": \"\", \"title\": {\"standoff\": 15}, \"zerolinecolor\": \"white\", \"zerolinewidth\": 2}}}, \"title\": {\"font\": {\"color\": \"#4D5663\"}, \"text\": \"Retention Rates by Tenure and Contract\"}, \"xaxis\": {\"gridcolor\": \"#E1E5ED\", \"showgrid\": true, \"tickfont\": {\"color\": \"#4D5663\"}, \"title\": {\"font\": {\"color\": \"#4D5663\"}, \"text\": \"Tenure (Months)\"}, \"zerolinecolor\": \"#E1E5ED\"}, \"yaxis\": {\"gridcolor\": \"#E1E5ED\", \"showgrid\": true, \"tickfont\": {\"color\": \"#4D5663\"}, \"title\": {\"font\": {\"color\": \"#4D5663\"}, \"text\": \"Retention Rate\"}, \"zerolinecolor\": \"#E1E5ED\"}},                        {\"showLink\": true, \"linkText\": \"Export to plot.ly\", \"plotlyServerURL\": \"https://plot.ly\", \"responsive\": true}                    ).then(function(){\n",
       "                            \n",
       "var gd = document.getElementById('35ee9789-2a3e-4d05-aec3-32de7b3eacb5');\n",
       "var x = new MutationObserver(function (mutations, observer) {{\n",
       "        var display = window.getComputedStyle(gd).display;\n",
       "        if (!display || display === 'none') {{\n",
       "            console.log([gd, 'removed!']);\n",
       "            Plotly.purge(gd);\n",
       "            observer.disconnect();\n",
       "        }}\n",
       "}});\n",
       "\n",
       "// Listen for the removal of the full notebook cells\n",
       "var notebookContainer = gd.closest('#notebook-container');\n",
       "if (notebookContainer) {{\n",
       "    x.observe(notebookContainer, {childList: true});\n",
       "}}\n",
       "\n",
       "// Listen for the clearing of the current output cell\n",
       "var outputEl = gd.closest('.output');\n",
       "if (outputEl) {{\n",
       "    x.observe(outputEl, {childList: true});\n",
       "}}\n",
       "\n",
       "                        })                };                });            </script>        </div>"
      ]
     },
     "metadata": {},
     "output_type": "display_data"
    }
   ],
   "source": [
    "rates = survival(churn, 'Contract', 'tenure', 'ChurnBinary')\n",
    "\n",
    "rates.iplot(kind='line', xTitle='Tenure (Months)', yTitle='Retention Rate',\n",
    "            title='Retention Rates by Tenure and Contract')"
   ]
  },
  {
   "cell_type": "code",
   "execution_count": 29,
   "metadata": {},
   "outputs": [],
   "source": [
    "import numpy as np"
   ]
  },
  {
   "cell_type": "code",
   "execution_count": 31,
   "metadata": {},
   "outputs": [
    {
     "data": {
      "text/html": [
       "<div>\n",
       "<style scoped>\n",
       "    .dataframe tbody tr th:only-of-type {\n",
       "        vertical-align: middle;\n",
       "    }\n",
       "\n",
       "    .dataframe tbody tr th {\n",
       "        vertical-align: top;\n",
       "    }\n",
       "\n",
       "    .dataframe thead th {\n",
       "        text-align: right;\n",
       "    }\n",
       "</style>\n",
       "<table border=\"1\" class=\"dataframe\">\n",
       "  <thead>\n",
       "    <tr style=\"text-align: right;\">\n",
       "      <th></th>\n",
       "      <th>Unnamed: 0</th>\n",
       "      <th>inst</th>\n",
       "      <th>time</th>\n",
       "      <th>status</th>\n",
       "      <th>age</th>\n",
       "      <th>sex</th>\n",
       "      <th>ph.ecog</th>\n",
       "      <th>ph.karno</th>\n",
       "      <th>pat.karno</th>\n",
       "      <th>meal.cal</th>\n",
       "      <th>wt.loss</th>\n",
       "    </tr>\n",
       "  </thead>\n",
       "  <tbody>\n",
       "    <tr>\n",
       "      <th>0</th>\n",
       "      <td>1</td>\n",
       "      <td>3.0</td>\n",
       "      <td>306</td>\n",
       "      <td>2</td>\n",
       "      <td>74</td>\n",
       "      <td>1</td>\n",
       "      <td>1.0</td>\n",
       "      <td>90.0</td>\n",
       "      <td>100.0</td>\n",
       "      <td>1175.0</td>\n",
       "      <td>NaN</td>\n",
       "    </tr>\n",
       "    <tr>\n",
       "      <th>1</th>\n",
       "      <td>2</td>\n",
       "      <td>3.0</td>\n",
       "      <td>455</td>\n",
       "      <td>2</td>\n",
       "      <td>68</td>\n",
       "      <td>1</td>\n",
       "      <td>0.0</td>\n",
       "      <td>90.0</td>\n",
       "      <td>90.0</td>\n",
       "      <td>1225.0</td>\n",
       "      <td>15.0</td>\n",
       "    </tr>\n",
       "    <tr>\n",
       "      <th>2</th>\n",
       "      <td>3</td>\n",
       "      <td>3.0</td>\n",
       "      <td>1010</td>\n",
       "      <td>1</td>\n",
       "      <td>56</td>\n",
       "      <td>1</td>\n",
       "      <td>0.0</td>\n",
       "      <td>90.0</td>\n",
       "      <td>90.0</td>\n",
       "      <td>NaN</td>\n",
       "      <td>15.0</td>\n",
       "    </tr>\n",
       "    <tr>\n",
       "      <th>3</th>\n",
       "      <td>4</td>\n",
       "      <td>5.0</td>\n",
       "      <td>210</td>\n",
       "      <td>2</td>\n",
       "      <td>57</td>\n",
       "      <td>1</td>\n",
       "      <td>1.0</td>\n",
       "      <td>90.0</td>\n",
       "      <td>60.0</td>\n",
       "      <td>1150.0</td>\n",
       "      <td>11.0</td>\n",
       "    </tr>\n",
       "    <tr>\n",
       "      <th>4</th>\n",
       "      <td>5</td>\n",
       "      <td>1.0</td>\n",
       "      <td>883</td>\n",
       "      <td>2</td>\n",
       "      <td>60</td>\n",
       "      <td>1</td>\n",
       "      <td>0.0</td>\n",
       "      <td>100.0</td>\n",
       "      <td>90.0</td>\n",
       "      <td>NaN</td>\n",
       "      <td>0.0</td>\n",
       "    </tr>\n",
       "  </tbody>\n",
       "</table>\n",
       "</div>"
      ],
      "text/plain": [
       "   Unnamed: 0  inst  time  status  age  sex  ph.ecog  ph.karno  pat.karno  \\\n",
       "0           1   3.0   306       2   74    1      1.0      90.0      100.0   \n",
       "1           2   3.0   455       2   68    1      0.0      90.0       90.0   \n",
       "2           3   3.0  1010       1   56    1      0.0      90.0       90.0   \n",
       "3           4   5.0   210       2   57    1      1.0      90.0       60.0   \n",
       "4           5   1.0   883       2   60    1      0.0     100.0       90.0   \n",
       "\n",
       "   meal.cal  wt.loss  \n",
       "0    1175.0      NaN  \n",
       "1    1225.0     15.0  \n",
       "2       NaN     15.0  \n",
       "3    1150.0     11.0  \n",
       "4       NaN      0.0  "
      ]
     },
     "execution_count": 31,
     "metadata": {},
     "output_type": "execute_result"
    }
   ],
   "source": [
    "lung  = pd.read_csv('data/lung.csv')\n",
    "lung.head()"
   ]
  },
  {
   "cell_type": "code",
   "execution_count": 32,
   "metadata": {},
   "outputs": [
    {
     "data": {
      "text/plain": [
       "array([2, 1], dtype=int64)"
      ]
     },
     "execution_count": 32,
     "metadata": {},
     "output_type": "execute_result"
    }
   ],
   "source": [
    "lung['status'].unique()"
   ]
  },
  {
   "cell_type": "code",
   "execution_count": 33,
   "metadata": {},
   "outputs": [],
   "source": [
    "lung['death'] = np.where(lung['status'] == 1,0,1)"
   ]
  },
  {
   "cell_type": "code",
   "execution_count": 34,
   "metadata": {},
   "outputs": [],
   "source": [
    "model = KaplanMeierFitter()"
   ]
  },
  {
   "cell_type": "code",
   "execution_count": 36,
   "metadata": {},
   "outputs": [],
   "source": [
    "lung.drop('Unnamed: 0', inplace = True, axis = 1)"
   ]
  },
  {
   "cell_type": "code",
   "execution_count": 38,
   "metadata": {},
   "outputs": [
    {
     "data": {
      "text/plain": [
       "<lifelines.KaplanMeierFitter:\"KM_estimate\", fitted with 228 total observations, 63 right-censored observations>"
      ]
     },
     "execution_count": 38,
     "metadata": {},
     "output_type": "execute_result"
    }
   ],
   "source": [
    "model.fit(durations = lung['time'], event_observed=lung['death'])"
   ]
  },
  {
   "cell_type": "code",
   "execution_count": 39,
   "metadata": {},
   "outputs": [
    {
     "data": {
      "text/html": [
       "<div>\n",
       "<style scoped>\n",
       "    .dataframe tbody tr th:only-of-type {\n",
       "        vertical-align: middle;\n",
       "    }\n",
       "\n",
       "    .dataframe tbody tr th {\n",
       "        vertical-align: top;\n",
       "    }\n",
       "\n",
       "    .dataframe thead th {\n",
       "        text-align: right;\n",
       "    }\n",
       "</style>\n",
       "<table border=\"1\" class=\"dataframe\">\n",
       "  <thead>\n",
       "    <tr style=\"text-align: right;\">\n",
       "      <th></th>\n",
       "      <th>removed</th>\n",
       "      <th>observed</th>\n",
       "      <th>censored</th>\n",
       "      <th>entrance</th>\n",
       "      <th>at_risk</th>\n",
       "    </tr>\n",
       "    <tr>\n",
       "      <th>event_at</th>\n",
       "      <th></th>\n",
       "      <th></th>\n",
       "      <th></th>\n",
       "      <th></th>\n",
       "      <th></th>\n",
       "    </tr>\n",
       "  </thead>\n",
       "  <tbody>\n",
       "    <tr>\n",
       "      <th>0.0</th>\n",
       "      <td>0</td>\n",
       "      <td>0</td>\n",
       "      <td>0</td>\n",
       "      <td>228</td>\n",
       "      <td>228</td>\n",
       "    </tr>\n",
       "    <tr>\n",
       "      <th>5.0</th>\n",
       "      <td>1</td>\n",
       "      <td>1</td>\n",
       "      <td>0</td>\n",
       "      <td>0</td>\n",
       "      <td>228</td>\n",
       "    </tr>\n",
       "    <tr>\n",
       "      <th>11.0</th>\n",
       "      <td>3</td>\n",
       "      <td>3</td>\n",
       "      <td>0</td>\n",
       "      <td>0</td>\n",
       "      <td>227</td>\n",
       "    </tr>\n",
       "    <tr>\n",
       "      <th>12.0</th>\n",
       "      <td>1</td>\n",
       "      <td>1</td>\n",
       "      <td>0</td>\n",
       "      <td>0</td>\n",
       "      <td>224</td>\n",
       "    </tr>\n",
       "    <tr>\n",
       "      <th>13.0</th>\n",
       "      <td>2</td>\n",
       "      <td>2</td>\n",
       "      <td>0</td>\n",
       "      <td>0</td>\n",
       "      <td>223</td>\n",
       "    </tr>\n",
       "    <tr>\n",
       "      <th>...</th>\n",
       "      <td>...</td>\n",
       "      <td>...</td>\n",
       "      <td>...</td>\n",
       "      <td>...</td>\n",
       "      <td>...</td>\n",
       "    </tr>\n",
       "    <tr>\n",
       "      <th>840.0</th>\n",
       "      <td>1</td>\n",
       "      <td>0</td>\n",
       "      <td>1</td>\n",
       "      <td>0</td>\n",
       "      <td>5</td>\n",
       "    </tr>\n",
       "    <tr>\n",
       "      <th>883.0</th>\n",
       "      <td>1</td>\n",
       "      <td>1</td>\n",
       "      <td>0</td>\n",
       "      <td>0</td>\n",
       "      <td>4</td>\n",
       "    </tr>\n",
       "    <tr>\n",
       "      <th>965.0</th>\n",
       "      <td>1</td>\n",
       "      <td>0</td>\n",
       "      <td>1</td>\n",
       "      <td>0</td>\n",
       "      <td>3</td>\n",
       "    </tr>\n",
       "    <tr>\n",
       "      <th>1010.0</th>\n",
       "      <td>1</td>\n",
       "      <td>0</td>\n",
       "      <td>1</td>\n",
       "      <td>0</td>\n",
       "      <td>2</td>\n",
       "    </tr>\n",
       "    <tr>\n",
       "      <th>1022.0</th>\n",
       "      <td>1</td>\n",
       "      <td>0</td>\n",
       "      <td>1</td>\n",
       "      <td>0</td>\n",
       "      <td>1</td>\n",
       "    </tr>\n",
       "  </tbody>\n",
       "</table>\n",
       "<p>187 rows × 5 columns</p>\n",
       "</div>"
      ],
      "text/plain": [
       "          removed  observed  censored  entrance  at_risk\n",
       "event_at                                                \n",
       "0.0             0         0         0       228      228\n",
       "5.0             1         1         0         0      228\n",
       "11.0            3         3         0         0      227\n",
       "12.0            1         1         0         0      224\n",
       "13.0            2         2         0         0      223\n",
       "...           ...       ...       ...       ...      ...\n",
       "840.0           1         0         1         0        5\n",
       "883.0           1         1         0         0        4\n",
       "965.0           1         0         1         0        3\n",
       "1010.0          1         0         1         0        2\n",
       "1022.0          1         0         1         0        1\n",
       "\n",
       "[187 rows x 5 columns]"
      ]
     },
     "execution_count": 39,
     "metadata": {},
     "output_type": "execute_result"
    }
   ],
   "source": [
    "model.event_table"
   ]
  },
  {
   "cell_type": "code",
   "execution_count": null,
   "metadata": {},
   "outputs": [],
   "source": [
    "#removed = observed+ censored\n",
    "#censored = personas que no murieron que salieron del registro\n",
    "#obser = personas que murieron"
   ]
  },
  {
   "cell_type": "code",
   "execution_count": 40,
   "metadata": {},
   "outputs": [
    {
     "data": {
      "text/plain": [
       "<AxesSubplot:xlabel='timeline'>"
      ]
     },
     "execution_count": 40,
     "metadata": {},
     "output_type": "execute_result"
    },
    {
     "data": {
      "image/png": "[encoded data removed]",
      "text/plain": [
       "<Figure size 432x288 with 1 Axes>"
      ]
     },
     "metadata": {
      "needs_background": "light"
     },
     "output_type": "display_data"
    }
   ],
   "source": [
    "model.plot()"
   ]
  },
  {
   "cell_type": "code",
   "execution_count": 41,
   "metadata": {},
   "outputs": [
    {
     "data": {
      "text/plain": [
       "0.6802728622230085"
      ]
     },
     "execution_count": 41,
     "metadata": {},
     "output_type": "execute_result"
    }
   ],
   "source": [
    "model.predict(200)"
   ]
  },
  {
   "cell_type": "code",
   "execution_count": 42,
   "metadata": {},
   "outputs": [
    {
     "data": {
      "text/plain": [
       "0.07831532811014949"
      ]
     },
     "execution_count": 42,
     "metadata": {},
     "output_type": "execute_result"
    }
   ],
   "source": [
    "model.predict(800)"
   ]
  },
  {
   "cell_type": "code",
   "execution_count": 43,
   "metadata": {},
   "outputs": [
    {
     "data": {
      "text/html": [
       "<div>\n",
       "<style scoped>\n",
       "    .dataframe tbody tr th:only-of-type {\n",
       "        vertical-align: middle;\n",
       "    }\n",
       "\n",
       "    .dataframe tbody tr th {\n",
       "        vertical-align: top;\n",
       "    }\n",
       "\n",
       "    .dataframe thead th {\n",
       "        text-align: right;\n",
       "    }\n",
       "</style>\n",
       "<table border=\"1\" class=\"dataframe\">\n",
       "  <thead>\n",
       "    <tr style=\"text-align: right;\">\n",
       "      <th></th>\n",
       "      <th>KM_estimate</th>\n",
       "    </tr>\n",
       "    <tr>\n",
       "      <th>timeline</th>\n",
       "      <th></th>\n",
       "    </tr>\n",
       "  </thead>\n",
       "  <tbody>\n",
       "    <tr>\n",
       "      <th>0.0</th>\n",
       "      <td>1.000000</td>\n",
       "    </tr>\n",
       "    <tr>\n",
       "      <th>5.0</th>\n",
       "      <td>0.995614</td>\n",
       "    </tr>\n",
       "    <tr>\n",
       "      <th>11.0</th>\n",
       "      <td>0.982456</td>\n",
       "    </tr>\n",
       "    <tr>\n",
       "      <th>12.0</th>\n",
       "      <td>0.978070</td>\n",
       "    </tr>\n",
       "    <tr>\n",
       "      <th>13.0</th>\n",
       "      <td>0.969298</td>\n",
       "    </tr>\n",
       "    <tr>\n",
       "      <th>...</th>\n",
       "      <td>...</td>\n",
       "    </tr>\n",
       "    <tr>\n",
       "      <th>840.0</th>\n",
       "      <td>0.067127</td>\n",
       "    </tr>\n",
       "    <tr>\n",
       "      <th>883.0</th>\n",
       "      <td>0.050346</td>\n",
       "    </tr>\n",
       "    <tr>\n",
       "      <th>965.0</th>\n",
       "      <td>0.050346</td>\n",
       "    </tr>\n",
       "    <tr>\n",
       "      <th>1010.0</th>\n",
       "      <td>0.050346</td>\n",
       "    </tr>\n",
       "    <tr>\n",
       "      <th>1022.0</th>\n",
       "      <td>0.050346</td>\n",
       "    </tr>\n",
       "  </tbody>\n",
       "</table>\n",
       "<p>187 rows × 1 columns</p>\n",
       "</div>"
      ],
      "text/plain": [
       "          KM_estimate\n",
       "timeline             \n",
       "0.0          1.000000\n",
       "5.0          0.995614\n",
       "11.0         0.982456\n",
       "12.0         0.978070\n",
       "13.0         0.969298\n",
       "...               ...\n",
       "840.0        0.067127\n",
       "883.0        0.050346\n",
       "965.0        0.050346\n",
       "1010.0       0.050346\n",
       "1022.0       0.050346\n",
       "\n",
       "[187 rows x 1 columns]"
      ]
     },
     "execution_count": 43,
     "metadata": {},
     "output_type": "execute_result"
    }
   ],
   "source": [
    "model.survival_function_"
   ]
  },
  {
   "cell_type": "code",
   "execution_count": 44,
   "metadata": {},
   "outputs": [
    {
     "data": {
      "text/plain": [
       "310.0"
      ]
     },
     "execution_count": 44,
     "metadata": {},
     "output_type": "execute_result"
    }
   ],
   "source": [
    "model.median_survival_time_"
   ]
  },
  {
   "cell_type": "code",
   "execution_count": 46,
   "metadata": {},
   "outputs": [
    {
     "data": {
      "text/plain": [
       "<AxesSubplot:xlabel='timeline'>"
      ]
     },
     "execution_count": 46,
     "metadata": {},
     "output_type": "execute_result"
    },
    {
     "data": {
      "image/png": "[encoded data removed]",
      "text/plain": [
       "<Figure size 432x288 with 1 Axes>"
      ]
     },
     "metadata": {
      "needs_background": "light"
     },
     "output_type": "display_data"
    }
   ],
   "source": [
    "model.plot_cumulative_density()"
   ]
  },
  {
   "cell_type": "code",
   "execution_count": 47,
   "metadata": {},
   "outputs": [
    {
     "ename": "NotImplementedError",
     "evalue": "The Kaplan-Meier estimator is not used to estimate the cumulative hazard. Try the NelsonAalenFitter or any other parametric model",
     "output_type": "error",
     "traceback": [
      "\u001b[1;31m---------------------------------------------------------------------------\u001b[0m",
      "\u001b[1;31mNotImplementedError\u001b[0m                       Traceback (most recent call last)",
      "\u001b[1;32m<ipython-input-47-2e30b843b693>\u001b[0m in \u001b[0;36m<module>\u001b[1;34m\u001b[0m\n\u001b[1;32m----> 1\u001b[1;33m \u001b[0mmodel\u001b[0m\u001b[1;33m.\u001b[0m\u001b[0mplot_cumulative_hazard\u001b[0m\u001b[1;33m(\u001b[0m\u001b[1;33m)\u001b[0m\u001b[1;33m\u001b[0m\u001b[1;33m\u001b[0m\u001b[0m\n\u001b[0m",
      "\u001b[1;32m~\\AppData\\Roaming\\Python\\Python37\\site-packages\\lifelines\\fitters\\kaplan_meier_fitter.py\u001b[0m in \u001b[0;36mplot_cumulative_hazard\u001b[1;34m(self, **kwargs)\u001b[0m\n\u001b[0;32m    496\u001b[0m     \u001b[1;32mdef\u001b[0m \u001b[0mplot_cumulative_hazard\u001b[0m\u001b[1;33m(\u001b[0m\u001b[0mself\u001b[0m\u001b[1;33m,\u001b[0m \u001b[1;33m**\u001b[0m\u001b[0mkwargs\u001b[0m\u001b[1;33m)\u001b[0m\u001b[1;33m:\u001b[0m\u001b[1;33m\u001b[0m\u001b[1;33m\u001b[0m\u001b[0m\n\u001b[0;32m    497\u001b[0m         raise NotImplementedError(\n\u001b[1;32m--> 498\u001b[1;33m             \u001b[1;34m\"The Kaplan-Meier estimator is not used to estimate the cumulative hazard. Try the NelsonAalenFitter or any other parametric model\"\u001b[0m\u001b[1;33m\u001b[0m\u001b[1;33m\u001b[0m\u001b[0m\n\u001b[0m\u001b[0;32m    499\u001b[0m         )\n\u001b[0;32m    500\u001b[0m \u001b[1;33m\u001b[0m\u001b[0m\n",
      "\u001b[1;31mNotImplementedError\u001b[0m: The Kaplan-Meier estimator is not used to estimate the cumulative hazard. Try the NelsonAalenFitter or any other parametric model"
     ]
    }
   ],
   "source": [
    "model.plot_cumulative_hazard()"
   ]
  },
  {
   "cell_type": "code",
   "execution_count": 48,
   "metadata": {},
   "outputs": [],
   "source": [
    "from lifelines import NelsonAalenFitter"
   ]
  },
  {
   "cell_type": "code",
   "execution_count": 49,
   "metadata": {},
   "outputs": [],
   "source": [
    "model = NelsonAalenFitter()"
   ]
  },
  {
   "cell_type": "code",
   "execution_count": 50,
   "metadata": {},
   "outputs": [
    {
     "data": {
      "text/plain": [
       "<lifelines.NelsonAalenFitter:\"NA_estimate\", fitted with 228 total observations, 63 right-censored observations>"
      ]
     },
     "execution_count": 50,
     "metadata": {},
     "output_type": "execute_result"
    }
   ],
   "source": [
    "model.fit(durations = lung['time'], event_observed= lung['death'])"
   ]
  },
  {
   "cell_type": "code",
   "execution_count": 51,
   "metadata": {},
   "outputs": [
    {
     "data": {
      "text/plain": [
       "<AxesSubplot:xlabel='timeline'>"
      ]
     },
     "execution_count": 51,
     "metadata": {},
     "output_type": "execute_result"
    },
    {
     "data": {
      "image/png": "[encoded data removed]",
      "text/plain": [
       "<Figure size 432x288 with 1 Axes>"
      ]
     },
     "metadata": {
      "needs_background": "light"
     },
     "output_type": "display_data"
    }
   ],
   "source": [
    "model.plot_cumulative_hazard()"
   ]
  },
  {
   "cell_type": "markdown",
   "metadata": {},
   "source": [
    "# Sistemas de recomendación\n",
    "\n",
    "#### Filtro Colaborativo\n",
    "\n",
    "Técnica utilizada por algunos sistemas recomendadores, los cuales  suelen incluir conjuntos de datos muy grandes. Hay dos tipos de filtros colaborativos:\n",
    "\n",
    "+ Basados en Usuarios (User-based):\n",
    "\n",
    "Se basan en una premisa simple de similitud entre gustos, es decir, en que si una persona A tiene la misma opinión que una persona B sobre un tema, A es más probable que tenga la misma opinión que B en otro tema diferente que la opinión que tendría una persona elegida azar. \n",
    "\n",
    "Tiene ciertos inconvenientes. \n",
    "Requiere evaluaciones previas, sin algunas evaluaciones de usuarios, no se tienen pistas sobre las evaluaciones de los nuevos usuarios.\n",
    "No es una matriz densa, usualmente los usuarios dan su rating sobre algunos items y no sobre toda la base de datos, lo que puede dificultar algunos casos por falta de datos pero puede ayudar ya que no se tiene que hacer los cálculos para todas las combinaciones posibles.\n",
    "Altos costos si los perfiles de usuarios cambian, si los gustos cambian o hay ruido en los datos (ejemplo, 2 personas usan la misma cuenta en el sistema) todo el modelo del sistema debe ser recalculado.\n",
    "\n",
    "+ Basados en Items (Items-based):\n",
    "\n",
    "Buscan la similitud entre elementos, utilizan distribuciones de calificación por artículo, no por usuario, lo que puede ayudar a sobrellevar algunos de los problemas de los modelos User-based. Con más usuarios que elementos, cada elemento tiende a tener más calificaciones que cada usuario, por lo que la calificación promedio de un elemento generalmente no cambia rápidamente. Esto conduce a distribuciones de calificación más estables en el modelo, por lo que no es necesario reconstruir el modelo con tanta frecuencia. Cuando los usuarios consumen y luego califican un artículo, los elementos similares de ese elemento se seleccionan del modelo de sistema existente y se agregan a las recomendaciones del usuario."
   ]
  },
  {
   "cell_type": "code",
   "execution_count": null,
   "metadata": {},
   "outputs": [],
   "source": [
    "### Ejemplo Peliculas (User-based)"
   ]
  },
  {
   "cell_type": "code",
   "execution_count": 62,
   "metadata": {},
   "outputs": [],
   "source": [
    "import pandas as pd\n",
    "import matplotlib.pyplot as plt\n",
    "%matplotlib inline"
   ]
  },
  {
   "cell_type": "code",
   "execution_count": 63,
   "metadata": {},
   "outputs": [],
   "source": [
    "from scipy.spatial.distance import pdist       # calcula distancias entre puntos\n",
    "from scipy.spatial.distance import squareform  # convierte a una matriz cuadrada"
   ]
  },
  {
   "cell_type": "code",
   "execution_count": 67,
   "metadata": {},
   "outputs": [
    {
     "data": {
      "text/html": [
       "<div>\n",
       "<style scoped>\n",
       "    .dataframe tbody tr th:only-of-type {\n",
       "        vertical-align: middle;\n",
       "    }\n",
       "\n",
       "    .dataframe tbody tr th {\n",
       "        vertical-align: top;\n",
       "    }\n",
       "\n",
       "    .dataframe thead th {\n",
       "        text-align: right;\n",
       "    }\n",
       "</style>\n",
       "<table border=\"1\" class=\"dataframe\">\n",
       "  <thead>\n",
       "    <tr style=\"text-align: right;\">\n",
       "      <th></th>\n",
       "      <th>Brandon</th>\n",
       "      <th>Emily</th>\n",
       "      <th>Cleo</th>\n",
       "      <th>Rusty</th>\n",
       "      <th>Samantha</th>\n",
       "    </tr>\n",
       "    <tr>\n",
       "      <th>Movie</th>\n",
       "      <th></th>\n",
       "      <th></th>\n",
       "      <th></th>\n",
       "      <th></th>\n",
       "      <th></th>\n",
       "    </tr>\n",
       "  </thead>\n",
       "  <tbody>\n",
       "    <tr>\n",
       "      <th>Aquaman</th>\n",
       "      <td>4</td>\n",
       "      <td>1</td>\n",
       "      <td>2</td>\n",
       "      <td>2</td>\n",
       "      <td>2</td>\n",
       "    </tr>\n",
       "    <tr>\n",
       "      <th>Avengers: Infinity War</th>\n",
       "      <td>2</td>\n",
       "      <td>5</td>\n",
       "      <td>2</td>\n",
       "      <td>5</td>\n",
       "      <td>5</td>\n",
       "    </tr>\n",
       "    <tr>\n",
       "      <th>Black Panther</th>\n",
       "      <td>5</td>\n",
       "      <td>2</td>\n",
       "      <td>5</td>\n",
       "      <td>1</td>\n",
       "      <td>1</td>\n",
       "    </tr>\n",
       "    <tr>\n",
       "      <th>Bohemian Rhapsody</th>\n",
       "      <td>2</td>\n",
       "      <td>3</td>\n",
       "      <td>4</td>\n",
       "      <td>4</td>\n",
       "      <td>1</td>\n",
       "    </tr>\n",
       "    <tr>\n",
       "      <th>Deadpool 2</th>\n",
       "      <td>3</td>\n",
       "      <td>2</td>\n",
       "      <td>4</td>\n",
       "      <td>5</td>\n",
       "      <td>1</td>\n",
       "    </tr>\n",
       "    <tr>\n",
       "      <th>Fantastic Beasts: The Crimes of Grindelwald</th>\n",
       "      <td>5</td>\n",
       "      <td>4</td>\n",
       "      <td>1</td>\n",
       "      <td>2</td>\n",
       "      <td>5</td>\n",
       "    </tr>\n",
       "    <tr>\n",
       "      <th>Incredibles 2</th>\n",
       "      <td>4</td>\n",
       "      <td>2</td>\n",
       "      <td>3</td>\n",
       "      <td>4</td>\n",
       "      <td>4</td>\n",
       "    </tr>\n",
       "    <tr>\n",
       "      <th>Jurassic World: Fallen Kingdom</th>\n",
       "      <td>2</td>\n",
       "      <td>3</td>\n",
       "      <td>5</td>\n",
       "      <td>4</td>\n",
       "      <td>5</td>\n",
       "    </tr>\n",
       "    <tr>\n",
       "      <th>Mission: Impossible – Fallout</th>\n",
       "      <td>5</td>\n",
       "      <td>5</td>\n",
       "      <td>4</td>\n",
       "      <td>3</td>\n",
       "      <td>2</td>\n",
       "    </tr>\n",
       "    <tr>\n",
       "      <th>Venom</th>\n",
       "      <td>4</td>\n",
       "      <td>1</td>\n",
       "      <td>4</td>\n",
       "      <td>5</td>\n",
       "      <td>2</td>\n",
       "    </tr>\n",
       "  </tbody>\n",
       "</table>\n",
       "</div>"
      ],
      "text/plain": [
       "                                             Brandon  Emily  Cleo  Rusty  \\\n",
       "Movie                                                                      \n",
       "Aquaman                                            4      1     2      2   \n",
       "Avengers: Infinity War                             2      5     2      5   \n",
       "Black Panther                                      5      2     5      1   \n",
       "Bohemian Rhapsody                                  2      3     4      4   \n",
       "Deadpool 2                                         3      2     4      5   \n",
       "Fantastic Beasts: The Crimes of Grindelwald        5      4     1      2   \n",
       "Incredibles 2                                      4      2     3      4   \n",
       "Jurassic World: Fallen Kingdom                     2      3     5      4   \n",
       "Mission: Impossible – Fallout                      5      5     4      3   \n",
       "Venom                                              4      1     4      5   \n",
       "\n",
       "                                             Samantha  \n",
       "Movie                                                  \n",
       "Aquaman                                             2  \n",
       "Avengers: Infinity War                              5  \n",
       "Black Panther                                       1  \n",
       "Bohemian Rhapsody                                   1  \n",
       "Deadpool 2                                          1  \n",
       "Fantastic Beasts: The Crimes of Grindelwald         5  \n",
       "Incredibles 2                                       4  \n",
       "Jurassic World: Fallen Kingdom                      5  \n",
       "Mission: Impossible – Fallout                       2  \n",
       "Venom                                               2  "
      ]
     },
     "execution_count": 67,
     "metadata": {},
     "output_type": "execute_result"
    }
   ],
   "source": [
    "ratings=pd.read_csv('data/movie_ratings.csv').set_index('Movie')\n",
    "ratings"
   ]
  },
  {
   "cell_type": "code",
   "execution_count": 65,
   "metadata": {},
   "outputs": [],
   "source": [
    "def plot(m1, m2):\n",
    "    \n",
    "    x=ratings.T[m1]  # ratings de las peliculas\n",
    "    y=ratings.T[m2]\n",
    "    \n",
    "    n=list(ratings.T.index)  # nombres de los usuarios\n",
    "    \n",
    "    plt.figure(figsize=(10, 5))\n",
    "    \n",
    "    plt.scatter(x, y, s=0) # scatter vacio...para luego poner los nombres\n",
    "    \n",
    "    plt.title('Espacio para {} VS. {}'.format(m1, m2), fontsize=14)\n",
    "    plt.xlabel(m1, fontsize=14)\n",
    "    plt.ylabel(m2, fontsize=14)\n",
    "    \n",
    "    for i,e in enumerate(n):\n",
    "        plt.annotate(e, (x[i], y[i]), fontsize=12)  # se escribe el nombre en las posiciones correspondientes\n",
    "    plt.show();"
   ]
  },
  {
   "cell_type": "code",
   "execution_count": 66,
   "metadata": {},
   "outputs": [
    {
     "data": {
      "image/png": "[encoded data removed]",
      "text/plain": [
       "<Figure size 720x360 with 1 Axes>"
      ]
     },
     "metadata": {
      "needs_background": "light"
     },
     "output_type": "display_data"
    }
   ],
   "source": [
    "plot('Venom', 'Deadpool 2')"
   ]
  },
  {
   "cell_type": "code",
   "execution_count": 68,
   "metadata": {},
   "outputs": [
    {
     "data": {
      "image/png": "[encoded data removed]",
      "text/plain": [
       "<Figure size 720x360 with 1 Axes>"
      ]
     },
     "metadata": {
      "needs_background": "light"
     },
     "output_type": "display_data"
    }
   ],
   "source": [
    "plot('Bohemian Rhapsody', 'Incredibles 2')"
   ]
  },
  {
   "cell_type": "code",
   "execution_count": 69,
   "metadata": {},
   "outputs": [
    {
     "data": {
      "text/html": [
       "<div>\n",
       "<style scoped>\n",
       "    .dataframe tbody tr th:only-of-type {\n",
       "        vertical-align: middle;\n",
       "    }\n",
       "\n",
       "    .dataframe tbody tr th {\n",
       "        vertical-align: top;\n",
       "    }\n",
       "\n",
       "    .dataframe thead th {\n",
       "        text-align: right;\n",
       "    }\n",
       "</style>\n",
       "<table border=\"1\" class=\"dataframe\">\n",
       "  <thead>\n",
       "    <tr style=\"text-align: right;\">\n",
       "      <th>Movie</th>\n",
       "      <th>Aquaman</th>\n",
       "      <th>Avengers: Infinity War</th>\n",
       "      <th>Black Panther</th>\n",
       "      <th>Bohemian Rhapsody</th>\n",
       "      <th>Deadpool 2</th>\n",
       "      <th>Fantastic Beasts: The Crimes of Grindelwald</th>\n",
       "      <th>Incredibles 2</th>\n",
       "      <th>Jurassic World: Fallen Kingdom</th>\n",
       "      <th>Mission: Impossible – Fallout</th>\n",
       "      <th>Venom</th>\n",
       "    </tr>\n",
       "  </thead>\n",
       "  <tbody>\n",
       "    <tr>\n",
       "      <th>Brandon</th>\n",
       "      <td>4</td>\n",
       "      <td>2</td>\n",
       "      <td>5</td>\n",
       "      <td>2</td>\n",
       "      <td>3</td>\n",
       "      <td>5</td>\n",
       "      <td>4</td>\n",
       "      <td>2</td>\n",
       "      <td>5</td>\n",
       "      <td>4</td>\n",
       "    </tr>\n",
       "    <tr>\n",
       "      <th>Emily</th>\n",
       "      <td>1</td>\n",
       "      <td>5</td>\n",
       "      <td>2</td>\n",
       "      <td>3</td>\n",
       "      <td>2</td>\n",
       "      <td>4</td>\n",
       "      <td>2</td>\n",
       "      <td>3</td>\n",
       "      <td>5</td>\n",
       "      <td>1</td>\n",
       "    </tr>\n",
       "    <tr>\n",
       "      <th>Cleo</th>\n",
       "      <td>2</td>\n",
       "      <td>2</td>\n",
       "      <td>5</td>\n",
       "      <td>4</td>\n",
       "      <td>4</td>\n",
       "      <td>1</td>\n",
       "      <td>3</td>\n",
       "      <td>5</td>\n",
       "      <td>4</td>\n",
       "      <td>4</td>\n",
       "    </tr>\n",
       "    <tr>\n",
       "      <th>Rusty</th>\n",
       "      <td>2</td>\n",
       "      <td>5</td>\n",
       "      <td>1</td>\n",
       "      <td>4</td>\n",
       "      <td>5</td>\n",
       "      <td>2</td>\n",
       "      <td>4</td>\n",
       "      <td>4</td>\n",
       "      <td>3</td>\n",
       "      <td>5</td>\n",
       "    </tr>\n",
       "    <tr>\n",
       "      <th>Samantha</th>\n",
       "      <td>2</td>\n",
       "      <td>5</td>\n",
       "      <td>1</td>\n",
       "      <td>1</td>\n",
       "      <td>1</td>\n",
       "      <td>5</td>\n",
       "      <td>4</td>\n",
       "      <td>5</td>\n",
       "      <td>2</td>\n",
       "      <td>2</td>\n",
       "    </tr>\n",
       "  </tbody>\n",
       "</table>\n",
       "</div>"
      ],
      "text/plain": [
       "Movie     Aquaman  Avengers: Infinity War  Black Panther  Bohemian Rhapsody  \\\n",
       "Brandon         4                       2              5                  2   \n",
       "Emily           1                       5              2                  3   \n",
       "Cleo            2                       2              5                  4   \n",
       "Rusty           2                       5              1                  4   \n",
       "Samantha        2                       5              1                  1   \n",
       "\n",
       "Movie     Deadpool 2  Fantastic Beasts: The Crimes of Grindelwald  \\\n",
       "Brandon            3                                            5   \n",
       "Emily              2                                            4   \n",
       "Cleo               4                                            1   \n",
       "Rusty              5                                            2   \n",
       "Samantha           1                                            5   \n",
       "\n",
       "Movie     Incredibles 2  Jurassic World: Fallen Kingdom  \\\n",
       "Brandon               4                               2   \n",
       "Emily                 2                               3   \n",
       "Cleo                  3                               5   \n",
       "Rusty                 4                               4   \n",
       "Samantha              4                               5   \n",
       "\n",
       "Movie     Mission: Impossible – Fallout  Venom  \n",
       "Brandon                               5      4  \n",
       "Emily                                 5      1  \n",
       "Cleo                                  4      4  \n",
       "Rusty                                 3      5  \n",
       "Samantha                              2      2  "
      ]
     },
     "execution_count": 69,
     "metadata": {},
     "output_type": "execute_result"
    }
   ],
   "source": [
    "ratings.T"
   ]
  },
  {
   "cell_type": "code",
   "execution_count": 70,
   "metadata": {},
   "outputs": [
    {
     "name": "stdout",
     "output_type": "stream",
     "text": [
      "Help on function pdist in module scipy.spatial.distance:\n",
      "\n",
      "pdist(X, metric='euclidean', *args, **kwargs)\n",
      "    Pairwise distances between observations in n-dimensional space.\n",
      "    \n",
      "    See Notes for common calling conventions.\n",
      "    \n",
      "    Parameters\n",
      "    ----------\n",
      "    X : ndarray\n",
      "        An m by n array of m original observations in an\n",
      "        n-dimensional space.\n",
      "    metric : str or function, optional\n",
      "        The distance metric to use. The distance function can\n",
      "        be 'braycurtis', 'canberra', 'chebyshev', 'cityblock',\n",
      "        'correlation', 'cosine', 'dice', 'euclidean', 'hamming',\n",
      "        'jaccard', 'jensenshannon', 'kulsinski', 'mahalanobis', 'matching',\n",
      "        'minkowski', 'rogerstanimoto', 'russellrao', 'seuclidean',\n",
      "        'sokalmichener', 'sokalsneath', 'sqeuclidean', 'yule'.\n",
      "    *args : tuple. Deprecated.\n",
      "        Additional arguments should be passed as keyword arguments\n",
      "    **kwargs : dict, optional\n",
      "        Extra arguments to `metric`: refer to each metric documentation for a\n",
      "        list of all possible arguments.\n",
      "    \n",
      "        Some possible arguments:\n",
      "    \n",
      "        p : scalar\n",
      "        The p-norm to apply for Minkowski, weighted and unweighted.\n",
      "        Default: 2.\n",
      "    \n",
      "        w : ndarray\n",
      "        The weight vector for metrics that support weights (e.g., Minkowski).\n",
      "    \n",
      "        V : ndarray\n",
      "        The variance vector for standardized Euclidean.\n",
      "        Default: var(X, axis=0, ddof=1)\n",
      "    \n",
      "        VI : ndarray\n",
      "        The inverse of the covariance matrix for Mahalanobis.\n",
      "        Default: inv(cov(X.T)).T\n",
      "    \n",
      "        out : ndarray.\n",
      "        The output array\n",
      "        If not None, condensed distance matrix Y is stored in this array.\n",
      "        Note: metric independent, it will become a regular keyword arg in a\n",
      "        future scipy version\n",
      "    \n",
      "    Returns\n",
      "    -------\n",
      "    Y : ndarray\n",
      "        Returns a condensed distance matrix Y.  For\n",
      "        each :math:`i` and :math:`j` (where :math:`i<j<m`),where m is the number\n",
      "        of original observations. The metric ``dist(u=X[i], v=X[j])``\n",
      "        is computed and stored in entry ``ij``.\n",
      "    \n",
      "    See Also\n",
      "    --------\n",
      "    squareform : converts between condensed distance matrices and\n",
      "                 square distance matrices.\n",
      "    \n",
      "    Notes\n",
      "    -----\n",
      "    See ``squareform`` for information on how to calculate the index of\n",
      "    this entry or to convert the condensed distance matrix to a\n",
      "    redundant square matrix.\n",
      "    \n",
      "    The following are common calling conventions.\n",
      "    \n",
      "    1. ``Y = pdist(X, 'euclidean')``\n",
      "    \n",
      "       Computes the distance between m points using Euclidean distance\n",
      "       (2-norm) as the distance metric between the points. The points\n",
      "       are arranged as m n-dimensional row vectors in the matrix X.\n",
      "    \n",
      "    2. ``Y = pdist(X, 'minkowski', p=2.)``\n",
      "    \n",
      "       Computes the distances using the Minkowski distance\n",
      "       :math:`||u-v||_p` (p-norm) where :math:`p \\geq 1`.\n",
      "    \n",
      "    3. ``Y = pdist(X, 'cityblock')``\n",
      "    \n",
      "       Computes the city block or Manhattan distance between the\n",
      "       points.\n",
      "    \n",
      "    4. ``Y = pdist(X, 'seuclidean', V=None)``\n",
      "    \n",
      "       Computes the standardized Euclidean distance. The standardized\n",
      "       Euclidean distance between two n-vectors ``u`` and ``v`` is\n",
      "    \n",
      "       .. math::\n",
      "    \n",
      "          \\sqrt{\\sum {(u_i-v_i)^2 / V[x_i]}}\n",
      "    \n",
      "    \n",
      "       V is the variance vector; V[i] is the variance computed over all\n",
      "       the i'th components of the points.  If not passed, it is\n",
      "       automatically computed.\n",
      "    \n",
      "    5. ``Y = pdist(X, 'sqeuclidean')``\n",
      "    \n",
      "       Computes the squared Euclidean distance :math:`||u-v||_2^2` between\n",
      "       the vectors.\n",
      "    \n",
      "    6. ``Y = pdist(X, 'cosine')``\n",
      "    \n",
      "       Computes the cosine distance between vectors u and v,\n",
      "    \n",
      "       .. math::\n",
      "    \n",
      "          1 - \\frac{u \\cdot v}\n",
      "                   {{||u||}_2 {||v||}_2}\n",
      "    \n",
      "       where :math:`||*||_2` is the 2-norm of its argument ``*``, and\n",
      "       :math:`u \\cdot v` is the dot product of ``u`` and ``v``.\n",
      "    \n",
      "    7. ``Y = pdist(X, 'correlation')``\n",
      "    \n",
      "       Computes the correlation distance between vectors u and v. This is\n",
      "    \n",
      "       .. math::\n",
      "    \n",
      "          1 - \\frac{(u - \\bar{u}) \\cdot (v - \\bar{v})}\n",
      "                   {{||(u - \\bar{u})||}_2 {||(v - \\bar{v})||}_2}\n",
      "    \n",
      "       where :math:`\\bar{v}` is the mean of the elements of vector v,\n",
      "       and :math:`x \\cdot y` is the dot product of :math:`x` and :math:`y`.\n",
      "    \n",
      "    8. ``Y = pdist(X, 'hamming')``\n",
      "    \n",
      "       Computes the normalized Hamming distance, or the proportion of\n",
      "       those vector elements between two n-vectors ``u`` and ``v``\n",
      "       which disagree. To save memory, the matrix ``X`` can be of type\n",
      "       boolean.\n",
      "    \n",
      "    9. ``Y = pdist(X, 'jaccard')``\n",
      "    \n",
      "       Computes the Jaccard distance between the points. Given two\n",
      "       vectors, ``u`` and ``v``, the Jaccard distance is the\n",
      "       proportion of those elements ``u[i]`` and ``v[i]`` that\n",
      "       disagree.\n",
      "    \n",
      "    10. ``Y = pdist(X, 'chebyshev')``\n",
      "    \n",
      "       Computes the Chebyshev distance between the points. The\n",
      "       Chebyshev distance between two n-vectors ``u`` and ``v`` is the\n",
      "       maximum norm-1 distance between their respective elements. More\n",
      "       precisely, the distance is given by\n",
      "    \n",
      "       .. math::\n",
      "    \n",
      "          d(u,v) = \\max_i {|u_i-v_i|}\n",
      "    \n",
      "    11. ``Y = pdist(X, 'canberra')``\n",
      "    \n",
      "       Computes the Canberra distance between the points. The\n",
      "       Canberra distance between two points ``u`` and ``v`` is\n",
      "    \n",
      "       .. math::\n",
      "    \n",
      "         d(u,v) = \\sum_i \\frac{|u_i-v_i|}\n",
      "                              {|u_i|+|v_i|}\n",
      "    \n",
      "    \n",
      "    12. ``Y = pdist(X, 'braycurtis')``\n",
      "    \n",
      "       Computes the Bray-Curtis distance between the points. The\n",
      "       Bray-Curtis distance between two points ``u`` and ``v`` is\n",
      "    \n",
      "    \n",
      "       .. math::\n",
      "    \n",
      "            d(u,v) = \\frac{\\sum_i {|u_i-v_i|}}\n",
      "                           {\\sum_i {|u_i+v_i|}}\n",
      "    \n",
      "    13. ``Y = pdist(X, 'mahalanobis', VI=None)``\n",
      "    \n",
      "       Computes the Mahalanobis distance between the points. The\n",
      "       Mahalanobis distance between two points ``u`` and ``v`` is\n",
      "       :math:`\\sqrt{(u-v)(1/V)(u-v)^T}` where :math:`(1/V)` (the ``VI``\n",
      "       variable) is the inverse covariance. If ``VI`` is not None,\n",
      "       ``VI`` will be used as the inverse covariance matrix.\n",
      "    \n",
      "    14. ``Y = pdist(X, 'yule')``\n",
      "    \n",
      "       Computes the Yule distance between each pair of boolean\n",
      "       vectors. (see yule function documentation)\n",
      "    \n",
      "    15. ``Y = pdist(X, 'matching')``\n",
      "    \n",
      "       Synonym for 'hamming'.\n",
      "    \n",
      "    16. ``Y = pdist(X, 'dice')``\n",
      "    \n",
      "       Computes the Dice distance between each pair of boolean\n",
      "       vectors. (see dice function documentation)\n",
      "    \n",
      "    17. ``Y = pdist(X, 'kulsinski')``\n",
      "    \n",
      "       Computes the Kulsinski distance between each pair of\n",
      "       boolean vectors. (see kulsinski function documentation)\n",
      "    \n",
      "    18. ``Y = pdist(X, 'rogerstanimoto')``\n",
      "    \n",
      "       Computes the Rogers-Tanimoto distance between each pair of\n",
      "       boolean vectors. (see rogerstanimoto function documentation)\n",
      "    \n",
      "    19. ``Y = pdist(X, 'russellrao')``\n",
      "    \n",
      "       Computes the Russell-Rao distance between each pair of\n",
      "       boolean vectors. (see russellrao function documentation)\n",
      "    \n",
      "    20. ``Y = pdist(X, 'sokalmichener')``\n",
      "    \n",
      "       Computes the Sokal-Michener distance between each pair of\n",
      "       boolean vectors. (see sokalmichener function documentation)\n",
      "    \n",
      "    21. ``Y = pdist(X, 'sokalsneath')``\n",
      "    \n",
      "       Computes the Sokal-Sneath distance between each pair of\n",
      "       boolean vectors. (see sokalsneath function documentation)\n",
      "    \n",
      "    22. ``Y = pdist(X, 'wminkowski', p=2, w=w)``\n",
      "    \n",
      "       Computes the weighted Minkowski distance between each pair of\n",
      "       vectors. (see wminkowski function documentation)\n",
      "    \n",
      "    23. ``Y = pdist(X, f)``\n",
      "    \n",
      "       Computes the distance between all pairs of vectors in X\n",
      "       using the user supplied 2-arity function f. For example,\n",
      "       Euclidean distance between the vectors could be computed\n",
      "       as follows::\n",
      "    \n",
      "         dm = pdist(X, lambda u, v: np.sqrt(((u-v)**2).sum()))\n",
      "    \n",
      "       Note that you should avoid passing a reference to one of\n",
      "       the distance functions defined in this library. For example,::\n",
      "    \n",
      "         dm = pdist(X, sokalsneath)\n",
      "    \n",
      "       would calculate the pair-wise distances between the vectors in\n",
      "       X using the Python function sokalsneath. This would result in\n",
      "       sokalsneath being called :math:`{n \\choose 2}` times, which\n",
      "       is inefficient. Instead, the optimized C version is more\n",
      "       efficient, and we call it using the following syntax.::\n",
      "    \n",
      "         dm = pdist(X, 'sokalsneath')\n",
      "\n"
     ]
    }
   ],
   "source": [
    "help(pdist)"
   ]
  },
  {
   "cell_type": "code",
   "execution_count": 71,
   "metadata": {},
   "outputs": [
    {
     "data": {
      "text/plain": [
       "array([[0.        , 6.63324958, 6.        , 7.41619849, 7.48331477],\n",
       "       [6.63324958, 0.        , 6.92820323, 6.40312424, 5.09901951],\n",
       "       [6.        , 6.92820323, 0.        , 5.56776436, 8.24621125],\n",
       "       [7.41619849, 6.40312424, 5.56776436, 0.        , 6.70820393],\n",
       "       [7.48331477, 5.09901951, 8.24621125, 6.70820393, 0.        ]])"
      ]
     },
     "execution_count": 71,
     "metadata": {},
     "output_type": "execute_result"
    }
   ],
   "source": [
    "distancias=squareform(pdist(ratings.T, 'euclidean'))\n",
    "distancias"
   ]
  },
  {
   "cell_type": "code",
   "execution_count": 72,
   "metadata": {},
   "outputs": [
    {
     "data": {
      "text/html": [
       "<div>\n",
       "<style scoped>\n",
       "    .dataframe tbody tr th:only-of-type {\n",
       "        vertical-align: middle;\n",
       "    }\n",
       "\n",
       "    .dataframe tbody tr th {\n",
       "        vertical-align: top;\n",
       "    }\n",
       "\n",
       "    .dataframe thead th {\n",
       "        text-align: right;\n",
       "    }\n",
       "</style>\n",
       "<table border=\"1\" class=\"dataframe\">\n",
       "  <thead>\n",
       "    <tr style=\"text-align: right;\">\n",
       "      <th></th>\n",
       "      <th>Brandon</th>\n",
       "      <th>Emily</th>\n",
       "      <th>Cleo</th>\n",
       "      <th>Rusty</th>\n",
       "      <th>Samantha</th>\n",
       "    </tr>\n",
       "  </thead>\n",
       "  <tbody>\n",
       "    <tr>\n",
       "      <th>Brandon</th>\n",
       "      <td>1.000000</td>\n",
       "      <td>0.131006</td>\n",
       "      <td>0.142857</td>\n",
       "      <td>0.118818</td>\n",
       "      <td>0.117878</td>\n",
       "    </tr>\n",
       "    <tr>\n",
       "      <th>Emily</th>\n",
       "      <td>0.131006</td>\n",
       "      <td>1.000000</td>\n",
       "      <td>0.126132</td>\n",
       "      <td>0.135078</td>\n",
       "      <td>0.163961</td>\n",
       "    </tr>\n",
       "    <tr>\n",
       "      <th>Cleo</th>\n",
       "      <td>0.142857</td>\n",
       "      <td>0.126132</td>\n",
       "      <td>1.000000</td>\n",
       "      <td>0.152259</td>\n",
       "      <td>0.108152</td>\n",
       "    </tr>\n",
       "    <tr>\n",
       "      <th>Rusty</th>\n",
       "      <td>0.118818</td>\n",
       "      <td>0.135078</td>\n",
       "      <td>0.152259</td>\n",
       "      <td>1.000000</td>\n",
       "      <td>0.129732</td>\n",
       "    </tr>\n",
       "    <tr>\n",
       "      <th>Samantha</th>\n",
       "      <td>0.117878</td>\n",
       "      <td>0.163961</td>\n",
       "      <td>0.108152</td>\n",
       "      <td>0.129732</td>\n",
       "      <td>1.000000</td>\n",
       "    </tr>\n",
       "  </tbody>\n",
       "</table>\n",
       "</div>"
      ],
      "text/plain": [
       "           Brandon     Emily      Cleo     Rusty  Samantha\n",
       "Brandon   1.000000  0.131006  0.142857  0.118818  0.117878\n",
       "Emily     0.131006  1.000000  0.126132  0.135078  0.163961\n",
       "Cleo      0.142857  0.126132  1.000000  0.152259  0.108152\n",
       "Rusty     0.118818  0.135078  0.152259  1.000000  0.129732\n",
       "Samantha  0.117878  0.163961  0.108152  0.129732  1.000000"
      ]
     },
     "execution_count": 72,
     "metadata": {},
     "output_type": "execute_result"
    }
   ],
   "source": [
    "similitud=1/(1+distancias) \n",
    "#Para nuestro uso de caso pasaremos los valores a que entre mas grande el numero mayor similitud\n",
    "\n",
    "similitudes=pd.DataFrame(similitud, index=ratings.columns, columns=ratings.columns)\n",
    "\n",
    "similitudes  # pertenecen al intervalo (0, 1)"
   ]
  },
  {
   "cell_type": "markdown",
   "metadata": {},
   "source": [
    "##### metricas de distancia\n",
    "\n",
    "https://docs.scipy.org/doc/scipy/reference/generated/scipy.spatial.distance.pdist.html\n",
    "\n",
    "https://docs.scipy.org/doc/scipy-0.14.0/reference/generated/scipy.spatial.distance.squareform.html\n",
    "\n",
    "https://docs.scipy.org/doc/scipy-0.14.0/reference/spatial.distance.html"
   ]
  },
  {
   "cell_type": "markdown",
   "metadata": {},
   "source": [
    "**euclidea**\n",
    "\n",
    "$$d=\\sqrt{x^2 + y^2}$$\n",
    "$$d=\\sqrt{x_1^2 + x_2^2 + \\ldots + x_n^2}$$"
   ]
  },
  {
   "cell_type": "markdown",
   "metadata": {},
   "source": [
    "**cityblock - manhattan**\n",
    "\n",
    "$$d=x + y$$"
   ]
  },
  {
   "cell_type": "code",
   "execution_count": 73,
   "metadata": {},
   "outputs": [],
   "source": [
    "tom={'Aquaman': 2, \n",
    "     'Avengers: Infinity War':1, \n",
    "     'Black Panther':5,\n",
    "     'Bohemian Rhapsody':5, \n",
    "     'Deadpool 2':2,\n",
    "     'Fantastic Beasts: The Crimes of Grindelwald':3, \n",
    "     'Incredibles 2':3,\n",
    "     'Jurassic World: Fallen Kingdom':4, \n",
    "     'Mission: Impossible – Fallout':3,\n",
    "     'Venom':3}"
   ]
  },
  {
   "cell_type": "code",
   "execution_count": 74,
   "metadata": {},
   "outputs": [
    {
     "data": {
      "text/html": [
       "<div>\n",
       "<style scoped>\n",
       "    .dataframe tbody tr th:only-of-type {\n",
       "        vertical-align: middle;\n",
       "    }\n",
       "\n",
       "    .dataframe tbody tr th {\n",
       "        vertical-align: top;\n",
       "    }\n",
       "\n",
       "    .dataframe thead th {\n",
       "        text-align: right;\n",
       "    }\n",
       "</style>\n",
       "<table border=\"1\" class=\"dataframe\">\n",
       "  <thead>\n",
       "    <tr style=\"text-align: right;\">\n",
       "      <th></th>\n",
       "      <th>Brandon</th>\n",
       "      <th>Emily</th>\n",
       "      <th>Cleo</th>\n",
       "      <th>Rusty</th>\n",
       "      <th>Samantha</th>\n",
       "      <th>Tom</th>\n",
       "    </tr>\n",
       "  </thead>\n",
       "  <tbody>\n",
       "    <tr>\n",
       "      <th>Brandon</th>\n",
       "      <td>1.000000</td>\n",
       "      <td>0.131006</td>\n",
       "      <td>0.142857</td>\n",
       "      <td>0.118818</td>\n",
       "      <td>0.117878</td>\n",
       "      <td>0.156613</td>\n",
       "    </tr>\n",
       "    <tr>\n",
       "      <th>Emily</th>\n",
       "      <td>0.131006</td>\n",
       "      <td>1.000000</td>\n",
       "      <td>0.126132</td>\n",
       "      <td>0.135078</td>\n",
       "      <td>0.163961</td>\n",
       "      <td>0.135078</td>\n",
       "    </tr>\n",
       "    <tr>\n",
       "      <th>Cleo</th>\n",
       "      <td>0.142857</td>\n",
       "      <td>0.126132</td>\n",
       "      <td>1.000000</td>\n",
       "      <td>0.152259</td>\n",
       "      <td>0.108152</td>\n",
       "      <td>0.217129</td>\n",
       "    </tr>\n",
       "    <tr>\n",
       "      <th>Rusty</th>\n",
       "      <td>0.118818</td>\n",
       "      <td>0.135078</td>\n",
       "      <td>0.152259</td>\n",
       "      <td>1.000000</td>\n",
       "      <td>0.129732</td>\n",
       "      <td>0.126132</td>\n",
       "    </tr>\n",
       "    <tr>\n",
       "      <th>Samantha</th>\n",
       "      <td>0.117878</td>\n",
       "      <td>0.163961</td>\n",
       "      <td>0.108152</td>\n",
       "      <td>0.129732</td>\n",
       "      <td>1.000000</td>\n",
       "      <td>0.116961</td>\n",
       "    </tr>\n",
       "    <tr>\n",
       "      <th>Tom</th>\n",
       "      <td>0.156613</td>\n",
       "      <td>0.135078</td>\n",
       "      <td>0.217129</td>\n",
       "      <td>0.126132</td>\n",
       "      <td>0.116961</td>\n",
       "      <td>1.000000</td>\n",
       "    </tr>\n",
       "  </tbody>\n",
       "</table>\n",
       "</div>"
      ],
      "text/plain": [
       "           Brandon     Emily      Cleo     Rusty  Samantha       Tom\n",
       "Brandon   1.000000  0.131006  0.142857  0.118818  0.117878  0.156613\n",
       "Emily     0.131006  1.000000  0.126132  0.135078  0.163961  0.135078\n",
       "Cleo      0.142857  0.126132  1.000000  0.152259  0.108152  0.217129\n",
       "Rusty     0.118818  0.135078  0.152259  1.000000  0.129732  0.126132\n",
       "Samantha  0.117878  0.163961  0.108152  0.129732  1.000000  0.116961\n",
       "Tom       0.156613  0.135078  0.217129  0.126132  0.116961  1.000000"
      ]
     },
     "execution_count": 74,
     "metadata": {},
     "output_type": "execute_result"
    }
   ],
   "source": [
    "ratings['Tom']=pd.Series(tom)\n",
    "\n",
    "distancias=squareform(pdist(ratings.T, 'euclidean')) \n",
    "\n",
    "similitud=1/(1+distancias)\n",
    "\n",
    "similitudes=pd.DataFrame(similitud, index=ratings.columns, columns=ratings.columns)\n",
    "\n",
    "similitudes"
   ]
  },
  {
   "cell_type": "code",
   "execution_count": 75,
   "metadata": {},
   "outputs": [
    {
     "data": {
      "text/html": [
       "<div>\n",
       "<style scoped>\n",
       "    .dataframe tbody tr th:only-of-type {\n",
       "        vertical-align: middle;\n",
       "    }\n",
       "\n",
       "    .dataframe tbody tr th {\n",
       "        vertical-align: top;\n",
       "    }\n",
       "\n",
       "    .dataframe thead th {\n",
       "        text-align: right;\n",
       "    }\n",
       "</style>\n",
       "<table border=\"1\" class=\"dataframe\">\n",
       "  <thead>\n",
       "    <tr style=\"text-align: right;\">\n",
       "      <th></th>\n",
       "      <th>Brandon</th>\n",
       "      <th>Emily</th>\n",
       "      <th>Cleo</th>\n",
       "      <th>Rusty</th>\n",
       "      <th>Samantha</th>\n",
       "    </tr>\n",
       "    <tr>\n",
       "      <th>Movie</th>\n",
       "      <th></th>\n",
       "      <th></th>\n",
       "      <th></th>\n",
       "      <th></th>\n",
       "      <th></th>\n",
       "    </tr>\n",
       "  </thead>\n",
       "  <tbody>\n",
       "    <tr>\n",
       "      <th>Beauty and the Beast</th>\n",
       "      <td>2</td>\n",
       "      <td>5</td>\n",
       "      <td>2</td>\n",
       "      <td>5</td>\n",
       "      <td>2</td>\n",
       "    </tr>\n",
       "    <tr>\n",
       "      <th>Despicable Me 3</th>\n",
       "      <td>4</td>\n",
       "      <td>5</td>\n",
       "      <td>5</td>\n",
       "      <td>1</td>\n",
       "      <td>2</td>\n",
       "    </tr>\n",
       "    <tr>\n",
       "      <th>Guardians of the Galaxy Vol. 2</th>\n",
       "      <td>4</td>\n",
       "      <td>1</td>\n",
       "      <td>5</td>\n",
       "      <td>4</td>\n",
       "      <td>2</td>\n",
       "    </tr>\n",
       "    <tr>\n",
       "      <th>Jumanji: Welcome to the Jungle</th>\n",
       "      <td>4</td>\n",
       "      <td>3</td>\n",
       "      <td>3</td>\n",
       "      <td>2</td>\n",
       "      <td>5</td>\n",
       "    </tr>\n",
       "    <tr>\n",
       "      <th>Spider-Man: Homecoming</th>\n",
       "      <td>1</td>\n",
       "      <td>3</td>\n",
       "      <td>5</td>\n",
       "      <td>2</td>\n",
       "      <td>5</td>\n",
       "    </tr>\n",
       "    <tr>\n",
       "      <th>Star Wars: The Last Jedi</th>\n",
       "      <td>5</td>\n",
       "      <td>4</td>\n",
       "      <td>1</td>\n",
       "      <td>2</td>\n",
       "      <td>2</td>\n",
       "    </tr>\n",
       "    <tr>\n",
       "      <th>The Fate of the Furious</th>\n",
       "      <td>2</td>\n",
       "      <td>1</td>\n",
       "      <td>3</td>\n",
       "      <td>3</td>\n",
       "      <td>3</td>\n",
       "    </tr>\n",
       "    <tr>\n",
       "      <th>Thor: Ragnarok</th>\n",
       "      <td>4</td>\n",
       "      <td>3</td>\n",
       "      <td>4</td>\n",
       "      <td>1</td>\n",
       "      <td>5</td>\n",
       "    </tr>\n",
       "    <tr>\n",
       "      <th>Wolf Warrior 2</th>\n",
       "      <td>5</td>\n",
       "      <td>3</td>\n",
       "      <td>2</td>\n",
       "      <td>3</td>\n",
       "      <td>4</td>\n",
       "    </tr>\n",
       "    <tr>\n",
       "      <th>Wonder Woman</th>\n",
       "      <td>4</td>\n",
       "      <td>3</td>\n",
       "      <td>4</td>\n",
       "      <td>3</td>\n",
       "      <td>4</td>\n",
       "    </tr>\n",
       "  </tbody>\n",
       "</table>\n",
       "</div>"
      ],
      "text/plain": [
       "                                Brandon  Emily  Cleo  Rusty  Samantha\n",
       "Movie                                                                \n",
       "Beauty and the Beast                  2      5     2      5         2\n",
       "Despicable Me 3                       4      5     5      1         2\n",
       "Guardians of the Galaxy Vol. 2        4      1     5      4         2\n",
       "Jumanji: Welcome to the Jungle        4      3     3      2         5\n",
       "Spider-Man: Homecoming                1      3     5      2         5\n",
       "Star Wars: The Last Jedi              5      4     1      2         2\n",
       "The Fate of the Furious               2      1     3      3         3\n",
       "Thor: Ragnarok                        4      3     4      1         5\n",
       "Wolf Warrior 2                        5      3     2      3         4\n",
       "Wonder Woman                          4      3     4      3         4"
      ]
     },
     "execution_count": 75,
     "metadata": {},
     "output_type": "execute_result"
    }
   ],
   "source": [
    "n_ratings=pd.read_csv('data/movie_ratings2.csv').set_index('Movie')\n",
    "\n",
    "n_ratings"
   ]
  },
  {
   "cell_type": "code",
   "execution_count": 76,
   "metadata": {},
   "outputs": [
    {
     "data": {
      "text/plain": [
       "Cleo        0.217129\n",
       "Brandon     0.156613\n",
       "Emily       0.135078\n",
       "Rusty       0.126132\n",
       "Samantha    0.116961\n",
       "Name: Tom, dtype: float64"
      ]
     },
     "execution_count": 76,
     "metadata": {},
     "output_type": "execute_result"
    }
   ],
   "source": [
    "simil_score=similitudes['Tom'].sort_values(ascending=False)[1:]\n",
    "\n",
    "simil_score"
   ]
  },
  {
   "cell_type": "code",
   "execution_count": 77,
   "metadata": {},
   "outputs": [],
   "source": [
    "reco=n_ratings.copy()"
   ]
  },
  {
   "cell_type": "code",
   "execution_count": 78,
   "metadata": {},
   "outputs": [
    {
     "name": "stdout",
     "output_type": "stream",
     "text": [
      "Cleo 0.21712927295533244\n",
      "Brandon 0.1566130288262323\n",
      "Emily 0.13507810593582123\n",
      "Rusty 0.1261319836228832\n",
      "Samantha 0.11696132920126338\n"
     ]
    }
   ],
   "source": [
    "for n,s in dict(simil_score).items():\n",
    "    print(n,s)\n",
    "    reco[n]=reco[n]*s"
   ]
  },
  {
   "cell_type": "code",
   "execution_count": 80,
   "metadata": {},
   "outputs": [
    {
     "data": {
      "text/html": [
       "<div>\n",
       "<style scoped>\n",
       "    .dataframe tbody tr th:only-of-type {\n",
       "        vertical-align: middle;\n",
       "    }\n",
       "\n",
       "    .dataframe tbody tr th {\n",
       "        vertical-align: top;\n",
       "    }\n",
       "\n",
       "    .dataframe thead th {\n",
       "        text-align: right;\n",
       "    }\n",
       "</style>\n",
       "<table border=\"1\" class=\"dataframe\">\n",
       "  <thead>\n",
       "    <tr style=\"text-align: right;\">\n",
       "      <th></th>\n",
       "      <th>Brandon</th>\n",
       "      <th>Emily</th>\n",
       "      <th>Cleo</th>\n",
       "      <th>Rusty</th>\n",
       "      <th>Samantha</th>\n",
       "      <th>Total</th>\n",
       "    </tr>\n",
       "    <tr>\n",
       "      <th>Movie</th>\n",
       "      <th></th>\n",
       "      <th></th>\n",
       "      <th></th>\n",
       "      <th></th>\n",
       "      <th></th>\n",
       "      <th></th>\n",
       "    </tr>\n",
       "  </thead>\n",
       "  <tbody>\n",
       "    <tr>\n",
       "      <th>Despicable Me 3</th>\n",
       "      <td>0.626452</td>\n",
       "      <td>0.675391</td>\n",
       "      <td>1.085646</td>\n",
       "      <td>0.126132</td>\n",
       "      <td>0.233923</td>\n",
       "      <td>2.747544</td>\n",
       "    </tr>\n",
       "    <tr>\n",
       "      <th>Wonder Woman</th>\n",
       "      <td>0.626452</td>\n",
       "      <td>0.405234</td>\n",
       "      <td>0.868517</td>\n",
       "      <td>0.378396</td>\n",
       "      <td>0.467845</td>\n",
       "      <td>2.746445</td>\n",
       "    </tr>\n",
       "    <tr>\n",
       "      <th>Thor: Ragnarok</th>\n",
       "      <td>0.626452</td>\n",
       "      <td>0.405234</td>\n",
       "      <td>0.868517</td>\n",
       "      <td>0.126132</td>\n",
       "      <td>0.584807</td>\n",
       "      <td>2.611142</td>\n",
       "    </tr>\n",
       "    <tr>\n",
       "      <th>Guardians of the Galaxy Vol. 2</th>\n",
       "      <td>0.626452</td>\n",
       "      <td>0.135078</td>\n",
       "      <td>1.085646</td>\n",
       "      <td>0.504528</td>\n",
       "      <td>0.233923</td>\n",
       "      <td>2.585627</td>\n",
       "    </tr>\n",
       "    <tr>\n",
       "      <th>Jumanji: Welcome to the Jungle</th>\n",
       "      <td>0.626452</td>\n",
       "      <td>0.405234</td>\n",
       "      <td>0.651388</td>\n",
       "      <td>0.252264</td>\n",
       "      <td>0.584807</td>\n",
       "      <td>2.520145</td>\n",
       "    </tr>\n",
       "    <tr>\n",
       "      <th>Spider-Man: Homecoming</th>\n",
       "      <td>0.156613</td>\n",
       "      <td>0.405234</td>\n",
       "      <td>1.085646</td>\n",
       "      <td>0.252264</td>\n",
       "      <td>0.584807</td>\n",
       "      <td>2.484564</td>\n",
       "    </tr>\n",
       "    <tr>\n",
       "      <th>Wolf Warrior 2</th>\n",
       "      <td>0.783065</td>\n",
       "      <td>0.405234</td>\n",
       "      <td>0.434259</td>\n",
       "      <td>0.378396</td>\n",
       "      <td>0.467845</td>\n",
       "      <td>2.468799</td>\n",
       "    </tr>\n",
       "    <tr>\n",
       "      <th>Beauty and the Beast</th>\n",
       "      <td>0.313226</td>\n",
       "      <td>0.675391</td>\n",
       "      <td>0.434259</td>\n",
       "      <td>0.630660</td>\n",
       "      <td>0.233923</td>\n",
       "      <td>2.287458</td>\n",
       "    </tr>\n",
       "    <tr>\n",
       "      <th>Star Wars: The Last Jedi</th>\n",
       "      <td>0.783065</td>\n",
       "      <td>0.540312</td>\n",
       "      <td>0.217129</td>\n",
       "      <td>0.252264</td>\n",
       "      <td>0.233923</td>\n",
       "      <td>2.026693</td>\n",
       "    </tr>\n",
       "    <tr>\n",
       "      <th>The Fate of the Furious</th>\n",
       "      <td>0.313226</td>\n",
       "      <td>0.135078</td>\n",
       "      <td>0.651388</td>\n",
       "      <td>0.378396</td>\n",
       "      <td>0.350884</td>\n",
       "      <td>1.828972</td>\n",
       "    </tr>\n",
       "  </tbody>\n",
       "</table>\n",
       "</div>"
      ],
      "text/plain": [
       "                                 Brandon     Emily      Cleo     Rusty  \\\n",
       "Movie                                                                    \n",
       "Despicable Me 3                 0.626452  0.675391  1.085646  0.126132   \n",
       "Wonder Woman                    0.626452  0.405234  0.868517  0.378396   \n",
       "Thor: Ragnarok                  0.626452  0.405234  0.868517  0.126132   \n",
       "Guardians of the Galaxy Vol. 2  0.626452  0.135078  1.085646  0.504528   \n",
       "Jumanji: Welcome to the Jungle  0.626452  0.405234  0.651388  0.252264   \n",
       "Spider-Man: Homecoming          0.156613  0.405234  1.085646  0.252264   \n",
       "Wolf Warrior 2                  0.783065  0.405234  0.434259  0.378396   \n",
       "Beauty and the Beast            0.313226  0.675391  0.434259  0.630660   \n",
       "Star Wars: The Last Jedi        0.783065  0.540312  0.217129  0.252264   \n",
       "The Fate of the Furious         0.313226  0.135078  0.651388  0.378396   \n",
       "\n",
       "                                Samantha     Total  \n",
       "Movie                                               \n",
       "Despicable Me 3                 0.233923  2.747544  \n",
       "Wonder Woman                    0.467845  2.746445  \n",
       "Thor: Ragnarok                  0.584807  2.611142  \n",
       "Guardians of the Galaxy Vol. 2  0.233923  2.585627  \n",
       "Jumanji: Welcome to the Jungle  0.584807  2.520145  \n",
       "Spider-Man: Homecoming          0.584807  2.484564  \n",
       "Wolf Warrior 2                  0.467845  2.468799  \n",
       "Beauty and the Beast            0.233923  2.287458  \n",
       "Star Wars: The Last Jedi        0.233923  2.026693  \n",
       "The Fate of the Furious         0.350884  1.828972  "
      ]
     },
     "execution_count": 80,
     "metadata": {},
     "output_type": "execute_result"
    }
   ],
   "source": [
    "reco['Total']=reco.sum(axis=1)\n",
    "reco.sort_values('Total', ascending=False)"
   ]
  },
  {
   "cell_type": "code",
   "execution_count": 81,
   "metadata": {},
   "outputs": [
    {
     "data": {
      "text/html": [
       "<div>\n",
       "<style scoped>\n",
       "    .dataframe tbody tr th:only-of-type {\n",
       "        vertical-align: middle;\n",
       "    }\n",
       "\n",
       "    .dataframe tbody tr th {\n",
       "        vertical-align: top;\n",
       "    }\n",
       "\n",
       "    .dataframe thead th {\n",
       "        text-align: right;\n",
       "    }\n",
       "</style>\n",
       "<table border=\"1\" class=\"dataframe\">\n",
       "  <thead>\n",
       "    <tr style=\"text-align: right;\">\n",
       "      <th></th>\n",
       "      <th>Brandon</th>\n",
       "      <th>Emily</th>\n",
       "      <th>Cleo</th>\n",
       "      <th>Rusty</th>\n",
       "      <th>Samantha</th>\n",
       "      <th>Total</th>\n",
       "    </tr>\n",
       "    <tr>\n",
       "      <th>Movie</th>\n",
       "      <th></th>\n",
       "      <th></th>\n",
       "      <th></th>\n",
       "      <th></th>\n",
       "      <th></th>\n",
       "      <th></th>\n",
       "    </tr>\n",
       "  </thead>\n",
       "  <tbody>\n",
       "    <tr>\n",
       "      <th>Wonder Woman</th>\n",
       "      <td>3.615951</td>\n",
       "      <td>2.511274</td>\n",
       "      <td>3.809728</td>\n",
       "      <td>2.532334</td>\n",
       "      <td>3.168375</td>\n",
       "      <td>15.637662</td>\n",
       "    </tr>\n",
       "    <tr>\n",
       "      <th>Despicable Me 3</th>\n",
       "      <td>3.615951</td>\n",
       "      <td>4.185457</td>\n",
       "      <td>4.762161</td>\n",
       "      <td>0.844111</td>\n",
       "      <td>1.584187</td>\n",
       "      <td>14.991867</td>\n",
       "    </tr>\n",
       "    <tr>\n",
       "      <th>Thor: Ragnarok</th>\n",
       "      <td>3.615951</td>\n",
       "      <td>2.511274</td>\n",
       "      <td>3.809728</td>\n",
       "      <td>0.844111</td>\n",
       "      <td>3.960468</td>\n",
       "      <td>14.741533</td>\n",
       "    </tr>\n",
       "    <tr>\n",
       "      <th>Wolf Warrior 2</th>\n",
       "      <td>4.519939</td>\n",
       "      <td>2.511274</td>\n",
       "      <td>1.904864</td>\n",
       "      <td>2.532334</td>\n",
       "      <td>3.168375</td>\n",
       "      <td>14.636786</td>\n",
       "    </tr>\n",
       "    <tr>\n",
       "      <th>Jumanji: Welcome to the Jungle</th>\n",
       "      <td>3.615951</td>\n",
       "      <td>2.511274</td>\n",
       "      <td>2.857296</td>\n",
       "      <td>1.688222</td>\n",
       "      <td>3.960468</td>\n",
       "      <td>14.633212</td>\n",
       "    </tr>\n",
       "    <tr>\n",
       "      <th>Guardians of the Galaxy Vol. 2</th>\n",
       "      <td>3.615951</td>\n",
       "      <td>0.837091</td>\n",
       "      <td>4.762161</td>\n",
       "      <td>3.376445</td>\n",
       "      <td>1.584187</td>\n",
       "      <td>14.175835</td>\n",
       "    </tr>\n",
       "    <tr>\n",
       "      <th>Spider-Man: Homecoming</th>\n",
       "      <td>0.903988</td>\n",
       "      <td>2.511274</td>\n",
       "      <td>4.762161</td>\n",
       "      <td>1.688222</td>\n",
       "      <td>3.960468</td>\n",
       "      <td>13.826113</td>\n",
       "    </tr>\n",
       "    <tr>\n",
       "      <th>Beauty and the Beast</th>\n",
       "      <td>1.807976</td>\n",
       "      <td>4.185457</td>\n",
       "      <td>1.904864</td>\n",
       "      <td>4.220556</td>\n",
       "      <td>1.584187</td>\n",
       "      <td>13.703040</td>\n",
       "    </tr>\n",
       "    <tr>\n",
       "      <th>Star Wars: The Last Jedi</th>\n",
       "      <td>4.519939</td>\n",
       "      <td>3.348365</td>\n",
       "      <td>0.952432</td>\n",
       "      <td>1.688222</td>\n",
       "      <td>1.584187</td>\n",
       "      <td>12.093146</td>\n",
       "    </tr>\n",
       "    <tr>\n",
       "      <th>The Fate of the Furious</th>\n",
       "      <td>1.807976</td>\n",
       "      <td>0.837091</td>\n",
       "      <td>2.857296</td>\n",
       "      <td>2.532334</td>\n",
       "      <td>2.376281</td>\n",
       "      <td>10.410978</td>\n",
       "    </tr>\n",
       "  </tbody>\n",
       "</table>\n",
       "</div>"
      ],
      "text/plain": [
       "                                 Brandon     Emily      Cleo     Rusty  \\\n",
       "Movie                                                                    \n",
       "Wonder Woman                    3.615951  2.511274  3.809728  2.532334   \n",
       "Despicable Me 3                 3.615951  4.185457  4.762161  0.844111   \n",
       "Thor: Ragnarok                  3.615951  2.511274  3.809728  0.844111   \n",
       "Wolf Warrior 2                  4.519939  2.511274  1.904864  2.532334   \n",
       "Jumanji: Welcome to the Jungle  3.615951  2.511274  2.857296  1.688222   \n",
       "Guardians of the Galaxy Vol. 2  3.615951  0.837091  4.762161  3.376445   \n",
       "Spider-Man: Homecoming          0.903988  2.511274  4.762161  1.688222   \n",
       "Beauty and the Beast            1.807976  4.185457  1.904864  4.220556   \n",
       "Star Wars: The Last Jedi        4.519939  3.348365  0.952432  1.688222   \n",
       "The Fate of the Furious         1.807976  0.837091  2.857296  2.532334   \n",
       "\n",
       "                                Samantha      Total  \n",
       "Movie                                                \n",
       "Wonder Woman                    3.168375  15.637662  \n",
       "Despicable Me 3                 1.584187  14.991867  \n",
       "Thor: Ragnarok                  3.960468  14.741533  \n",
       "Wolf Warrior 2                  3.168375  14.636786  \n",
       "Jumanji: Welcome to the Jungle  3.960468  14.633212  \n",
       "Guardians of the Galaxy Vol. 2  1.584187  14.175835  \n",
       "Spider-Man: Homecoming          3.960468  13.826113  \n",
       "Beauty and the Beast            1.584187  13.703040  \n",
       "Star Wars: The Last Jedi        1.584187  12.093146  \n",
       "The Fate of the Furious         2.376281  10.410978  "
      ]
     },
     "execution_count": 81,
     "metadata": {},
     "output_type": "execute_result"
    }
   ],
   "source": [
    "# con otra metrica\n",
    "\n",
    "distancias=squareform(pdist(ratings.T, 'cosine')) \n",
    "\n",
    "similitud=1/(1+distancias)\n",
    "\n",
    "similitudes=pd.DataFrame(similitud, index=ratings.columns, columns=ratings.columns)\n",
    "\n",
    "simil_score=similitudes['Tom'].sort_values(ascending=False)[1:]\n",
    "\n",
    "reco=n_ratings.copy()\n",
    "\n",
    "for n,s in dict(simil_score).items():\n",
    "    reco[n]=reco[n]*s\n",
    "    \n",
    "reco['Total']=reco.sum(axis=1)\n",
    "reco.sort_values('Total', ascending=False)"
   ]
  },
  {
   "cell_type": "code",
   "execution_count": 82,
   "metadata": {},
   "outputs": [
    {
     "data": {
      "text/html": [
       "<div>\n",
       "<style scoped>\n",
       "    .dataframe tbody tr th:only-of-type {\n",
       "        vertical-align: middle;\n",
       "    }\n",
       "\n",
       "    .dataframe tbody tr th {\n",
       "        vertical-align: top;\n",
       "    }\n",
       "\n",
       "    .dataframe thead th {\n",
       "        text-align: right;\n",
       "    }\n",
       "</style>\n",
       "<table border=\"1\" class=\"dataframe\">\n",
       "  <thead>\n",
       "    <tr style=\"text-align: right;\">\n",
       "      <th></th>\n",
       "      <th>Brandon</th>\n",
       "      <th>Emily</th>\n",
       "      <th>Cleo</th>\n",
       "      <th>Rusty</th>\n",
       "      <th>Samantha</th>\n",
       "      <th>Total</th>\n",
       "    </tr>\n",
       "    <tr>\n",
       "      <th>Movie</th>\n",
       "      <th></th>\n",
       "      <th></th>\n",
       "      <th></th>\n",
       "      <th></th>\n",
       "      <th></th>\n",
       "      <th></th>\n",
       "    </tr>\n",
       "  </thead>\n",
       "  <tbody>\n",
       "    <tr>\n",
       "      <th>Wonder Woman</th>\n",
       "      <td>0.2500</td>\n",
       "      <td>0.166667</td>\n",
       "      <td>0.4</td>\n",
       "      <td>0.176471</td>\n",
       "      <td>0.20</td>\n",
       "      <td>1.193137</td>\n",
       "    </tr>\n",
       "    <tr>\n",
       "      <th>Despicable Me 3</th>\n",
       "      <td>0.2500</td>\n",
       "      <td>0.277778</td>\n",
       "      <td>0.5</td>\n",
       "      <td>0.058824</td>\n",
       "      <td>0.10</td>\n",
       "      <td>1.186601</td>\n",
       "    </tr>\n",
       "    <tr>\n",
       "      <th>Guardians of the Galaxy Vol. 2</th>\n",
       "      <td>0.2500</td>\n",
       "      <td>0.055556</td>\n",
       "      <td>0.5</td>\n",
       "      <td>0.235294</td>\n",
       "      <td>0.10</td>\n",
       "      <td>1.140850</td>\n",
       "    </tr>\n",
       "    <tr>\n",
       "      <th>Thor: Ragnarok</th>\n",
       "      <td>0.2500</td>\n",
       "      <td>0.166667</td>\n",
       "      <td>0.4</td>\n",
       "      <td>0.058824</td>\n",
       "      <td>0.25</td>\n",
       "      <td>1.125490</td>\n",
       "    </tr>\n",
       "    <tr>\n",
       "      <th>Spider-Man: Homecoming</th>\n",
       "      <td>0.0625</td>\n",
       "      <td>0.166667</td>\n",
       "      <td>0.5</td>\n",
       "      <td>0.117647</td>\n",
       "      <td>0.25</td>\n",
       "      <td>1.096814</td>\n",
       "    </tr>\n",
       "    <tr>\n",
       "      <th>Jumanji: Welcome to the Jungle</th>\n",
       "      <td>0.2500</td>\n",
       "      <td>0.166667</td>\n",
       "      <td>0.3</td>\n",
       "      <td>0.117647</td>\n",
       "      <td>0.25</td>\n",
       "      <td>1.084314</td>\n",
       "    </tr>\n",
       "    <tr>\n",
       "      <th>Wolf Warrior 2</th>\n",
       "      <td>0.3125</td>\n",
       "      <td>0.166667</td>\n",
       "      <td>0.2</td>\n",
       "      <td>0.176471</td>\n",
       "      <td>0.20</td>\n",
       "      <td>1.055637</td>\n",
       "    </tr>\n",
       "    <tr>\n",
       "      <th>Beauty and the Beast</th>\n",
       "      <td>0.1250</td>\n",
       "      <td>0.277778</td>\n",
       "      <td>0.2</td>\n",
       "      <td>0.294118</td>\n",
       "      <td>0.10</td>\n",
       "      <td>0.996895</td>\n",
       "    </tr>\n",
       "    <tr>\n",
       "      <th>Star Wars: The Last Jedi</th>\n",
       "      <td>0.3125</td>\n",
       "      <td>0.222222</td>\n",
       "      <td>0.1</td>\n",
       "      <td>0.117647</td>\n",
       "      <td>0.10</td>\n",
       "      <td>0.852369</td>\n",
       "    </tr>\n",
       "    <tr>\n",
       "      <th>The Fate of the Furious</th>\n",
       "      <td>0.1250</td>\n",
       "      <td>0.055556</td>\n",
       "      <td>0.3</td>\n",
       "      <td>0.176471</td>\n",
       "      <td>0.15</td>\n",
       "      <td>0.807026</td>\n",
       "    </tr>\n",
       "  </tbody>\n",
       "</table>\n",
       "</div>"
      ],
      "text/plain": [
       "                                Brandon     Emily  Cleo     Rusty  Samantha  \\\n",
       "Movie                                                                         \n",
       "Wonder Woman                     0.2500  0.166667   0.4  0.176471      0.20   \n",
       "Despicable Me 3                  0.2500  0.277778   0.5  0.058824      0.10   \n",
       "Guardians of the Galaxy Vol. 2   0.2500  0.055556   0.5  0.235294      0.10   \n",
       "Thor: Ragnarok                   0.2500  0.166667   0.4  0.058824      0.25   \n",
       "Spider-Man: Homecoming           0.0625  0.166667   0.5  0.117647      0.25   \n",
       "Jumanji: Welcome to the Jungle   0.2500  0.166667   0.3  0.117647      0.25   \n",
       "Wolf Warrior 2                   0.3125  0.166667   0.2  0.176471      0.20   \n",
       "Beauty and the Beast             0.1250  0.277778   0.2  0.294118      0.10   \n",
       "Star Wars: The Last Jedi         0.3125  0.222222   0.1  0.117647      0.10   \n",
       "The Fate of the Furious          0.1250  0.055556   0.3  0.176471      0.15   \n",
       "\n",
       "                                   Total  \n",
       "Movie                                     \n",
       "Wonder Woman                    1.193137  \n",
       "Despicable Me 3                 1.186601  \n",
       "Guardians of the Galaxy Vol. 2  1.140850  \n",
       "Thor: Ragnarok                  1.125490  \n",
       "Spider-Man: Homecoming          1.096814  \n",
       "Jumanji: Welcome to the Jungle  1.084314  \n",
       "Wolf Warrior 2                  1.055637  \n",
       "Beauty and the Beast            0.996895  \n",
       "Star Wars: The Last Jedi        0.852369  \n",
       "The Fate of the Furious         0.807026  "
      ]
     },
     "execution_count": 82,
     "metadata": {},
     "output_type": "execute_result"
    }
   ],
   "source": [
    "distancias=squareform(pdist(ratings.T, 'cityblock')) \n",
    "\n",
    "similitud=1/(1+distancias)\n",
    "\n",
    "similitudes=pd.DataFrame(similitud, index=ratings.columns, columns=ratings.columns)\n",
    "\n",
    "simil_score=similitudes['Tom'].sort_values(ascending=False)[1:]\n",
    "\n",
    "reco=n_ratings.copy()\n",
    "\n",
    "for n,s in dict(simil_score).items():\n",
    "    reco[n]=reco[n]*s\n",
    "    \n",
    "reco['Total']=reco.sum(axis=1)\n",
    "reco.sort_values('Total', ascending=False)"
   ]
  },
  {
   "cell_type": "code",
   "execution_count": 83,
   "metadata": {},
   "outputs": [
    {
     "data": {
      "text/html": [
       "<div>\n",
       "<style scoped>\n",
       "    .dataframe tbody tr th:only-of-type {\n",
       "        vertical-align: middle;\n",
       "    }\n",
       "\n",
       "    .dataframe tbody tr th {\n",
       "        vertical-align: top;\n",
       "    }\n",
       "\n",
       "    .dataframe thead th {\n",
       "        text-align: right;\n",
       "    }\n",
       "</style>\n",
       "<table border=\"1\" class=\"dataframe\">\n",
       "  <thead>\n",
       "    <tr style=\"text-align: right;\">\n",
       "      <th></th>\n",
       "      <th>Brandon</th>\n",
       "      <th>Emily</th>\n",
       "      <th>Cleo</th>\n",
       "      <th>Rusty</th>\n",
       "      <th>Samantha</th>\n",
       "      <th>Total</th>\n",
       "    </tr>\n",
       "    <tr>\n",
       "      <th>Movie</th>\n",
       "      <th></th>\n",
       "      <th></th>\n",
       "      <th></th>\n",
       "      <th></th>\n",
       "      <th></th>\n",
       "      <th></th>\n",
       "    </tr>\n",
       "  </thead>\n",
       "  <tbody>\n",
       "    <tr>\n",
       "      <th>Wonder Woman</th>\n",
       "      <td>1.171548</td>\n",
       "      <td>0.766423</td>\n",
       "      <td>1.495549</td>\n",
       "      <td>0.865583</td>\n",
       "      <td>0.943997</td>\n",
       "      <td>5.243100</td>\n",
       "    </tr>\n",
       "    <tr>\n",
       "      <th>Despicable Me 3</th>\n",
       "      <td>1.171548</td>\n",
       "      <td>1.277372</td>\n",
       "      <td>1.869436</td>\n",
       "      <td>0.288528</td>\n",
       "      <td>0.471999</td>\n",
       "      <td>5.078883</td>\n",
       "    </tr>\n",
       "    <tr>\n",
       "      <th>Guardians of the Galaxy Vol. 2</th>\n",
       "      <td>1.171548</td>\n",
       "      <td>0.255474</td>\n",
       "      <td>1.869436</td>\n",
       "      <td>1.154110</td>\n",
       "      <td>0.471999</td>\n",
       "      <td>4.922568</td>\n",
       "    </tr>\n",
       "    <tr>\n",
       "      <th>Thor: Ragnarok</th>\n",
       "      <td>1.171548</td>\n",
       "      <td>0.766423</td>\n",
       "      <td>1.495549</td>\n",
       "      <td>0.288528</td>\n",
       "      <td>1.179996</td>\n",
       "      <td>4.902044</td>\n",
       "    </tr>\n",
       "    <tr>\n",
       "      <th>Jumanji: Welcome to the Jungle</th>\n",
       "      <td>1.171548</td>\n",
       "      <td>0.766423</td>\n",
       "      <td>1.121662</td>\n",
       "      <td>0.577055</td>\n",
       "      <td>1.179996</td>\n",
       "      <td>4.816685</td>\n",
       "    </tr>\n",
       "    <tr>\n",
       "      <th>Wolf Warrior 2</th>\n",
       "      <td>1.464435</td>\n",
       "      <td>0.766423</td>\n",
       "      <td>0.747774</td>\n",
       "      <td>0.865583</td>\n",
       "      <td>0.943997</td>\n",
       "      <td>4.788213</td>\n",
       "    </tr>\n",
       "    <tr>\n",
       "      <th>Spider-Man: Homecoming</th>\n",
       "      <td>0.292887</td>\n",
       "      <td>0.766423</td>\n",
       "      <td>1.869436</td>\n",
       "      <td>0.577055</td>\n",
       "      <td>1.179996</td>\n",
       "      <td>4.685798</td>\n",
       "    </tr>\n",
       "    <tr>\n",
       "      <th>Beauty and the Beast</th>\n",
       "      <td>0.585774</td>\n",
       "      <td>1.277372</td>\n",
       "      <td>0.747774</td>\n",
       "      <td>1.442638</td>\n",
       "      <td>0.471999</td>\n",
       "      <td>4.525557</td>\n",
       "    </tr>\n",
       "    <tr>\n",
       "      <th>Star Wars: The Last Jedi</th>\n",
       "      <td>1.464435</td>\n",
       "      <td>1.021898</td>\n",
       "      <td>0.373887</td>\n",
       "      <td>0.577055</td>\n",
       "      <td>0.471999</td>\n",
       "      <td>3.909274</td>\n",
       "    </tr>\n",
       "    <tr>\n",
       "      <th>The Fate of the Furious</th>\n",
       "      <td>0.585774</td>\n",
       "      <td>0.255474</td>\n",
       "      <td>1.121662</td>\n",
       "      <td>0.865583</td>\n",
       "      <td>0.707998</td>\n",
       "      <td>3.536491</td>\n",
       "    </tr>\n",
       "  </tbody>\n",
       "</table>\n",
       "</div>"
      ],
      "text/plain": [
       "                                 Brandon     Emily      Cleo     Rusty  \\\n",
       "Movie                                                                    \n",
       "Wonder Woman                    1.171548  0.766423  1.495549  0.865583   \n",
       "Despicable Me 3                 1.171548  1.277372  1.869436  0.288528   \n",
       "Guardians of the Galaxy Vol. 2  1.171548  0.255474  1.869436  1.154110   \n",
       "Thor: Ragnarok                  1.171548  0.766423  1.495549  0.288528   \n",
       "Jumanji: Welcome to the Jungle  1.171548  0.766423  1.121662  0.577055   \n",
       "Wolf Warrior 2                  1.464435  0.766423  0.747774  0.865583   \n",
       "Spider-Man: Homecoming          0.292887  0.766423  1.869436  0.577055   \n",
       "Beauty and the Beast            0.585774  1.277372  0.747774  1.442638   \n",
       "Star Wars: The Last Jedi        1.464435  1.021898  0.373887  0.577055   \n",
       "The Fate of the Furious         0.585774  0.255474  1.121662  0.865583   \n",
       "\n",
       "                                Samantha     Total  \n",
       "Movie                                               \n",
       "Wonder Woman                    0.943997  5.243100  \n",
       "Despicable Me 3                 0.471999  5.078883  \n",
       "Guardians of the Galaxy Vol. 2  0.471999  4.922568  \n",
       "Thor: Ragnarok                  1.179996  4.902044  \n",
       "Jumanji: Welcome to the Jungle  1.179996  4.816685  \n",
       "Wolf Warrior 2                  0.943997  4.788213  \n",
       "Spider-Man: Homecoming          1.179996  4.685798  \n",
       "Beauty and the Beast            0.471999  4.525557  \n",
       "Star Wars: The Last Jedi        0.471999  3.909274  \n",
       "The Fate of the Furious         0.707998  3.536491  "
      ]
     },
     "execution_count": 83,
     "metadata": {},
     "output_type": "execute_result"
    }
   ],
   "source": [
    "distancias=squareform(pdist(ratings.T, 'canberra')) \n",
    "\n",
    "similitud=1/(1+distancias)\n",
    "\n",
    "similitudes=pd.DataFrame(similitud, index=ratings.columns, columns=ratings.columns)\n",
    "\n",
    "simil_score=similitudes['Tom'].sort_values(ascending=False)[1:]\n",
    "\n",
    "reco=n_ratings.copy()\n",
    "\n",
    "for n,s in dict(simil_score).items():\n",
    "    reco[n]=reco[n]*s\n",
    "    \n",
    "reco['Total']=reco.sum(axis=1)\n",
    "reco.sort_values('Total', ascending=False)"
   ]
  },
  {
   "cell_type": "code",
   "execution_count": 84,
   "metadata": {},
   "outputs": [
    {
     "data": {
      "text/html": [
       "<div>\n",
       "<style scoped>\n",
       "    .dataframe tbody tr th:only-of-type {\n",
       "        vertical-align: middle;\n",
       "    }\n",
       "\n",
       "    .dataframe tbody tr th {\n",
       "        vertical-align: top;\n",
       "    }\n",
       "\n",
       "    .dataframe thead th {\n",
       "        text-align: right;\n",
       "    }\n",
       "</style>\n",
       "<table border=\"1\" class=\"dataframe\">\n",
       "  <thead>\n",
       "    <tr style=\"text-align: right;\">\n",
       "      <th></th>\n",
       "      <th>Brandon</th>\n",
       "      <th>Emily</th>\n",
       "      <th>Cleo</th>\n",
       "      <th>Rusty</th>\n",
       "      <th>Samantha</th>\n",
       "      <th>Total</th>\n",
       "    </tr>\n",
       "    <tr>\n",
       "      <th>Movie</th>\n",
       "      <th></th>\n",
       "      <th></th>\n",
       "      <th></th>\n",
       "      <th></th>\n",
       "      <th></th>\n",
       "      <th></th>\n",
       "    </tr>\n",
       "  </thead>\n",
       "  <tbody>\n",
       "    <tr>\n",
       "      <th>Wonder Woman</th>\n",
       "      <td>2.105263</td>\n",
       "      <td>1.578947</td>\n",
       "      <td>2.352941</td>\n",
       "      <td>1.764706</td>\n",
       "      <td>2.105263</td>\n",
       "      <td>9.907121</td>\n",
       "    </tr>\n",
       "    <tr>\n",
       "      <th>Despicable Me 3</th>\n",
       "      <td>2.105263</td>\n",
       "      <td>2.631579</td>\n",
       "      <td>2.941176</td>\n",
       "      <td>0.588235</td>\n",
       "      <td>1.052632</td>\n",
       "      <td>9.318885</td>\n",
       "    </tr>\n",
       "    <tr>\n",
       "      <th>Jumanji: Welcome to the Jungle</th>\n",
       "      <td>2.105263</td>\n",
       "      <td>1.578947</td>\n",
       "      <td>1.764706</td>\n",
       "      <td>1.176471</td>\n",
       "      <td>2.631579</td>\n",
       "      <td>9.256966</td>\n",
       "    </tr>\n",
       "    <tr>\n",
       "      <th>Thor: Ragnarok</th>\n",
       "      <td>2.105263</td>\n",
       "      <td>1.578947</td>\n",
       "      <td>2.352941</td>\n",
       "      <td>0.588235</td>\n",
       "      <td>2.631579</td>\n",
       "      <td>9.256966</td>\n",
       "    </tr>\n",
       "    <tr>\n",
       "      <th>Wolf Warrior 2</th>\n",
       "      <td>2.631579</td>\n",
       "      <td>1.578947</td>\n",
       "      <td>1.176471</td>\n",
       "      <td>1.764706</td>\n",
       "      <td>2.105263</td>\n",
       "      <td>9.256966</td>\n",
       "    </tr>\n",
       "    <tr>\n",
       "      <th>Guardians of the Galaxy Vol. 2</th>\n",
       "      <td>2.105263</td>\n",
       "      <td>0.526316</td>\n",
       "      <td>2.941176</td>\n",
       "      <td>2.352941</td>\n",
       "      <td>1.052632</td>\n",
       "      <td>8.978328</td>\n",
       "    </tr>\n",
       "    <tr>\n",
       "      <th>Beauty and the Beast</th>\n",
       "      <td>1.052632</td>\n",
       "      <td>2.631579</td>\n",
       "      <td>1.176471</td>\n",
       "      <td>2.941176</td>\n",
       "      <td>1.052632</td>\n",
       "      <td>8.854489</td>\n",
       "    </tr>\n",
       "    <tr>\n",
       "      <th>Spider-Man: Homecoming</th>\n",
       "      <td>0.526316</td>\n",
       "      <td>1.578947</td>\n",
       "      <td>2.941176</td>\n",
       "      <td>1.176471</td>\n",
       "      <td>2.631579</td>\n",
       "      <td>8.854489</td>\n",
       "    </tr>\n",
       "    <tr>\n",
       "      <th>Star Wars: The Last Jedi</th>\n",
       "      <td>2.631579</td>\n",
       "      <td>2.105263</td>\n",
       "      <td>0.588235</td>\n",
       "      <td>1.176471</td>\n",
       "      <td>1.052632</td>\n",
       "      <td>7.554180</td>\n",
       "    </tr>\n",
       "    <tr>\n",
       "      <th>The Fate of the Furious</th>\n",
       "      <td>1.052632</td>\n",
       "      <td>0.526316</td>\n",
       "      <td>1.764706</td>\n",
       "      <td>1.764706</td>\n",
       "      <td>1.578947</td>\n",
       "      <td>6.687307</td>\n",
       "    </tr>\n",
       "  </tbody>\n",
       "</table>\n",
       "</div>"
      ],
      "text/plain": [
       "                                 Brandon     Emily      Cleo     Rusty  \\\n",
       "Movie                                                                    \n",
       "Wonder Woman                    2.105263  1.578947  2.352941  1.764706   \n",
       "Despicable Me 3                 2.105263  2.631579  2.941176  0.588235   \n",
       "Jumanji: Welcome to the Jungle  2.105263  1.578947  1.764706  1.176471   \n",
       "Thor: Ragnarok                  2.105263  1.578947  2.352941  0.588235   \n",
       "Wolf Warrior 2                  2.631579  1.578947  1.176471  1.764706   \n",
       "Guardians of the Galaxy Vol. 2  2.105263  0.526316  2.941176  2.352941   \n",
       "Beauty and the Beast            1.052632  2.631579  1.176471  2.941176   \n",
       "Spider-Man: Homecoming          0.526316  1.578947  2.941176  1.176471   \n",
       "Star Wars: The Last Jedi        2.631579  2.105263  0.588235  1.176471   \n",
       "The Fate of the Furious         1.052632  0.526316  1.764706  1.764706   \n",
       "\n",
       "                                Samantha     Total  \n",
       "Movie                                               \n",
       "Wonder Woman                    2.105263  9.907121  \n",
       "Despicable Me 3                 1.052632  9.318885  \n",
       "Jumanji: Welcome to the Jungle  2.631579  9.256966  \n",
       "Thor: Ragnarok                  2.631579  9.256966  \n",
       "Wolf Warrior 2                  2.105263  9.256966  \n",
       "Guardians of the Galaxy Vol. 2  1.052632  8.978328  \n",
       "Beauty and the Beast            1.052632  8.854489  \n",
       "Spider-Man: Homecoming          2.631579  8.854489  \n",
       "Star Wars: The Last Jedi        1.052632  7.554180  \n",
       "The Fate of the Furious         1.578947  6.687307  "
      ]
     },
     "execution_count": 84,
     "metadata": {},
     "output_type": "execute_result"
    }
   ],
   "source": [
    "distancias=squareform(pdist(ratings.T, 'jaccard')) \n",
    "\n",
    "similitud=1/(1+distancias)\n",
    "\n",
    "similitudes=pd.DataFrame(similitud, index=ratings.columns, columns=ratings.columns)\n",
    "\n",
    "simil_score=similitudes['Tom'].sort_values(ascending=False)[1:]\n",
    "\n",
    "reco=n_ratings.copy()\n",
    "\n",
    "for n,s in dict(simil_score).items():\n",
    "    reco[n]=reco[n]*s\n",
    "    \n",
    "reco['Total']=reco.sum(axis=1)\n",
    "reco.sort_values('Total', ascending=False)"
   ]
  },
  {
   "cell_type": "code",
   "execution_count": null,
   "metadata": {},
   "outputs": [],
   "source": []
  }
 ],
 "metadata": {
  "kernelspec": {
   "display_name": "Python 3",
   "language": "python",
   "name": "python3"
  },
  "language_info": {
   "codemirror_mode": {
    "name": "ipython",
    "version": 3
   },
   "file_extension": ".py",
   "mimetype": "text/x-python",
   "name": "python",
   "nbconvert_exporter": "python",
   "pygments_lexer": "ipython3",
   "version": "3.7.4"
  }
 },
 "nbformat": 4,
 "nbformat_minor": 4
}
