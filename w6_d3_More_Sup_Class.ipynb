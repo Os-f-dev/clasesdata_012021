{
 "cells": [
  {
   "cell_type": "code",
   "execution_count": 1,
   "metadata": {},
   "outputs": [],
   "source": [
    "import pandas as pd\n",
    "import numpy as np\n",
    "import sklearn\n",
    "import matplotlib.pyplot as plt"
   ]
  },
  {
   "cell_type": "code",
   "execution_count": 3,
   "metadata": {},
   "outputs": [],
   "source": [
    "from sklearn.datasets import load_iris\n",
    "from sklearn.linear_model import LogisticRegression"
   ]
  },
  {
   "cell_type": "code",
   "execution_count": 4,
   "metadata": {},
   "outputs": [],
   "source": [
    "X, y = load_iris(return_X_y=True)"
   ]
  },
  {
   "cell_type": "code",
   "execution_count": 5,
   "metadata": {},
   "outputs": [],
   "source": [
    "from sklearn.model_selection import train_test_split as tts"
   ]
  },
  {
   "cell_type": "code",
   "execution_count": 17,
   "metadata": {},
   "outputs": [],
   "source": [
    "X_train, x_test, Y_train, y_test  = tts(X,y, test_size = 0.15)"
   ]
  },
  {
   "cell_type": "code",
   "execution_count": 7,
   "metadata": {},
   "outputs": [
    {
     "name": "stderr",
     "output_type": "stream",
     "text": [
      "C:\\Users\\GralG\\AppData\\Roaming\\Python\\Python37\\site-packages\\sklearn\\linear_model\\_logistic.py:940: ConvergenceWarning: lbfgs failed to converge (status=1):\n",
      "STOP: TOTAL NO. of ITERATIONS REACHED LIMIT.\n",
      "\n",
      "Increase the number of iterations (max_iter) or scale the data as shown in:\n",
      "    https://scikit-learn.org/stable/modules/preprocessing.html\n",
      "Please also refer to the documentation for alternative solver options:\n",
      "    https://scikit-learn.org/stable/modules/linear_model.html#logistic-regression\n",
      "  extra_warning_msg=_LOGISTIC_SOLVER_CONVERGENCE_MSG)\n"
     ]
    },
    {
     "data": {
      "text/plain": [
       "LogisticRegression(C=1.0, class_weight=None, dual=False, fit_intercept=True,\n",
       "                   intercept_scaling=1, l1_ratio=None, max_iter=100,\n",
       "                   multi_class='auto', n_jobs=None, penalty='l2',\n",
       "                   random_state=None, solver='lbfgs', tol=0.0001, verbose=0,\n",
       "                   warm_start=False)"
      ]
     },
     "execution_count": 7,
     "metadata": {},
     "output_type": "execute_result"
    }
   ],
   "source": [
    "clf = LogisticRegression()\n",
    "clf.fit(X,y)\n"
   ]
  },
  {
   "cell_type": "code",
   "execution_count": 9,
   "metadata": {},
   "outputs": [],
   "source": [
    "y_pred = clf.predict(x_test)"
   ]
  },
  {
   "cell_type": "code",
   "execution_count": 10,
   "metadata": {},
   "outputs": [
    {
     "data": {
      "text/plain": [
       "array([2, 1, 0, 0, 0, 2, 0, 2, 2, 1, 2, 1, 2, 0, 0, 1, 2, 0, 1, 0, 1, 1,\n",
       "       1])"
      ]
     },
     "execution_count": 10,
     "metadata": {},
     "output_type": "execute_result"
    }
   ],
   "source": [
    "y_pred"
   ]
  },
  {
   "cell_type": "code",
   "execution_count": 11,
   "metadata": {},
   "outputs": [],
   "source": [
    "from sklearn.metrics import confusion_matrix"
   ]
  },
  {
   "cell_type": "code",
   "execution_count": 12,
   "metadata": {},
   "outputs": [
    {
     "data": {
      "text/plain": [
       "array([[8, 0, 0],\n",
       "       [0, 8, 0],\n",
       "       [0, 0, 7]], dtype=int64)"
      ]
     },
     "execution_count": 12,
     "metadata": {},
     "output_type": "execute_result"
    }
   ],
   "source": [
    "confusion_matrix(y_test,y_pred)"
   ]
  },
  {
   "cell_type": "markdown",
   "metadata": {},
   "source": [
    "![](data/confu.jpg)"
   ]
  },
  {
   "cell_type": "code",
   "execution_count": null,
   "metadata": {},
   "outputs": [],
   "source": [
    "#aquellos que son positivos en la realidad y en la prediccion son positivos (verdaderos - positivos)\n",
    "#aquellos que son negativos en la realidad y en la prediccion son positivos (falsos - positivos)\n",
    "#aquellos que son positivos en la realidad y en la prediccion son negativos (falsos - negativos)\n",
    "#aquellos que son negativos en la realidad y en la prediccion son negativos (Verdaderos - negativos)"
   ]
  },
  {
   "cell_type": "code",
   "execution_count": 14,
   "metadata": {},
   "outputs": [],
   "source": [
    "from sklearn.tree import DecisionTreeClassifier"
   ]
  },
  {
   "cell_type": "code",
   "execution_count": 15,
   "metadata": {},
   "outputs": [],
   "source": [
    "clf = DecisionTreeClassifier()"
   ]
  },
  {
   "cell_type": "code",
   "execution_count": 18,
   "metadata": {},
   "outputs": [],
   "source": [
    "clf = clf.fit(X_train, Y_train)"
   ]
  },
  {
   "cell_type": "code",
   "execution_count": 19,
   "metadata": {},
   "outputs": [],
   "source": [
    "y_pred = clf.predict(x_test)"
   ]
  },
  {
   "cell_type": "code",
   "execution_count": 20,
   "metadata": {},
   "outputs": [
    {
     "data": {
      "text/plain": [
       "0.9565217391304348"
      ]
     },
     "execution_count": 20,
     "metadata": {},
     "output_type": "execute_result"
    }
   ],
   "source": [
    "clf.score(x_test, y_test)"
   ]
  },
  {
   "cell_type": "code",
   "execution_count": 21,
   "metadata": {},
   "outputs": [
    {
     "data": {
      "text/plain": [
       "array([[6, 0, 0],\n",
       "       [0, 8, 0],\n",
       "       [0, 1, 8]], dtype=int64)"
      ]
     },
     "execution_count": 21,
     "metadata": {},
     "output_type": "execute_result"
    }
   ],
   "source": [
    "confusion_matrix(y_test,y_pred)"
   ]
  },
  {
   "cell_type": "code",
   "execution_count": 28,
   "metadata": {},
   "outputs": [
    {
     "data": {
      "text/plain": [
       "127"
      ]
     },
     "execution_count": 28,
     "metadata": {},
     "output_type": "execute_result"
    }
   ],
   "source": [
    "len(X_train)"
   ]
  },
  {
   "cell_type": "code",
   "execution_count": 29,
   "metadata": {},
   "outputs": [
    {
     "data": {
      "text/plain": [
       "array([[5.8, 2.6, 4. , 1.2],\n",
       "       [6.3, 3.3, 4.7, 1.6],\n",
       "       [5. , 3.4, 1.6, 0.4],\n",
       "       [5.5, 2.4, 3.8, 1.1],\n",
       "       [6.1, 2.8, 4.7, 1.2],\n",
       "       [6.8, 3.2, 5.9, 2.3],\n",
       "       [7.7, 2.8, 6.7, 2. ],\n",
       "       [5.2, 2.7, 3.9, 1.4],\n",
       "       [4.4, 2.9, 1.4, 0.2],\n",
       "       [5.5, 4.2, 1.4, 0.2],\n",
       "       [4.9, 3. , 1.4, 0.2],\n",
       "       [5.8, 2.7, 4.1, 1. ],\n",
       "       [6.5, 3. , 5.8, 2.2],\n",
       "       [7.2, 3.2, 6. , 1.8],\n",
       "       [4.6, 3.1, 1.5, 0.2],\n",
       "       [6.4, 3.2, 4.5, 1.5],\n",
       "       [6.1, 2.6, 5.6, 1.4],\n",
       "       [7. , 3.2, 4.7, 1.4],\n",
       "       [5.9, 3.2, 4.8, 1.8],\n",
       "       [5.4, 3.9, 1.3, 0.4],\n",
       "       [5.6, 2.9, 3.6, 1.3],\n",
       "       [7.1, 3. , 5.9, 2.1],\n",
       "       [6.7, 3. , 5.2, 2.3],\n",
       "       [6.1, 3. , 4.6, 1.4],\n",
       "       [5.4, 3.9, 1.7, 0.4],\n",
       "       [6.9, 3.1, 5.1, 2.3],\n",
       "       [6.7, 3.3, 5.7, 2.5],\n",
       "       [6.3, 2.9, 5.6, 1.8],\n",
       "       [4.8, 3.4, 1.9, 0.2],\n",
       "       [5.1, 2.5, 3. , 1.1],\n",
       "       [5. , 3.4, 1.5, 0.2],\n",
       "       [7.7, 3.8, 6.7, 2.2],\n",
       "       [5.1, 3.5, 1.4, 0.2],\n",
       "       [5.8, 2.7, 5.1, 1.9],\n",
       "       [6.1, 2.9, 4.7, 1.4],\n",
       "       [5. , 3.2, 1.2, 0.2],\n",
       "       [4.8, 3. , 1.4, 0.3],\n",
       "       [6. , 2.9, 4.5, 1.5],\n",
       "       [7.2, 3.6, 6.1, 2.5],\n",
       "       [4.9, 3.1, 1.5, 0.2],\n",
       "       [6.9, 3.1, 4.9, 1.5],\n",
       "       [5. , 3.3, 1.4, 0.2],\n",
       "       [6.5, 3. , 5.2, 2. ],\n",
       "       [6.2, 2.8, 4.8, 1.8],\n",
       "       [5. , 3.5, 1.3, 0.3],\n",
       "       [6.3, 2.5, 4.9, 1.5],\n",
       "       [6.8, 2.8, 4.8, 1.4],\n",
       "       [5.6, 2.5, 3.9, 1.1],\n",
       "       [5.5, 2.3, 4. , 1.3],\n",
       "       [6.7, 3.1, 5.6, 2.4],\n",
       "       [6.5, 3.2, 5.1, 2. ],\n",
       "       [6. , 2.7, 5.1, 1.6],\n",
       "       [5.2, 3.5, 1.5, 0.2],\n",
       "       [7.3, 2.9, 6.3, 1.8],\n",
       "       [5.7, 2.6, 3.5, 1. ],\n",
       "       [7.4, 2.8, 6.1, 1.9],\n",
       "       [5.5, 2.5, 4. , 1.3],\n",
       "       [5.7, 2.5, 5. , 2. ],\n",
       "       [6. , 2.2, 4. , 1. ],\n",
       "       [6.3, 3.4, 5.6, 2.4],\n",
       "       [6.7, 3.3, 5.7, 2.1],\n",
       "       [6.8, 3. , 5.5, 2.1],\n",
       "       [5.5, 3.5, 1.3, 0.2],\n",
       "       [6.2, 3.4, 5.4, 2.3],\n",
       "       [6.4, 2.8, 5.6, 2.2],\n",
       "       [4.6, 3.6, 1. , 0.2],\n",
       "       [5.6, 2.8, 4.9, 2. ],\n",
       "       [4.7, 3.2, 1.3, 0.2],\n",
       "       [5.1, 3.8, 1.6, 0.2],\n",
       "       [5.7, 4.4, 1.5, 0.4],\n",
       "       [5.1, 3.8, 1.5, 0.3],\n",
       "       [5.1, 3.8, 1.9, 0.4],\n",
       "       [4.9, 3.6, 1.4, 0.1],\n",
       "       [6.5, 2.8, 4.6, 1.5],\n",
       "       [5.7, 2.8, 4.1, 1.3],\n",
       "       [5.1, 3.5, 1.4, 0.3],\n",
       "       [5.7, 3. , 4.2, 1.2],\n",
       "       [5.6, 3. , 4.5, 1.5],\n",
       "       [5.8, 2.7, 3.9, 1.2],\n",
       "       [6.3, 2.7, 4.9, 1.8],\n",
       "       [5.4, 3.7, 1.5, 0.2],\n",
       "       [6.5, 3. , 5.5, 1.8],\n",
       "       [7.2, 3. , 5.8, 1.6],\n",
       "       [4.8, 3. , 1.4, 0.1],\n",
       "       [5.4, 3.4, 1.5, 0.4],\n",
       "       [7.7, 2.6, 6.9, 2.3],\n",
       "       [5.8, 2.8, 5.1, 2.4],\n",
       "       [4.3, 3. , 1.1, 0.1],\n",
       "       [4.4, 3.2, 1.3, 0.2],\n",
       "       [5.5, 2.6, 4.4, 1.2],\n",
       "       [4.9, 2.4, 3.3, 1. ],\n",
       "       [5.8, 4. , 1.2, 0.2],\n",
       "       [5. , 3. , 1.6, 0.2],\n",
       "       [5.3, 3.7, 1.5, 0.2],\n",
       "       [4.4, 3. , 1.3, 0.2],\n",
       "       [5. , 2.3, 3.3, 1. ],\n",
       "       [4.8, 3.1, 1.6, 0.2],\n",
       "       [5.9, 3. , 4.2, 1.5],\n",
       "       [5.1, 3.4, 1.5, 0.2],\n",
       "       [6.4, 2.8, 5.6, 2.1],\n",
       "       [4.6, 3.4, 1.4, 0.3],\n",
       "       [6.3, 2.8, 5.1, 1.5],\n",
       "       [5. , 3.6, 1.4, 0.2],\n",
       "       [5.2, 4.1, 1.5, 0.1],\n",
       "       [5. , 3.5, 1.6, 0.6],\n",
       "       [5.4, 3. , 4.5, 1.5],\n",
       "       [4.6, 3.2, 1.4, 0.2],\n",
       "       [6.7, 3.1, 4.7, 1.5],\n",
       "       [6.1, 3. , 4.9, 1.8],\n",
       "       [6.7, 3. , 5. , 1.7],\n",
       "       [6.4, 2.7, 5.3, 1.9],\n",
       "       [5.6, 2.7, 4.2, 1.3],\n",
       "       [7.9, 3.8, 6.4, 2. ],\n",
       "       [5.6, 3. , 4.1, 1.3],\n",
       "       [6. , 3.4, 4.5, 1.6],\n",
       "       [6.3, 2.3, 4.4, 1.3],\n",
       "       [5.7, 2.8, 4.5, 1.3],\n",
       "       [6.7, 2.5, 5.8, 1.8],\n",
       "       [4.9, 2.5, 4.5, 1.7],\n",
       "       [5.5, 2.4, 3.7, 1. ],\n",
       "       [6.9, 3.2, 5.7, 2.3],\n",
       "       [6.6, 3. , 4.4, 1.4],\n",
       "       [4.8, 3.4, 1.6, 0.2],\n",
       "       [6.4, 3.2, 5.3, 2.3],\n",
       "       [5.4, 3.4, 1.7, 0.2],\n",
       "       [5.7, 3.8, 1.7, 0.3],\n",
       "       [6.3, 2.5, 5. , 1.9]])"
      ]
     },
     "execution_count": 29,
     "metadata": {},
     "output_type": "execute_result"
    }
   ],
   "source": [
    "X_train"
   ]
  },
  {
   "cell_type": "code",
   "execution_count": 22,
   "metadata": {},
   "outputs": [],
   "source": [
    "from sklearn.tree import plot_tree"
   ]
  },
  {
   "cell_type": "code",
   "execution_count": 27,
   "metadata": {
    "scrolled": false
   },
   "outputs": [
    {
     "data": {
      "image/png": "[encoded data removed]",
      "text/plain": [
       "<Figure size 720x720 with 1 Axes>"
      ]
     },
     "metadata": {
      "needs_background": "light"
     },
     "output_type": "display_data"
    }
   ],
   "source": [
    "fig, ax = plt.subplots(figsize = (10,10))\n",
    "\n",
    "plot_tree(clf, ax = ax, fontsize=10)\n",
    "plt.show();\n"
   ]
  },
  {
   "cell_type": "markdown",
   "metadata": {},
   "source": [
    "# Gradiente Descendente Estocástico SGD\n",
    "\n",
    "![](data/grad1.png)\n",
    "\n",
    "![](data/grad2.jpg)"
   ]
  },
  {
   "cell_type": "code",
   "execution_count": 30,
   "metadata": {},
   "outputs": [],
   "source": [
    "from sklearn.linear_model import SGDRegressor as SGDR"
   ]
  },
  {
   "cell_type": "code",
   "execution_count": 32,
   "metadata": {},
   "outputs": [],
   "source": [
    "from sklearn import datasets"
   ]
  },
  {
   "cell_type": "code",
   "execution_count": 33,
   "metadata": {},
   "outputs": [],
   "source": [
    "dic = datasets.load_diabetes()"
   ]
  },
  {
   "cell_type": "code",
   "execution_count": 35,
   "metadata": {},
   "outputs": [
    {
     "data": {
      "text/plain": [
       "dict_keys(['data', 'target', 'DESCR', 'feature_names', 'data_filename', 'target_filename'])"
      ]
     },
     "execution_count": 35,
     "metadata": {},
     "output_type": "execute_result"
    }
   ],
   "source": [
    "dic.keys()"
   ]
  },
  {
   "cell_type": "code",
   "execution_count": 36,
   "metadata": {},
   "outputs": [],
   "source": [
    "df_diabetes = dic['data']\n",
    "targets = dic['target']"
   ]
  },
  {
   "cell_type": "code",
   "execution_count": 70,
   "metadata": {},
   "outputs": [
    {
     "data": {
      "text/plain": [
       "array([[ 0.03807591,  0.05068012,  0.06169621, ..., -0.00259226,\n",
       "         0.01990842, -0.01764613],\n",
       "       [-0.00188202, -0.04464164, -0.05147406, ..., -0.03949338,\n",
       "        -0.06832974, -0.09220405],\n",
       "       [ 0.08529891,  0.05068012,  0.04445121, ..., -0.00259226,\n",
       "         0.00286377, -0.02593034],\n",
       "       ...,\n",
       "       [ 0.04170844,  0.05068012, -0.01590626, ..., -0.01107952,\n",
       "        -0.04687948,  0.01549073],\n",
       "       [-0.04547248, -0.04464164,  0.03906215, ...,  0.02655962,\n",
       "         0.04452837, -0.02593034],\n",
       "       [-0.04547248, -0.04464164, -0.0730303 , ..., -0.03949338,\n",
       "        -0.00421986,  0.00306441]])"
      ]
     },
     "execution_count": 70,
     "metadata": {},
     "output_type": "execute_result"
    }
   ],
   "source": [
    "df_diabetes"
   ]
  },
  {
   "cell_type": "code",
   "execution_count": 38,
   "metadata": {
    "scrolled": true
   },
   "outputs": [
    {
     "data": {
      "text/plain": [
       "array([151.,  75., 141., 206., 135.,  97., 138.,  63., 110., 310., 101.,\n",
       "        69., 179., 185., 118., 171., 166., 144.,  97., 168.,  68.,  49.,\n",
       "        68., 245., 184., 202., 137.,  85., 131., 283., 129.,  59., 341.,\n",
       "        87.,  65., 102., 265., 276., 252.,  90., 100.,  55.,  61.,  92.,\n",
       "       259.,  53., 190., 142.,  75., 142., 155., 225.,  59., 104., 182.,\n",
       "       128.,  52.,  37., 170., 170.,  61., 144.,  52., 128.,  71., 163.,\n",
       "       150.,  97., 160., 178.,  48., 270., 202., 111.,  85.,  42., 170.,\n",
       "       200., 252., 113., 143.,  51.,  52., 210.,  65., 141.,  55., 134.,\n",
       "        42., 111.,  98., 164.,  48.,  96.,  90., 162., 150., 279.,  92.,\n",
       "        83., 128., 102., 302., 198.,  95.,  53., 134., 144., 232.,  81.,\n",
       "       104.,  59., 246., 297., 258., 229., 275., 281., 179., 200., 200.,\n",
       "       173., 180.,  84., 121., 161.,  99., 109., 115., 268., 274., 158.,\n",
       "       107.,  83., 103., 272.,  85., 280., 336., 281., 118., 317., 235.,\n",
       "        60., 174., 259., 178., 128.,  96., 126., 288.,  88., 292.,  71.,\n",
       "       197., 186.,  25.,  84.,  96., 195.,  53., 217., 172., 131., 214.,\n",
       "        59.,  70., 220., 268., 152.,  47.,  74., 295., 101., 151., 127.,\n",
       "       237., 225.,  81., 151., 107.,  64., 138., 185., 265., 101., 137.,\n",
       "       143., 141.,  79., 292., 178.,  91., 116.,  86., 122.,  72., 129.,\n",
       "       142.,  90., 158.,  39., 196., 222., 277.,  99., 196., 202., 155.,\n",
       "        77., 191.,  70.,  73.,  49.,  65., 263., 248., 296., 214., 185.,\n",
       "        78.,  93., 252., 150.,  77., 208.,  77., 108., 160.,  53., 220.,\n",
       "       154., 259.,  90., 246., 124.,  67.,  72., 257., 262., 275., 177.,\n",
       "        71.,  47., 187., 125.,  78.,  51., 258., 215., 303., 243.,  91.,\n",
       "       150., 310., 153., 346.,  63.,  89.,  50.,  39., 103., 308., 116.,\n",
       "       145.,  74.,  45., 115., 264.,  87., 202., 127., 182., 241.,  66.,\n",
       "        94., 283.,  64., 102., 200., 265.,  94., 230., 181., 156., 233.,\n",
       "        60., 219.,  80.,  68., 332., 248.,  84., 200.,  55.,  85.,  89.,\n",
       "        31., 129.,  83., 275.,  65., 198., 236., 253., 124.,  44., 172.,\n",
       "       114., 142., 109., 180., 144., 163., 147.,  97., 220., 190., 109.,\n",
       "       191., 122., 230., 242., 248., 249., 192., 131., 237.,  78., 135.,\n",
       "       244., 199., 270., 164.,  72.,  96., 306.,  91., 214.,  95., 216.,\n",
       "       263., 178., 113., 200., 139., 139.,  88., 148.,  88., 243.,  71.,\n",
       "        77., 109., 272.,  60.,  54., 221.,  90., 311., 281., 182., 321.,\n",
       "        58., 262., 206., 233., 242., 123., 167.,  63., 197.,  71., 168.,\n",
       "       140., 217., 121., 235., 245.,  40.,  52., 104., 132.,  88.,  69.,\n",
       "       219.,  72., 201., 110.,  51., 277.,  63., 118.,  69., 273., 258.,\n",
       "        43., 198., 242., 232., 175.,  93., 168., 275., 293., 281.,  72.,\n",
       "       140., 189., 181., 209., 136., 261., 113., 131., 174., 257.,  55.,\n",
       "        84.,  42., 146., 212., 233.,  91., 111., 152., 120.,  67., 310.,\n",
       "        94., 183.,  66., 173.,  72.,  49.,  64.,  48., 178., 104., 132.,\n",
       "       220.,  57.])"
      ]
     },
     "execution_count": 38,
     "metadata": {},
     "output_type": "execute_result"
    }
   ],
   "source": [
    "targets"
   ]
  },
  {
   "cell_type": "code",
   "execution_count": 45,
   "metadata": {},
   "outputs": [],
   "source": [
    "X_train, x_test, Y_train, y_test = tts(df_diabetes, targets)"
   ]
  },
  {
   "cell_type": "code",
   "execution_count": 51,
   "metadata": {},
   "outputs": [],
   "source": [
    "sgdr = SGDR(max_iter= 1000, penalty = 'l2')"
   ]
  },
  {
   "cell_type": "code",
   "execution_count": 52,
   "metadata": {},
   "outputs": [
    {
     "name": "stderr",
     "output_type": "stream",
     "text": [
      "C:\\Users\\GralG\\AppData\\Roaming\\Python\\Python37\\site-packages\\sklearn\\linear_model\\_stochastic_gradient.py:1187: ConvergenceWarning: Maximum number of iteration reached before convergence. Consider increasing max_iter to improve the fit.\n",
      "  ConvergenceWarning)\n"
     ]
    },
    {
     "data": {
      "text/plain": [
       "SGDRegressor(alpha=0.0001, average=False, early_stopping=False, epsilon=0.1,\n",
       "             eta0=0.01, fit_intercept=True, l1_ratio=0.15,\n",
       "             learning_rate='invscaling', loss='squared_loss', max_iter=1000,\n",
       "             n_iter_no_change=5, penalty='l2', power_t=0.25, random_state=None,\n",
       "             shuffle=True, tol=0.001, validation_fraction=0.1, verbose=0,\n",
       "             warm_start=False)"
      ]
     },
     "execution_count": 52,
     "metadata": {},
     "output_type": "execute_result"
    }
   ],
   "source": [
    "sgdr.fit(X_train,Y_train)"
   ]
  },
  {
   "cell_type": "code",
   "execution_count": 53,
   "metadata": {},
   "outputs": [],
   "source": [
    "train_score = sgdr.score(X_train, Y_train) #\"R2\" seria que tan bueno es nuestro modelo tanto en el entramiento como en el testeo\n",
    "test_score = sgdr.score(x_test, y_test)"
   ]
  },
  {
   "cell_type": "code",
   "execution_count": 54,
   "metadata": {},
   "outputs": [
    {
     "name": "stdout",
     "output_type": "stream",
     "text": [
      "0.3819434257134312 0.4740270393340401\n"
     ]
    }
   ],
   "source": [
    "print(train_score, test_score)"
   ]
  },
  {
   "cell_type": "code",
   "execution_count": 55,
   "metadata": {},
   "outputs": [],
   "source": [
    "from sklearn.linear_model import SGDClassifier as SGDC"
   ]
  },
  {
   "cell_type": "code",
   "execution_count": 57,
   "metadata": {},
   "outputs": [],
   "source": [
    "wine = datasets.load_wine()"
   ]
  },
  {
   "cell_type": "code",
   "execution_count": 58,
   "metadata": {
    "scrolled": true
   },
   "outputs": [
    {
     "data": {
      "text/plain": [
       "{'data': array([[1.423e+01, 1.710e+00, 2.430e+00, ..., 1.040e+00, 3.920e+00,\n",
       "         1.065e+03],\n",
       "        [1.320e+01, 1.780e+00, 2.140e+00, ..., 1.050e+00, 3.400e+00,\n",
       "         1.050e+03],\n",
       "        [1.316e+01, 2.360e+00, 2.670e+00, ..., 1.030e+00, 3.170e+00,\n",
       "         1.185e+03],\n",
       "        ...,\n",
       "        [1.327e+01, 4.280e+00, 2.260e+00, ..., 5.900e-01, 1.560e+00,\n",
       "         8.350e+02],\n",
       "        [1.317e+01, 2.590e+00, 2.370e+00, ..., 6.000e-01, 1.620e+00,\n",
       "         8.400e+02],\n",
       "        [1.413e+01, 4.100e+00, 2.740e+00, ..., 6.100e-01, 1.600e+00,\n",
       "         5.600e+02]]),\n",
       " 'target': array([0, 0, 0, 0, 0, 0, 0, 0, 0, 0, 0, 0, 0, 0, 0, 0, 0, 0, 0, 0, 0, 0,\n",
       "        0, 0, 0, 0, 0, 0, 0, 0, 0, 0, 0, 0, 0, 0, 0, 0, 0, 0, 0, 0, 0, 0,\n",
       "        0, 0, 0, 0, 0, 0, 0, 0, 0, 0, 0, 0, 0, 0, 0, 1, 1, 1, 1, 1, 1, 1,\n",
       "        1, 1, 1, 1, 1, 1, 1, 1, 1, 1, 1, 1, 1, 1, 1, 1, 1, 1, 1, 1, 1, 1,\n",
       "        1, 1, 1, 1, 1, 1, 1, 1, 1, 1, 1, 1, 1, 1, 1, 1, 1, 1, 1, 1, 1, 1,\n",
       "        1, 1, 1, 1, 1, 1, 1, 1, 1, 1, 1, 1, 1, 1, 1, 1, 1, 1, 1, 1, 2, 2,\n",
       "        2, 2, 2, 2, 2, 2, 2, 2, 2, 2, 2, 2, 2, 2, 2, 2, 2, 2, 2, 2, 2, 2,\n",
       "        2, 2, 2, 2, 2, 2, 2, 2, 2, 2, 2, 2, 2, 2, 2, 2, 2, 2, 2, 2, 2, 2,\n",
       "        2, 2]),\n",
       " 'target_names': array(['class_0', 'class_1', 'class_2'], dtype='<U7'),\n",
       " 'DESCR': '.. _wine_dataset:\\n\\nWine recognition dataset\\n------------------------\\n\\n**Data Set Characteristics:**\\n\\n    :Number of Instances: 178 (50 in each of three classes)\\n    :Number of Attributes: 13 numeric, predictive attributes and the class\\n    :Attribute Information:\\n \\t\\t- Alcohol\\n \\t\\t- Malic acid\\n \\t\\t- Ash\\n\\t\\t- Alcalinity of ash  \\n \\t\\t- Magnesium\\n\\t\\t- Total phenols\\n \\t\\t- Flavanoids\\n \\t\\t- Nonflavanoid phenols\\n \\t\\t- Proanthocyanins\\n\\t\\t- Color intensity\\n \\t\\t- Hue\\n \\t\\t- OD280/OD315 of diluted wines\\n \\t\\t- Proline\\n\\n    - class:\\n            - class_0\\n            - class_1\\n            - class_2\\n\\t\\t\\n    :Summary Statistics:\\n    \\n    ============================= ==== ===== ======= =====\\n                                   Min   Max   Mean     SD\\n    ============================= ==== ===== ======= =====\\n    Alcohol:                      11.0  14.8    13.0   0.8\\n    Malic Acid:                   0.74  5.80    2.34  1.12\\n    Ash:                          1.36  3.23    2.36  0.27\\n    Alcalinity of Ash:            10.6  30.0    19.5   3.3\\n    Magnesium:                    70.0 162.0    99.7  14.3\\n    Total Phenols:                0.98  3.88    2.29  0.63\\n    Flavanoids:                   0.34  5.08    2.03  1.00\\n    Nonflavanoid Phenols:         0.13  0.66    0.36  0.12\\n    Proanthocyanins:              0.41  3.58    1.59  0.57\\n    Colour Intensity:              1.3  13.0     5.1   2.3\\n    Hue:                          0.48  1.71    0.96  0.23\\n    OD280/OD315 of diluted wines: 1.27  4.00    2.61  0.71\\n    Proline:                       278  1680     746   315\\n    ============================= ==== ===== ======= =====\\n\\n    :Missing Attribute Values: None\\n    :Class Distribution: class_0 (59), class_1 (71), class_2 (48)\\n    :Creator: R.A. Fisher\\n    :Donor: Michael Marshall (MARSHALL%PLU@io.arc.nasa.gov)\\n    :Date: July, 1988\\n\\nThis is a copy of UCI ML Wine recognition datasets.\\nhttps://archive.ics.uci.edu/ml/machine-learning-databases/wine/wine.data\\n\\nThe data is the results of a chemical analysis of wines grown in the same\\nregion in Italy by three different cultivators. There are thirteen different\\nmeasurements taken for different constituents found in the three types of\\nwine.\\n\\nOriginal Owners: \\n\\nForina, M. et al, PARVUS - \\nAn Extendible Package for Data Exploration, Classification and Correlation. \\nInstitute of Pharmaceutical and Food Analysis and Technologies,\\nVia Brigata Salerno, 16147 Genoa, Italy.\\n\\nCitation:\\n\\nLichman, M. (2013). UCI Machine Learning Repository\\n[https://archive.ics.uci.edu/ml]. Irvine, CA: University of California,\\nSchool of Information and Computer Science. \\n\\n.. topic:: References\\n\\n  (1) S. Aeberhard, D. Coomans and O. de Vel, \\n  Comparison of Classifiers in High Dimensional Settings, \\n  Tech. Rep. no. 92-02, (1992), Dept. of Computer Science and Dept. of  \\n  Mathematics and Statistics, James Cook University of North Queensland. \\n  (Also submitted to Technometrics). \\n\\n  The data was used with many others for comparing various \\n  classifiers. The classes are separable, though only RDA \\n  has achieved 100% correct classification. \\n  (RDA : 100%, QDA 99.4%, LDA 98.9%, 1NN 96.1% (z-transformed data)) \\n  (All results using the leave-one-out technique) \\n\\n  (2) S. Aeberhard, D. Coomans and O. de Vel, \\n  \"THE CLASSIFICATION PERFORMANCE OF RDA\" \\n  Tech. Rep. no. 92-01, (1992), Dept. of Computer Science and Dept. of \\n  Mathematics and Statistics, James Cook University of North Queensland. \\n  (Also submitted to Journal of Chemometrics).\\n',\n",
       " 'feature_names': ['alcohol',\n",
       "  'malic_acid',\n",
       "  'ash',\n",
       "  'alcalinity_of_ash',\n",
       "  'magnesium',\n",
       "  'total_phenols',\n",
       "  'flavanoids',\n",
       "  'nonflavanoid_phenols',\n",
       "  'proanthocyanins',\n",
       "  'color_intensity',\n",
       "  'hue',\n",
       "  'od280/od315_of_diluted_wines',\n",
       "  'proline']}"
      ]
     },
     "execution_count": 58,
     "metadata": {},
     "output_type": "execute_result"
    }
   ],
   "source": [
    "wine"
   ]
  },
  {
   "cell_type": "code",
   "execution_count": 60,
   "metadata": {},
   "outputs": [],
   "source": [
    "wine_df = pd.DataFrame(wine['data'])\n",
    "wine_t = pd.Series(wine['target'])"
   ]
  },
  {
   "cell_type": "code",
   "execution_count": 61,
   "metadata": {},
   "outputs": [],
   "source": [
    "X_train_vi, X_test_vi, y_train_vi,y_test_vi = tts(wine_df, wine_t)"
   ]
  },
  {
   "cell_type": "code",
   "execution_count": 68,
   "metadata": {},
   "outputs": [
    {
     "data": {
      "text/plain": [
       "SGDClassifier(alpha=0.0001, average=False, class_weight=None,\n",
       "              early_stopping=False, epsilon=0.1, eta0=0.0, fit_intercept=True,\n",
       "              l1_ratio=0.15, learning_rate='optimal', loss='hinge',\n",
       "              max_iter=100, n_iter_no_change=5, n_jobs=None, penalty='l2',\n",
       "              power_t=0.5, random_state=None, shuffle=True, tol=0.001,\n",
       "              validation_fraction=0.1, verbose=0, warm_start=False)"
      ]
     },
     "execution_count": 68,
     "metadata": {},
     "output_type": "execute_result"
    }
   ],
   "source": [
    "sgdc = SGDC(max_iter = 100)\n",
    "\n",
    "sgdc.fit(X_train_vi,y_train_vi)"
   ]
  },
  {
   "cell_type": "code",
   "execution_count": 69,
   "metadata": {},
   "outputs": [
    {
     "name": "stdout",
     "output_type": "stream",
     "text": [
      "0.5864661654135338 0.6\n"
     ]
    }
   ],
   "source": [
    "train_score_vi=sgdc.score(X_train_vi, y_train_vi) # Accuracy\n",
    "test_score_vi=sgdc.score(X_test_vi, y_test_vi)\n",
    "print(train_score_vi,test_score_vi)"
   ]
  },
  {
   "cell_type": "code",
   "execution_count": 71,
   "metadata": {},
   "outputs": [],
   "source": [
    "y_pred_vi = sgdc.predict(X_test_vi)"
   ]
  },
  {
   "cell_type": "code",
   "execution_count": 72,
   "metadata": {},
   "outputs": [
    {
     "data": {
      "text/plain": [
       "array([[13,  0,  0],\n",
       "       [ 3,  7,  8],\n",
       "       [ 6,  1,  7]], dtype=int64)"
      ]
     },
     "execution_count": 72,
     "metadata": {},
     "output_type": "execute_result"
    }
   ],
   "source": [
    "confusion_matrix(y_test_vi,y_pred_vi)"
   ]
  },
  {
   "cell_type": "code",
   "execution_count": 73,
   "metadata": {
    "scrolled": true
   },
   "outputs": [
    {
     "name": "stderr",
     "output_type": "stream",
     "text": [
      "C:\\Users\\GralG\\AppData\\Roaming\\Python\\Python37\\site-packages\\sklearn\\linear_model\\_logistic.py:940: ConvergenceWarning: lbfgs failed to converge (status=1):\n",
      "STOP: TOTAL NO. of ITERATIONS REACHED LIMIT.\n",
      "\n",
      "Increase the number of iterations (max_iter) or scale the data as shown in:\n",
      "    https://scikit-learn.org/stable/modules/preprocessing.html\n",
      "Please also refer to the documentation for alternative solver options:\n",
      "    https://scikit-learn.org/stable/modules/linear_model.html#logistic-regression\n",
      "  extra_warning_msg=_LOGISTIC_SOLVER_CONVERGENCE_MSG)\n"
     ]
    },
    {
     "data": {
      "text/plain": [
       "LogisticRegression(C=1.0, class_weight=None, dual=False, fit_intercept=True,\n",
       "                   intercept_scaling=1, l1_ratio=None, max_iter=100,\n",
       "                   multi_class='auto', n_jobs=None, penalty='l2',\n",
       "                   random_state=None, solver='lbfgs', tol=0.0001, verbose=0,\n",
       "                   warm_start=False)"
      ]
     },
     "execution_count": 73,
     "metadata": {},
     "output_type": "execute_result"
    }
   ],
   "source": [
    "clf = LogisticRegression()\n",
    "clf.fit(X_train_vi,y_train_vi)"
   ]
  },
  {
   "cell_type": "code",
   "execution_count": 75,
   "metadata": {},
   "outputs": [],
   "source": [
    "y_pred_vi_l = clf.predict(X_test_vi)"
   ]
  },
  {
   "cell_type": "code",
   "execution_count": 76,
   "metadata": {},
   "outputs": [
    {
     "data": {
      "text/plain": [
       "array([[12,  1,  0],\n",
       "       [ 0, 16,  2],\n",
       "       [ 0,  0, 14]], dtype=int64)"
      ]
     },
     "execution_count": 76,
     "metadata": {},
     "output_type": "execute_result"
    }
   ],
   "source": [
    "confusion_matrix(y_test_vi,y_pred_vi_l)"
   ]
  },
  {
   "cell_type": "code",
   "execution_count": 77,
   "metadata": {},
   "outputs": [
    {
     "name": "stdout",
     "output_type": "stream",
     "text": [
      "0.9849624060150376 0.9333333333333333\n"
     ]
    }
   ],
   "source": [
    "train_score_vi=clf.score(X_train_vi, y_train_vi) # Accuracy\n",
    "test_score_vi=clf.score(X_test_vi, y_test_vi)\n",
    "print(train_score_vi,test_score_vi)"
   ]
  },
  {
   "cell_type": "code",
   "execution_count": 79,
   "metadata": {},
   "outputs": [],
   "source": [
    "from sklearn.naive_bayes import GaussianNB as GNB #Bayes para regresion \n",
    "from sklearn.naive_bayes import MultinomialNB as MNB #Bayes con variables discretas (categoricas)\n",
    "from sklearn.naive_bayes import ComplementNB as CNB\n",
    "from sklearn.naive_bayes import BernoulliNB as BNB  #Se basa en la dsitribucion binomial que a su vez son ensayos de bernoulli\n",
    "#toma exitos y fracasos\n",
    "from sklearn.neighbors import KNeighborsRegressor as KNNR\n",
    "from sklearn.neighbors import KNeighborsClassifier as KNNC\n",
    "\n",
    "\n",
    "#Modelos boosting\n",
    "from sklearn.ensemble import GradientBoostingRegressor as GBR\n",
    "from sklearn.ensemble import GradientBoostingClassifier as GBC\n",
    "\n",
    "from xgboost import XGBRegressor as XGBR#Extreme Gradient Boosting\n",
    "from xgboost import XGBClassifier as XGBC\n",
    "from catboost import CatBoostClassifier as CATB\n",
    "from catboost import CatBoostRegressor as CTR\n",
    "from lightgbm import LGBMRegressor as LGBMR\n",
    "from lightgbm import LGBMClassifier as LGBMC\n",
    "\n",
    "\n",
    "\n",
    "lista_m = [KNNC,SGDC,LogisticRegression,DecisionTreeClassifier]\n"
   ]
  },
  {
   "cell_type": "code",
   "execution_count": 78,
   "metadata": {},
   "outputs": [],
   "source": [
    "def modeling_testing(lista_modelos, data, target):\n",
    "    X_train, X_test, y_train, y_test = tts(data.loc[:, data.columns != target], data[target])\n",
    "    \n",
    "    for i in lista_modelos:\n",
    "        modelo = i()\n",
    "        modelo.fit(X_train, y_train)\n",
    "        train_score = modelo.score(X_train, y_train)\n",
    "        test_score = modelo.score(X_test, y_test)\n",
    "        print('Modelo:',str(i).split(sep = '.')[-1])\n",
    "        print('Train score:', train_score,'\\nTest score:',test_score,'\\n')\n"
   ]
  },
  {
   "cell_type": "code",
   "execution_count": 81,
   "metadata": {},
   "outputs": [],
   "source": [
    "from sklearn.datasets import load_wine\n"
   ]
  },
  {
   "cell_type": "code",
   "execution_count": 82,
   "metadata": {},
   "outputs": [
    {
     "data": {
      "text/html": [
       "<div>\n",
       "<style scoped>\n",
       "    .dataframe tbody tr th:only-of-type {\n",
       "        vertical-align: middle;\n",
       "    }\n",
       "\n",
       "    .dataframe tbody tr th {\n",
       "        vertical-align: top;\n",
       "    }\n",
       "\n",
       "    .dataframe thead th {\n",
       "        text-align: right;\n",
       "    }\n",
       "</style>\n",
       "<table border=\"1\" class=\"dataframe\">\n",
       "  <thead>\n",
       "    <tr style=\"text-align: right;\">\n",
       "      <th></th>\n",
       "      <th>alcohol</th>\n",
       "      <th>malic_acid</th>\n",
       "      <th>ash</th>\n",
       "      <th>alcalinity_of_ash</th>\n",
       "      <th>magnesium</th>\n",
       "      <th>total_phenols</th>\n",
       "      <th>flavanoids</th>\n",
       "      <th>nonflavanoid_phenols</th>\n",
       "      <th>proanthocyanins</th>\n",
       "      <th>color_intensity</th>\n",
       "      <th>hue</th>\n",
       "      <th>od280/od315_of_diluted_wines</th>\n",
       "      <th>proline</th>\n",
       "      <th>target</th>\n",
       "    </tr>\n",
       "  </thead>\n",
       "  <tbody>\n",
       "    <tr>\n",
       "      <th>0</th>\n",
       "      <td>14.23</td>\n",
       "      <td>1.71</td>\n",
       "      <td>2.43</td>\n",
       "      <td>15.6</td>\n",
       "      <td>127.0</td>\n",
       "      <td>2.80</td>\n",
       "      <td>3.06</td>\n",
       "      <td>0.28</td>\n",
       "      <td>2.29</td>\n",
       "      <td>5.64</td>\n",
       "      <td>1.04</td>\n",
       "      <td>3.92</td>\n",
       "      <td>1065.0</td>\n",
       "      <td>0</td>\n",
       "    </tr>\n",
       "    <tr>\n",
       "      <th>1</th>\n",
       "      <td>13.20</td>\n",
       "      <td>1.78</td>\n",
       "      <td>2.14</td>\n",
       "      <td>11.2</td>\n",
       "      <td>100.0</td>\n",
       "      <td>2.65</td>\n",
       "      <td>2.76</td>\n",
       "      <td>0.26</td>\n",
       "      <td>1.28</td>\n",
       "      <td>4.38</td>\n",
       "      <td>1.05</td>\n",
       "      <td>3.40</td>\n",
       "      <td>1050.0</td>\n",
       "      <td>0</td>\n",
       "    </tr>\n",
       "    <tr>\n",
       "      <th>2</th>\n",
       "      <td>13.16</td>\n",
       "      <td>2.36</td>\n",
       "      <td>2.67</td>\n",
       "      <td>18.6</td>\n",
       "      <td>101.0</td>\n",
       "      <td>2.80</td>\n",
       "      <td>3.24</td>\n",
       "      <td>0.30</td>\n",
       "      <td>2.81</td>\n",
       "      <td>5.68</td>\n",
       "      <td>1.03</td>\n",
       "      <td>3.17</td>\n",
       "      <td>1185.0</td>\n",
       "      <td>0</td>\n",
       "    </tr>\n",
       "    <tr>\n",
       "      <th>3</th>\n",
       "      <td>14.37</td>\n",
       "      <td>1.95</td>\n",
       "      <td>2.50</td>\n",
       "      <td>16.8</td>\n",
       "      <td>113.0</td>\n",
       "      <td>3.85</td>\n",
       "      <td>3.49</td>\n",
       "      <td>0.24</td>\n",
       "      <td>2.18</td>\n",
       "      <td>7.80</td>\n",
       "      <td>0.86</td>\n",
       "      <td>3.45</td>\n",
       "      <td>1480.0</td>\n",
       "      <td>0</td>\n",
       "    </tr>\n",
       "    <tr>\n",
       "      <th>4</th>\n",
       "      <td>13.24</td>\n",
       "      <td>2.59</td>\n",
       "      <td>2.87</td>\n",
       "      <td>21.0</td>\n",
       "      <td>118.0</td>\n",
       "      <td>2.80</td>\n",
       "      <td>2.69</td>\n",
       "      <td>0.39</td>\n",
       "      <td>1.82</td>\n",
       "      <td>4.32</td>\n",
       "      <td>1.04</td>\n",
       "      <td>2.93</td>\n",
       "      <td>735.0</td>\n",
       "      <td>0</td>\n",
       "    </tr>\n",
       "  </tbody>\n",
       "</table>\n",
       "</div>"
      ],
      "text/plain": [
       "   alcohol  malic_acid   ash  alcalinity_of_ash  magnesium  total_phenols  \\\n",
       "0    14.23        1.71  2.43               15.6      127.0           2.80   \n",
       "1    13.20        1.78  2.14               11.2      100.0           2.65   \n",
       "2    13.16        2.36  2.67               18.6      101.0           2.80   \n",
       "3    14.37        1.95  2.50               16.8      113.0           3.85   \n",
       "4    13.24        2.59  2.87               21.0      118.0           2.80   \n",
       "\n",
       "   flavanoids  nonflavanoid_phenols  proanthocyanins  color_intensity   hue  \\\n",
       "0        3.06                  0.28             2.29             5.64  1.04   \n",
       "1        2.76                  0.26             1.28             4.38  1.05   \n",
       "2        3.24                  0.30             2.81             5.68  1.03   \n",
       "3        3.49                  0.24             2.18             7.80  0.86   \n",
       "4        2.69                  0.39             1.82             4.32  1.04   \n",
       "\n",
       "   od280/od315_of_diluted_wines  proline  target  \n",
       "0                          3.92   1065.0       0  \n",
       "1                          3.40   1050.0       0  \n",
       "2                          3.17   1185.0       0  \n",
       "3                          3.45   1480.0       0  \n",
       "4                          2.93    735.0       0  "
      ]
     },
     "execution_count": 82,
     "metadata": {},
     "output_type": "execute_result"
    }
   ],
   "source": [
    "wine = pd.DataFrame(load_wine().data, columns = load_wine().feature_names )\n",
    "wine['target'] = load_wine().target\n",
    "wine.head()"
   ]
  },
  {
   "cell_type": "markdown",
   "metadata": {},
   "source": [
    "# K-Nearest Neighbors\n",
    "\n",
    "![](data/knn.png)"
   ]
  },
  {
   "cell_type": "code",
   "execution_count": 83,
   "metadata": {},
   "outputs": [
    {
     "name": "stdout",
     "output_type": "stream",
     "text": [
      "Modelo: KNeighborsClassifier'>\n",
      "Train score: 0.8045112781954887 \n",
      "Test score: 0.6222222222222222 \n",
      "\n",
      "Modelo: SGDClassifier'>\n",
      "Train score: 0.6616541353383458 \n",
      "Test score: 0.5111111111111111 \n",
      "\n",
      "Modelo: LogisticRegression'>\n",
      "Train score: 0.9699248120300752 \n",
      "Test score: 0.9777777777777777 \n",
      "\n",
      "Modelo: DecisionTreeClassifier'>\n",
      "Train score: 1.0 \n",
      "Test score: 0.8666666666666667 \n",
      "\n"
     ]
    },
    {
     "name": "stderr",
     "output_type": "stream",
     "text": [
      "C:\\Users\\GralG\\AppData\\Roaming\\Python\\Python37\\site-packages\\sklearn\\linear_model\\_logistic.py:940: ConvergenceWarning: lbfgs failed to converge (status=1):\n",
      "STOP: TOTAL NO. of ITERATIONS REACHED LIMIT.\n",
      "\n",
      "Increase the number of iterations (max_iter) or scale the data as shown in:\n",
      "    https://scikit-learn.org/stable/modules/preprocessing.html\n",
      "Please also refer to the documentation for alternative solver options:\n",
      "    https://scikit-learn.org/stable/modules/linear_model.html#logistic-regression\n",
      "  extra_warning_msg=_LOGISTIC_SOLVER_CONVERGENCE_MSG)\n"
     ]
    }
   ],
   "source": [
    "modeling_testing(lista_m,wine,'target')"
   ]
  },
  {
   "cell_type": "markdown",
   "metadata": {},
   "source": [
    "# Ensemble Models\n",
    "\n",
    "\n",
    "### Bagging  -  Boosting\n",
    "\n",
    "\n",
    "![](data/boost.png)"
   ]
  },
  {
   "cell_type": "code",
   "execution_count": 85,
   "metadata": {},
   "outputs": [],
   "source": [
    "from sklearn.ensemble import GradientBoostingClassifier as GBC\n",
    "from xgboost import XGBClassifier as XGBC\n",
    "from catboost import CatBoostClassifier as CTC\n",
    "from lightgbm import LGBMClassifier as LGBMC"
   ]
  },
  {
   "cell_type": "code",
   "execution_count": 86,
   "metadata": {},
   "outputs": [],
   "source": [
    "lista_m= [DecisionTreeClassifier,LogisticRegression,GBC, XGBC, CTC,LGBMC]"
   ]
  },
  {
   "cell_type": "code",
   "execution_count": 87,
   "metadata": {},
   "outputs": [
    {
     "name": "stdout",
     "output_type": "stream",
     "text": [
      "Modelo: DecisionTreeClassifier'>\n",
      "Train score: 1.0 \n",
      "Test score: 0.9333333333333333 \n",
      "\n",
      "Modelo: LogisticRegression'>\n",
      "Train score: 0.9699248120300752 \n",
      "Test score: 0.9777777777777777 \n",
      "\n"
     ]
    },
    {
     "name": "stderr",
     "output_type": "stream",
     "text": [
      "C:\\Users\\GralG\\AppData\\Roaming\\Python\\Python37\\site-packages\\sklearn\\linear_model\\_logistic.py:940: ConvergenceWarning: lbfgs failed to converge (status=1):\n",
      "STOP: TOTAL NO. of ITERATIONS REACHED LIMIT.\n",
      "\n",
      "Increase the number of iterations (max_iter) or scale the data as shown in:\n",
      "    https://scikit-learn.org/stable/modules/preprocessing.html\n",
      "Please also refer to the documentation for alternative solver options:\n",
      "    https://scikit-learn.org/stable/modules/linear_model.html#logistic-regression\n",
      "  extra_warning_msg=_LOGISTIC_SOLVER_CONVERGENCE_MSG)\n"
     ]
    },
    {
     "name": "stdout",
     "output_type": "stream",
     "text": [
      "Modelo: GradientBoostingClassifier'>\n",
      "Train score: 1.0 \n",
      "Test score: 0.9555555555555556 \n",
      "\n",
      "Modelo: XGBClassifier'>\n",
      "Train score: 1.0 \n",
      "Test score: 0.9555555555555556 \n",
      "\n",
      "Learning rate set to 0.07139\n",
      "0:\tlearn: 1.0298150\ttotal: 152ms\tremaining: 2m 32s\n",
      "1:\tlearn: 0.9712595\ttotal: 154ms\tremaining: 1m 16s\n",
      "2:\tlearn: 0.9156525\ttotal: 156ms\tremaining: 51.9s\n",
      "3:\tlearn: 0.8714193\ttotal: 158ms\tremaining: 39.3s\n",
      "4:\tlearn: 0.8221216\ttotal: 160ms\tremaining: 31.9s\n",
      "5:\tlearn: 0.7845437\ttotal: 163ms\tremaining: 27s\n",
      "6:\tlearn: 0.7424754\ttotal: 166ms\tremaining: 23.6s\n",
      "7:\tlearn: 0.7119897\ttotal: 170ms\tremaining: 21.1s\n",
      "8:\tlearn: 0.6870246\ttotal: 173ms\tremaining: 19s\n",
      "9:\tlearn: 0.6557536\ttotal: 175ms\tremaining: 17.3s\n",
      "10:\tlearn: 0.6293429\ttotal: 177ms\tremaining: 15.9s\n",
      "11:\tlearn: 0.6057314\ttotal: 179ms\tremaining: 14.7s\n",
      "12:\tlearn: 0.5769516\ttotal: 181ms\tremaining: 13.7s\n",
      "13:\tlearn: 0.5515845\ttotal: 182ms\tremaining: 12.8s\n",
      "14:\tlearn: 0.5332956\ttotal: 184ms\tremaining: 12.1s\n",
      "15:\tlearn: 0.5109756\ttotal: 187ms\tremaining: 11.5s\n",
      "16:\tlearn: 0.4914712\ttotal: 190ms\tremaining: 11s\n",
      "17:\tlearn: 0.4736123\ttotal: 191ms\tremaining: 10.4s\n",
      "18:\tlearn: 0.4544812\ttotal: 193ms\tremaining: 9.99s\n",
      "19:\tlearn: 0.4373369\ttotal: 196ms\tremaining: 9.59s\n",
      "20:\tlearn: 0.4202538\ttotal: 198ms\tremaining: 9.24s\n",
      "21:\tlearn: 0.4058298\ttotal: 201ms\tremaining: 8.94s\n",
      "22:\tlearn: 0.3911967\ttotal: 203ms\tremaining: 8.63s\n",
      "23:\tlearn: 0.3770561\ttotal: 205ms\tremaining: 8.32s\n",
      "24:\tlearn: 0.3623064\ttotal: 206ms\tremaining: 8.04s\n",
      "25:\tlearn: 0.3497284\ttotal: 208ms\tremaining: 7.77s\n",
      "26:\tlearn: 0.3366554\ttotal: 209ms\tremaining: 7.53s\n",
      "27:\tlearn: 0.3257018\ttotal: 211ms\tremaining: 7.31s\n",
      "28:\tlearn: 0.3137836\ttotal: 212ms\tremaining: 7.1s\n",
      "29:\tlearn: 0.3050143\ttotal: 214ms\tremaining: 6.91s\n",
      "30:\tlearn: 0.2953122\ttotal: 215ms\tremaining: 6.73s\n",
      "31:\tlearn: 0.2857719\ttotal: 217ms\tremaining: 6.57s\n",
      "32:\tlearn: 0.2779902\ttotal: 220ms\tremaining: 6.43s\n",
      "33:\tlearn: 0.2693759\ttotal: 237ms\tremaining: 6.72s\n",
      "34:\tlearn: 0.2616426\ttotal: 238ms\tremaining: 6.56s\n",
      "35:\tlearn: 0.2535824\ttotal: 239ms\tremaining: 6.41s\n",
      "36:\tlearn: 0.2473664\ttotal: 241ms\tremaining: 6.27s\n",
      "37:\tlearn: 0.2420380\ttotal: 243ms\tremaining: 6.14s\n",
      "38:\tlearn: 0.2346860\ttotal: 244ms\tremaining: 6.01s\n",
      "39:\tlearn: 0.2286918\ttotal: 245ms\tremaining: 5.89s\n",
      "40:\tlearn: 0.2228878\ttotal: 247ms\tremaining: 5.79s\n",
      "41:\tlearn: 0.2170537\ttotal: 250ms\tremaining: 5.7s\n",
      "42:\tlearn: 0.2123660\ttotal: 252ms\tremaining: 5.61s\n",
      "43:\tlearn: 0.2081042\ttotal: 254ms\tremaining: 5.52s\n",
      "44:\tlearn: 0.2032189\ttotal: 256ms\tremaining: 5.42s\n",
      "45:\tlearn: 0.1980919\ttotal: 257ms\tremaining: 5.33s\n",
      "46:\tlearn: 0.1931355\ttotal: 258ms\tremaining: 5.24s\n",
      "47:\tlearn: 0.1878975\ttotal: 260ms\tremaining: 5.15s\n",
      "48:\tlearn: 0.1830006\ttotal: 262ms\tremaining: 5.08s\n",
      "49:\tlearn: 0.1777292\ttotal: 264ms\tremaining: 5.01s\n",
      "50:\tlearn: 0.1733810\ttotal: 265ms\tremaining: 4.94s\n",
      "51:\tlearn: 0.1688504\ttotal: 267ms\tremaining: 4.87s\n",
      "52:\tlearn: 0.1648532\ttotal: 269ms\tremaining: 4.8s\n",
      "53:\tlearn: 0.1610989\ttotal: 269ms\tremaining: 4.72s\n",
      "54:\tlearn: 0.1574030\ttotal: 271ms\tremaining: 4.65s\n",
      "55:\tlearn: 0.1546626\ttotal: 272ms\tremaining: 4.58s\n",
      "56:\tlearn: 0.1511120\ttotal: 273ms\tremaining: 4.52s\n",
      "57:\tlearn: 0.1484910\ttotal: 275ms\tremaining: 4.46s\n",
      "58:\tlearn: 0.1450580\ttotal: 277ms\tremaining: 4.41s\n",
      "59:\tlearn: 0.1421104\ttotal: 279ms\tremaining: 4.36s\n",
      "60:\tlearn: 0.1396609\ttotal: 280ms\tremaining: 4.32s\n",
      "61:\tlearn: 0.1375379\ttotal: 282ms\tremaining: 4.27s\n",
      "62:\tlearn: 0.1352907\ttotal: 284ms\tremaining: 4.22s\n",
      "63:\tlearn: 0.1329834\ttotal: 285ms\tremaining: 4.17s\n",
      "64:\tlearn: 0.1301755\ttotal: 287ms\tremaining: 4.12s\n",
      "65:\tlearn: 0.1279295\ttotal: 288ms\tremaining: 4.08s\n",
      "66:\tlearn: 0.1259808\ttotal: 290ms\tremaining: 4.04s\n",
      "67:\tlearn: 0.1237027\ttotal: 292ms\tremaining: 4s\n",
      "68:\tlearn: 0.1206915\ttotal: 294ms\tremaining: 3.97s\n",
      "69:\tlearn: 0.1189539\ttotal: 296ms\tremaining: 3.93s\n",
      "70:\tlearn: 0.1167218\ttotal: 297ms\tremaining: 3.89s\n",
      "71:\tlearn: 0.1139452\ttotal: 299ms\tremaining: 3.85s\n",
      "72:\tlearn: 0.1116419\ttotal: 300ms\tremaining: 3.81s\n",
      "73:\tlearn: 0.1100753\ttotal: 302ms\tremaining: 3.78s\n",
      "74:\tlearn: 0.1082202\ttotal: 304ms\tremaining: 3.75s\n",
      "75:\tlearn: 0.1063002\ttotal: 307ms\tremaining: 3.74s\n",
      "76:\tlearn: 0.1041228\ttotal: 309ms\tremaining: 3.71s\n",
      "77:\tlearn: 0.1026208\ttotal: 311ms\tremaining: 3.68s\n",
      "78:\tlearn: 0.1008499\ttotal: 313ms\tremaining: 3.65s\n",
      "79:\tlearn: 0.0996804\ttotal: 315ms\tremaining: 3.62s\n",
      "80:\tlearn: 0.0983467\ttotal: 317ms\tremaining: 3.59s\n",
      "81:\tlearn: 0.0963449\ttotal: 318ms\tremaining: 3.56s\n",
      "82:\tlearn: 0.0951460\ttotal: 320ms\tremaining: 3.53s\n",
      "83:\tlearn: 0.0932755\ttotal: 321ms\tremaining: 3.5s\n",
      "84:\tlearn: 0.0915452\ttotal: 323ms\tremaining: 3.48s\n",
      "85:\tlearn: 0.0899049\ttotal: 325ms\tremaining: 3.45s\n",
      "86:\tlearn: 0.0884495\ttotal: 327ms\tremaining: 3.43s\n",
      "87:\tlearn: 0.0869459\ttotal: 328ms\tremaining: 3.4s\n",
      "88:\tlearn: 0.0857135\ttotal: 330ms\tremaining: 3.37s\n",
      "89:\tlearn: 0.0843362\ttotal: 331ms\tremaining: 3.35s\n",
      "90:\tlearn: 0.0831338\ttotal: 334ms\tremaining: 3.34s\n",
      "91:\tlearn: 0.0820010\ttotal: 337ms\tremaining: 3.33s\n",
      "92:\tlearn: 0.0809509\ttotal: 341ms\tremaining: 3.32s\n",
      "93:\tlearn: 0.0797179\ttotal: 343ms\tremaining: 3.3s\n",
      "94:\tlearn: 0.0788913\ttotal: 344ms\tremaining: 3.28s\n",
      "95:\tlearn: 0.0779937\ttotal: 345ms\tremaining: 3.25s\n",
      "96:\tlearn: 0.0771434\ttotal: 348ms\tremaining: 3.24s\n",
      "97:\tlearn: 0.0760220\ttotal: 350ms\tremaining: 3.22s\n",
      "98:\tlearn: 0.0748149\ttotal: 352ms\tremaining: 3.2s\n",
      "99:\tlearn: 0.0737677\ttotal: 354ms\tremaining: 3.19s\n",
      "100:\tlearn: 0.0728463\ttotal: 357ms\tremaining: 3.17s\n",
      "101:\tlearn: 0.0718432\ttotal: 359ms\tremaining: 3.16s\n",
      "102:\tlearn: 0.0708513\ttotal: 360ms\tremaining: 3.14s\n",
      "103:\tlearn: 0.0699963\ttotal: 362ms\tremaining: 3.12s\n",
      "104:\tlearn: 0.0686920\ttotal: 364ms\tremaining: 3.1s\n",
      "105:\tlearn: 0.0676315\ttotal: 365ms\tremaining: 3.08s\n",
      "106:\tlearn: 0.0666968\ttotal: 366ms\tremaining: 3.06s\n",
      "107:\tlearn: 0.0658203\ttotal: 368ms\tremaining: 3.04s\n",
      "108:\tlearn: 0.0649213\ttotal: 369ms\tremaining: 3.02s\n",
      "109:\tlearn: 0.0639466\ttotal: 370ms\tremaining: 3s\n",
      "110:\tlearn: 0.0633002\ttotal: 372ms\tremaining: 2.98s\n",
      "111:\tlearn: 0.0627173\ttotal: 374ms\tremaining: 2.96s\n",
      "112:\tlearn: 0.0622294\ttotal: 375ms\tremaining: 2.94s\n",
      "113:\tlearn: 0.0611776\ttotal: 377ms\tremaining: 2.93s\n",
      "114:\tlearn: 0.0604684\ttotal: 378ms\tremaining: 2.91s\n",
      "115:\tlearn: 0.0595743\ttotal: 379ms\tremaining: 2.89s\n",
      "116:\tlearn: 0.0589776\ttotal: 381ms\tremaining: 2.87s\n",
      "117:\tlearn: 0.0583467\ttotal: 383ms\tremaining: 2.86s\n",
      "118:\tlearn: 0.0575794\ttotal: 384ms\tremaining: 2.84s\n",
      "119:\tlearn: 0.0570715\ttotal: 385ms\tremaining: 2.83s\n",
      "120:\tlearn: 0.0564641\ttotal: 387ms\tremaining: 2.81s\n",
      "121:\tlearn: 0.0558728\ttotal: 388ms\tremaining: 2.79s\n",
      "122:\tlearn: 0.0554060\ttotal: 390ms\tremaining: 2.78s\n",
      "123:\tlearn: 0.0549159\ttotal: 392ms\tremaining: 2.77s\n",
      "124:\tlearn: 0.0543212\ttotal: 394ms\tremaining: 2.76s\n",
      "125:\tlearn: 0.0536573\ttotal: 396ms\tremaining: 2.74s\n",
      "126:\tlearn: 0.0530893\ttotal: 397ms\tremaining: 2.73s\n",
      "127:\tlearn: 0.0524619\ttotal: 399ms\tremaining: 2.72s\n",
      "128:\tlearn: 0.0517970\ttotal: 401ms\tremaining: 2.7s\n",
      "129:\tlearn: 0.0513304\ttotal: 403ms\tremaining: 2.69s\n",
      "130:\tlearn: 0.0509449\ttotal: 404ms\tremaining: 2.68s\n",
      "131:\tlearn: 0.0505278\ttotal: 406ms\tremaining: 2.67s\n",
      "132:\tlearn: 0.0501183\ttotal: 408ms\tremaining: 2.66s\n",
      "133:\tlearn: 0.0494638\ttotal: 409ms\tremaining: 2.64s\n",
      "134:\tlearn: 0.0489936\ttotal: 411ms\tremaining: 2.63s\n",
      "135:\tlearn: 0.0485037\ttotal: 412ms\tremaining: 2.62s\n",
      "136:\tlearn: 0.0480328\ttotal: 414ms\tremaining: 2.61s\n",
      "137:\tlearn: 0.0476605\ttotal: 416ms\tremaining: 2.6s\n",
      "138:\tlearn: 0.0471483\ttotal: 417ms\tremaining: 2.58s\n",
      "139:\tlearn: 0.0466381\ttotal: 419ms\tremaining: 2.57s\n",
      "140:\tlearn: 0.0460809\ttotal: 420ms\tremaining: 2.56s\n",
      "141:\tlearn: 0.0456232\ttotal: 421ms\tremaining: 2.55s\n",
      "142:\tlearn: 0.0451685\ttotal: 423ms\tremaining: 2.53s\n",
      "143:\tlearn: 0.0447044\ttotal: 424ms\tremaining: 2.52s\n",
      "144:\tlearn: 0.0440613\ttotal: 425ms\tremaining: 2.51s\n",
      "145:\tlearn: 0.0438016\ttotal: 427ms\tremaining: 2.5s\n",
      "146:\tlearn: 0.0434957\ttotal: 428ms\tremaining: 2.48s\n",
      "147:\tlearn: 0.0430701\ttotal: 430ms\tremaining: 2.47s\n",
      "148:\tlearn: 0.0427504\ttotal: 432ms\tremaining: 2.47s\n",
      "149:\tlearn: 0.0423227\ttotal: 435ms\tremaining: 2.46s\n",
      "150:\tlearn: 0.0418943\ttotal: 437ms\tremaining: 2.45s\n",
      "151:\tlearn: 0.0413808\ttotal: 438ms\tremaining: 2.44s\n",
      "152:\tlearn: 0.0411237\ttotal: 440ms\tremaining: 2.44s\n",
      "153:\tlearn: 0.0407520\ttotal: 441ms\tremaining: 2.42s\n",
      "154:\tlearn: 0.0404540\ttotal: 444ms\tremaining: 2.42s\n",
      "155:\tlearn: 0.0401215\ttotal: 445ms\tremaining: 2.41s\n",
      "156:\tlearn: 0.0397425\ttotal: 447ms\tremaining: 2.4s\n",
      "157:\tlearn: 0.0394202\ttotal: 448ms\tremaining: 2.39s\n",
      "158:\tlearn: 0.0391167\ttotal: 449ms\tremaining: 2.38s\n",
      "159:\tlearn: 0.0388087\ttotal: 451ms\tremaining: 2.37s\n",
      "160:\tlearn: 0.0385349\ttotal: 452ms\tremaining: 2.36s\n",
      "161:\tlearn: 0.0381376\ttotal: 454ms\tremaining: 2.35s\n",
      "162:\tlearn: 0.0377794\ttotal: 455ms\tremaining: 2.33s\n",
      "163:\tlearn: 0.0374775\ttotal: 457ms\tremaining: 2.33s\n",
      "164:\tlearn: 0.0371634\ttotal: 459ms\tremaining: 2.32s\n",
      "165:\tlearn: 0.0368048\ttotal: 461ms\tremaining: 2.32s\n",
      "166:\tlearn: 0.0365813\ttotal: 463ms\tremaining: 2.31s\n"
     ]
    },
    {
     "name": "stdout",
     "output_type": "stream",
     "text": [
      "167:\tlearn: 0.0364108\ttotal: 465ms\tremaining: 2.3s\n",
      "168:\tlearn: 0.0359963\ttotal: 466ms\tremaining: 2.29s\n",
      "169:\tlearn: 0.0357248\ttotal: 468ms\tremaining: 2.29s\n",
      "170:\tlearn: 0.0355194\ttotal: 470ms\tremaining: 2.28s\n",
      "171:\tlearn: 0.0352094\ttotal: 471ms\tremaining: 2.27s\n",
      "172:\tlearn: 0.0348506\ttotal: 474ms\tremaining: 2.27s\n",
      "173:\tlearn: 0.0345545\ttotal: 478ms\tremaining: 2.27s\n",
      "174:\tlearn: 0.0341718\ttotal: 479ms\tremaining: 2.26s\n",
      "175:\tlearn: 0.0339616\ttotal: 482ms\tremaining: 2.25s\n",
      "176:\tlearn: 0.0337216\ttotal: 485ms\tremaining: 2.25s\n",
      "177:\tlearn: 0.0333962\ttotal: 486ms\tremaining: 2.25s\n",
      "178:\tlearn: 0.0330714\ttotal: 488ms\tremaining: 2.24s\n",
      "179:\tlearn: 0.0327918\ttotal: 489ms\tremaining: 2.23s\n",
      "180:\tlearn: 0.0325785\ttotal: 491ms\tremaining: 2.22s\n",
      "181:\tlearn: 0.0323310\ttotal: 492ms\tremaining: 2.21s\n",
      "182:\tlearn: 0.0320692\ttotal: 494ms\tremaining: 2.2s\n",
      "183:\tlearn: 0.0318226\ttotal: 495ms\tremaining: 2.2s\n",
      "184:\tlearn: 0.0315761\ttotal: 497ms\tremaining: 2.19s\n",
      "185:\tlearn: 0.0313049\ttotal: 499ms\tremaining: 2.18s\n",
      "186:\tlearn: 0.0310095\ttotal: 502ms\tremaining: 2.18s\n",
      "187:\tlearn: 0.0307335\ttotal: 505ms\tremaining: 2.18s\n",
      "188:\tlearn: 0.0304704\ttotal: 507ms\tremaining: 2.18s\n",
      "189:\tlearn: 0.0303279\ttotal: 509ms\tremaining: 2.17s\n",
      "190:\tlearn: 0.0300849\ttotal: 510ms\tremaining: 2.16s\n",
      "191:\tlearn: 0.0298776\ttotal: 512ms\tremaining: 2.15s\n",
      "192:\tlearn: 0.0295958\ttotal: 514ms\tremaining: 2.15s\n",
      "193:\tlearn: 0.0293584\ttotal: 516ms\tremaining: 2.14s\n",
      "194:\tlearn: 0.0291496\ttotal: 518ms\tremaining: 2.14s\n",
      "195:\tlearn: 0.0289685\ttotal: 520ms\tremaining: 2.13s\n",
      "196:\tlearn: 0.0287018\ttotal: 522ms\tremaining: 2.13s\n",
      "197:\tlearn: 0.0284888\ttotal: 523ms\tremaining: 2.12s\n",
      "198:\tlearn: 0.0282683\ttotal: 526ms\tremaining: 2.12s\n",
      "199:\tlearn: 0.0280791\ttotal: 527ms\tremaining: 2.11s\n",
      "200:\tlearn: 0.0279350\ttotal: 529ms\tremaining: 2.1s\n",
      "201:\tlearn: 0.0277050\ttotal: 532ms\tremaining: 2.1s\n",
      "202:\tlearn: 0.0274908\ttotal: 534ms\tremaining: 2.1s\n",
      "203:\tlearn: 0.0273382\ttotal: 535ms\tremaining: 2.09s\n",
      "204:\tlearn: 0.0271402\ttotal: 537ms\tremaining: 2.08s\n",
      "205:\tlearn: 0.0270093\ttotal: 539ms\tremaining: 2.08s\n",
      "206:\tlearn: 0.0267237\ttotal: 540ms\tremaining: 2.07s\n",
      "207:\tlearn: 0.0265003\ttotal: 542ms\tremaining: 2.06s\n",
      "208:\tlearn: 0.0263911\ttotal: 543ms\tremaining: 2.06s\n",
      "209:\tlearn: 0.0262407\ttotal: 545ms\tremaining: 2.05s\n",
      "210:\tlearn: 0.0261033\ttotal: 546ms\tremaining: 2.04s\n",
      "211:\tlearn: 0.0259640\ttotal: 547ms\tremaining: 2.03s\n",
      "212:\tlearn: 0.0257552\ttotal: 549ms\tremaining: 2.03s\n",
      "213:\tlearn: 0.0255576\ttotal: 550ms\tremaining: 2.02s\n",
      "214:\tlearn: 0.0254216\ttotal: 551ms\tremaining: 2.01s\n",
      "215:\tlearn: 0.0252556\ttotal: 553ms\tremaining: 2s\n",
      "216:\tlearn: 0.0250670\ttotal: 554ms\tremaining: 2s\n",
      "217:\tlearn: 0.0249286\ttotal: 555ms\tremaining: 1.99s\n",
      "218:\tlearn: 0.0247859\ttotal: 558ms\tremaining: 1.99s\n",
      "219:\tlearn: 0.0246328\ttotal: 560ms\tremaining: 1.99s\n",
      "220:\tlearn: 0.0245052\ttotal: 562ms\tremaining: 1.98s\n",
      "221:\tlearn: 0.0243473\ttotal: 564ms\tremaining: 1.98s\n",
      "222:\tlearn: 0.0242165\ttotal: 566ms\tremaining: 1.97s\n",
      "223:\tlearn: 0.0240847\ttotal: 568ms\tremaining: 1.97s\n",
      "224:\tlearn: 0.0239996\ttotal: 570ms\tremaining: 1.96s\n",
      "225:\tlearn: 0.0238490\ttotal: 571ms\tremaining: 1.96s\n",
      "226:\tlearn: 0.0236221\ttotal: 573ms\tremaining: 1.95s\n",
      "227:\tlearn: 0.0234224\ttotal: 574ms\tremaining: 1.94s\n",
      "228:\tlearn: 0.0232679\ttotal: 575ms\tremaining: 1.94s\n",
      "229:\tlearn: 0.0231587\ttotal: 577ms\tremaining: 1.93s\n",
      "230:\tlearn: 0.0230728\ttotal: 578ms\tremaining: 1.93s\n",
      "231:\tlearn: 0.0228931\ttotal: 580ms\tremaining: 1.92s\n",
      "232:\tlearn: 0.0227685\ttotal: 582ms\tremaining: 1.91s\n",
      "233:\tlearn: 0.0226323\ttotal: 583ms\tremaining: 1.91s\n",
      "234:\tlearn: 0.0225314\ttotal: 585ms\tremaining: 1.9s\n",
      "235:\tlearn: 0.0224222\ttotal: 586ms\tremaining: 1.9s\n",
      "236:\tlearn: 0.0223395\ttotal: 588ms\tremaining: 1.89s\n",
      "237:\tlearn: 0.0222230\ttotal: 589ms\tremaining: 1.89s\n",
      "238:\tlearn: 0.0221489\ttotal: 590ms\tremaining: 1.88s\n",
      "239:\tlearn: 0.0220510\ttotal: 591ms\tremaining: 1.87s\n",
      "240:\tlearn: 0.0219492\ttotal: 593ms\tremaining: 1.87s\n",
      "241:\tlearn: 0.0218025\ttotal: 594ms\tremaining: 1.86s\n",
      "242:\tlearn: 0.0217035\ttotal: 596ms\tremaining: 1.86s\n",
      "243:\tlearn: 0.0216040\ttotal: 598ms\tremaining: 1.85s\n",
      "244:\tlearn: 0.0214740\ttotal: 601ms\tremaining: 1.85s\n",
      "245:\tlearn: 0.0213370\ttotal: 604ms\tremaining: 1.85s\n",
      "246:\tlearn: 0.0212358\ttotal: 605ms\tremaining: 1.84s\n",
      "247:\tlearn: 0.0211353\ttotal: 607ms\tremaining: 1.84s\n",
      "248:\tlearn: 0.0210004\ttotal: 610ms\tremaining: 1.84s\n",
      "249:\tlearn: 0.0209050\ttotal: 611ms\tremaining: 1.83s\n",
      "250:\tlearn: 0.0208272\ttotal: 613ms\tremaining: 1.83s\n",
      "251:\tlearn: 0.0207446\ttotal: 614ms\tremaining: 1.82s\n",
      "252:\tlearn: 0.0206681\ttotal: 616ms\tremaining: 1.82s\n",
      "253:\tlearn: 0.0205687\ttotal: 618ms\tremaining: 1.81s\n",
      "254:\tlearn: 0.0204919\ttotal: 619ms\tremaining: 1.81s\n",
      "255:\tlearn: 0.0203534\ttotal: 620ms\tremaining: 1.8s\n",
      "256:\tlearn: 0.0202434\ttotal: 622ms\tremaining: 1.8s\n",
      "257:\tlearn: 0.0201190\ttotal: 624ms\tremaining: 1.79s\n",
      "258:\tlearn: 0.0199778\ttotal: 625ms\tremaining: 1.79s\n",
      "259:\tlearn: 0.0198500\ttotal: 627ms\tremaining: 1.78s\n",
      "260:\tlearn: 0.0197390\ttotal: 628ms\tremaining: 1.78s\n",
      "261:\tlearn: 0.0196416\ttotal: 630ms\tremaining: 1.77s\n",
      "262:\tlearn: 0.0195444\ttotal: 632ms\tremaining: 1.77s\n",
      "263:\tlearn: 0.0194365\ttotal: 633ms\tremaining: 1.76s\n",
      "264:\tlearn: 0.0193406\ttotal: 635ms\tremaining: 1.76s\n",
      "265:\tlearn: 0.0192092\ttotal: 637ms\tremaining: 1.76s\n",
      "266:\tlearn: 0.0190955\ttotal: 639ms\tremaining: 1.75s\n",
      "267:\tlearn: 0.0190278\ttotal: 644ms\tremaining: 1.76s\n",
      "268:\tlearn: 0.0189443\ttotal: 647ms\tremaining: 1.76s\n",
      "269:\tlearn: 0.0188530\ttotal: 649ms\tremaining: 1.75s\n",
      "270:\tlearn: 0.0187490\ttotal: 651ms\tremaining: 1.75s\n",
      "271:\tlearn: 0.0186516\ttotal: 652ms\tremaining: 1.75s\n",
      "272:\tlearn: 0.0185599\ttotal: 654ms\tremaining: 1.74s\n",
      "273:\tlearn: 0.0184659\ttotal: 656ms\tremaining: 1.74s\n",
      "274:\tlearn: 0.0183696\ttotal: 657ms\tremaining: 1.73s\n",
      "275:\tlearn: 0.0182877\ttotal: 659ms\tremaining: 1.73s\n",
      "276:\tlearn: 0.0181792\ttotal: 660ms\tremaining: 1.72s\n",
      "277:\tlearn: 0.0181139\ttotal: 662ms\tremaining: 1.72s\n",
      "278:\tlearn: 0.0180131\ttotal: 664ms\tremaining: 1.72s\n",
      "279:\tlearn: 0.0179418\ttotal: 667ms\tremaining: 1.71s\n",
      "280:\tlearn: 0.0178605\ttotal: 669ms\tremaining: 1.71s\n",
      "281:\tlearn: 0.0177565\ttotal: 671ms\tremaining: 1.71s\n",
      "282:\tlearn: 0.0176893\ttotal: 672ms\tremaining: 1.7s\n",
      "283:\tlearn: 0.0175813\ttotal: 674ms\tremaining: 1.7s\n",
      "284:\tlearn: 0.0175340\ttotal: 675ms\tremaining: 1.69s\n",
      "285:\tlearn: 0.0174710\ttotal: 676ms\tremaining: 1.69s\n",
      "286:\tlearn: 0.0174104\ttotal: 678ms\tremaining: 1.68s\n",
      "287:\tlearn: 0.0173535\ttotal: 680ms\tremaining: 1.68s\n",
      "288:\tlearn: 0.0172827\ttotal: 681ms\tremaining: 1.68s\n",
      "289:\tlearn: 0.0172146\ttotal: 683ms\tremaining: 1.67s\n",
      "290:\tlearn: 0.0171519\ttotal: 686ms\tremaining: 1.67s\n",
      "291:\tlearn: 0.0170673\ttotal: 687ms\tremaining: 1.67s\n",
      "292:\tlearn: 0.0169671\ttotal: 689ms\tremaining: 1.66s\n",
      "293:\tlearn: 0.0168944\ttotal: 691ms\tremaining: 1.66s\n",
      "294:\tlearn: 0.0167825\ttotal: 692ms\tremaining: 1.65s\n",
      "295:\tlearn: 0.0166853\ttotal: 694ms\tremaining: 1.65s\n",
      "296:\tlearn: 0.0166289\ttotal: 695ms\tremaining: 1.65s\n",
      "297:\tlearn: 0.0165274\ttotal: 697ms\tremaining: 1.64s\n",
      "298:\tlearn: 0.0164519\ttotal: 698ms\tremaining: 1.64s\n",
      "299:\tlearn: 0.0163779\ttotal: 699ms\tremaining: 1.63s\n",
      "300:\tlearn: 0.0163259\ttotal: 700ms\tremaining: 1.63s\n",
      "301:\tlearn: 0.0162490\ttotal: 702ms\tremaining: 1.62s\n",
      "302:\tlearn: 0.0161883\ttotal: 703ms\tremaining: 1.62s\n",
      "303:\tlearn: 0.0161292\ttotal: 705ms\tremaining: 1.61s\n",
      "304:\tlearn: 0.0160770\ttotal: 706ms\tremaining: 1.61s\n",
      "305:\tlearn: 0.0160288\ttotal: 709ms\tremaining: 1.61s\n",
      "306:\tlearn: 0.0159448\ttotal: 710ms\tremaining: 1.6s\n",
      "307:\tlearn: 0.0158895\ttotal: 711ms\tremaining: 1.6s\n",
      "308:\tlearn: 0.0158266\ttotal: 713ms\tremaining: 1.59s\n",
      "309:\tlearn: 0.0157560\ttotal: 714ms\tremaining: 1.59s\n",
      "310:\tlearn: 0.0157214\ttotal: 716ms\tremaining: 1.58s\n",
      "311:\tlearn: 0.0156652\ttotal: 717ms\tremaining: 1.58s\n",
      "312:\tlearn: 0.0156082\ttotal: 719ms\tremaining: 1.58s\n",
      "313:\tlearn: 0.0155398\ttotal: 720ms\tremaining: 1.57s\n",
      "314:\tlearn: 0.0154846\ttotal: 722ms\tremaining: 1.57s\n",
      "315:\tlearn: 0.0154374\ttotal: 723ms\tremaining: 1.56s\n",
      "316:\tlearn: 0.0153792\ttotal: 725ms\tremaining: 1.56s\n",
      "317:\tlearn: 0.0153387\ttotal: 728ms\tremaining: 1.56s\n",
      "318:\tlearn: 0.0152966\ttotal: 730ms\tremaining: 1.56s\n",
      "319:\tlearn: 0.0152309\ttotal: 731ms\tremaining: 1.55s\n",
      "320:\tlearn: 0.0151871\ttotal: 733ms\tremaining: 1.55s\n",
      "321:\tlearn: 0.0151055\ttotal: 734ms\tremaining: 1.55s\n",
      "322:\tlearn: 0.0150665\ttotal: 736ms\tremaining: 1.54s\n",
      "323:\tlearn: 0.0150275\ttotal: 737ms\tremaining: 1.54s\n",
      "324:\tlearn: 0.0149765\ttotal: 739ms\tremaining: 1.53s\n",
      "325:\tlearn: 0.0149153\ttotal: 740ms\tremaining: 1.53s\n",
      "326:\tlearn: 0.0148444\ttotal: 742ms\tremaining: 1.53s\n",
      "327:\tlearn: 0.0147888\ttotal: 743ms\tremaining: 1.52s\n",
      "328:\tlearn: 0.0147454\ttotal: 745ms\tremaining: 1.52s\n",
      "329:\tlearn: 0.0147015\ttotal: 746ms\tremaining: 1.51s\n",
      "330:\tlearn: 0.0146365\ttotal: 748ms\tremaining: 1.51s\n",
      "331:\tlearn: 0.0145746\ttotal: 749ms\tremaining: 1.51s\n",
      "332:\tlearn: 0.0145282\ttotal: 751ms\tremaining: 1.5s\n",
      "333:\tlearn: 0.0144824\ttotal: 752ms\tremaining: 1.5s\n",
      "334:\tlearn: 0.0144316\ttotal: 754ms\tremaining: 1.5s\n",
      "335:\tlearn: 0.0143797\ttotal: 756ms\tremaining: 1.49s\n",
      "336:\tlearn: 0.0143084\ttotal: 758ms\tremaining: 1.49s\n",
      "337:\tlearn: 0.0142518\ttotal: 759ms\tremaining: 1.49s\n",
      "338:\tlearn: 0.0142182\ttotal: 761ms\tremaining: 1.48s\n",
      "339:\tlearn: 0.0141737\ttotal: 762ms\tremaining: 1.48s\n",
      "340:\tlearn: 0.0141316\ttotal: 764ms\tremaining: 1.48s\n",
      "341:\tlearn: 0.0140867\ttotal: 765ms\tremaining: 1.47s\n",
      "342:\tlearn: 0.0140407\ttotal: 767ms\tremaining: 1.47s\n",
      "343:\tlearn: 0.0139993\ttotal: 768ms\tremaining: 1.47s\n",
      "344:\tlearn: 0.0139506\ttotal: 770ms\tremaining: 1.46s\n",
      "345:\tlearn: 0.0138876\ttotal: 772ms\tremaining: 1.46s\n",
      "346:\tlearn: 0.0138450\ttotal: 774ms\tremaining: 1.46s\n",
      "347:\tlearn: 0.0137915\ttotal: 776ms\tremaining: 1.45s\n",
      "348:\tlearn: 0.0137536\ttotal: 778ms\tremaining: 1.45s\n",
      "349:\tlearn: 0.0137065\ttotal: 780ms\tremaining: 1.45s\n"
     ]
    },
    {
     "name": "stdout",
     "output_type": "stream",
     "text": [
      "350:\tlearn: 0.0136698\ttotal: 782ms\tremaining: 1.45s\n",
      "351:\tlearn: 0.0136250\ttotal: 784ms\tremaining: 1.44s\n",
      "352:\tlearn: 0.0135848\ttotal: 786ms\tremaining: 1.44s\n",
      "353:\tlearn: 0.0135441\ttotal: 787ms\tremaining: 1.44s\n",
      "354:\tlearn: 0.0134934\ttotal: 789ms\tremaining: 1.43s\n",
      "355:\tlearn: 0.0134270\ttotal: 790ms\tremaining: 1.43s\n",
      "356:\tlearn: 0.0133711\ttotal: 792ms\tremaining: 1.43s\n",
      "357:\tlearn: 0.0133120\ttotal: 794ms\tremaining: 1.42s\n",
      "358:\tlearn: 0.0132814\ttotal: 795ms\tremaining: 1.42s\n",
      "359:\tlearn: 0.0132225\ttotal: 796ms\tremaining: 1.42s\n",
      "360:\tlearn: 0.0131790\ttotal: 798ms\tremaining: 1.41s\n",
      "361:\tlearn: 0.0131442\ttotal: 799ms\tremaining: 1.41s\n",
      "362:\tlearn: 0.0131007\ttotal: 800ms\tremaining: 1.4s\n",
      "363:\tlearn: 0.0130381\ttotal: 802ms\tremaining: 1.4s\n",
      "364:\tlearn: 0.0129973\ttotal: 804ms\tremaining: 1.4s\n",
      "365:\tlearn: 0.0129676\ttotal: 805ms\tremaining: 1.39s\n",
      "366:\tlearn: 0.0129070\ttotal: 808ms\tremaining: 1.39s\n",
      "367:\tlearn: 0.0128793\ttotal: 812ms\tremaining: 1.4s\n",
      "368:\tlearn: 0.0128458\ttotal: 815ms\tremaining: 1.39s\n",
      "369:\tlearn: 0.0128116\ttotal: 817ms\tremaining: 1.39s\n",
      "370:\tlearn: 0.0127707\ttotal: 819ms\tremaining: 1.39s\n",
      "371:\tlearn: 0.0127232\ttotal: 821ms\tremaining: 1.39s\n",
      "372:\tlearn: 0.0126717\ttotal: 823ms\tremaining: 1.38s\n",
      "373:\tlearn: 0.0126407\ttotal: 824ms\tremaining: 1.38s\n",
      "374:\tlearn: 0.0126065\ttotal: 826ms\tremaining: 1.38s\n",
      "375:\tlearn: 0.0125804\ttotal: 827ms\tremaining: 1.37s\n",
      "376:\tlearn: 0.0125368\ttotal: 829ms\tremaining: 1.37s\n",
      "377:\tlearn: 0.0124957\ttotal: 832ms\tremaining: 1.37s\n",
      "378:\tlearn: 0.0124619\ttotal: 833ms\tremaining: 1.36s\n",
      "379:\tlearn: 0.0124327\ttotal: 836ms\tremaining: 1.36s\n",
      "380:\tlearn: 0.0123906\ttotal: 838ms\tremaining: 1.36s\n",
      "381:\tlearn: 0.0123610\ttotal: 840ms\tremaining: 1.36s\n",
      "382:\tlearn: 0.0123079\ttotal: 843ms\tremaining: 1.36s\n",
      "383:\tlearn: 0.0122803\ttotal: 845ms\tremaining: 1.35s\n",
      "384:\tlearn: 0.0122570\ttotal: 848ms\tremaining: 1.35s\n",
      "385:\tlearn: 0.0122154\ttotal: 849ms\tremaining: 1.35s\n",
      "386:\tlearn: 0.0121739\ttotal: 851ms\tremaining: 1.35s\n",
      "387:\tlearn: 0.0121291\ttotal: 853ms\tremaining: 1.34s\n",
      "388:\tlearn: 0.0120824\ttotal: 854ms\tremaining: 1.34s\n",
      "389:\tlearn: 0.0120468\ttotal: 856ms\tremaining: 1.34s\n",
      "390:\tlearn: 0.0120048\ttotal: 857ms\tremaining: 1.33s\n",
      "391:\tlearn: 0.0119499\ttotal: 858ms\tremaining: 1.33s\n",
      "392:\tlearn: 0.0119146\ttotal: 860ms\tremaining: 1.33s\n",
      "393:\tlearn: 0.0118848\ttotal: 862ms\tremaining: 1.33s\n",
      "394:\tlearn: 0.0118556\ttotal: 864ms\tremaining: 1.32s\n",
      "395:\tlearn: 0.0118273\ttotal: 866ms\tremaining: 1.32s\n",
      "396:\tlearn: 0.0117947\ttotal: 867ms\tremaining: 1.32s\n",
      "397:\tlearn: 0.0117561\ttotal: 869ms\tremaining: 1.31s\n",
      "398:\tlearn: 0.0117094\ttotal: 871ms\tremaining: 1.31s\n",
      "399:\tlearn: 0.0116756\ttotal: 873ms\tremaining: 1.31s\n",
      "400:\tlearn: 0.0116356\ttotal: 874ms\tremaining: 1.31s\n",
      "401:\tlearn: 0.0115919\ttotal: 878ms\tremaining: 1.3s\n",
      "402:\tlearn: 0.0115676\ttotal: 881ms\tremaining: 1.3s\n",
      "403:\tlearn: 0.0115336\ttotal: 883ms\tremaining: 1.3s\n",
      "404:\tlearn: 0.0114936\ttotal: 885ms\tremaining: 1.3s\n",
      "405:\tlearn: 0.0114515\ttotal: 886ms\tremaining: 1.3s\n",
      "406:\tlearn: 0.0114123\ttotal: 888ms\tremaining: 1.29s\n",
      "407:\tlearn: 0.0113786\ttotal: 890ms\tremaining: 1.29s\n",
      "408:\tlearn: 0.0113487\ttotal: 891ms\tremaining: 1.29s\n",
      "409:\tlearn: 0.0113143\ttotal: 893ms\tremaining: 1.28s\n",
      "410:\tlearn: 0.0112832\ttotal: 894ms\tremaining: 1.28s\n",
      "411:\tlearn: 0.0112625\ttotal: 895ms\tremaining: 1.28s\n",
      "412:\tlearn: 0.0112213\ttotal: 897ms\tremaining: 1.27s\n",
      "413:\tlearn: 0.0111910\ttotal: 899ms\tremaining: 1.27s\n",
      "414:\tlearn: 0.0111600\ttotal: 900ms\tremaining: 1.27s\n",
      "415:\tlearn: 0.0111047\ttotal: 901ms\tremaining: 1.26s\n",
      "416:\tlearn: 0.0110756\ttotal: 903ms\tremaining: 1.26s\n",
      "417:\tlearn: 0.0110466\ttotal: 905ms\tremaining: 1.26s\n",
      "418:\tlearn: 0.0110129\ttotal: 907ms\tremaining: 1.26s\n",
      "419:\tlearn: 0.0109840\ttotal: 909ms\tremaining: 1.25s\n",
      "420:\tlearn: 0.0109635\ttotal: 910ms\tremaining: 1.25s\n",
      "421:\tlearn: 0.0109406\ttotal: 911ms\tremaining: 1.25s\n",
      "422:\tlearn: 0.0109073\ttotal: 913ms\tremaining: 1.24s\n",
      "423:\tlearn: 0.0108715\ttotal: 914ms\tremaining: 1.24s\n",
      "424:\tlearn: 0.0108382\ttotal: 916ms\tremaining: 1.24s\n",
      "425:\tlearn: 0.0108069\ttotal: 918ms\tremaining: 1.24s\n",
      "426:\tlearn: 0.0107775\ttotal: 921ms\tremaining: 1.24s\n",
      "427:\tlearn: 0.0107379\ttotal: 923ms\tremaining: 1.23s\n",
      "428:\tlearn: 0.0107100\ttotal: 925ms\tremaining: 1.23s\n",
      "429:\tlearn: 0.0106809\ttotal: 927ms\tremaining: 1.23s\n",
      "430:\tlearn: 0.0106492\ttotal: 929ms\tremaining: 1.23s\n",
      "431:\tlearn: 0.0106154\ttotal: 931ms\tremaining: 1.22s\n",
      "432:\tlearn: 0.0105878\ttotal: 933ms\tremaining: 1.22s\n",
      "433:\tlearn: 0.0105518\ttotal: 934ms\tremaining: 1.22s\n",
      "434:\tlearn: 0.0105301\ttotal: 936ms\tremaining: 1.22s\n",
      "435:\tlearn: 0.0105047\ttotal: 938ms\tremaining: 1.21s\n",
      "436:\tlearn: 0.0104792\ttotal: 940ms\tremaining: 1.21s\n",
      "437:\tlearn: 0.0104568\ttotal: 941ms\tremaining: 1.21s\n",
      "438:\tlearn: 0.0104207\ttotal: 943ms\tremaining: 1.2s\n",
      "439:\tlearn: 0.0103913\ttotal: 945ms\tremaining: 1.2s\n",
      "440:\tlearn: 0.0103662\ttotal: 946ms\tremaining: 1.2s\n",
      "441:\tlearn: 0.0103427\ttotal: 949ms\tremaining: 1.2s\n",
      "442:\tlearn: 0.0103167\ttotal: 952ms\tremaining: 1.2s\n",
      "443:\tlearn: 0.0103002\ttotal: 954ms\tremaining: 1.19s\n",
      "444:\tlearn: 0.0102805\ttotal: 955ms\tremaining: 1.19s\n",
      "445:\tlearn: 0.0102489\ttotal: 957ms\tremaining: 1.19s\n",
      "446:\tlearn: 0.0102191\ttotal: 959ms\tremaining: 1.19s\n",
      "447:\tlearn: 0.0102000\ttotal: 961ms\tremaining: 1.18s\n",
      "448:\tlearn: 0.0101732\ttotal: 962ms\tremaining: 1.18s\n",
      "449:\tlearn: 0.0101459\ttotal: 963ms\tremaining: 1.18s\n",
      "450:\tlearn: 0.0101046\ttotal: 968ms\tremaining: 1.18s\n",
      "451:\tlearn: 0.0100673\ttotal: 970ms\tremaining: 1.18s\n",
      "452:\tlearn: 0.0100450\ttotal: 972ms\tremaining: 1.17s\n",
      "453:\tlearn: 0.0100234\ttotal: 973ms\tremaining: 1.17s\n",
      "454:\tlearn: 0.0099964\ttotal: 975ms\tremaining: 1.17s\n",
      "455:\tlearn: 0.0099734\ttotal: 977ms\tremaining: 1.17s\n",
      "456:\tlearn: 0.0099436\ttotal: 979ms\tremaining: 1.16s\n",
      "457:\tlearn: 0.0099261\ttotal: 981ms\tremaining: 1.16s\n",
      "458:\tlearn: 0.0099056\ttotal: 982ms\tremaining: 1.16s\n",
      "459:\tlearn: 0.0098794\ttotal: 984ms\tremaining: 1.15s\n",
      "460:\tlearn: 0.0098538\ttotal: 985ms\tremaining: 1.15s\n",
      "461:\tlearn: 0.0098363\ttotal: 987ms\tremaining: 1.15s\n",
      "462:\tlearn: 0.0098060\ttotal: 988ms\tremaining: 1.15s\n",
      "463:\tlearn: 0.0097760\ttotal: 990ms\tremaining: 1.14s\n",
      "464:\tlearn: 0.0097501\ttotal: 991ms\tremaining: 1.14s\n",
      "465:\tlearn: 0.0097173\ttotal: 993ms\tremaining: 1.14s\n",
      "466:\tlearn: 0.0096865\ttotal: 994ms\tremaining: 1.13s\n",
      "467:\tlearn: 0.0096630\ttotal: 995ms\tremaining: 1.13s\n",
      "468:\tlearn: 0.0096379\ttotal: 997ms\tremaining: 1.13s\n",
      "469:\tlearn: 0.0096076\ttotal: 998ms\tremaining: 1.13s\n",
      "470:\tlearn: 0.0095904\ttotal: 1000ms\tremaining: 1.12s\n",
      "471:\tlearn: 0.0095635\ttotal: 1s\tremaining: 1.12s\n",
      "472:\tlearn: 0.0095420\ttotal: 1s\tremaining: 1.12s\n",
      "473:\tlearn: 0.0095159\ttotal: 1s\tremaining: 1.11s\n",
      "474:\tlearn: 0.0094899\ttotal: 1.01s\tremaining: 1.11s\n",
      "475:\tlearn: 0.0094732\ttotal: 1.01s\tremaining: 1.11s\n",
      "476:\tlearn: 0.0094496\ttotal: 1.01s\tremaining: 1.11s\n",
      "477:\tlearn: 0.0094281\ttotal: 1.01s\tremaining: 1.1s\n",
      "478:\tlearn: 0.0094046\ttotal: 1.01s\tremaining: 1.1s\n",
      "479:\tlearn: 0.0093863\ttotal: 1.01s\tremaining: 1.1s\n",
      "480:\tlearn: 0.0093732\ttotal: 1.03s\tremaining: 1.11s\n",
      "481:\tlearn: 0.0093393\ttotal: 1.03s\tremaining: 1.11s\n",
      "482:\tlearn: 0.0093181\ttotal: 1.03s\tremaining: 1.11s\n",
      "483:\tlearn: 0.0092981\ttotal: 1.04s\tremaining: 1.1s\n",
      "484:\tlearn: 0.0092786\ttotal: 1.04s\tremaining: 1.1s\n",
      "485:\tlearn: 0.0092588\ttotal: 1.04s\tremaining: 1.1s\n",
      "486:\tlearn: 0.0092400\ttotal: 1.04s\tremaining: 1.1s\n",
      "487:\tlearn: 0.0092165\ttotal: 1.04s\tremaining: 1.09s\n",
      "488:\tlearn: 0.0091972\ttotal: 1.04s\tremaining: 1.09s\n",
      "489:\tlearn: 0.0091710\ttotal: 1.04s\tremaining: 1.09s\n",
      "490:\tlearn: 0.0091534\ttotal: 1.05s\tremaining: 1.08s\n",
      "491:\tlearn: 0.0091306\ttotal: 1.05s\tremaining: 1.08s\n",
      "492:\tlearn: 0.0091039\ttotal: 1.05s\tremaining: 1.08s\n",
      "493:\tlearn: 0.0090738\ttotal: 1.05s\tremaining: 1.08s\n",
      "494:\tlearn: 0.0090551\ttotal: 1.05s\tremaining: 1.08s\n",
      "495:\tlearn: 0.0090388\ttotal: 1.06s\tremaining: 1.07s\n",
      "496:\tlearn: 0.0090198\ttotal: 1.06s\tremaining: 1.07s\n",
      "497:\tlearn: 0.0089918\ttotal: 1.06s\tremaining: 1.07s\n",
      "498:\tlearn: 0.0089772\ttotal: 1.06s\tremaining: 1.07s\n",
      "499:\tlearn: 0.0089457\ttotal: 1.06s\tremaining: 1.06s\n",
      "500:\tlearn: 0.0089190\ttotal: 1.06s\tremaining: 1.06s\n",
      "501:\tlearn: 0.0088973\ttotal: 1.07s\tremaining: 1.06s\n",
      "502:\tlearn: 0.0088666\ttotal: 1.07s\tremaining: 1.05s\n",
      "503:\tlearn: 0.0088517\ttotal: 1.07s\tremaining: 1.05s\n",
      "504:\tlearn: 0.0088265\ttotal: 1.07s\tremaining: 1.05s\n",
      "505:\tlearn: 0.0088127\ttotal: 1.07s\tremaining: 1.05s\n",
      "506:\tlearn: 0.0087926\ttotal: 1.07s\tremaining: 1.04s\n",
      "507:\tlearn: 0.0087748\ttotal: 1.08s\tremaining: 1.04s\n",
      "508:\tlearn: 0.0087575\ttotal: 1.08s\tremaining: 1.04s\n",
      "509:\tlearn: 0.0087403\ttotal: 1.08s\tremaining: 1.04s\n",
      "510:\tlearn: 0.0087192\ttotal: 1.08s\tremaining: 1.03s\n",
      "511:\tlearn: 0.0086967\ttotal: 1.08s\tremaining: 1.03s\n",
      "512:\tlearn: 0.0086800\ttotal: 1.08s\tremaining: 1.03s\n",
      "513:\tlearn: 0.0086622\ttotal: 1.08s\tremaining: 1.03s\n",
      "514:\tlearn: 0.0086486\ttotal: 1.09s\tremaining: 1.02s\n",
      "515:\tlearn: 0.0086348\ttotal: 1.09s\tremaining: 1.02s\n",
      "516:\tlearn: 0.0086111\ttotal: 1.09s\tremaining: 1.02s\n",
      "517:\tlearn: 0.0085875\ttotal: 1.09s\tremaining: 1.02s\n",
      "518:\tlearn: 0.0085718\ttotal: 1.09s\tremaining: 1.01s\n",
      "519:\tlearn: 0.0085554\ttotal: 1.1s\tremaining: 1.01s\n"
     ]
    },
    {
     "name": "stdout",
     "output_type": "stream",
     "text": [
      "520:\tlearn: 0.0085388\ttotal: 1.1s\tremaining: 1.01s\n",
      "521:\tlearn: 0.0085167\ttotal: 1.1s\tremaining: 1.01s\n",
      "522:\tlearn: 0.0084935\ttotal: 1.1s\tremaining: 1s\n",
      "523:\tlearn: 0.0084773\ttotal: 1.1s\tremaining: 1s\n",
      "524:\tlearn: 0.0084650\ttotal: 1.11s\tremaining: 1s\n",
      "525:\tlearn: 0.0084476\ttotal: 1.11s\tremaining: 1s\n",
      "526:\tlearn: 0.0084301\ttotal: 1.11s\tremaining: 999ms\n",
      "527:\tlearn: 0.0084131\ttotal: 1.11s\tremaining: 997ms\n",
      "528:\tlearn: 0.0083914\ttotal: 1.12s\tremaining: 997ms\n",
      "529:\tlearn: 0.0083773\ttotal: 1.12s\tremaining: 994ms\n",
      "530:\tlearn: 0.0083555\ttotal: 1.12s\tremaining: 992ms\n",
      "531:\tlearn: 0.0083303\ttotal: 1.12s\tremaining: 989ms\n",
      "532:\tlearn: 0.0083111\ttotal: 1.13s\tremaining: 986ms\n",
      "533:\tlearn: 0.0082988\ttotal: 1.13s\tremaining: 983ms\n",
      "534:\tlearn: 0.0082779\ttotal: 1.13s\tremaining: 980ms\n",
      "535:\tlearn: 0.0082624\ttotal: 1.13s\tremaining: 978ms\n",
      "536:\tlearn: 0.0082513\ttotal: 1.13s\tremaining: 976ms\n",
      "537:\tlearn: 0.0082311\ttotal: 1.13s\tremaining: 975ms\n",
      "538:\tlearn: 0.0082153\ttotal: 1.14s\tremaining: 973ms\n",
      "539:\tlearn: 0.0081969\ttotal: 1.14s\tremaining: 970ms\n",
      "540:\tlearn: 0.0081814\ttotal: 1.14s\tremaining: 967ms\n",
      "541:\tlearn: 0.0081679\ttotal: 1.14s\tremaining: 965ms\n",
      "542:\tlearn: 0.0081439\ttotal: 1.14s\tremaining: 962ms\n",
      "543:\tlearn: 0.0081330\ttotal: 1.15s\tremaining: 960ms\n",
      "544:\tlearn: 0.0081118\ttotal: 1.15s\tremaining: 959ms\n",
      "545:\tlearn: 0.0080979\ttotal: 1.15s\tremaining: 957ms\n",
      "546:\tlearn: 0.0080855\ttotal: 1.15s\tremaining: 955ms\n",
      "547:\tlearn: 0.0080594\ttotal: 1.16s\tremaining: 953ms\n",
      "548:\tlearn: 0.0080463\ttotal: 1.16s\tremaining: 952ms\n",
      "549:\tlearn: 0.0080300\ttotal: 1.16s\tremaining: 949ms\n",
      "550:\tlearn: 0.0080180\ttotal: 1.16s\tremaining: 946ms\n",
      "551:\tlearn: 0.0080002\ttotal: 1.16s\tremaining: 943ms\n",
      "552:\tlearn: 0.0079834\ttotal: 1.16s\tremaining: 941ms\n",
      "553:\tlearn: 0.0079680\ttotal: 1.17s\tremaining: 938ms\n",
      "554:\tlearn: 0.0079455\ttotal: 1.17s\tremaining: 935ms\n",
      "555:\tlearn: 0.0079271\ttotal: 1.17s\tremaining: 933ms\n",
      "556:\tlearn: 0.0079096\ttotal: 1.17s\tremaining: 930ms\n",
      "557:\tlearn: 0.0078934\ttotal: 1.17s\tremaining: 928ms\n",
      "558:\tlearn: 0.0078765\ttotal: 1.17s\tremaining: 926ms\n",
      "559:\tlearn: 0.0078665\ttotal: 1.18s\tremaining: 923ms\n",
      "560:\tlearn: 0.0078484\ttotal: 1.18s\tremaining: 921ms\n",
      "561:\tlearn: 0.0078296\ttotal: 1.18s\tremaining: 919ms\n",
      "562:\tlearn: 0.0078182\ttotal: 1.18s\tremaining: 917ms\n",
      "563:\tlearn: 0.0077976\ttotal: 1.18s\tremaining: 915ms\n",
      "564:\tlearn: 0.0077854\ttotal: 1.18s\tremaining: 912ms\n",
      "565:\tlearn: 0.0077740\ttotal: 1.19s\tremaining: 909ms\n",
      "566:\tlearn: 0.0077607\ttotal: 1.19s\tremaining: 907ms\n",
      "567:\tlearn: 0.0077466\ttotal: 1.19s\tremaining: 905ms\n",
      "568:\tlearn: 0.0077310\ttotal: 1.19s\tremaining: 903ms\n",
      "569:\tlearn: 0.0077187\ttotal: 1.19s\tremaining: 900ms\n",
      "570:\tlearn: 0.0077045\ttotal: 1.19s\tremaining: 898ms\n",
      "571:\tlearn: 0.0076902\ttotal: 1.2s\tremaining: 895ms\n",
      "572:\tlearn: 0.0076783\ttotal: 1.2s\tremaining: 893ms\n",
      "573:\tlearn: 0.0076656\ttotal: 1.2s\tremaining: 891ms\n",
      "574:\tlearn: 0.0076497\ttotal: 1.2s\tremaining: 889ms\n",
      "575:\tlearn: 0.0076274\ttotal: 1.2s\tremaining: 886ms\n",
      "576:\tlearn: 0.0076085\ttotal: 1.21s\tremaining: 884ms\n",
      "577:\tlearn: 0.0075883\ttotal: 1.21s\tremaining: 882ms\n",
      "578:\tlearn: 0.0075762\ttotal: 1.21s\tremaining: 879ms\n",
      "579:\tlearn: 0.0075649\ttotal: 1.21s\tremaining: 877ms\n",
      "580:\tlearn: 0.0075520\ttotal: 1.21s\tremaining: 874ms\n",
      "581:\tlearn: 0.0075358\ttotal: 1.21s\tremaining: 872ms\n",
      "582:\tlearn: 0.0075239\ttotal: 1.22s\tremaining: 869ms\n",
      "583:\tlearn: 0.0075114\ttotal: 1.22s\tremaining: 867ms\n",
      "584:\tlearn: 0.0074996\ttotal: 1.22s\tremaining: 864ms\n",
      "585:\tlearn: 0.0074858\ttotal: 1.22s\tremaining: 861ms\n",
      "586:\tlearn: 0.0074737\ttotal: 1.22s\tremaining: 859ms\n",
      "587:\tlearn: 0.0074587\ttotal: 1.22s\tremaining: 856ms\n",
      "588:\tlearn: 0.0074397\ttotal: 1.22s\tremaining: 854ms\n",
      "589:\tlearn: 0.0074277\ttotal: 1.22s\tremaining: 851ms\n",
      "590:\tlearn: 0.0074132\ttotal: 1.23s\tremaining: 849ms\n",
      "591:\tlearn: 0.0074030\ttotal: 1.23s\tremaining: 846ms\n",
      "592:\tlearn: 0.0073911\ttotal: 1.23s\tremaining: 844ms\n",
      "593:\tlearn: 0.0073747\ttotal: 1.23s\tremaining: 842ms\n",
      "594:\tlearn: 0.0073631\ttotal: 1.23s\tremaining: 840ms\n",
      "595:\tlearn: 0.0073497\ttotal: 1.24s\tremaining: 838ms\n",
      "596:\tlearn: 0.0073386\ttotal: 1.24s\tremaining: 836ms\n",
      "597:\tlearn: 0.0073243\ttotal: 1.24s\tremaining: 833ms\n",
      "598:\tlearn: 0.0073110\ttotal: 1.24s\tremaining: 831ms\n",
      "599:\tlearn: 0.0072980\ttotal: 1.24s\tremaining: 828ms\n",
      "600:\tlearn: 0.0072866\ttotal: 1.24s\tremaining: 826ms\n",
      "601:\tlearn: 0.0072752\ttotal: 1.25s\tremaining: 823ms\n",
      "602:\tlearn: 0.0072540\ttotal: 1.25s\tremaining: 821ms\n",
      "603:\tlearn: 0.0072447\ttotal: 1.25s\tremaining: 818ms\n",
      "604:\tlearn: 0.0072272\ttotal: 1.25s\tremaining: 816ms\n",
      "605:\tlearn: 0.0072114\ttotal: 1.25s\tremaining: 813ms\n",
      "606:\tlearn: 0.0071986\ttotal: 1.25s\tremaining: 811ms\n",
      "607:\tlearn: 0.0071821\ttotal: 1.25s\tremaining: 809ms\n",
      "608:\tlearn: 0.0071656\ttotal: 1.25s\tremaining: 806ms\n",
      "609:\tlearn: 0.0071508\ttotal: 1.26s\tremaining: 804ms\n",
      "610:\tlearn: 0.0071366\ttotal: 1.26s\tremaining: 802ms\n",
      "611:\tlearn: 0.0071143\ttotal: 1.26s\tremaining: 800ms\n",
      "612:\tlearn: 0.0070943\ttotal: 1.26s\tremaining: 798ms\n",
      "613:\tlearn: 0.0070783\ttotal: 1.26s\tremaining: 795ms\n",
      "614:\tlearn: 0.0070627\ttotal: 1.27s\tremaining: 793ms\n",
      "615:\tlearn: 0.0070531\ttotal: 1.27s\tremaining: 790ms\n",
      "616:\tlearn: 0.0070373\ttotal: 1.27s\tremaining: 788ms\n",
      "617:\tlearn: 0.0070283\ttotal: 1.27s\tremaining: 786ms\n",
      "618:\tlearn: 0.0070175\ttotal: 1.27s\tremaining: 783ms\n",
      "619:\tlearn: 0.0070054\ttotal: 1.27s\tremaining: 781ms\n",
      "620:\tlearn: 0.0069895\ttotal: 1.28s\tremaining: 779ms\n",
      "621:\tlearn: 0.0069801\ttotal: 1.28s\tremaining: 777ms\n",
      "622:\tlearn: 0.0069710\ttotal: 1.28s\tremaining: 774ms\n",
      "623:\tlearn: 0.0069576\ttotal: 1.28s\tremaining: 772ms\n",
      "624:\tlearn: 0.0069406\ttotal: 1.28s\tremaining: 770ms\n",
      "625:\tlearn: 0.0069333\ttotal: 1.29s\tremaining: 769ms\n",
      "626:\tlearn: 0.0069186\ttotal: 1.29s\tremaining: 767ms\n",
      "627:\tlearn: 0.0069022\ttotal: 1.29s\tremaining: 765ms\n",
      "628:\tlearn: 0.0068879\ttotal: 1.29s\tremaining: 763ms\n",
      "629:\tlearn: 0.0068782\ttotal: 1.29s\tremaining: 761ms\n",
      "630:\tlearn: 0.0068663\ttotal: 1.3s\tremaining: 758ms\n",
      "631:\tlearn: 0.0068552\ttotal: 1.3s\tremaining: 756ms\n",
      "632:\tlearn: 0.0068393\ttotal: 1.3s\tremaining: 754ms\n",
      "633:\tlearn: 0.0068284\ttotal: 1.3s\tremaining: 752ms\n",
      "634:\tlearn: 0.0068118\ttotal: 1.3s\tremaining: 749ms\n",
      "635:\tlearn: 0.0067941\ttotal: 1.3s\tremaining: 747ms\n",
      "636:\tlearn: 0.0067851\ttotal: 1.31s\tremaining: 745ms\n",
      "637:\tlearn: 0.0067718\ttotal: 1.31s\tremaining: 743ms\n",
      "638:\tlearn: 0.0067575\ttotal: 1.31s\tremaining: 740ms\n",
      "639:\tlearn: 0.0067492\ttotal: 1.31s\tremaining: 738ms\n",
      "640:\tlearn: 0.0067397\ttotal: 1.31s\tremaining: 736ms\n",
      "641:\tlearn: 0.0067275\ttotal: 1.32s\tremaining: 734ms\n",
      "642:\tlearn: 0.0067172\ttotal: 1.32s\tremaining: 732ms\n",
      "643:\tlearn: 0.0067011\ttotal: 1.32s\tremaining: 730ms\n",
      "644:\tlearn: 0.0066896\ttotal: 1.32s\tremaining: 727ms\n",
      "645:\tlearn: 0.0066782\ttotal: 1.32s\tremaining: 725ms\n",
      "646:\tlearn: 0.0066651\ttotal: 1.32s\tremaining: 723ms\n",
      "647:\tlearn: 0.0066559\ttotal: 1.33s\tremaining: 721ms\n",
      "648:\tlearn: 0.0066456\ttotal: 1.33s\tremaining: 718ms\n",
      "649:\tlearn: 0.0066380\ttotal: 1.33s\tremaining: 716ms\n",
      "650:\tlearn: 0.0066289\ttotal: 1.33s\tremaining: 714ms\n",
      "651:\tlearn: 0.0066104\ttotal: 1.33s\tremaining: 711ms\n",
      "652:\tlearn: 0.0065983\ttotal: 1.33s\tremaining: 709ms\n",
      "653:\tlearn: 0.0065867\ttotal: 1.33s\tremaining: 707ms\n",
      "654:\tlearn: 0.0065774\ttotal: 1.34s\tremaining: 704ms\n",
      "655:\tlearn: 0.0065686\ttotal: 1.34s\tremaining: 702ms\n",
      "656:\tlearn: 0.0065589\ttotal: 1.34s\tremaining: 701ms\n",
      "657:\tlearn: 0.0065478\ttotal: 1.34s\tremaining: 699ms\n",
      "658:\tlearn: 0.0065318\ttotal: 1.34s\tremaining: 696ms\n",
      "659:\tlearn: 0.0065224\ttotal: 1.35s\tremaining: 694ms\n",
      "660:\tlearn: 0.0065112\ttotal: 1.35s\tremaining: 692ms\n",
      "661:\tlearn: 0.0064969\ttotal: 1.35s\tremaining: 690ms\n",
      "662:\tlearn: 0.0064872\ttotal: 1.35s\tremaining: 687ms\n",
      "663:\tlearn: 0.0064782\ttotal: 1.35s\tremaining: 685ms\n",
      "664:\tlearn: 0.0064690\ttotal: 1.36s\tremaining: 684ms\n",
      "665:\tlearn: 0.0064586\ttotal: 1.36s\tremaining: 682ms\n",
      "666:\tlearn: 0.0064485\ttotal: 1.36s\tremaining: 679ms\n",
      "667:\tlearn: 0.0064374\ttotal: 1.36s\tremaining: 677ms\n",
      "668:\tlearn: 0.0064281\ttotal: 1.36s\tremaining: 675ms\n",
      "669:\tlearn: 0.0064154\ttotal: 1.36s\tremaining: 672ms\n",
      "670:\tlearn: 0.0064071\ttotal: 1.37s\tremaining: 670ms\n",
      "671:\tlearn: 0.0064000\ttotal: 1.37s\tremaining: 668ms\n",
      "672:\tlearn: 0.0063909\ttotal: 1.37s\tremaining: 666ms\n",
      "673:\tlearn: 0.0063811\ttotal: 1.37s\tremaining: 663ms\n",
      "674:\tlearn: 0.0063707\ttotal: 1.37s\tremaining: 661ms\n",
      "675:\tlearn: 0.0063620\ttotal: 1.37s\tremaining: 659ms\n",
      "676:\tlearn: 0.0063530\ttotal: 1.38s\tremaining: 657ms\n",
      "677:\tlearn: 0.0063391\ttotal: 1.38s\tremaining: 654ms\n",
      "678:\tlearn: 0.0063268\ttotal: 1.38s\tremaining: 652ms\n",
      "679:\tlearn: 0.0063192\ttotal: 1.38s\tremaining: 650ms\n",
      "680:\tlearn: 0.0063083\ttotal: 1.38s\tremaining: 648ms\n",
      "681:\tlearn: 0.0063000\ttotal: 1.39s\tremaining: 646ms\n",
      "682:\tlearn: 0.0062885\ttotal: 1.39s\tremaining: 644ms\n",
      "683:\tlearn: 0.0062780\ttotal: 1.39s\tremaining: 642ms\n",
      "684:\tlearn: 0.0062677\ttotal: 1.39s\tremaining: 640ms\n",
      "685:\tlearn: 0.0062592\ttotal: 1.39s\tremaining: 638ms\n",
      "686:\tlearn: 0.0062475\ttotal: 1.4s\tremaining: 636ms\n",
      "687:\tlearn: 0.0062404\ttotal: 1.4s\tremaining: 633ms\n",
      "688:\tlearn: 0.0062307\ttotal: 1.4s\tremaining: 631ms\n",
      "689:\tlearn: 0.0062184\ttotal: 1.4s\tremaining: 629ms\n",
      "690:\tlearn: 0.0062036\ttotal: 1.4s\tremaining: 627ms\n",
      "691:\tlearn: 0.0061947\ttotal: 1.4s\tremaining: 625ms\n",
      "692:\tlearn: 0.0061860\ttotal: 1.41s\tremaining: 623ms\n",
      "693:\tlearn: 0.0061747\ttotal: 1.41s\tremaining: 620ms\n",
      "694:\tlearn: 0.0061657\ttotal: 1.41s\tremaining: 618ms\n"
     ]
    },
    {
     "name": "stdout",
     "output_type": "stream",
     "text": [
      "695:\tlearn: 0.0061572\ttotal: 1.41s\tremaining: 616ms\n",
      "696:\tlearn: 0.0061474\ttotal: 1.41s\tremaining: 614ms\n",
      "697:\tlearn: 0.0061370\ttotal: 1.41s\tremaining: 612ms\n",
      "698:\tlearn: 0.0061268\ttotal: 1.42s\tremaining: 610ms\n",
      "699:\tlearn: 0.0061182\ttotal: 1.42s\tremaining: 607ms\n",
      "700:\tlearn: 0.0061088\ttotal: 1.42s\tremaining: 605ms\n",
      "701:\tlearn: 0.0060994\ttotal: 1.42s\tremaining: 603ms\n",
      "702:\tlearn: 0.0060890\ttotal: 1.42s\tremaining: 601ms\n",
      "703:\tlearn: 0.0060800\ttotal: 1.42s\tremaining: 599ms\n",
      "704:\tlearn: 0.0060653\ttotal: 1.43s\tremaining: 597ms\n",
      "705:\tlearn: 0.0060590\ttotal: 1.43s\tremaining: 595ms\n",
      "706:\tlearn: 0.0060517\ttotal: 1.43s\tremaining: 593ms\n",
      "707:\tlearn: 0.0060365\ttotal: 1.43s\tremaining: 591ms\n",
      "708:\tlearn: 0.0060265\ttotal: 1.43s\tremaining: 588ms\n",
      "709:\tlearn: 0.0060186\ttotal: 1.44s\tremaining: 586ms\n",
      "710:\tlearn: 0.0060105\ttotal: 1.44s\tremaining: 584ms\n",
      "711:\tlearn: 0.0059991\ttotal: 1.44s\tremaining: 582ms\n",
      "712:\tlearn: 0.0059875\ttotal: 1.44s\tremaining: 580ms\n",
      "713:\tlearn: 0.0059786\ttotal: 1.44s\tremaining: 578ms\n",
      "714:\tlearn: 0.0059672\ttotal: 1.44s\tremaining: 576ms\n",
      "715:\tlearn: 0.0059593\ttotal: 1.45s\tremaining: 574ms\n",
      "716:\tlearn: 0.0059518\ttotal: 1.45s\tremaining: 571ms\n",
      "717:\tlearn: 0.0059397\ttotal: 1.45s\tremaining: 570ms\n",
      "718:\tlearn: 0.0059323\ttotal: 1.45s\tremaining: 568ms\n",
      "719:\tlearn: 0.0059217\ttotal: 1.45s\tremaining: 566ms\n",
      "720:\tlearn: 0.0059140\ttotal: 1.46s\tremaining: 566ms\n",
      "721:\tlearn: 0.0059079\ttotal: 1.46s\tremaining: 564ms\n",
      "722:\tlearn: 0.0058983\ttotal: 1.47s\tremaining: 562ms\n",
      "723:\tlearn: 0.0058876\ttotal: 1.47s\tremaining: 559ms\n",
      "724:\tlearn: 0.0058772\ttotal: 1.47s\tremaining: 557ms\n",
      "725:\tlearn: 0.0058691\ttotal: 1.47s\tremaining: 555ms\n",
      "726:\tlearn: 0.0058614\ttotal: 1.47s\tremaining: 552ms\n",
      "727:\tlearn: 0.0058542\ttotal: 1.47s\tremaining: 550ms\n",
      "728:\tlearn: 0.0058468\ttotal: 1.47s\tremaining: 548ms\n",
      "729:\tlearn: 0.0058370\ttotal: 1.48s\tremaining: 546ms\n",
      "730:\tlearn: 0.0058276\ttotal: 1.48s\tremaining: 544ms\n",
      "731:\tlearn: 0.0058142\ttotal: 1.48s\tremaining: 543ms\n",
      "732:\tlearn: 0.0058035\ttotal: 1.49s\tremaining: 541ms\n",
      "733:\tlearn: 0.0057946\ttotal: 1.49s\tremaining: 540ms\n",
      "734:\tlearn: 0.0057850\ttotal: 1.49s\tremaining: 538ms\n",
      "735:\tlearn: 0.0057788\ttotal: 1.49s\tremaining: 536ms\n",
      "736:\tlearn: 0.0057717\ttotal: 1.49s\tremaining: 533ms\n",
      "737:\tlearn: 0.0057623\ttotal: 1.5s\tremaining: 531ms\n",
      "738:\tlearn: 0.0057545\ttotal: 1.5s\tremaining: 529ms\n",
      "739:\tlearn: 0.0057446\ttotal: 1.5s\tremaining: 527ms\n",
      "740:\tlearn: 0.0057362\ttotal: 1.5s\tremaining: 526ms\n",
      "741:\tlearn: 0.0057273\ttotal: 1.51s\tremaining: 524ms\n",
      "742:\tlearn: 0.0057185\ttotal: 1.51s\tremaining: 522ms\n",
      "743:\tlearn: 0.0057078\ttotal: 1.51s\tremaining: 520ms\n",
      "744:\tlearn: 0.0057021\ttotal: 1.51s\tremaining: 518ms\n",
      "745:\tlearn: 0.0056952\ttotal: 1.53s\tremaining: 521ms\n",
      "746:\tlearn: 0.0056860\ttotal: 1.53s\tremaining: 518ms\n",
      "747:\tlearn: 0.0056764\ttotal: 1.53s\tremaining: 516ms\n",
      "748:\tlearn: 0.0056692\ttotal: 1.53s\tremaining: 514ms\n",
      "749:\tlearn: 0.0056618\ttotal: 1.53s\tremaining: 512ms\n",
      "750:\tlearn: 0.0056555\ttotal: 1.54s\tremaining: 509ms\n",
      "751:\tlearn: 0.0056453\ttotal: 1.54s\tremaining: 507ms\n",
      "752:\tlearn: 0.0056390\ttotal: 1.54s\tremaining: 505ms\n",
      "753:\tlearn: 0.0056289\ttotal: 1.54s\tremaining: 503ms\n",
      "754:\tlearn: 0.0056235\ttotal: 1.54s\tremaining: 501ms\n",
      "755:\tlearn: 0.0056174\ttotal: 1.54s\tremaining: 499ms\n",
      "756:\tlearn: 0.0056057\ttotal: 1.55s\tremaining: 497ms\n",
      "757:\tlearn: 0.0056000\ttotal: 1.55s\tremaining: 495ms\n",
      "758:\tlearn: 0.0055925\ttotal: 1.55s\tremaining: 493ms\n",
      "759:\tlearn: 0.0055860\ttotal: 1.55s\tremaining: 491ms\n",
      "760:\tlearn: 0.0055777\ttotal: 1.55s\tremaining: 489ms\n",
      "761:\tlearn: 0.0055664\ttotal: 1.56s\tremaining: 486ms\n",
      "762:\tlearn: 0.0055575\ttotal: 1.56s\tremaining: 484ms\n",
      "763:\tlearn: 0.0055473\ttotal: 1.56s\tremaining: 482ms\n",
      "764:\tlearn: 0.0055358\ttotal: 1.56s\tremaining: 480ms\n",
      "765:\tlearn: 0.0055313\ttotal: 1.56s\tremaining: 477ms\n",
      "766:\tlearn: 0.0055247\ttotal: 1.56s\tremaining: 475ms\n",
      "767:\tlearn: 0.0055167\ttotal: 1.57s\tremaining: 473ms\n",
      "768:\tlearn: 0.0055083\ttotal: 1.57s\tremaining: 472ms\n",
      "769:\tlearn: 0.0054981\ttotal: 1.57s\tremaining: 470ms\n",
      "770:\tlearn: 0.0054911\ttotal: 1.57s\tremaining: 468ms\n",
      "771:\tlearn: 0.0054817\ttotal: 1.57s\tremaining: 465ms\n",
      "772:\tlearn: 0.0054748\ttotal: 1.58s\tremaining: 463ms\n",
      "773:\tlearn: 0.0054671\ttotal: 1.58s\tremaining: 461ms\n",
      "774:\tlearn: 0.0054603\ttotal: 1.58s\tremaining: 460ms\n",
      "775:\tlearn: 0.0054540\ttotal: 1.58s\tremaining: 457ms\n",
      "776:\tlearn: 0.0054462\ttotal: 1.59s\tremaining: 455ms\n",
      "777:\tlearn: 0.0054395\ttotal: 1.59s\tremaining: 453ms\n",
      "778:\tlearn: 0.0054325\ttotal: 1.59s\tremaining: 451ms\n",
      "779:\tlearn: 0.0054251\ttotal: 1.59s\tremaining: 449ms\n",
      "780:\tlearn: 0.0054194\ttotal: 1.59s\tremaining: 447ms\n",
      "781:\tlearn: 0.0054122\ttotal: 1.6s\tremaining: 445ms\n",
      "782:\tlearn: 0.0054050\ttotal: 1.6s\tremaining: 443ms\n",
      "783:\tlearn: 0.0053968\ttotal: 1.6s\tremaining: 441ms\n",
      "784:\tlearn: 0.0053888\ttotal: 1.6s\tremaining: 439ms\n",
      "785:\tlearn: 0.0053821\ttotal: 1.6s\tremaining: 437ms\n",
      "786:\tlearn: 0.0053733\ttotal: 1.6s\tremaining: 434ms\n",
      "787:\tlearn: 0.0053626\ttotal: 1.61s\tremaining: 432ms\n",
      "788:\tlearn: 0.0053556\ttotal: 1.61s\tremaining: 430ms\n",
      "789:\tlearn: 0.0053466\ttotal: 1.61s\tremaining: 428ms\n",
      "790:\tlearn: 0.0053397\ttotal: 1.61s\tremaining: 426ms\n",
      "791:\tlearn: 0.0053327\ttotal: 1.61s\tremaining: 424ms\n",
      "792:\tlearn: 0.0053226\ttotal: 1.61s\tremaining: 422ms\n",
      "793:\tlearn: 0.0053148\ttotal: 1.62s\tremaining: 419ms\n",
      "794:\tlearn: 0.0052991\ttotal: 1.62s\tremaining: 417ms\n",
      "795:\tlearn: 0.0052940\ttotal: 1.62s\tremaining: 415ms\n",
      "796:\tlearn: 0.0052858\ttotal: 1.62s\tremaining: 413ms\n",
      "797:\tlearn: 0.0052805\ttotal: 1.62s\tremaining: 411ms\n",
      "798:\tlearn: 0.0052707\ttotal: 1.63s\tremaining: 409ms\n",
      "799:\tlearn: 0.0052627\ttotal: 1.63s\tremaining: 407ms\n",
      "800:\tlearn: 0.0052576\ttotal: 1.63s\tremaining: 405ms\n",
      "801:\tlearn: 0.0052488\ttotal: 1.63s\tremaining: 403ms\n",
      "802:\tlearn: 0.0052438\ttotal: 1.63s\tremaining: 401ms\n",
      "803:\tlearn: 0.0052358\ttotal: 1.63s\tremaining: 399ms\n",
      "804:\tlearn: 0.0052292\ttotal: 1.64s\tremaining: 396ms\n",
      "805:\tlearn: 0.0052241\ttotal: 1.64s\tremaining: 394ms\n",
      "806:\tlearn: 0.0052189\ttotal: 1.64s\tremaining: 392ms\n",
      "807:\tlearn: 0.0052126\ttotal: 1.64s\tremaining: 390ms\n",
      "808:\tlearn: 0.0052048\ttotal: 1.64s\tremaining: 388ms\n",
      "809:\tlearn: 0.0051975\ttotal: 1.64s\tremaining: 386ms\n",
      "810:\tlearn: 0.0051922\ttotal: 1.65s\tremaining: 384ms\n",
      "811:\tlearn: 0.0051858\ttotal: 1.65s\tremaining: 382ms\n",
      "812:\tlearn: 0.0051771\ttotal: 1.65s\tremaining: 380ms\n",
      "813:\tlearn: 0.0051687\ttotal: 1.65s\tremaining: 378ms\n",
      "814:\tlearn: 0.0051608\ttotal: 1.65s\tremaining: 376ms\n",
      "815:\tlearn: 0.0051536\ttotal: 1.66s\tremaining: 373ms\n",
      "816:\tlearn: 0.0051451\ttotal: 1.66s\tremaining: 371ms\n",
      "817:\tlearn: 0.0051371\ttotal: 1.66s\tremaining: 369ms\n",
      "818:\tlearn: 0.0051288\ttotal: 1.66s\tremaining: 367ms\n",
      "819:\tlearn: 0.0051235\ttotal: 1.66s\tremaining: 365ms\n",
      "820:\tlearn: 0.0051152\ttotal: 1.66s\tremaining: 363ms\n",
      "821:\tlearn: 0.0051083\ttotal: 1.67s\tremaining: 361ms\n",
      "822:\tlearn: 0.0051001\ttotal: 1.67s\tremaining: 359ms\n",
      "823:\tlearn: 0.0050930\ttotal: 1.67s\tremaining: 357ms\n",
      "824:\tlearn: 0.0050847\ttotal: 1.67s\tremaining: 355ms\n",
      "825:\tlearn: 0.0050745\ttotal: 1.67s\tremaining: 352ms\n",
      "826:\tlearn: 0.0050687\ttotal: 1.67s\tremaining: 350ms\n",
      "827:\tlearn: 0.0050623\ttotal: 1.68s\tremaining: 348ms\n",
      "828:\tlearn: 0.0050575\ttotal: 1.68s\tremaining: 346ms\n",
      "829:\tlearn: 0.0050525\ttotal: 1.68s\tremaining: 344ms\n",
      "830:\tlearn: 0.0050464\ttotal: 1.68s\tremaining: 342ms\n",
      "831:\tlearn: 0.0050388\ttotal: 1.68s\tremaining: 340ms\n",
      "832:\tlearn: 0.0050293\ttotal: 1.68s\tremaining: 337ms\n",
      "833:\tlearn: 0.0050242\ttotal: 1.68s\tremaining: 335ms\n",
      "834:\tlearn: 0.0050180\ttotal: 1.69s\tremaining: 333ms\n",
      "835:\tlearn: 0.0050106\ttotal: 1.69s\tremaining: 331ms\n",
      "836:\tlearn: 0.0050021\ttotal: 1.69s\tremaining: 329ms\n",
      "837:\tlearn: 0.0049983\ttotal: 1.69s\tremaining: 327ms\n",
      "838:\tlearn: 0.0049926\ttotal: 1.69s\tremaining: 325ms\n",
      "839:\tlearn: 0.0049837\ttotal: 1.69s\tremaining: 323ms\n",
      "840:\tlearn: 0.0049795\ttotal: 1.7s\tremaining: 321ms\n",
      "841:\tlearn: 0.0049748\ttotal: 1.7s\tremaining: 319ms\n",
      "842:\tlearn: 0.0049680\ttotal: 1.7s\tremaining: 317ms\n",
      "843:\tlearn: 0.0049623\ttotal: 1.7s\tremaining: 315ms\n",
      "844:\tlearn: 0.0049537\ttotal: 1.7s\tremaining: 312ms\n",
      "845:\tlearn: 0.0049489\ttotal: 1.71s\tremaining: 310ms\n",
      "846:\tlearn: 0.0049421\ttotal: 1.71s\tremaining: 308ms\n",
      "847:\tlearn: 0.0049372\ttotal: 1.71s\tremaining: 306ms\n",
      "848:\tlearn: 0.0049326\ttotal: 1.71s\tremaining: 304ms\n",
      "849:\tlearn: 0.0049269\ttotal: 1.71s\tremaining: 302ms\n",
      "850:\tlearn: 0.0049210\ttotal: 1.71s\tremaining: 300ms\n",
      "851:\tlearn: 0.0049160\ttotal: 1.71s\tremaining: 298ms\n",
      "852:\tlearn: 0.0049095\ttotal: 1.72s\tremaining: 296ms\n",
      "853:\tlearn: 0.0049039\ttotal: 1.72s\tremaining: 294ms\n",
      "854:\tlearn: 0.0049002\ttotal: 1.72s\tremaining: 292ms\n",
      "855:\tlearn: 0.0048935\ttotal: 1.72s\tremaining: 290ms\n",
      "856:\tlearn: 0.0048885\ttotal: 1.72s\tremaining: 288ms\n"
     ]
    },
    {
     "name": "stdout",
     "output_type": "stream",
     "text": [
      "857:\tlearn: 0.0048828\ttotal: 1.73s\tremaining: 286ms\n",
      "858:\tlearn: 0.0048764\ttotal: 1.73s\tremaining: 284ms\n",
      "859:\tlearn: 0.0048704\ttotal: 1.73s\tremaining: 282ms\n",
      "860:\tlearn: 0.0048626\ttotal: 1.73s\tremaining: 280ms\n",
      "861:\tlearn: 0.0048575\ttotal: 1.74s\tremaining: 278ms\n",
      "862:\tlearn: 0.0048514\ttotal: 1.74s\tremaining: 276ms\n",
      "863:\tlearn: 0.0048470\ttotal: 1.74s\tremaining: 274ms\n",
      "864:\tlearn: 0.0048411\ttotal: 1.74s\tremaining: 271ms\n",
      "865:\tlearn: 0.0048342\ttotal: 1.74s\tremaining: 269ms\n",
      "866:\tlearn: 0.0048281\ttotal: 1.74s\tremaining: 267ms\n",
      "867:\tlearn: 0.0048204\ttotal: 1.74s\tremaining: 265ms\n",
      "868:\tlearn: 0.0048130\ttotal: 1.75s\tremaining: 263ms\n",
      "869:\tlearn: 0.0048077\ttotal: 1.75s\tremaining: 261ms\n",
      "870:\tlearn: 0.0048025\ttotal: 1.75s\tremaining: 259ms\n",
      "871:\tlearn: 0.0047943\ttotal: 1.75s\tremaining: 257ms\n",
      "872:\tlearn: 0.0047875\ttotal: 1.76s\tremaining: 255ms\n",
      "873:\tlearn: 0.0047787\ttotal: 1.76s\tremaining: 253ms\n",
      "874:\tlearn: 0.0047738\ttotal: 1.76s\tremaining: 252ms\n",
      "875:\tlearn: 0.0047693\ttotal: 1.76s\tremaining: 249ms\n",
      "876:\tlearn: 0.0047640\ttotal: 1.76s\tremaining: 247ms\n",
      "877:\tlearn: 0.0047573\ttotal: 1.76s\tremaining: 245ms\n",
      "878:\tlearn: 0.0047515\ttotal: 1.77s\tremaining: 243ms\n",
      "879:\tlearn: 0.0047478\ttotal: 1.77s\tremaining: 241ms\n",
      "880:\tlearn: 0.0047418\ttotal: 1.77s\tremaining: 239ms\n",
      "881:\tlearn: 0.0047336\ttotal: 1.77s\tremaining: 237ms\n",
      "882:\tlearn: 0.0047287\ttotal: 1.77s\tremaining: 235ms\n",
      "883:\tlearn: 0.0047240\ttotal: 1.78s\tremaining: 233ms\n",
      "884:\tlearn: 0.0047139\ttotal: 1.78s\tremaining: 231ms\n",
      "885:\tlearn: 0.0047074\ttotal: 1.78s\tremaining: 229ms\n",
      "886:\tlearn: 0.0047019\ttotal: 1.78s\tremaining: 227ms\n",
      "887:\tlearn: 0.0046951\ttotal: 1.78s\tremaining: 225ms\n",
      "888:\tlearn: 0.0046901\ttotal: 1.78s\tremaining: 223ms\n",
      "889:\tlearn: 0.0046854\ttotal: 1.78s\tremaining: 221ms\n",
      "890:\tlearn: 0.0046817\ttotal: 1.79s\tremaining: 219ms\n",
      "891:\tlearn: 0.0046770\ttotal: 1.79s\tremaining: 216ms\n",
      "892:\tlearn: 0.0046722\ttotal: 1.79s\tremaining: 214ms\n",
      "893:\tlearn: 0.0046670\ttotal: 1.79s\tremaining: 212ms\n",
      "894:\tlearn: 0.0046626\ttotal: 1.79s\tremaining: 210ms\n",
      "895:\tlearn: 0.0046575\ttotal: 1.79s\tremaining: 208ms\n",
      "896:\tlearn: 0.0046521\ttotal: 1.8s\tremaining: 206ms\n",
      "897:\tlearn: 0.0046464\ttotal: 1.8s\tremaining: 204ms\n",
      "898:\tlearn: 0.0046410\ttotal: 1.8s\tremaining: 202ms\n",
      "899:\tlearn: 0.0046359\ttotal: 1.8s\tremaining: 200ms\n",
      "900:\tlearn: 0.0046307\ttotal: 1.8s\tremaining: 198ms\n",
      "901:\tlearn: 0.0046272\ttotal: 1.8s\tremaining: 196ms\n",
      "902:\tlearn: 0.0046231\ttotal: 1.8s\tremaining: 194ms\n",
      "903:\tlearn: 0.0046189\ttotal: 1.81s\tremaining: 192ms\n",
      "904:\tlearn: 0.0046136\ttotal: 1.81s\tremaining: 190ms\n",
      "905:\tlearn: 0.0046094\ttotal: 1.81s\tremaining: 188ms\n",
      "906:\tlearn: 0.0046036\ttotal: 1.81s\tremaining: 186ms\n",
      "907:\tlearn: 0.0045976\ttotal: 1.81s\tremaining: 184ms\n",
      "908:\tlearn: 0.0045914\ttotal: 1.82s\tremaining: 182ms\n",
      "909:\tlearn: 0.0045834\ttotal: 1.82s\tremaining: 180ms\n",
      "910:\tlearn: 0.0045769\ttotal: 1.82s\tremaining: 178ms\n",
      "911:\tlearn: 0.0045716\ttotal: 1.82s\tremaining: 176ms\n",
      "912:\tlearn: 0.0045676\ttotal: 1.83s\tremaining: 174ms\n",
      "913:\tlearn: 0.0045612\ttotal: 1.83s\tremaining: 172ms\n",
      "914:\tlearn: 0.0045576\ttotal: 1.83s\tremaining: 170ms\n",
      "915:\tlearn: 0.0045536\ttotal: 1.83s\tremaining: 168ms\n",
      "916:\tlearn: 0.0045478\ttotal: 1.83s\tremaining: 166ms\n",
      "917:\tlearn: 0.0045394\ttotal: 1.84s\tremaining: 164ms\n",
      "918:\tlearn: 0.0045344\ttotal: 1.85s\tremaining: 163ms\n",
      "919:\tlearn: 0.0045292\ttotal: 1.85s\tremaining: 161ms\n",
      "920:\tlearn: 0.0045225\ttotal: 1.85s\tremaining: 159ms\n",
      "921:\tlearn: 0.0045170\ttotal: 1.85s\tremaining: 157ms\n",
      "922:\tlearn: 0.0045116\ttotal: 1.85s\tremaining: 155ms\n",
      "923:\tlearn: 0.0045081\ttotal: 1.85s\tremaining: 153ms\n",
      "924:\tlearn: 0.0045021\ttotal: 1.86s\tremaining: 151ms\n",
      "925:\tlearn: 0.0044975\ttotal: 1.86s\tremaining: 149ms\n",
      "926:\tlearn: 0.0044936\ttotal: 1.86s\tremaining: 147ms\n",
      "927:\tlearn: 0.0044883\ttotal: 1.86s\tremaining: 145ms\n",
      "928:\tlearn: 0.0044841\ttotal: 1.86s\tremaining: 143ms\n",
      "929:\tlearn: 0.0044770\ttotal: 1.87s\tremaining: 141ms\n",
      "930:\tlearn: 0.0044717\ttotal: 1.87s\tremaining: 139ms\n",
      "931:\tlearn: 0.0044682\ttotal: 1.87s\tremaining: 137ms\n",
      "932:\tlearn: 0.0044610\ttotal: 1.88s\tremaining: 135ms\n",
      "933:\tlearn: 0.0044563\ttotal: 1.88s\tremaining: 133ms\n",
      "934:\tlearn: 0.0044507\ttotal: 1.88s\tremaining: 131ms\n",
      "935:\tlearn: 0.0044451\ttotal: 1.88s\tremaining: 129ms\n",
      "936:\tlearn: 0.0044408\ttotal: 1.88s\tremaining: 127ms\n",
      "937:\tlearn: 0.0044349\ttotal: 1.89s\tremaining: 125ms\n",
      "938:\tlearn: 0.0044290\ttotal: 1.89s\tremaining: 123ms\n",
      "939:\tlearn: 0.0044231\ttotal: 1.89s\tremaining: 121ms\n",
      "940:\tlearn: 0.0044190\ttotal: 1.89s\tremaining: 119ms\n",
      "941:\tlearn: 0.0044138\ttotal: 1.9s\tremaining: 117ms\n",
      "942:\tlearn: 0.0044097\ttotal: 1.9s\tremaining: 115ms\n",
      "943:\tlearn: 0.0044037\ttotal: 1.9s\tremaining: 113ms\n",
      "944:\tlearn: 0.0043972\ttotal: 1.9s\tremaining: 111ms\n",
      "945:\tlearn: 0.0043924\ttotal: 1.91s\tremaining: 109ms\n",
      "946:\tlearn: 0.0043837\ttotal: 1.91s\tremaining: 107ms\n",
      "947:\tlearn: 0.0043788\ttotal: 1.92s\tremaining: 105ms\n",
      "948:\tlearn: 0.0043740\ttotal: 1.92s\tremaining: 103ms\n",
      "949:\tlearn: 0.0043708\ttotal: 1.92s\tremaining: 101ms\n",
      "950:\tlearn: 0.0043656\ttotal: 1.92s\tremaining: 99ms\n",
      "951:\tlearn: 0.0043616\ttotal: 1.93s\tremaining: 97.1ms\n",
      "952:\tlearn: 0.0043580\ttotal: 1.93s\tremaining: 95.1ms\n",
      "953:\tlearn: 0.0043537\ttotal: 1.93s\tremaining: 93.1ms\n",
      "954:\tlearn: 0.0043466\ttotal: 1.93s\tremaining: 91ms\n",
      "955:\tlearn: 0.0043432\ttotal: 1.93s\tremaining: 89ms\n",
      "956:\tlearn: 0.0043384\ttotal: 1.94s\tremaining: 87ms\n",
      "957:\tlearn: 0.0043331\ttotal: 1.94s\tremaining: 85ms\n",
      "958:\tlearn: 0.0043275\ttotal: 1.94s\tremaining: 83ms\n",
      "959:\tlearn: 0.0043239\ttotal: 1.94s\tremaining: 81ms\n",
      "960:\tlearn: 0.0043190\ttotal: 1.95s\tremaining: 79ms\n",
      "961:\tlearn: 0.0043137\ttotal: 1.95s\tremaining: 77ms\n",
      "962:\tlearn: 0.0043045\ttotal: 1.95s\tremaining: 75ms\n",
      "963:\tlearn: 0.0042981\ttotal: 1.95s\tremaining: 73ms\n",
      "964:\tlearn: 0.0042923\ttotal: 1.96s\tremaining: 71ms\n",
      "965:\tlearn: 0.0042885\ttotal: 1.96s\tremaining: 68.9ms\n",
      "966:\tlearn: 0.0042840\ttotal: 1.96s\tremaining: 66.9ms\n",
      "967:\tlearn: 0.0042805\ttotal: 1.96s\tremaining: 64.8ms\n",
      "968:\tlearn: 0.0042761\ttotal: 1.96s\tremaining: 62.8ms\n",
      "969:\tlearn: 0.0042729\ttotal: 1.97s\tremaining: 60.8ms\n",
      "970:\tlearn: 0.0042665\ttotal: 1.97s\tremaining: 58.8ms\n",
      "971:\tlearn: 0.0042616\ttotal: 1.97s\tremaining: 56.7ms\n",
      "972:\tlearn: 0.0042554\ttotal: 1.97s\tremaining: 54.7ms\n",
      "973:\tlearn: 0.0042502\ttotal: 1.97s\tremaining: 52.6ms\n",
      "974:\tlearn: 0.0042474\ttotal: 1.97s\tremaining: 50.6ms\n",
      "975:\tlearn: 0.0042438\ttotal: 1.98s\tremaining: 48.6ms\n",
      "976:\tlearn: 0.0042400\ttotal: 1.98s\tremaining: 46.6ms\n",
      "977:\tlearn: 0.0042352\ttotal: 1.98s\tremaining: 44.6ms\n",
      "978:\tlearn: 0.0042297\ttotal: 1.98s\tremaining: 42.6ms\n",
      "979:\tlearn: 0.0042266\ttotal: 1.99s\tremaining: 40.6ms\n",
      "980:\tlearn: 0.0042218\ttotal: 1.99s\tremaining: 38.6ms\n",
      "981:\tlearn: 0.0042189\ttotal: 2s\tremaining: 36.6ms\n",
      "982:\tlearn: 0.0042152\ttotal: 2s\tremaining: 34.6ms\n",
      "983:\tlearn: 0.0042112\ttotal: 2s\tremaining: 32.5ms\n",
      "984:\tlearn: 0.0042062\ttotal: 2s\tremaining: 30.5ms\n",
      "985:\tlearn: 0.0041989\ttotal: 2.01s\tremaining: 28.5ms\n",
      "986:\tlearn: 0.0041952\ttotal: 2.01s\tremaining: 26.5ms\n",
      "987:\tlearn: 0.0041920\ttotal: 2.01s\tremaining: 24.4ms\n",
      "988:\tlearn: 0.0041872\ttotal: 2.01s\tremaining: 22.4ms\n",
      "989:\tlearn: 0.0041838\ttotal: 2.02s\tremaining: 20.4ms\n",
      "990:\tlearn: 0.0041781\ttotal: 2.02s\tremaining: 18.3ms\n",
      "991:\tlearn: 0.0041729\ttotal: 2.02s\tremaining: 16.3ms\n",
      "992:\tlearn: 0.0041689\ttotal: 2.03s\tremaining: 14.3ms\n",
      "993:\tlearn: 0.0041654\ttotal: 2.03s\tremaining: 12.2ms\n",
      "994:\tlearn: 0.0041594\ttotal: 2.03s\tremaining: 10.2ms\n",
      "995:\tlearn: 0.0041547\ttotal: 2.04s\tremaining: 8.19ms\n",
      "996:\tlearn: 0.0041502\ttotal: 2.04s\tremaining: 6.14ms\n",
      "997:\tlearn: 0.0041451\ttotal: 2.04s\tremaining: 4.09ms\n",
      "998:\tlearn: 0.0041375\ttotal: 2.04s\tremaining: 2.05ms\n",
      "999:\tlearn: 0.0041336\ttotal: 2.05s\tremaining: 0us\n",
      "Modelo: CatBoostClassifier'>\n",
      "Train score: 1.0 \n",
      "Test score: 0.9777777777777777 \n",
      "\n",
      "Modelo: LGBMClassifier'>\n",
      "Train score: 1.0 \n",
      "Test score: 0.9777777777777777 \n",
      "\n"
     ]
    }
   ],
   "source": [
    "modeling_testing(lista_m,wine,'target')"
   ]
  },
  {
   "cell_type": "markdown",
   "metadata": {},
   "source": [
    "# Stacking \n",
    "![](data/stacking.png)"
   ]
  },
  {
   "cell_type": "code",
   "execution_count": 91,
   "metadata": {},
   "outputs": [],
   "source": [
    "from sklearn.svm import SVC"
   ]
  },
  {
   "cell_type": "code",
   "execution_count": 92,
   "metadata": {},
   "outputs": [],
   "source": [
    "from sklearn.ensemble import StackingClassifier"
   ]
  },
  {
   "cell_type": "code",
   "execution_count": 97,
   "metadata": {},
   "outputs": [],
   "source": [
    "estimadores = [('svc', SVC(kernel = 'linear')),\n",
    "              ('dtc',DecisionTreeClassifier()),\n",
    "              ('gbc', GBC())]"
   ]
  },
  {
   "cell_type": "code",
   "execution_count": 98,
   "metadata": {},
   "outputs": [],
   "source": [
    "clf = StackingClassifier(estimadores)"
   ]
  },
  {
   "cell_type": "code",
   "execution_count": 99,
   "metadata": {},
   "outputs": [
    {
     "data": {
      "text/plain": [
       "StackingClassifier(cv=None,\n",
       "                   estimators=[('svc',\n",
       "                                SVC(C=1.0, break_ties=False, cache_size=200,\n",
       "                                    class_weight=None, coef0=0.0,\n",
       "                                    decision_function_shape='ovr', degree=3,\n",
       "                                    gamma='scale', kernel='linear', max_iter=-1,\n",
       "                                    probability=False, random_state=None,\n",
       "                                    shrinking=True, tol=0.001, verbose=False)),\n",
       "                               ('dtc',\n",
       "                                DecisionTreeClassifier(ccp_alpha=0.0,\n",
       "                                                       class_weight=None,\n",
       "                                                       criterion='gin...\n",
       "                                                           min_impurity_decrease=0.0,\n",
       "                                                           min_impurity_split=None,\n",
       "                                                           min_samples_leaf=1,\n",
       "                                                           min_samples_split=2,\n",
       "                                                           min_weight_fraction_leaf=0.0,\n",
       "                                                           n_estimators=100,\n",
       "                                                           n_iter_no_change=None,\n",
       "                                                           presort='deprecated',\n",
       "                                                           random_state=None,\n",
       "                                                           subsample=1.0,\n",
       "                                                           tol=0.0001,\n",
       "                                                           validation_fraction=0.1,\n",
       "                                                           verbose=0,\n",
       "                                                           warm_start=False))],\n",
       "                   final_estimator=None, n_jobs=None, passthrough=False,\n",
       "                   stack_method='auto', verbose=0)"
      ]
     },
     "execution_count": 99,
     "metadata": {},
     "output_type": "execute_result"
    }
   ],
   "source": [
    "clf.fit(X_train_vi,y_train_vi)"
   ]
  },
  {
   "cell_type": "code",
   "execution_count": 101,
   "metadata": {
    "scrolled": true
   },
   "outputs": [
    {
     "data": {
      "text/plain": [
       "1.0"
      ]
     },
     "execution_count": 101,
     "metadata": {},
     "output_type": "execute_result"
    }
   ],
   "source": [
    "clf.score(X_train_vi,y_train_vi)"
   ]
  },
  {
   "cell_type": "code",
   "execution_count": 102,
   "metadata": {},
   "outputs": [
    {
     "data": {
      "text/plain": [
       "0.9111111111111111"
      ]
     },
     "execution_count": 102,
     "metadata": {},
     "output_type": "execute_result"
    }
   ],
   "source": [
    "clf.score(X_test_vi,y_test_vi)"
   ]
  },
  {
   "cell_type": "code",
   "execution_count": null,
   "metadata": {},
   "outputs": [],
   "source": [
    "clf"
   ]
  }
 ],
 "metadata": {
  "kernelspec": {
   "display_name": "Python 3",
   "language": "python",
   "name": "python3"
  },
  "language_info": {
   "codemirror_mode": {
    "name": "ipython",
    "version": 3
   },
   "file_extension": ".py",
   "mimetype": "text/x-python",
   "name": "python",
   "nbconvert_exporter": "python",
   "pygments_lexer": "ipython3",
   "version": "3.7.4"
  }
 },
 "nbformat": 4,
 "nbformat_minor": 4
}
